{
  "cells": [
    {
      "cell_type": "markdown",
      "metadata": {
        "id": "view-in-github",
        "colab_type": "text"
      },
      "source": [
        "<a href=\"https://colab.research.google.com/github/briggs123/PYTHON-/blob/main/Untitled_checkpoint.ipynb\" target=\"_parent\"><img src=\"https://colab.research.google.com/assets/colab-badge.svg\" alt=\"Open In Colab\"/></a>"
      ]
    },
    {
      "cell_type": "markdown",
      "id": "d0dd3617",
      "metadata": {
        "id": "d0dd3617"
      },
      "source": [
        "### MODULE-1"
      ]
    },
    {
      "cell_type": "code",
      "execution_count": null,
      "id": "086b91b6",
      "metadata": {
        "id": "086b91b6",
        "outputId": "755acc19-7c71-475a-e7ad-570ce16104b1"
      },
      "outputs": [
        {
          "name": "stdout",
          "output_type": "stream",
          "text": [
            "enter the number6\n",
            "it is a palindrome\n"
          ]
        }
      ],
      "source": [
        "a=int(input(\"enter the number\"))\n",
        "rev=0\n",
        "temp=a\n",
        "while temp>0:\n",
        "  rem=temp%10\n",
        "  rev=(rev*10)+rem\n",
        "  temp=temp//10\n",
        "if a==rev:\n",
        "  print(\"it is a palindrome\")\n",
        "else:\n",
        "  print(\"not a palindrome\")"
      ]
    },
    {
      "cell_type": "code",
      "execution_count": null,
      "id": "f175e59a",
      "metadata": {
        "id": "f175e59a",
        "outputId": "fd3ad082-e78d-4f1a-9877-3e0fa5948163"
      },
      "outputs": [
        {
          "name": "stdout",
          "output_type": "stream",
          "text": [
            "enter the number6\n",
            "perfect number\n"
          ]
        }
      ],
      "source": [
        "a=int(input(\"enter the number\"))\n",
        "sum=0\n",
        "for i in range(1,a):\n",
        "  if a%i==0:\n",
        "     sum=sum+i\n",
        "if sum==a:\n",
        "  print(\"perfect number\")\n",
        "else:\n",
        "  print(\"not a perfect number\")"
      ]
    },
    {
      "cell_type": "code",
      "execution_count": null,
      "id": "4dcef258",
      "metadata": {
        "id": "4dcef258",
        "outputId": "cc9c2415-f13d-417d-adcc-ab3e1e04764e"
      },
      "outputs": [
        {
          "name": "stdout",
          "output_type": "stream",
          "text": [
            "-5\n",
            "-4\n",
            "16.0\n",
            "3.0\n",
            "1.0\n",
            "5.66\n",
            "-4\n"
          ]
        }
      ],
      "source": [
        "import math\n",
        "a=-4.56\n",
        "print(math.floor(a))\n",
        "print(math.ceil(a))\n",
        "print(math.pow(4,2))\n",
        "print(math.sqrt(9))\n",
        "print(math.fmod(10,3))\n",
        "print(math.fabs(-5.66))\n",
        "print(math.trunc(a))\n"
      ]
    },
    {
      "cell_type": "code",
      "execution_count": null,
      "id": "aa81b44d",
      "metadata": {
        "id": "aa81b44d",
        "outputId": "a6f2d677-3bb8-4c85-b60e-ecb44d95c950"
      },
      "outputs": [
        {
          "name": "stdout",
          "output_type": "stream",
          "text": [
            "enter principal amount5000\n",
            "enter rate of intrest18\n",
            "amount of years5\n",
            "1 year intrest si is 900.0\n",
            "1 year intrest ci is 5900.0\n",
            "2 year intrest si is 1800.0\n",
            "2 year intrest ci is 6961.999999999999\n",
            "3 year intrest si is 2700.0\n",
            "3 year intrest ci is 8215.16\n",
            "4 year intrest si is 3600.0\n",
            "4 year intrest ci is 9693.888799999997\n",
            "5 year intrest si is 4500.0\n",
            "5 year intrest ci is 11438.788783999998\n"
          ]
        }
      ],
      "source": [
        "import math\n",
        "p=int(input(\"enter principal amount\"))\n",
        "r=int(input(\"enter rate of intrest\"))\n",
        "t=int(input(\"amount of years\"))\n",
        "for i in range(1,t+1):\n",
        "    si=(p*i*r)/100\n",
        "    print(i,\"year intrest si is\",si)\n",
        "    ci=p*(math.pow(1+r/100,i))\n",
        "    print(i,\"year intrest ci is\",ci)"
      ]
    },
    {
      "cell_type": "markdown",
      "id": "34c059f3",
      "metadata": {
        "id": "34c059f3"
      },
      "source": [
        "# TUPLE"
      ]
    },
    {
      "cell_type": "code",
      "execution_count": null,
      "id": "7cc46092",
      "metadata": {
        "id": "7cc46092",
        "outputId": "8b519670-21eb-41ee-ccb2-824a10977fad"
      },
      "outputs": [
        {
          "name": "stdout",
          "output_type": "stream",
          "text": [
            "['test', 'kiran', 'hello', 'code']\n"
          ]
        }
      ],
      "source": [
        "a=(\"koushik\",\"hello\",\"kiran\")\n",
        "b=list(a)\n",
        "b.append(\"test\")\n",
        "b.insert(2,\"code\")\n",
        "b.remove(\"koushik\")\n",
        "b.sort(reverse=True)\n",
        "print(b)"
      ]
    },
    {
      "cell_type": "code",
      "execution_count": null,
      "id": "b9e8c0b2",
      "metadata": {
        "id": "b9e8c0b2",
        "outputId": "ffd223c1-99e2-4dbc-bbee-a1f4f8ec4939"
      },
      "outputs": [
        {
          "name": "stdout",
          "output_type": "stream",
          "text": [
            "('apple',)\n",
            "('apple', 'green')\n"
          ]
        }
      ],
      "source": [
        "a=(\"apple\",)### , is used to create a single tuple\n",
        "print(a)\n",
        "b=(\"green\",)\n",
        "c=a+b\n",
        "print(c)"
      ]
    },
    {
      "cell_type": "code",
      "execution_count": null,
      "id": "5b88c9c5",
      "metadata": {
        "id": "5b88c9c5",
        "outputId": "02dcf077-3092-4a60-c76e-fed190da9feb"
      },
      "outputs": [
        {
          "name": "stdout",
          "output_type": "stream",
          "text": [
            "apple mango papaya\n"
          ]
        }
      ],
      "source": [
        "a=(\"apple\",\"mango\",\"papaya\")\n",
        "(red,yellow,orange)=a\n",
        "print(red,yellow,orange)"
      ]
    },
    {
      "cell_type": "code",
      "execution_count": null,
      "id": "b21871c1",
      "metadata": {
        "id": "b21871c1",
        "outputId": "bb8e90f6-adbe-454a-e1a3-1a098782222d"
      },
      "outputs": [
        {
          "name": "stdout",
          "output_type": "stream",
          "text": [
            "apple ['mango', 'papaya', 'hello', 'hi'] he\n"
          ]
        }
      ],
      "source": [
        "a=(\"apple\",\"mango\",\"papaya\",\"hello\",\"hi\",\"he\")\n",
        "(red,*yellow,b)=a\n",
        "print(red,yellow,b)"
      ]
    },
    {
      "cell_type": "code",
      "execution_count": null,
      "id": "5988b3e6",
      "metadata": {
        "id": "5988b3e6",
        "outputId": "79bc632e-71ac-45b2-a6ff-287b7cfa83fb"
      },
      "outputs": [
        {
          "name": "stdout",
          "output_type": "stream",
          "text": [
            "apple\n",
            "mango\n",
            "papaya\n",
            "hello\n",
            "hi\n",
            "he\n"
          ]
        }
      ],
      "source": [
        "a=(\"apple\",\"mango\",\"papaya\",\"hello\",\"hi\",\"he\")\n",
        "for i in a:\n",
        "    print(i)"
      ]
    },
    {
      "cell_type": "code",
      "execution_count": null,
      "id": "1863c65f",
      "metadata": {
        "id": "1863c65f",
        "outputId": "40d0cfa8-a3b7-46dc-e462-21f3409bada7"
      },
      "outputs": [
        {
          "name": "stdout",
          "output_type": "stream",
          "text": [
            "apple\n",
            "mango\n",
            "papaya\n",
            "hello\n",
            "hi\n",
            "he\n"
          ]
        }
      ],
      "source": [
        "a=(\"apple\",\"mango\",\"papaya\",\"hello\",\"hi\",\"he\")\n",
        "for x in range(len(a)):\n",
        "    print(a[x])"
      ]
    },
    {
      "cell_type": "code",
      "execution_count": null,
      "id": "778d3123",
      "metadata": {
        "id": "778d3123",
        "outputId": "fdc3b1d0-b53d-4a48-9db5-1a7e3f8d6576"
      },
      "outputs": [
        {
          "name": "stdout",
          "output_type": "stream",
          "text": [
            "yes\n"
          ]
        }
      ],
      "source": [
        "a=(\"apple\",\"mango\",\"papaya\",\"hello\",\"hi\",\"he\")\n",
        "if \"apple\" in a:\n",
        "    print(\"yes\")"
      ]
    },
    {
      "cell_type": "code",
      "execution_count": null,
      "id": "4108c77b",
      "metadata": {
        "id": "4108c77b",
        "outputId": "d601ec52-67ba-4920-daed-c6902beee952"
      },
      "outputs": [
        {
          "name": "stdout",
          "output_type": "stream",
          "text": [
            "('apple', 'mango', 'papaya', 'hello', 'hi', 'he', 'koushik', 'kiran')\n",
            "('koushik', 'kiran', 'koushik', 'kiran', 'koushik', 'kiran')\n"
          ]
        }
      ],
      "source": [
        "a=(\"apple\",\"mango\",\"papaya\",\"hello\",\"hi\",\"he\")\n",
        "b=(\"koushik\",\"kiran\")\n",
        "print(a+b)\n",
        "print(b*3)"
      ]
    },
    {
      "cell_type": "code",
      "execution_count": null,
      "id": "44bfc3d4",
      "metadata": {
        "id": "44bfc3d4",
        "outputId": "f9d5384a-e4c5-460d-b808-504713d4ff53"
      },
      "outputs": [
        {
          "name": "stdout",
          "output_type": "stream",
          "text": [
            "enter the number145\n",
            "145\n",
            "yes it is strong number\n"
          ]
        }
      ],
      "source": [
        "a=int(input(\"enter the number\"))\n",
        "sum=0\n",
        "temp=a\n",
        "while (temp>0):\n",
        "    fact=1\n",
        "    i=1\n",
        "    rem=temp%10\n",
        "    while i<=rem:\n",
        "        fact=fact*i\n",
        "        i=i+1\n",
        "    sum=sum+fact\n",
        "    temp=temp//10\n",
        "print(sum)\n",
        "if a==sum:\n",
        "    print(\"yes it is strong number\")\n",
        "else:\n",
        "    print(\"no\")"
      ]
    },
    {
      "cell_type": "code",
      "execution_count": null,
      "id": "d8d5b74a",
      "metadata": {
        "id": "d8d5b74a",
        "outputId": "f52efde6-d860-469b-fc3e-5d1af390bdf1"
      },
      "outputs": [
        {
          "name": "stdout",
          "output_type": "stream",
          "text": [
            "enter the number5\n",
            "120\n"
          ]
        }
      ],
      "source": [
        "a=int(input(\"enter the number\"))\n",
        "fact=1\n",
        "for i in range(1,a+1):\n",
        "    fact=fact*i\n",
        "print(fact)\n",
        "    "
      ]
    },
    {
      "cell_type": "code",
      "execution_count": null,
      "id": "45436c9a",
      "metadata": {
        "id": "45436c9a",
        "outputId": "1d5d14ac-1e67-49f8-a155-94c182fab956"
      },
      "outputs": [
        {
          "name": "stdout",
          "output_type": "stream",
          "text": [
            " Please Enter any Number: 145\n",
            "\n",
            " Factorial of 5 = 120\n",
            "\n",
            " Factorial of 4 = 120\n",
            "\n",
            " Factorial of 1 = 120\n",
            " 145 is not\n"
          ]
        }
      ],
      "source": [
        "Number = int(input(\" Please Enter any Number: \"))\n",
        "Sum = 0\n",
        "Temp = Number\n",
        "Factorial = 1\n",
        "i = 1\n",
        "while(Temp > 0):\n",
        "    Reminder = Temp % 10\n",
        "    while(i <= Reminder):\n",
        "        Factorial = Factorial * i\n",
        "        i = i + 1\n",
        "\n",
        "    print(\"\\n Factorial of %d = %d\" %(Reminder, Factorial))\n",
        "    Sum = Sum + Factorial\n",
        "    Temp = Temp // 10\n",
        "if (Sum == Number):\n",
        "    print(\" %d is a Strong Number\" %Number)\n",
        "else:\n",
        "    print(\" %d is not\" %Number)\n"
      ]
    },
    {
      "cell_type": "markdown",
      "id": "ced9637e",
      "metadata": {
        "id": "ced9637e"
      },
      "source": [
        "# sets"
      ]
    },
    {
      "cell_type": "code",
      "execution_count": null,
      "id": "1962c438",
      "metadata": {
        "id": "1962c438",
        "outputId": "2ed43b60-7631-409b-c776-ae5695252e1a"
      },
      "outputs": [
        {
          "name": "stdout",
          "output_type": "stream",
          "text": [
            "{1, 2, 3, 4, 5}\n"
          ]
        }
      ],
      "source": [
        "a={1,2,3,4,5,5,5,5,5}## duplicates are not allowed in sets\n",
        "print(a)"
      ]
    },
    {
      "cell_type": "code",
      "execution_count": null,
      "id": "7a5a5098",
      "metadata": {
        "id": "7a5a5098",
        "outputId": "d8320e3b-5635-4b73-997a-a99c972e706c"
      },
      "outputs": [
        {
          "name": "stdout",
          "output_type": "stream",
          "text": [
            "<class 'set'> 5\n"
          ]
        }
      ],
      "source": [
        "a={1,2,3,4,5,5,5,5,5}\n",
        "print(type(a),len(a))"
      ]
    },
    {
      "cell_type": "code",
      "execution_count": null,
      "id": "bd03ee27",
      "metadata": {
        "id": "bd03ee27",
        "outputId": "7d84caca-1b50-4bf7-b651-05b0a18a093f"
      },
      "outputs": [
        {
          "name": "stdout",
          "output_type": "stream",
          "text": [
            "1\n",
            "2\n",
            "3\n",
            "4\n",
            "5\n"
          ]
        }
      ],
      "source": [
        "a={1,2,3,4,5,5,5,5,5}\n",
        "for x in a:\n",
        "    print(x)"
      ]
    },
    {
      "cell_type": "code",
      "execution_count": null,
      "id": "9fe29b71",
      "metadata": {
        "id": "9fe29b71",
        "outputId": "289e6ca3-2891-4e48-c5b1-a7644e5c5caa"
      },
      "outputs": [
        {
          "name": "stdout",
          "output_type": "stream",
          "text": [
            "{1, 2, 3, 4, 5, 99}\n"
          ]
        }
      ],
      "source": [
        "a={1,2,3,4,5,5,5,5,5}\n",
        "a.add(99) ### used for addition of elements\n",
        "print(a)"
      ]
    },
    {
      "cell_type": "code",
      "execution_count": null,
      "id": "94640042",
      "metadata": {
        "id": "94640042",
        "outputId": "fc3aad4f-e932-49b2-a271-57b407f03da0"
      },
      "outputs": [
        {
          "name": "stdout",
          "output_type": "stream",
          "text": [
            "{1, 2, 3, 4, 5, 'c', 'b', 'a', 'd', 'koushik'}\n"
          ]
        }
      ],
      "source": [
        "a={1,2,3,4,5,5,5,5,5}\n",
        "b={\"a\",\"b\",\"c\",\"d\"}\n",
        "c=[\"koushik\"]\n",
        "a.update(b)### update is used to join the lists\n",
        "a.update(c)\n",
        "print(a)"
      ]
    },
    {
      "cell_type": "code",
      "execution_count": null,
      "id": "e1a79445",
      "metadata": {
        "id": "e1a79445",
        "outputId": "09fd33e0-05a7-40ea-843f-3d75c21d32ac"
      },
      "outputs": [
        {
          "name": "stdout",
          "output_type": "stream",
          "text": [
            "1\n",
            "{2, 3, 4}\n",
            "set()\n"
          ]
        }
      ],
      "source": [
        "a={1,2,3,4,5,5,5,5,5}\n",
        "a.remove(5)### remove will raise error if its not present\n",
        "a.discard(8)### discard will not raise a error if its not present\n",
        "b=a.pop() ### this removes the element and that is stored in the b\n",
        "print(b)\n",
        "print(a)\n",
        "a.clear()### this clears the set\n",
        "print(a)\n",
        "del a### this deleted the set"
      ]
    },
    {
      "cell_type": "code",
      "execution_count": null,
      "id": "0576f51f",
      "metadata": {
        "id": "0576f51f",
        "outputId": "f73a967b-ca8c-43c5-81ce-0d84daf7c7fa"
      },
      "outputs": [
        {
          "name": "stdout",
          "output_type": "stream",
          "text": [
            "{1, 2, 3, 4, 5}\n",
            "{1, 2, 3, 4, 5}\n"
          ]
        }
      ],
      "source": [
        "a={1,2,3,4,5,5,5,5,5}\n",
        "b={\"a\",\"b\",\"c\",\"d\",1}\n",
        "a.union(b)### combines all the elements\n",
        "print(a)\n",
        "a.intersection(b) ### only shows the common element\n",
        "print(a)"
      ]
    },
    {
      "cell_type": "code",
      "execution_count": null,
      "id": "bed8dd58",
      "metadata": {
        "id": "bed8dd58",
        "outputId": "471f0a1f-3155-42e9-fb9e-61f9c39b7ae3"
      },
      "outputs": [
        {
          "name": "stdout",
          "output_type": "stream",
          "text": [
            "{1, 2, 3, 4, 5}\n"
          ]
        }
      ],
      "source": [
        "a={1,2,3,4,5,5,5,5,5}\n",
        "b=a.copy()### this copys the elments of the set\n",
        "print(b)"
      ]
    },
    {
      "cell_type": "code",
      "execution_count": null,
      "id": "ac77f61d",
      "metadata": {
        "id": "ac77f61d",
        "outputId": "245463d9-32a8-4682-d75e-c8fedcf67d1a"
      },
      "outputs": [
        {
          "name": "stdout",
          "output_type": "stream",
          "text": [
            "False\n",
            "False\n",
            "False\n"
          ]
        }
      ],
      "source": [
        "a={1,2,3,4,5,5,5,5,5}\n",
        "b={1,3,6,8}\n",
        "print(a.isdisjoint(b))\n",
        "print(b.issubset(a))\n",
        "print(a.issuperset(b))"
      ]
    },
    {
      "cell_type": "code",
      "execution_count": null,
      "id": "b0e3a8b0",
      "metadata": {
        "id": "b0e3a8b0",
        "outputId": "e71fb995-20ae-431e-b36b-598eb235faf9"
      },
      "outputs": [
        {
          "name": "stdout",
          "output_type": "stream",
          "text": [
            "{33, 2, 3, 4, 5, 7, 9}\n"
          ]
        }
      ],
      "source": [
        "a={1,2,3,4,5,5,5,5,5}\n",
        "b={1,7,9,33}\n",
        "print(a.symmetric_difference(b))\n"
      ]
    },
    {
      "cell_type": "markdown",
      "id": "1ff668aa",
      "metadata": {
        "id": "1ff668aa"
      },
      "source": [
        "# DICTONARY"
      ]
    },
    {
      "cell_type": "code",
      "execution_count": null,
      "id": "30354af1",
      "metadata": {
        "id": "30354af1",
        "outputId": "c54db75a-3990-4247-fb66-f02104ab8530"
      },
      "outputs": [
        {
          "name": "stdout",
          "output_type": "stream",
          "text": [
            "{'name': 'koushik', 'age': 18, 'college': 'gitam'}\n"
          ]
        }
      ],
      "source": [
        "a={\n",
        "    \"name\":\"koushik\",  ### format for building the sets\n",
        "    \"age\":18,\n",
        "    \"college\":\"gitam\"\n",
        "}\n",
        "print(a)"
      ]
    },
    {
      "cell_type": "code",
      "execution_count": null,
      "id": "27b2ff7e",
      "metadata": {
        "id": "27b2ff7e",
        "outputId": "b903cd3a-2753-4308-cd2b-e6e7c5b43f4b"
      },
      "outputs": [
        {
          "name": "stdout",
          "output_type": "stream",
          "text": [
            "koushik\n",
            "18\n",
            "3\n"
          ]
        }
      ],
      "source": [
        "a={\n",
        "    \"name\":\"koushik\",  ### format for building the dicitonary\n",
        "    \"age\":18,\n",
        "    \"college\":\"gitam\"\n",
        "}\n",
        "print(a[\"name\"])\n",
        "print(a[\"age\"])\n",
        "print(len(a))### shows the len of the dict\n",
        "print(type(a))"
      ]
    },
    {
      "cell_type": "code",
      "execution_count": null,
      "id": "0ce35042",
      "metadata": {
        "id": "0ce35042",
        "outputId": "3a64c611-cf94-4ba7-fb6c-23946acfa0be"
      },
      "outputs": [
        {
          "name": "stdout",
          "output_type": "stream",
          "text": [
            "koushik 18\n"
          ]
        }
      ],
      "source": [
        "a={\n",
        "    \"name\":\"koushik\", \n",
        "    \"age\":18,\n",
        "    \"college\":\"gitam\"\n",
        "}\n",
        "b=a[\"name\"]\n",
        "c=a.get(\"age\")\n",
        "print(b,c)"
      ]
    },
    {
      "cell_type": "code",
      "execution_count": null,
      "id": "0c5722e8",
      "metadata": {
        "id": "0c5722e8",
        "outputId": "67d0ff49-64bf-4d7f-9fae-e3349e9762f7"
      },
      "outputs": [
        {
          "name": "stdout",
          "output_type": "stream",
          "text": [
            "dict_keys(['name', 'age', 'college'])\n"
          ]
        }
      ],
      "source": [
        "a={\n",
        "    \"name\":\"koushik\", \n",
        "    \"age\":18,\n",
        "    \"college\":\"gitam\"\n",
        "}\n",
        "print(a.keys())### this is the keys function used to displa all thge key words\n",
        "a[\"friend\"]=\" sike kiran\" ### this is a way of addition kes in dict\n",
        "print(a.)"
      ]
    },
    {
      "cell_type": "code",
      "execution_count": null,
      "id": "9a29f838",
      "metadata": {
        "id": "9a29f838",
        "outputId": "5cafe1c5-d324-4ae3-a78f-c2c2c92f4aa5"
      },
      "outputs": [
        {
          "name": "stdout",
          "output_type": "stream",
          "text": [
            "dict_values(['koushik', 18, 'gitam'])\n",
            "dict_values(['koushik', 18, 'gitam', 'vskp']) dict_keys(['name', 'age', 'college', 'place'])\n"
          ]
        }
      ],
      "source": [
        "a={\n",
        "    \"name\":\"koushik\", \n",
        "    \"age\":18,\n",
        "    \"college\":\"gitam\"\n",
        "}\n",
        "print(a.values())\n",
        "a[\"place\"]=\"vskp\"\n",
        "print(a.values(),a.keys())"
      ]
    },
    {
      "cell_type": "code",
      "execution_count": null,
      "id": "ea9c164a",
      "metadata": {
        "id": "ea9c164a",
        "outputId": "5fbd919c-7cb5-4ee8-e717-98bb7c583e74"
      },
      "outputs": [
        {
          "name": "stdout",
          "output_type": "stream",
          "text": [
            "dict_items([('name', 'koushik'), ('age', 18), ('college', 'gitam')])\n"
          ]
        }
      ],
      "source": [
        "a={\n",
        "    \"name\":\"koushik\", \n",
        "    \"age\":18,\n",
        "    \"college\":\"gitam\"\n",
        "}\n",
        "print(a.items())"
      ]
    },
    {
      "cell_type": "code",
      "execution_count": null,
      "id": "4004518f",
      "metadata": {
        "id": "4004518f",
        "outputId": "ea58fd41-e7b6-4c64-a88c-bc1764b80e5d"
      },
      "outputs": [
        {
          "name": "stdout",
          "output_type": "stream",
          "text": [
            "yes\n"
          ]
        }
      ],
      "source": [
        "a={\n",
        "    \"name\":\"koushik\", \n",
        "    \"age\":18,\n",
        "    \"college\":\"gitam\"\n",
        "}\n",
        "if \"age\" in a:\n",
        "    print(\"yes\")"
      ]
    },
    {
      "cell_type": "code",
      "execution_count": null,
      "id": "6eec6314",
      "metadata": {
        "id": "6eec6314",
        "outputId": "fc21a31b-064d-4f31-fc9c-c87fb200a7fe"
      },
      "outputs": [
        {
          "name": "stdout",
          "output_type": "stream",
          "text": [
            "{'name': 'koushik', 'age': 18, 'college': 'gitam', 'place': 'vskp'}\n",
            "{'name': 'koushik', 'age': 19, 'college': 'gitam', 'place': 'vskp'}\n"
          ]
        }
      ],
      "source": [
        "a={\n",
        "    \"name\":\"koushik\", \n",
        "    \"age\":18,\n",
        "    \"college\":\"gitam\"\n",
        "}\n",
        "a.update({\"place\":\"vskp\"}) ### it is used to update the list\n",
        "print(a)\n",
        "a.update({\"age\":19}) ### it is also used to update the list\n",
        "print(a)"
      ]
    },
    {
      "cell_type": "code",
      "execution_count": null,
      "id": "a9ae629b",
      "metadata": {
        "id": "a9ae629b",
        "outputId": "f89e0445-2b9f-49f5-af4e-e0e95231af99"
      },
      "outputs": [
        {
          "name": "stdout",
          "output_type": "stream",
          "text": [
            "{'name': 'koushik', 'college': 'gitam'}\n"
          ]
        }
      ],
      "source": [
        "a={\n",
        "    \"name\":\"koushik\", \n",
        "    \"age\":18,\n",
        "    \"college\":\"gitam\"\n",
        "}\n",
        "a.pop(\"age\") ### this is used to remove the elements from the dict\n",
        "print(a)"
      ]
    },
    {
      "cell_type": "code",
      "execution_count": null,
      "id": "2d88ac6c",
      "metadata": {
        "id": "2d88ac6c",
        "outputId": "5abff1ae-2135-4b71-aaf6-1874fc1a58ff"
      },
      "outputs": [
        {
          "name": "stdout",
          "output_type": "stream",
          "text": [
            "name\n",
            "age\n",
            "college\n"
          ]
        }
      ],
      "source": [
        "a={\n",
        "    \"name\":\"koushik\", \n",
        "    \"age\":18,\n",
        "    \"college\":\"gitam\"\n",
        "}\n",
        "for x in a:\n",
        "    print(x)"
      ]
    },
    {
      "cell_type": "code",
      "execution_count": null,
      "id": "a6ced0d0",
      "metadata": {
        "id": "a6ced0d0",
        "outputId": "61370a58-0db4-4384-d251-b4aadefe8af5"
      },
      "outputs": [
        {
          "name": "stdout",
          "output_type": "stream",
          "text": [
            "{'name': 'koushik', 'age': 18, 'college': 'gitam', 'marks': '100'}\n"
          ]
        }
      ],
      "source": [
        "a={\n",
        "    \"name\":\"koushik\", \n",
        "    \"age\":18,\n",
        "    \"college\":\"gitam\"\n",
        "}\n",
        "a.update({\"marks\":\"100\"})\n",
        "print(a)"
      ]
    },
    {
      "cell_type": "code",
      "execution_count": null,
      "id": "99086451",
      "metadata": {
        "id": "99086451",
        "outputId": "c261396d-ea7f-4cde-f430-4059e20dba02"
      },
      "outputs": [
        {
          "name": "stdout",
          "output_type": "stream",
          "text": [
            "dict_items([('name', 'koushik'), ('age', 18), ('college', 'gitam')])\n",
            "('name', 'koushik')\n",
            "('age', 18)\n",
            "('college', 'gitam')\n"
          ]
        }
      ],
      "source": [
        "a={\n",
        "    \"name\":\"koushik\", \n",
        "    \"age\":18,\n",
        "    \"college\":\"gitam\"\n",
        "}\n",
        "print(a.items())\n",
        "for x in a.items():\n",
        "    print(x)"
      ]
    },
    {
      "cell_type": "code",
      "execution_count": null,
      "id": "66e1d220",
      "metadata": {
        "id": "66e1d220",
        "outputId": "c890f053-7ec0-48d1-fffc-d68f21cfb8b3"
      },
      "outputs": [
        {
          "name": "stdout",
          "output_type": "stream",
          "text": [
            "name koushik\n",
            "age 18\n",
            "college gitam\n"
          ]
        }
      ],
      "source": [
        "a={\n",
        "    \"name\":\"koushik\", \n",
        "    \"age\":18,\n",
        "    \"college\":\"gitam\"\n",
        "}\n",
        "for x,y in a.items():\n",
        "    print(x,y)"
      ]
    },
    {
      "cell_type": "code",
      "execution_count": null,
      "id": "e51a0008",
      "metadata": {
        "id": "e51a0008",
        "outputId": "ceb3793b-3685-4052-d261-abf011010415"
      },
      "outputs": [
        {
          "name": "stdout",
          "output_type": "stream",
          "text": [
            "name\n",
            "age\n",
            "college\n"
          ]
        }
      ],
      "source": [
        "a={\n",
        "    \"name\":\"koushik\", \n",
        "    \"age\":18,\n",
        "    \"college\":\"gitam\"\n",
        "}\n",
        "for x in a.keys():\n",
        "    print(x)"
      ]
    },
    {
      "cell_type": "code",
      "execution_count": null,
      "id": "7e3332b4",
      "metadata": {
        "id": "7e3332b4",
        "outputId": "10a2cdbc-0716-4090-fa25-a00bfa1eb302"
      },
      "outputs": [
        {
          "name": "stdout",
          "output_type": "stream",
          "text": [
            "{'s1': {'name': 'koushik', 'age': '18', 'collge': 'gitam'}, 's2': {'name': 'ftghdgde', 'age': '18', 'collge': 'gitam'}, 's3': {'name': 'dffffff', 'age': '18', 'collge': 'gitam'}}\n"
          ]
        }
      ],
      "source": [
        "collge={\n",
        "    \"s1\":{\n",
        "        \"name\":\"koushik\",\n",
        "        \"age\":\"18\",\n",
        "        \"collge\":\"gitam\"\n",
        "    },\n",
        "    \"s2\":{\n",
        "         \"name\":\"ftghdgde\",\n",
        "        \"age\":\"18\",\n",
        "        \"collge\":\"gitam\"\n",
        "    },\n",
        "    \"s3\":{\n",
        "         \"name\":\"dffffff\",\n",
        "        \"age\":\"18\",\n",
        "        \"collge\":\"gitam\"\n",
        "    },\n",
        "    \n",
        "}\n",
        "print(collge)"
      ]
    },
    {
      "cell_type": "code",
      "execution_count": null,
      "id": "16e53334",
      "metadata": {
        "id": "16e53334",
        "outputId": "cf13d1aa-5389-4ba0-c83a-1b2cde772e6d"
      },
      "outputs": [
        {
          "name": "stdout",
          "output_type": "stream",
          "text": [
            "{'s1': ({'name': 'koushik', 'age': '18', 'collge': 'gitam'},), 's2': ({'name': 'koushik', 'age': '18', 'collge': 'gitam'},), 's3': {'name': 'koushik', 'age': '18', 'collge': 'gitam'}}\n"
          ]
        }
      ],
      "source": [
        "s1={\n",
        "     \"name\":\"koushik\",\n",
        "        \"age\":\"18\",\n",
        "        \"collge\":\"gitam\"\n",
        "},\n",
        "s2={\n",
        "     \"name\":\"koushik\",\n",
        "        \"age\":\"18\",\n",
        "        \"collge\":\"gitam\"\n",
        "},\n",
        "s3={\n",
        "     \"name\":\"koushik\",\n",
        "        \"age\":\"18\",\n",
        "        \"collge\":\"gitam\"\n",
        "}\n",
        "college={\n",
        "    \"s1\":s1,\n",
        "    \"s2\":s2,\n",
        "    \"s3\":s3\n",
        "}\n",
        "print(college)"
      ]
    },
    {
      "cell_type": "code",
      "execution_count": null,
      "id": "ee6179bf",
      "metadata": {
        "id": "ee6179bf",
        "outputId": "08a56a36-616c-4c11-9542-83e56179b585"
      },
      "outputs": [
        {
          "name": "stdout",
          "output_type": "stream",
          "text": [
            "{'name': 'koushik', 'age': 18, 'college': 'gitam'}\n"
          ]
        }
      ],
      "source": [
        "a={\n",
        "    \"name\":\"koushik\", \n",
        "    \"age\":18,\n",
        "    \"college\":\"gitam\"\n",
        "}\n",
        "b=a.copy()\n",
        "print(b)"
      ]
    },
    {
      "cell_type": "code",
      "execution_count": null,
      "id": "4e9437c9",
      "metadata": {
        "id": "4e9437c9",
        "outputId": "420b5160-d4ad-473a-aef2-5119d352a97e"
      },
      "outputs": [
        {
          "name": "stdout",
          "output_type": "stream",
          "text": [
            "{'s1': {'name': 'koushik', 'age': '18', 'college': 'gitam'}, 's2': {'name': 'sgsdgsdfsf', 'age': '17', 'college': 'afsfsf'}}\n"
          ]
        }
      ],
      "source": [
        "college={\n",
        "    \"s1\":{\n",
        "        \"name\":\"koushik\",\n",
        "        \"age\":\"18\",\n",
        "\"college\":\"gitam\"    \n",
        "    },\n",
        "    \"s2\":{\n",
        "        \"name\":\"sgsdgsdfsf\",\n",
        "        \"age\":\"17\",\n",
        "        \"college\":\"afsfsf\"\n",
        "    }\n",
        "}\n",
        "print(college)"
      ]
    },
    {
      "cell_type": "markdown",
      "id": "6ee096a1",
      "metadata": {
        "id": "6ee096a1"
      },
      "source": [
        "# MODULE 2"
      ]
    },
    {
      "cell_type": "code",
      "execution_count": null,
      "id": "190130b9",
      "metadata": {
        "id": "190130b9"
      },
      "outputs": [],
      "source": [
        "a=[1,2,3,4,5,6]\n"
      ]
    },
    {
      "cell_type": "code",
      "execution_count": null,
      "id": "d3c64a57",
      "metadata": {
        "id": "d3c64a57",
        "outputId": "b0dd608d-e1dc-4fe9-ac11-5d1feb7b4a94"
      },
      "outputs": [
        {
          "name": "stdout",
          "output_type": "stream",
          "text": [
            "enter the command roll: roll\n",
            "4\n",
            "4\n",
            "6\n",
            "2\n",
            "6\n",
            "6\n"
          ]
        }
      ],
      "source": [
        "import random\n",
        "a=input(\"enter the command roll: \")\n",
        "if \"roll\"==a:\n",
        "    for x in range (6):\n",
        "        a=random.randint(1,6)\n",
        "        print(a)"
      ]
    },
    {
      "cell_type": "markdown",
      "id": "69dc1ab2",
      "metadata": {
        "id": "69dc1ab2"
      },
      "source": [
        "# FUNCTIONS"
      ]
    },
    {
      "cell_type": "code",
      "execution_count": null,
      "id": "0fb75574",
      "metadata": {
        "id": "0fb75574",
        "outputId": "0e14abf4-625a-4218-9f75-b5d2a4f3c9dd"
      },
      "outputs": [
        {
          "name": "stdout",
          "output_type": "stream",
          "text": [
            "koushik\n"
          ]
        }
      ],
      "source": [
        "def koushik():\n",
        "    print(\"koushik\")\n",
        "koushik()"
      ]
    },
    {
      "cell_type": "code",
      "execution_count": null,
      "id": "1728e7e4",
      "metadata": {
        "id": "1728e7e4",
        "outputId": "da2cca40-2a70-4d94-f449-4c41ffe2b59a"
      },
      "outputs": [
        {
          "name": "stdout",
          "output_type": "stream",
          "text": [
            "koushik 8 36\n",
            "kiran 19 31\n"
          ]
        }
      ],
      "source": [
        "def name(name,age,roll):\n",
        "    print(name,age,roll)\n",
        "name(\"koushik\",8,36)\n",
        "name(\"kiran\",19,31)"
      ]
    },
    {
      "cell_type": "code",
      "execution_count": null,
      "id": "07e32560",
      "metadata": {
        "id": "07e32560",
        "outputId": "999842e0-07ae-4dcb-d059-9d79b95e7999"
      },
      "outputs": [
        {
          "name": "stdout",
          "output_type": "stream",
          "text": [
            "info of the students 19\n"
          ]
        }
      ],
      "source": [
        "def student(*info):\n",
        "    print(\"info of the students\",info[1])\n",
        "student(\"koushik\",19,4,2021) ### only strings are sccepted but not the strings\n"
      ]
    },
    {
      "cell_type": "code",
      "execution_count": null,
      "id": "cb3ee2a4",
      "metadata": {
        "id": "cb3ee2a4",
        "outputId": "0e3b2d5e-2266-469c-a0ac-21cf4d46cfa6"
      },
      "outputs": [
        {
          "name": "stdout",
          "output_type": "stream",
          "text": [
            "2021\n"
          ]
        }
      ],
      "source": [
        "def student(name,age,year):\n",
        "    print(year)\n",
        "student(year=2021,name=\"koushik\",age=18)"
      ]
    },
    {
      "cell_type": "code",
      "execution_count": null,
      "id": "bfde68ed",
      "metadata": {
        "id": "bfde68ed",
        "outputId": "0702e7eb-00d8-4dc7-851d-5d3a637e04b1"
      },
      "outputs": [
        {
          "name": "stdout",
          "output_type": "stream",
          "text": [
            "student 18\n"
          ]
        }
      ],
      "source": [
        "def student(**info):\n",
        "    print(\"student\",info[\"age\"])\n",
        "student(name=\"koushik\",age=18,year=2021)"
      ]
    },
    {
      "cell_type": "code",
      "execution_count": null,
      "id": "3946dd50",
      "metadata": {
        "id": "3946dd50",
        "outputId": "b674c1ee-a610-4839-98c0-7b0adb450674"
      },
      "outputs": [
        {
          "ename": "SyntaxError",
          "evalue": "invalid syntax (Temp/ipykernel_2328/965067153.py, line 1)",
          "output_type": "error",
          "traceback": [
            "\u001b[1;36m  File \u001b[1;32m\"C:\\Users\\CSE22004\\AppData\\Local\\Temp/ipykernel_2328/965067153.py\"\u001b[1;36m, line \u001b[1;32m1\u001b[0m\n\u001b[1;33m    def student(**info ==\"enter data\"):\u001b[0m\n\u001b[1;37m                       ^\u001b[0m\n\u001b[1;31mSyntaxError\u001b[0m\u001b[1;31m:\u001b[0m invalid syntax\n"
          ]
        }
      ],
      "source": [
        "def student(**info ==\"enter data\"):\n",
        "    print(info[\"name\"],info[\"age\"])\n",
        "student(name=\"koushik\",age=18)\n",
        "student(name=\"kiran\",age=19)"
      ]
    },
    {
      "cell_type": "code",
      "execution_count": null,
      "id": "d754c8bd",
      "metadata": {
        "id": "d754c8bd",
        "outputId": "431acee2-54be-48b0-a541-5b313a1148af"
      },
      "outputs": [
        {
          "name": "stdout",
          "output_type": "stream",
          "text": [
            "enter the name\n",
            "koushik\n",
            "kiran\n"
          ]
        }
      ],
      "source": [
        "def student(name=\"enter the name\"):\n",
        "      print(name)\n",
        "student()\n",
        "student(\"koushik\")\n",
        "student(\"kiran\")"
      ]
    },
    {
      "cell_type": "code",
      "execution_count": null,
      "id": "606fe024",
      "metadata": {
        "id": "606fe024",
        "outputId": "d47ab0ec-3a37-4b85-9874-77e7b7bf2712"
      },
      "outputs": [
        {
          "name": "stdout",
          "output_type": "stream",
          "text": [
            "koushik\n",
            "kiran\n"
          ]
        }
      ],
      "source": [
        "def students(name):\n",
        "    for x in name:\n",
        "        print(x)\n",
        "names=[\"koushik\",\"kiran\"]\n",
        "students(names)"
      ]
    },
    {
      "cell_type": "code",
      "execution_count": null,
      "id": "ae43c785",
      "metadata": {
        "id": "ae43c785",
        "outputId": "eff14ae4-c9f4-4ef2-8af1-4e92a656cda9"
      },
      "outputs": [
        {
          "name": "stdout",
          "output_type": "stream",
          "text": [
            "9\n",
            "11\n"
          ]
        }
      ],
      "source": [
        "def sum(a,b):\n",
        "   return a+b\n",
        "print(sum(3,6))\n",
        "print(sum(5,6))\n",
        "    "
      ]
    },
    {
      "cell_type": "code",
      "execution_count": null,
      "id": "6abd0a03",
      "metadata": {
        "id": "6abd0a03"
      },
      "outputs": [],
      "source": [
        "def number(n,r):\n",
        "    while i<=r\n",
        "        return (n-i*(n-(i+1))*(n-O())"
      ]
    },
    {
      "cell_type": "markdown",
      "id": "6712f541",
      "metadata": {
        "id": "6712f541"
      },
      "source": [
        "# module 2"
      ]
    },
    {
      "cell_type": "code",
      "execution_count": null,
      "id": "73cb4d85",
      "metadata": {
        "id": "73cb4d85",
        "outputId": "6a07df0c-b9f7-4ed0-c9d8-325a837c4f94"
      },
      "outputs": [
        {
          "name": "stdout",
          "output_type": "stream",
          "text": [
            "stting\n"
          ]
        }
      ],
      "source": [
        "a=\"string\"\n",
        "print(a.replace(\"r\",\"t\"))\n"
      ]
    },
    {
      "cell_type": "code",
      "execution_count": null,
      "id": "d7fb5730",
      "metadata": {
        "id": "d7fb5730",
        "outputId": "bf664675-3793-43fa-d6af-5d54b7d9b7fb"
      },
      "outputs": [
        {
          "name": "stdout",
          "output_type": "stream",
          "text": [
            "[5, 7]\n"
          ]
        }
      ],
      "source": [
        "a=[3,5,7,9]\n",
        "b=[2,3,8,9]\n",
        "c=[]\n",
        "for x in a:\n",
        "    if x not in b:\n",
        "        c.append(x)\n",
        "print(c)"
      ]
    },
    {
      "cell_type": "code",
      "execution_count": null,
      "id": "5dda2753",
      "metadata": {
        "id": "5dda2753",
        "outputId": "d7c312f0-4359-401e-a717-393eab819574"
      },
      "outputs": [
        {
          "name": "stdout",
          "output_type": "stream",
          "text": [
            "enter the number6\n",
            "{0: 0, 1: 1, 2: 4, 3: 9, 4: 16, 5: 25, 6: 36}\n"
          ]
        }
      ],
      "source": [
        "a=dict()\n",
        "b=int(input(\"enter the number\"))\n",
        "for x in range(b+1):\n",
        "    a[x]=x*x\n",
        "print(a)"
      ]
    },
    {
      "cell_type": "code",
      "execution_count": null,
      "id": "aa24101b",
      "metadata": {
        "id": "aa24101b",
        "outputId": "14728f78-6f9b-4954-8428-c3e17ccd9ae6"
      },
      "outputs": [
        {
          "name": "stdout",
          "output_type": "stream",
          "text": [
            "{'name': 'koushik', 'age': 18}\n"
          ]
        }
      ],
      "source": [
        "a={\n",
        "    \"name\":\"koushik\",\n",
        "    \"age\":18,\n",
        "    \"year\":2021   \n",
        "}\n",
        "a.pop(\"year\")\n",
        "print(a)"
      ]
    },
    {
      "cell_type": "code",
      "execution_count": null,
      "id": "191fe5a0",
      "metadata": {
        "id": "191fe5a0",
        "outputId": "dcfa14ed-f1f5-4fd2-fb6d-8fb1f2ffcf56"
      },
      "outputs": [
        {
          "name": "stdout",
          "output_type": "stream",
          "text": [
            "3\n"
          ]
        }
      ],
      "source": [
        "a=\"I have to go to a doctor and get myself checked.\"\n",
        "print(a.count(\"to\"))"
      ]
    },
    {
      "cell_type": "code",
      "execution_count": null,
      "id": "d818bc08",
      "metadata": {
        "id": "d818bc08",
        "outputId": "36f2d15c-8854-4b2f-95e9-a20a9f0516c6"
      },
      "outputs": [
        {
          "name": "stdout",
          "output_type": "stream",
          "text": [
            "[(4,), (8, 6, 7), (1,), (3, 4, 6, 7)]\n"
          ]
        }
      ],
      "source": [
        "a= [(4, 5), (4,), (8, 6, 7), (1,), (3, 4, 6, 7)]\n",
        "b=[]\n",
        "k=2\n",
        "for x in a:\n",
        "    if len(x)==k:\n",
        "        a.remove(x)\n",
        "print(a)"
      ]
    },
    {
      "cell_type": "code",
      "execution_count": null,
      "id": "7663a194",
      "metadata": {
        "id": "7663a194",
        "outputId": "00d975da-467b-4168-9f96-e94b4168bc56"
      },
      "outputs": [
        {
          "name": "stdout",
          "output_type": "stream",
          "text": [
            "the lower values 3\n",
            "higher values 2\n"
          ]
        }
      ],
      "source": [
        "def string(a):\n",
        "    u=0;l=0\n",
        "    for x in a :\n",
        "        if x.isupper():\n",
        "            u=u+1\n",
        "        else:\n",
        "            l=l+1\n",
        "    print(\"the lower values\",l)\n",
        "    print(\"higher values\",u)\n",
        "string(\"KiRan\")"
      ]
    },
    {
      "cell_type": "code",
      "execution_count": null,
      "id": "bd7cf35d",
      "metadata": {
        "id": "bd7cf35d",
        "outputId": "1e22159a-f314-4ead-a725-33c72e65bf6b"
      },
      "outputs": [
        {
          "name": "stdout",
          "output_type": "stream",
          "text": [
            "enter the value of 10\n",
            "enter the value of r8\n",
            "45.0\n"
          ]
        }
      ],
      "source": [
        "def ncr(n,r):\n",
        "    return fact(n)/(fact(r)*fact(n-r))\n",
        "def fact(n):\n",
        "    fact=1\n",
        "    for i in range(1,n+1):\n",
        "        fact=fact*i\n",
        "    return fact\n",
        "a=int(input(\"enter the value of n \"))\n",
        "b=int(input(\"enter the value of r\"))\n",
        "print(ncr(a,b))"
      ]
    },
    {
      "cell_type": "code",
      "execution_count": null,
      "id": "1bbfe6f6",
      "metadata": {
        "id": "1bbfe6f6",
        "outputId": "f4a20543-7e9b-4de5-fab4-06d402bc2fd7"
      },
      "outputs": [
        {
          "name": "stdout",
          "output_type": "stream",
          "text": [
            "enter the first number5\n",
            "enter the second number2\n",
            "gcd of two numbers is  1\n"
          ]
        }
      ],
      "source": [
        "def gcd(a,b):\n",
        "    if b==0:\n",
        "        return a\n",
        "    else:\n",
        "        return gcd(b,a%b)\n",
        "a=int(input(\"enter the first number\"))\n",
        "b=int(input(\"enter the second number\"))\n",
        "GCD=gcd(a,b)\n",
        "print(\"gcd of two numbers is \",GCD)"
      ]
    },
    {
      "cell_type": "code",
      "execution_count": null,
      "id": "6a783361",
      "metadata": {
        "id": "6a783361",
        "outputId": "4c4b8ece-dcdd-4202-d31e-c15df2f068a3"
      },
      "outputs": [
        {
          "name": "stdout",
          "output_type": "stream",
          "text": [
            "enter the number5\n",
            "enter second number2\n",
            "product of two numbers 10\n"
          ]
        }
      ],
      "source": [
        "def pro(a,b):\n",
        "    if a<b:\n",
        "        return pro(b,a)\n",
        "    elif b!=0:\n",
        "        return (a+pro(a,b-1))\n",
        "    else:\n",
        "        return 0\n",
        "a=int(input(\"enter the number\"))\n",
        "b=int(input(\"enter second number\"))\n",
        "print(\"product of two numbers\",pro(a,b))"
      ]
    },
    {
      "cell_type": "code",
      "execution_count": null,
      "id": "b798e92a",
      "metadata": {
        "id": "b798e92a",
        "outputId": "2a470d9e-623a-4cfd-94b4-c85f815fa766"
      },
      "outputs": [
        {
          "name": "stdout",
          "output_type": "stream",
          "text": [
            "enter the number of terms10\n",
            "0\n",
            "1\n",
            "1\n",
            "2\n",
            "3\n",
            "5\n",
            "8\n",
            "13\n",
            "21\n",
            "34\n",
            "55\n"
          ]
        }
      ],
      "source": [
        "def fibo(n):\n",
        "    if n<=1:\n",
        "        return n\n",
        "    else:\n",
        "        return (fibo(n-1)+fibo(n-2))\n",
        "n=int(input(\"enter the number of terms\"))\n",
        "if n<=0:\n",
        "    print(\"enter the number with min values\")\n",
        "else:\n",
        "    for i in range(n+1):\n",
        "        print(fibo(i))"
      ]
    },
    {
      "cell_type": "code",
      "execution_count": null,
      "id": "395bd377",
      "metadata": {
        "id": "395bd377",
        "outputId": "79a8abbe-9c68-46fa-f14d-77bc45780c2c"
      },
      "outputs": [
        {
          "name": "stdout",
          "output_type": "stream",
          "text": [
            "[(9, 81.0), (3, 9.0), (6, 36.0)]\n"
          ]
        }
      ],
      "source": [
        "import math\n",
        "a=[9,3,6]\n",
        "b=[]\n",
        "for x in a:\n",
        "    b.append((x,math.pow(x,2)))\n",
        "print(b)\n",
        "    "
      ]
    },
    {
      "cell_type": "code",
      "execution_count": null,
      "id": "c6e5ce38",
      "metadata": {
        "id": "c6e5ce38",
        "outputId": "22e6c584-0ff7-4945-cb86-58ef6b1f5018"
      },
      "outputs": [
        {
          "name": "stdout",
          "output_type": "stream",
          "text": [
            "enter the number12\n",
            "enter the last number15\n",
            "12\n",
            "13\n",
            "14\n"
          ]
        }
      ],
      "source": [
        "a=int(input(\"enter the number\"))\n",
        "b=int(input(\"enter the last number\"))\n",
        "if a<b:\n",
        "    for x in range(a,b):\n",
        "         print(x)\n",
        "  \n"
      ]
    },
    {
      "cell_type": "code",
      "execution_count": null,
      "id": "16fc06e3",
      "metadata": {
        "id": "16fc06e3",
        "outputId": "656af44d-d576-4c79-c13b-c71f8c8be22b"
      },
      "outputs": [
        {
          "name": "stdout",
          "output_type": "stream",
          "text": [
            "121123145\n"
          ]
        }
      ],
      "source": [
        "a=[121,123,145]\n",
        "b=\"\"\n",
        "for x in a:\n",
        "    b=b+str(x)\n",
        "print(b) ### static method"
      ]
    },
    {
      "cell_type": "markdown",
      "id": "e330b500",
      "metadata": {
        "id": "e330b500"
      },
      "source": [
        "# ASSIGNMENT"
      ]
    },
    {
      "cell_type": "code",
      "execution_count": null,
      "id": "3e25395a",
      "metadata": {
        "id": "3e25395a",
        "outputId": "a6060c1c-f282-498e-94a0-6939be3ea14f"
      },
      "outputs": [
        {
          "name": "stdout",
          "output_type": "stream",
          "text": [
            "8.0\n"
          ]
        }
      ],
      "source": [
        "import math\n",
        "n=2;p=3\n",
        "print(math.pow(2,3))"
      ]
    },
    {
      "cell_type": "code",
      "execution_count": null,
      "id": "5bd60c3a",
      "metadata": {
        "id": "5bd60c3a",
        "outputId": "a070ee30-1179-4f46-d81e-39f1d3264cf0"
      },
      "outputs": [
        {
          "name": "stdout",
          "output_type": "stream",
          "text": [
            "[(1, 2), (3, 4, 6, 723), (134, 234, 34)]\n"
          ]
        }
      ],
      "source": [
        "list=[(3,4,6,723),(1,2),(134,234,34)]\n",
        "list.sort()\n",
        "print(list)"
      ]
    },
    {
      "cell_type": "code",
      "execution_count": null,
      "id": "f3e3e753",
      "metadata": {
        "id": "f3e3e753",
        "outputId": "81438a76-58fa-4e5b-a8d8-80f0560b29f8"
      },
      "outputs": [
        {
          "name": "stdout",
          "output_type": "stream",
          "text": [
            "enter the number1\n",
            "enter the number10\n",
            "enter the number20\n",
            "1\n"
          ]
        }
      ],
      "source": [
        "a=int(input(\"enter the number\"))\n",
        "b=int(input(\"enter the number\"))\n",
        "c=int(input(\"enter the number\"))\n",
        "d=[a,b,c]\n",
        "k=d.copy()\n",
        "d.sort()\n",
        "e=d.copy()\n",
        "if k==e:\n",
        "    print(\"1\")\n",
        "else:\n",
        "    print(\"0\")"
      ]
    },
    {
      "cell_type": "code",
      "execution_count": null,
      "id": "a1949d30",
      "metadata": {
        "id": "a1949d30",
        "outputId": "41b10e92-ce1f-45b3-a06a-c975232e0789"
      },
      "outputs": [
        {
          "name": "stdout",
          "output_type": "stream",
          "text": [
            "enter the number123\n",
            "6\n"
          ]
        }
      ],
      "source": [
        "a=int(input(\"enter the number\"))\n",
        "fact=1\n",
        "while a>0:\n",
        "    i=a%10\n",
        "    fact=fact*i\n",
        "    a=a//10\n",
        "print(fact)"
      ]
    },
    {
      "cell_type": "code",
      "execution_count": null,
      "id": "b6e9de6e",
      "metadata": {
        "id": "b6e9de6e",
        "outputId": "b16fc838-4b9a-4814-f401-a53a00631c1f"
      },
      "outputs": [
        {
          "name": "stdout",
          "output_type": "stream",
          "text": [
            "a\n",
            "b\n",
            "c\n",
            "e\n",
            "c\n",
            "b\n",
            "a\n",
            "number of digits which are in same sequence is: 7\n"
          ]
        }
      ],
      "source": [
        "s=\"abcdefcba\"\n",
        "n=len(s)\n",
        "i=0\n",
        "for x in range(len(s)):\n",
        "    if s[x]==s[n-1]:\n",
        "        print(s[x])\n",
        "        i=i+1\n",
        "    x=x+1\n",
        "    n=n-1\n",
        "print(\"number of digits which are in same sequence is:\",i)"
      ]
    },
    {
      "cell_type": "code",
      "execution_count": null,
      "id": "01608f53",
      "metadata": {
        "id": "01608f53",
        "outputId": "dfce031f-5676-4a7f-9c48-36294e444937"
      },
      "outputs": [
        {
          "name": "stdout",
          "output_type": "stream",
          "text": [
            "5\n",
            "2\n",
            "2\n"
          ]
        }
      ],
      "source": [
        "a=int(input(\"\"))\n",
        "b=int(input(\"\"))\n",
        "gcd=1\n",
        "i=1\n",
        "while(i<=a and i<=b):\n",
        "    if(a%i==0 and b%i==0):\n",
        "        gcd=gcd+1\n",
        "    i=i+1\n",
        "print(gcd)"
      ]
    },
    {
      "cell_type": "code",
      "execution_count": null,
      "id": "e463727f",
      "metadata": {
        "id": "e463727f",
        "outputId": "d1b0af90-7c2e-46c6-8fc6-6c1521835f23"
      },
      "outputs": [
        {
          "name": "stdout",
          "output_type": "stream",
          "text": [
            "50\n",
            "45\n",
            "21\n",
            "78\n",
            "65\n"
          ]
        },
        {
          "ename": "TypeError",
          "evalue": "unsupported operand type(s) for //: 'str' and 'int'",
          "output_type": "error",
          "traceback": [
            "\u001b[1;31m---------------------------------------------------------------------------\u001b[0m",
            "\u001b[1;31mTypeError\u001b[0m                                 Traceback (most recent call last)",
            "\u001b[1;32m~\\AppData\\Local\\Temp/ipykernel_6732/1871326073.py\u001b[0m in \u001b[0;36m<module>\u001b[1;34m\u001b[0m\n\u001b[0;32m      5\u001b[0m \u001b[0me\u001b[0m\u001b[1;33m=\u001b[0m\u001b[0minput\u001b[0m\u001b[1;33m(\u001b[0m\u001b[1;34m\"\"\u001b[0m\u001b[1;33m)\u001b[0m\u001b[1;33m\u001b[0m\u001b[1;33m\u001b[0m\u001b[0m\n\u001b[0;32m      6\u001b[0m \u001b[0mtotal\u001b[0m\u001b[1;33m=\u001b[0m\u001b[0ma\u001b[0m\u001b[1;33m+\u001b[0m\u001b[0mb\u001b[0m\u001b[1;33m+\u001b[0m\u001b[0mc\u001b[0m\u001b[1;33m+\u001b[0m\u001b[0md\u001b[0m\u001b[1;33m+\u001b[0m\u001b[0me\u001b[0m\u001b[1;33m\u001b[0m\u001b[1;33m\u001b[0m\u001b[0m\n\u001b[1;32m----> 7\u001b[1;33m \u001b[0mavg\u001b[0m\u001b[1;33m=\u001b[0m\u001b[0mtotal\u001b[0m\u001b[1;33m//\u001b[0m\u001b[1;36m5\u001b[0m\u001b[1;33m\u001b[0m\u001b[1;33m\u001b[0m\u001b[0m\n\u001b[0m\u001b[0;32m      8\u001b[0m \u001b[1;32mif\u001b[0m \u001b[0mavg\u001b[0m\u001b[1;33m>=\u001b[0m\u001b[1;36m90\u001b[0m \u001b[1;32mand\u001b[0m \u001b[0mavg\u001b[0m\u001b[1;33m<=\u001b[0m\u001b[1;36m100\u001b[0m\u001b[1;33m:\u001b[0m\u001b[1;33m\u001b[0m\u001b[1;33m\u001b[0m\u001b[0m\n\u001b[0;32m      9\u001b[0m     \u001b[0mprint\u001b[0m\u001b[1;33m(\u001b[0m\u001b[1;34m\"O\"\u001b[0m\u001b[1;33m)\u001b[0m\u001b[1;33m\u001b[0m\u001b[1;33m\u001b[0m\u001b[0m\n",
            "\u001b[1;31mTypeError\u001b[0m: unsupported operand type(s) for //: 'str' and 'int'"
          ]
        }
      ],
      "source": [
        "a=input(\"\")\n",
        "b=input(\"\")\n",
        "c=input(\"\")\n",
        "d=input(\"\")\n",
        "e=input(\"\")\n",
        "total=a+b+c+d+e\n",
        "avg=total//5\n",
        "if avg>=90 and avg<=100:\n",
        "    print(\"O\")\n",
        "elif avg>=80 and avg<=89:\n",
        "    print(\"A+\")\n",
        "elif avg>=70 and avg<=79:\n",
        "    print(\"A \")\n",
        "elif avg>=60 and avg<=69:\n",
        "    print(\"B+\")\n",
        "elif avg>=40 and avg<=59:\n",
        "    print(\"C\")\n",
        "else:\n",
        "    print(\"F\")"
      ]
    },
    {
      "cell_type": "code",
      "execution_count": null,
      "id": "9e90ff50",
      "metadata": {
        "id": "9e90ff50",
        "outputId": "6ed7d9d2-d2ce-486d-b9d8-13ede1773572"
      },
      "outputs": [
        {
          "name": "stdout",
          "output_type": "stream",
          "text": [
            "80\n",
            "90\n",
            "60\n",
            "100\n",
            "50\n",
            "A \n"
          ]
        }
      ],
      "source": [
        "a=int(input(\"\"))\n",
        "b=int(input(\"\"))\n",
        "c=int(input(\"\"))\n",
        "d=int(input(\"\"))\n",
        "e=int(input(\"\"))\n",
        "total=a+b+c+d+e\n",
        "avg=total//5\n",
        "if avg>=90 and avg<=100:\n",
        "    print(\"O\")\n",
        "elif avg>=80 and avg<=89:\n",
        "    print(\"A+\")\n",
        "elif avg>=70 and avg<=79:\n",
        "    print(\"A \")\n",
        "elif avg>=60 and avg<=69:\n",
        "    print(\"B+\")\n",
        "elif avg>=40 and avg<=59:\n",
        "    print(\"C\")\n",
        "else:\n",
        "    print(\"F\")"
      ]
    },
    {
      "cell_type": "markdown",
      "id": "f79494d7",
      "metadata": {
        "id": "f79494d7"
      },
      "source": [
        "# FILES"
      ]
    },
    {
      "cell_type": "code",
      "execution_count": null,
      "id": "8f236912",
      "metadata": {
        "id": "8f236912",
        "outputId": "e3f72dba-ff71-44fe-c24c-d743078c248c"
      },
      "outputs": [
        {
          "name": "stdout",
          "output_type": "stream",
          "text": [
            "kiran\n"
          ]
        }
      ],
      "source": [
        "k=open(\"koushik\",\"w\")\n",
        "k.write(\"kiran\")\n",
        "k.close()\n",
        "k=open(\"koushik\",\"r\")\n",
        "print(k.read())"
      ]
    },
    {
      "cell_type": "code",
      "execution_count": null,
      "id": "47270dbc",
      "metadata": {
        "id": "47270dbc",
        "outputId": "688d0fca-8d5e-4929-9aaf-5ef4cfa38e57"
      },
      "outputs": [
        {
          "name": "stdout",
          "output_type": "stream",
          "text": [
            "hi everyone this is koushik \n",
            "\n",
            " this is koushik\n"
          ]
        }
      ],
      "source": [
        "f=open(\"koushik.txt\",\"w\")\n",
        "f.write(\"hi everyone this is koushik \\n this is koushik\")\n",
        "f.close()\n",
        "f=open(\"koushik.txt\",\"r\")\n",
        "print(f.readline())\n",
        "print(f.readline()) \n",
        "f.close()"
      ]
    },
    {
      "cell_type": "code",
      "execution_count": null,
      "id": "86ccd710",
      "metadata": {
        "id": "86ccd710",
        "outputId": "a0294595-eee7-4ec3-f40f-6ea0a204f083"
      },
      "outputs": [
        {
          "name": "stdout",
          "output_type": "stream",
          "text": [
            "true\n"
          ]
        }
      ],
      "source": [
        "import os\n",
        "if os.path.exists(\"koushik.txt\"):\n",
        "    os.remove(\"koushik.txt\")\n",
        "else:\n",
        "    print(\"false\")\n"
      ]
    },
    {
      "cell_type": "code",
      "execution_count": null,
      "id": "248f6b2b",
      "metadata": {
        "id": "248f6b2b"
      },
      "outputs": [],
      "source": [
        "import os\n",
        "os.rmdir(\"C:\\\\Users\\CSE22004\\Documents\\Python Scripts\")\n"
      ]
    },
    {
      "cell_type": "code",
      "execution_count": null,
      "id": "0c6fc778",
      "metadata": {
        "id": "0c6fc778",
        "outputId": "9f129f9b-5467-4cf3-de38-1378321858f1"
      },
      "outputs": [
        {
          "ename": "FileNotFoundError",
          "evalue": "[Errno 2] No such file or directory: 'C:\\\\Users\\\\CSE22004\\\\Desktop\\\\96\\\\kiran'",
          "output_type": "error",
          "traceback": [
            "\u001b[1;31m---------------------------------------------------------------------------\u001b[0m",
            "\u001b[1;31mFileNotFoundError\u001b[0m                         Traceback (most recent call last)",
            "\u001b[1;32m~\\AppData\\Local\\Temp/ipykernel_9580/1969339660.py\u001b[0m in \u001b[0;36m<module>\u001b[1;34m\u001b[0m\n\u001b[1;32m----> 1\u001b[1;33m \u001b[0mf\u001b[0m\u001b[1;33m=\u001b[0m\u001b[0mopen\u001b[0m\u001b[1;33m(\u001b[0m\u001b[1;34m\"C:\\\\Users\\CSE22004\\Desktop\\96\\kiran\"\u001b[0m\u001b[1;33m)\u001b[0m\u001b[1;33m\u001b[0m\u001b[1;33m\u001b[0m\u001b[0m\n\u001b[0m\u001b[0;32m      2\u001b[0m \u001b[0mprint\u001b[0m\u001b[1;33m(\u001b[0m\u001b[0mf\u001b[0m\u001b[1;33m.\u001b[0m\u001b[0mread\u001b[0m\u001b[1;33m(\u001b[0m\u001b[1;33m)\u001b[0m\u001b[1;33m)\u001b[0m\u001b[1;33m\u001b[0m\u001b[1;33m\u001b[0m\u001b[0m\n",
            "\u001b[1;31mFileNotFoundError\u001b[0m: [Errno 2] No such file or directory: 'C:\\\\Users\\\\CSE22004\\\\Desktop\\\\96\\\\kiran'"
          ]
        }
      ],
      "source": [
        "f=open(\"C:\\\\Users\\CSE22004\\Desktop\\96\\kiran\")\n",
        "print(f.read())"
      ]
    },
    {
      "cell_type": "code",
      "execution_count": null,
      "id": "5d1dca4d",
      "metadata": {
        "id": "5d1dca4d",
        "outputId": "83ac4754-f82a-4a78-81d0-20f0a1d62cb5"
      },
      "outputs": [
        {
          "name": "stdout",
          "output_type": "stream",
          "text": [
            "write hello\n"
          ]
        }
      ],
      "source": [
        "f=open(\"hello\",\"w\")\n",
        "f.write(\"write hello\")\n",
        "f.close()\n",
        "f=open(\"hello\",\"r\")\n",
        "print(f.read())"
      ]
    },
    {
      "cell_type": "code",
      "execution_count": null,
      "id": "5b3dfb32",
      "metadata": {
        "id": "5b3dfb32"
      },
      "outputs": [],
      "source": [
        "f=open(\"C:\\\\Users\\CSE22004\\Desktop\\hello.txt\",\"w\")\n",
        "f.write(\"it works\")\n",
        "f.close()"
      ]
    },
    {
      "cell_type": "code",
      "execution_count": null,
      "id": "2aede91b",
      "metadata": {
        "id": "2aede91b",
        "outputId": "0632ac35-466f-4dde-e21d-aa73082c4c2d"
      },
      "outputs": [
        {
          "name": "stdout",
          "output_type": "stream",
          "text": [
            "nope\n"
          ]
        }
      ],
      "source": [
        "import os\n",
        "if os.path.exists(\"C:\\\\Users\\CSE22004\\Desktop\\96\\kiran.txt\"):\n",
        "    os.remove(\"C:\\\\Users\\CSE22004\\Desktop\\96\\kiran.txt\")\n",
        "else:\n",
        "    print(\"nope\")"
      ]
    },
    {
      "cell_type": "code",
      "execution_count": null,
      "id": "84e094f5",
      "metadata": {
        "id": "84e094f5"
      },
      "outputs": [],
      "source": [
        "import os\n",
        "os.rmdir(\"C:\\\\Users\\CSE22004\\Desktop\\kiransike\")"
      ]
    },
    {
      "cell_type": "code",
      "execution_count": null,
      "id": "2d4d2bde",
      "metadata": {
        "id": "2d4d2bde",
        "outputId": "1e979f1e-927d-4759-91ea-1bcd5bf599aa"
      },
      "outputs": [
        {
          "name": "stdout",
          "output_type": "stream",
          "text": [
            "fiuaghdfukiashdiua\n",
            "\n"
          ]
        }
      ],
      "source": [
        "f=open(\"C:\\\\Users\\CSE22004\\Desktop\\kiransike\\hello.txt\",\"r\")\n",
        "print(f.read())\n",
        "f.close()"
      ]
    },
    {
      "cell_type": "code",
      "execution_count": null,
      "id": "fdf1c126",
      "metadata": {
        "id": "fdf1c126"
      },
      "outputs": [],
      "source": [
        "import os\n",
        "if os.path.exists(\"C:\\\\Users\\CSE22004\\Desktop\\kiransike\\hello.txt\"):\n",
        "    os.remove(\"C:\\\\Users\\CSE22004\\Desktop\\kiransike\\hello.txt\")\n",
        "else:\n",
        "    print(\"nope\")\n",
        "os.rmdir(\"C:\\\\Users\\CSE22004\\Desktop\\kiransike\")"
      ]
    },
    {
      "cell_type": "markdown",
      "id": "b6ed999f",
      "metadata": {
        "id": "b6ed999f"
      },
      "source": [
        "# MODULE 3"
      ]
    },
    {
      "cell_type": "code",
      "execution_count": null,
      "id": "d233a7a3",
      "metadata": {
        "id": "d233a7a3",
        "outputId": "bf736686-0583-4c60-8e7f-4da9474e6a05"
      },
      "outputs": [
        {
          "name": "stdout",
          "output_type": "stream",
          "text": [
            "this is koushik\n"
          ]
        }
      ],
      "source": [
        "#f=open(\"D:\\\\readfile.txt\",\"r\")\n",
        "#print(f.read())\n",
        "f=open(\"demo.txt\",\"w\")\n",
        "f.write(\"this is koushik\")\n",
        "f.close()\n",
        "f=open(\"demo.txt\",\"r\")\n",
        "print(f.read())\n"
      ]
    },
    {
      "cell_type": "code",
      "execution_count": null,
      "id": "835fe115",
      "metadata": {
        "id": "835fe115",
        "outputId": "813920ee-8076-4fa1-9da1-08f283f1e872"
      },
      "outputs": [
        {
          "name": "stdout",
          "output_type": "stream",
          "text": [
            "this is koushik\n"
          ]
        }
      ],
      "source": [
        "f=open(\"demo.txt\",\"w\")\n",
        "f.write(\"this is koushik\")\n",
        "f.close()\n",
        "f=open(\"demo.txt\",\"r\")\n",
        "print(f.readline())\n"
      ]
    },
    {
      "cell_type": "code",
      "execution_count": null,
      "id": "81361edb",
      "metadata": {
        "id": "81361edb",
        "outputId": "2a428d92-3b33-4819-d1a3-31e2e9eec921"
      },
      "outputs": [
        {
          "name": "stdout",
          "output_type": "stream",
          "text": [
            "this is koushik\n",
            "this is koushikthis is kiran\n"
          ]
        }
      ],
      "source": [
        "f=open(\"demo.txt\",\"w\")\n",
        "f.write(\"this is koushik\")\n",
        "f.close()\n",
        "f=open(\"demo.txt\",\"r\")\n",
        "print(f.readline())\n",
        "f.close()\n",
        "f=open(\"demo.txt\",\"a\") ###append \n",
        "f.write(\"this is kiran\")\n",
        "f.close()\n",
        "f=open(\"demo.txt\",\"r\")\n",
        "print(f.read())\n"
      ]
    },
    {
      "cell_type": "code",
      "execution_count": null,
      "id": "89078c8f",
      "metadata": {
        "id": "89078c8f",
        "outputId": "3975d75a-7549-4be0-cae1-3f127453c6fd"
      },
      "outputs": [
        {
          "name": "stdout",
          "output_type": "stream",
          "text": [
            "['f', 'a', 'f', 'a', 'f', 'a', 'f', 'f', 'a', 'f', 'd']\n",
            " 0\n"
          ]
        }
      ],
      "source": [
        "f=open(\"hey.txt\",\"w\")\n",
        "f.write(\"f a f a f a f f a f d\")\n",
        "f.close()\n",
        "f=open(\"hey.txt\",\"r\")\n",
        "c=0\n",
        "z=\"\"\n",
        "print(f.read().split())\n",
        "for x in f.read().split():\n",
        "    z=z+x\n",
        "    if \"f\"==x:\n",
        "        c=c+1\n",
        "print(z,c)"
      ]
    },
    {
      "cell_type": "code",
      "execution_count": null,
      "id": "c764b882",
      "metadata": {
        "id": "c764b882",
        "outputId": "9c7661f2-4421-4066-d625-a2c3429d16f6"
      },
      "outputs": [
        {
          "name": "stdout",
          "output_type": "stream",
          "text": [
            "koushik\n"
          ]
        }
      ],
      "source": [
        "f=open(\"kou.txt\",\"w\")\n",
        "f.write(\"koushik\")\n",
        "f.close()\n",
        "g=open(\"kou.txt\",\"r\")\n",
        "b=g.read()\n",
        "g.close()\n",
        "f=open(\"kiran.txt\",\"w\")\n",
        "f.write(b)\n",
        "f.close()\n",
        "f=open(\"kiran.txt\",\"r\")\n",
        "print(f.read())"
      ]
    },
    {
      "cell_type": "code",
      "execution_count": null,
      "id": "6feff695",
      "metadata": {
        "id": "6feff695",
        "outputId": "49fba9e0-f74b-4935-ade1-9c820778b703"
      },
      "outputs": [
        {
          "name": "stdout",
          "output_type": "stream",
          "text": [
            "abc\n"
          ]
        }
      ],
      "source": [
        "x=[\"a\",\"b\",\"c\"]\n",
        "b=\"\"\n",
        "for x in x:\n",
        "     b=b+(x)\n",
        "print(b)\n",
        "        "
      ]
    },
    {
      "cell_type": "code",
      "execution_count": null,
      "id": "5d3107a7",
      "metadata": {
        "id": "5d3107a7",
        "outputId": "9d700112-8def-4db3-f32f-4cceebb2804b"
      },
      "outputs": [
        {
          "name": "stdout",
          "output_type": "stream",
          "text": [
            "['acb', 'cbd']\n"
          ]
        }
      ],
      "source": [
        "s=\"acb cbd\"\n",
        "a=s.split().copy()\n",
        "print(a)"
      ]
    },
    {
      "cell_type": "code",
      "execution_count": null,
      "id": "ce9781b6",
      "metadata": {
        "scrolled": true,
        "id": "ce9781b6",
        "outputId": "55c1cb37-f9a3-4815-95af-ac472a520e42"
      },
      "outputs": [
        {
          "name": "stdout",
          "output_type": "stream",
          "text": [
            "2\n",
            "4\n"
          ]
        }
      ],
      "source": [
        "f=open(\"koushik.txt\",\"w\")\n",
        "f.write(\"12345\")\n",
        "f.close()\n",
        "f=open(\"koushik.txt\",\"r\")\n",
        "b=[]\n",
        "for x in f.read():\n",
        "    b.append(int(x))\n",
        "for x in b:\n",
        "    if x%2==0:\n",
        "        print(x)"
      ]
    },
    {
      "cell_type": "code",
      "execution_count": null,
      "id": "1a5c2c46",
      "metadata": {
        "id": "1a5c2c46",
        "outputId": "482d2389-174e-46aa-8fbf-8220064189ea"
      },
      "outputs": [
        {
          "name": "stdout",
          "output_type": "stream",
          "text": [
            "   s.no     name  age\n",
            "0     1  koushik   18\n",
            "1     2    kiran   19\n"
          ]
        }
      ],
      "source": [
        "import pandas as pd\n",
        "b=pd.read_csv(\"C:\\\\Users\\CSE22004\\Desktop\\\\demo.csv\")\n",
        "print(b.to_string())"
      ]
    },
    {
      "cell_type": "code",
      "execution_count": null,
      "id": "b563b67a",
      "metadata": {
        "id": "b563b67a",
        "outputId": "e8f04a4e-ec2e-4533-bc8f-097dcedb5d46"
      },
      "outputs": [
        {
          "name": "stdout",
          "output_type": "stream",
          "text": [
            "   s.no  name  age grade\n",
            "2   3.0   fsf    3     b\n",
            "4   5.0  assa   20     c\n"
          ]
        }
      ],
      "source": [
        "import pandas as pd\n",
        "a=pd.read_csv(\"C:\\\\Users\\CSE22004\\Documents\\koushik\\\\koushik.csv.csv\")\n",
        "b=pd.DataFrame(a)\n",
        "print(b.loc[[2,4]])"
      ]
    },
    {
      "cell_type": "code",
      "execution_count": null,
      "id": "a062f41c",
      "metadata": {
        "id": "a062f41c",
        "outputId": "98c20db3-408f-42cf-979c-058dd90ef56e"
      },
      "outputs": [
        {
          "name": "stdout",
          "output_type": "stream",
          "text": [
            "1    19\n",
            "2     3\n",
            "3    19\n",
            "4    20\n",
            "5    17\n",
            "6    18\n",
            "Name: age, dtype: int64\n"
          ]
        }
      ],
      "source": [
        "import pandas as pd\n",
        "a=pd.read_csv(\"C:\\\\Users\\CSE22004\\Documents\\koushik\\\\koushik.csv.csv\")\n",
        "b=pd.DataFrame(a)\n",
        "print(b.loc[[1]] [\"age\"])"
      ]
    },
    {
      "cell_type": "code",
      "execution_count": null,
      "id": "2638f24f",
      "metadata": {
        "id": "2638f24f",
        "outputId": "84d6f896-a1b5-4850-a984-5667b63f7303"
      },
      "outputs": [
        {
          "name": "stdout",
          "output_type": "stream",
          "text": [
            "   s.no     name  age grade\n",
            "0   NaN  koushik   18     a\n",
            "1   2.0    kiran   19     a\n",
            "3   4.0     ddad   19     b\n",
            "6   7.0      fsd   18     b\n"
          ]
        }
      ],
      "source": [
        "import pandas as pd\n",
        "a=pd.read_csv(\"C:\\\\Users\\CSE22004\\Documents\\koushik\\\\koushik.csv.csv\")\n",
        "b=pd.DataFrame(a)\n",
        "print(b.loc[(b[\"age\"]==18) | (b[\"age\"]==19)])"
      ]
    },
    {
      "cell_type": "code",
      "execution_count": null,
      "id": "b5ee2c8d",
      "metadata": {
        "id": "b5ee2c8d",
        "outputId": "634e7310-0171-44cc-916d-20efaacc4166"
      },
      "outputs": [
        {
          "name": "stdout",
          "output_type": "stream",
          "text": [
            "3 14 74\n"
          ]
        }
      ],
      "source": [
        "f=open(\"C:\\\\Users\\CSE22004\\Desktop\\\\module.txt\",\"r\")\n",
        "lines=0\n",
        "words=0\n",
        "letters=0\n",
        "for x in f.readlines():\n",
        "    lines=lines+1\n",
        "    words=words+len(x.split())\n",
        "    letters=letters+len(x.strip(\"\\n\"))\n",
        "print(lines,words,letters)"
      ]
    },
    {
      "cell_type": "code",
      "execution_count": null,
      "id": "71460427",
      "metadata": {
        "id": "71460427",
        "outputId": "a5c45b83-7ede-4aec-d06a-f2440d5c6b38"
      },
      "outputs": [
        {
          "name": "stdout",
          "output_type": "stream",
          "text": [
            "lines 3\n",
            "words 14\n",
            "letters 74\n"
          ]
        }
      ],
      "source": [
        "f=open(\"C:\\\\Users\\CSE22004\\Desktop\\\\module.txt\",\"r\")\n",
        "lines=0\n",
        "words=0\n",
        "letters=0\n",
        "for x in f.readlines():\n",
        "    lines=lines+1\n",
        "    words=words+len(x.split())\n",
        "    letters=letters+len(x.strip())\n",
        "print(\"lines\",lines)\n",
        "print(\"words\",words)\n",
        "print(\"letters\",letters)"
      ]
    },
    {
      "cell_type": "code",
      "execution_count": null,
      "id": "f986879f",
      "metadata": {
        "id": "f986879f",
        "outputId": "11a4e573-ddb1-481c-d7a6-b8bfccd090d0"
      },
      "outputs": [
        {
          "name": "stdout",
          "output_type": "stream",
          "text": [
            "24\n",
            "135\n"
          ]
        }
      ],
      "source": [
        "f=open(\"koushik.txt\",\"w\")\n",
        "f.write(\"12345\")\n",
        "f.close()\n",
        "p=open(\"demo1\",\"w\")\n",
        "y=open(\"demo2\",\"w\")\n",
        "f=open(\"koushik.txt\",\"r\")\n",
        "b=[]\n",
        "for x in f.read():\n",
        "    b.append(int(x))\n",
        "for x in b:\n",
        "    if x%2==0:\n",
        "        p.write(str(x))\n",
        "    else:\n",
        "        y.write(str(x))\n",
        "p.close()\n",
        "y.close()\n",
        "p=open(\"demo1\",\"r\")\n",
        "y=open(\"demo2\",\"r\")\n",
        "print(p.read())\n",
        "print(y.read())\n",
        "        "
      ]
    },
    {
      "cell_type": "markdown",
      "id": "5d82ec57",
      "metadata": {
        "id": "5d82ec57"
      },
      "source": [
        "# PANDAS"
      ]
    },
    {
      "cell_type": "code",
      "execution_count": null,
      "id": "0f116250",
      "metadata": {
        "id": "0f116250",
        "outputId": "985575b7-7982-4fde-8eec-ba36432d8a02"
      },
      "outputs": [
        {
          "name": "stdout",
          "output_type": "stream",
          "text": [
            "       car type\n",
            "0     benz   f1\n",
            "1  ferrari   f2\n",
            "2    aston   f3\n"
          ]
        }
      ],
      "source": [
        "import pandas as pd\n",
        "a={\n",
        "    \"car\":[\"benz\",\"ferrari\",\"aston\"],\n",
        "    \"type\":[\"f1\",\"f2\",\"f3\"]\n",
        "}\n",
        "b=pd.DataFrame(a)\n",
        "print(b)"
      ]
    },
    {
      "cell_type": "code",
      "execution_count": null,
      "id": "aea7661e",
      "metadata": {
        "id": "aea7661e",
        "outputId": "cafffbad-fc25-4c58-9dd4-dd89786bdf84"
      },
      "outputs": [
        {
          "name": "stdout",
          "output_type": "stream",
          "text": [
            "1.3.4\n"
          ]
        }
      ],
      "source": [
        "import pandas as pd\n",
        "print(pd.__version__)"
      ]
    },
    {
      "cell_type": "code",
      "execution_count": null,
      "id": "8476a24b",
      "metadata": {
        "id": "8476a24b",
        "outputId": "f93a8584-6687-4f35-b899-1806b9955ddc"
      },
      "outputs": [
        {
          "name": "stdout",
          "output_type": "stream",
          "text": [
            "0    1\n",
            "1    2\n",
            "2    3\n",
            "3    4\n",
            "4    5\n",
            "dtype: int64\n"
          ]
        }
      ],
      "source": [
        "import pandas as pd\n",
        "a=[1,2,3,4,5]\n",
        "b=pd.Series(a)\n",
        "print(b)"
      ]
    },
    {
      "cell_type": "code",
      "execution_count": null,
      "id": "c946d0e6",
      "metadata": {
        "id": "c946d0e6",
        "outputId": "d2601149-d734-41b9-a12f-4b7be38ed318"
      },
      "outputs": [
        {
          "name": "stdout",
          "output_type": "stream",
          "text": [
            "2\n"
          ]
        }
      ],
      "source": [
        "import pandas as pd\n",
        "a=[1,2,3,4,5]\n",
        "b=pd.Series(a)\n",
        "print(b[1])"
      ]
    },
    {
      "cell_type": "code",
      "execution_count": null,
      "id": "1b3517be",
      "metadata": {
        "id": "1b3517be",
        "outputId": "ef713033-fd6a-41c1-acac-064257c8c879"
      },
      "outputs": [
        {
          "name": "stdout",
          "output_type": "stream",
          "text": [
            "a    1\n",
            "b    2\n",
            "c    3\n",
            "d    4\n",
            "e    5\n",
            "dtype: int64\n"
          ]
        }
      ],
      "source": [
        "import pandas as pd\n",
        "a=[1,2,3,4,5]\n",
        "b=pd.Series(a,index=[\"a\",\"b\",\"c\",\"d\",\"e\"])\n",
        "print(b)"
      ]
    },
    {
      "cell_type": "code",
      "execution_count": null,
      "id": "2233bc16",
      "metadata": {
        "id": "2233bc16",
        "outputId": "ddee63d0-9e05-4793-8d75-ae4fd9a7fc69"
      },
      "outputs": [
        {
          "name": "stdout",
          "output_type": "stream",
          "text": [
            "      name  age\n",
            "0  koushik   18\n",
            "1    kiran   19\n",
            "2      xyz   20\n"
          ]
        }
      ],
      "source": [
        "import pandas as pd\n",
        "a={\n",
        "    \"name\":[\"koushik\",\"kiran\",\"xyz\"],\n",
        "    \"age\":[18,19,20]\n",
        "}\n",
        "b=pd.DataFrame(a)\n",
        "print(b)"
      ]
    },
    {
      "cell_type": "code",
      "execution_count": null,
      "id": "67077296",
      "metadata": {
        "id": "67077296",
        "outputId": "1a23f3ed-ef2f-47aa-9feb-7b4e7dca78dd"
      },
      "outputs": [
        {
          "name": "stdout",
          "output_type": "stream",
          "text": [
            "      name  age\n",
            "x  koushik   18\n",
            "y    kiran   19\n",
            "z      xyz   20\n"
          ]
        }
      ],
      "source": [
        "import pandas as pd\n",
        "a={\n",
        "    \"name\":[\"koushik\",\"kiran\",\"xyz\"],\n",
        "    \"age\":[18,19,20]\n",
        "}\n",
        "b=pd.DataFrame(a,index=[\"x\",\"y\",\"z\"])\n",
        "print(b)"
      ]
    },
    {
      "cell_type": "code",
      "execution_count": null,
      "id": "e0967356",
      "metadata": {
        "id": "e0967356",
        "outputId": "5ad589c1-ef15-4178-978e-2b25fd33909d"
      },
      "outputs": [
        {
          "name": "stdout",
          "output_type": "stream",
          "text": [
            "      name  age\n",
            "0  koushik   18\n",
            "1    kiran   19\n",
            "2      xyz   20\n",
            "name    koushik\n",
            "age          18\n",
            "Name: 0, dtype: object\n"
          ]
        }
      ],
      "source": [
        "import pandas as pd\n",
        "a={\n",
        "    \"name\":[\"koushik\",\"kiran\",\"xyz\"],\n",
        "    \"age\":[18,19,20]\n",
        "}\n",
        "b=pd.DataFrame(a)\n",
        "print(b)\n",
        "print(b.loc[0])"
      ]
    },
    {
      "cell_type": "code",
      "execution_count": null,
      "id": "cb277fb9",
      "metadata": {
        "id": "cb277fb9",
        "outputId": "3c7bf0e1-1b71-4d44-fbd2-58d24af19410"
      },
      "outputs": [
        {
          "name": "stdout",
          "output_type": "stream",
          "text": [
            "      name  age\n",
            "0  koushik   18\n",
            "1    kiran   19\n"
          ]
        }
      ],
      "source": [
        "import pandas as pd\n",
        "a={\n",
        "    \"name\":[\"koushik\",\"kiran\",\"xyz\"],\n",
        "    \"age\":[18,19,20]\n",
        "}\n",
        "b=pd.DataFrame(a)\n",
        "print(b.loc[[0,1]])### double brackets"
      ]
    },
    {
      "cell_type": "code",
      "execution_count": null,
      "id": "b2031aca",
      "metadata": {
        "id": "b2031aca"
      },
      "outputs": [],
      "source": [
        "import pandas as pd\n",
        "a={\n",
        "    \"name\":[\"koushik\",\"kiran\",\"xyz\"],\n",
        "    \"age\":[18,19,20]\n",
        "}\n",
        "b=pd.DataFrame(a)\n",
        "f=open(\"koushik.csv\",\"w\")\n",
        "f.write(b)\n",
        "f.close()\n",
        "f=open(\"koushik.csv\",\"r\")\n",
        "print(f.read())\n",
        "#ERROR"
      ]
    },
    {
      "cell_type": "code",
      "execution_count": null,
      "id": "65daedee",
      "metadata": {
        "id": "65daedee",
        "outputId": "81a233de-0433-4f2a-8b4c-35935de2f118"
      },
      "outputs": [
        {
          "name": "stdout",
          "output_type": "stream",
          "text": [
            "   s.no     name  age\n",
            "0     1  koushik   18\n",
            "1     2    kiran   19\n"
          ]
        }
      ],
      "source": [
        "import pandas as pd\n",
        "b=pd.read_csv(\"C:\\\\Users\\CSE22004\\Desktop\\\\demo.csv\")\n",
        "print(b.to_string())#to string prints entire data frame\n",
        "#print(b)#this may not print entire data frame if it is too large"
      ]
    },
    {
      "cell_type": "code",
      "execution_count": null,
      "id": "84b2382b",
      "metadata": {
        "id": "84b2382b",
        "outputId": "ab50d80b-fd55-42cd-8283-bbf5180b5370"
      },
      "outputs": [
        {
          "name": "stdout",
          "output_type": "stream",
          "text": [
            "60\n",
            "1000\n"
          ]
        }
      ],
      "source": [
        "import pandas as pd\n",
        "print(pd.options.display.max_rows)\n",
        "pd.options.display.max_rows=1000\n",
        "print(pd.options.display.max_rows)"
      ]
    },
    {
      "cell_type": "code",
      "execution_count": null,
      "id": "8abfe143",
      "metadata": {
        "id": "8abfe143",
        "outputId": "d6d8b526-7f35-4e60-e5a3-bca5243cd1a6"
      },
      "outputs": [
        {
          "name": "stdout",
          "output_type": "stream",
          "text": [
            "      name  age\n",
            "1  koushik   18\n",
            "2        x   19\n",
            "3        y   20\n",
            "4        z   21\n",
            "      name  age\n",
            "1  koushik   18\n",
            "2        x   19\n",
            "3        y   20\n",
            "4        z   21\n",
            "1000\n"
          ]
        }
      ],
      "source": [
        "import pandas as pd\n",
        "a={\n",
        "    \"name\":[\"koushik\",\"x\",\"y\",\"z\"],\n",
        "    \"age\":[18,19,20,21]\n",
        "}\n",
        "b=pd.DataFrame(a,index=[1,2,3,4])\n",
        "print(b.head(5))#heads display the starting rows of a file\n",
        "print(b.tail(5))\n",
        "print(pd.options.display.max_rows)"
      ]
    },
    {
      "cell_type": "code",
      "execution_count": null,
      "id": "5e86fc8c",
      "metadata": {
        "id": "5e86fc8c",
        "outputId": "951a61e0-dfc7-4ff0-b77a-8920d7102897"
      },
      "outputs": [
        {
          "name": "stdout",
          "output_type": "stream",
          "text": [
            "name     z\n",
            "age     21\n",
            "Name: 4, dtype: object\n",
            "3\n"
          ]
        }
      ],
      "source": [
        "import pandas as pd \n",
        "a={\n",
        "    \"name\":[\"koushik\",\"x\",\"y\",\"z\"],\n",
        "    \"age\":[18,19,20,21]\n",
        "}\n",
        "b=pd.DataFrame(a,index=[1,2,3,4])\n",
        "print(b.loc[4])\n",
        "b=[2,3,4,5]\n",
        "c=pd.Series(b,index=[\"x\",\"y\",\"z\",\"a\"])\n",
        "print(c[\"y\"])"
      ]
    },
    {
      "cell_type": "code",
      "execution_count": null,
      "id": "cc29215a",
      "metadata": {
        "id": "cc29215a",
        "outputId": "2cd7e965-0c1c-47f5-d172-407b3100d2ad"
      },
      "outputs": [
        {
          "name": "stdout",
          "output_type": "stream",
          "text": [
            "<class 'pandas.core.frame.DataFrame'>\n",
            "RangeIndex: 4 entries, 0 to 3\n",
            "Data columns (total 2 columns):\n",
            " #   Column  Non-Null Count  Dtype \n",
            "---  ------  --------------  ----- \n",
            " 0   name    4 non-null      object\n",
            " 1   age     4 non-null      int64 \n",
            "dtypes: int64(1), object(1)\n",
            "memory usage: 192.0+ bytes\n",
            "None\n"
          ]
        }
      ],
      "source": [
        "import pandas as pd \n",
        "a={\n",
        "    \"name\":[\"koushik\",\"x\",\"y\",\"z\"],\n",
        "    \"age\":[18,19,20,21]\n",
        "}\n",
        "b=pd.DataFrame(a)\n",
        "print(b.info())"
      ]
    },
    {
      "cell_type": "code",
      "execution_count": null,
      "id": "241706dd",
      "metadata": {
        "id": "241706dd",
        "outputId": "b64473e7-fb26-421f-fb3b-e99c985e1ab6"
      },
      "outputs": [
        {
          "ename": "FileNotFoundError",
          "evalue": "[Errno 2] No such file or directory: 'C:\\\\Users\\\\CSE22004\\\\Desktop\\\\koushik.csv.csv'",
          "output_type": "error",
          "traceback": [
            "\u001b[1;31m---------------------------------------------------------------------------\u001b[0m",
            "\u001b[1;31mFileNotFoundError\u001b[0m                         Traceback (most recent call last)",
            "\u001b[1;32m~\\AppData\\Local\\Temp/ipykernel_692/216238256.py\u001b[0m in \u001b[0;36m<module>\u001b[1;34m\u001b[0m\n\u001b[0;32m      1\u001b[0m \u001b[1;32mimport\u001b[0m \u001b[0mpandas\u001b[0m \u001b[1;32mas\u001b[0m \u001b[0mpd\u001b[0m\u001b[1;33m\u001b[0m\u001b[1;33m\u001b[0m\u001b[0m\n\u001b[1;32m----> 2\u001b[1;33m \u001b[0ma\u001b[0m\u001b[1;33m=\u001b[0m\u001b[0mpd\u001b[0m\u001b[1;33m.\u001b[0m\u001b[0mread_csv\u001b[0m\u001b[1;33m(\u001b[0m\u001b[1;34m\"C:\\\\Users\\CSE22004\\Desktop\\\\koushik.csv.csv\"\u001b[0m\u001b[1;33m)\u001b[0m\u001b[1;33m\u001b[0m\u001b[1;33m\u001b[0m\u001b[0m\n\u001b[0m\u001b[0;32m      3\u001b[0m \u001b[0mprint\u001b[0m\u001b[1;33m(\u001b[0m\u001b[0ma\u001b[0m\u001b[1;33m.\u001b[0m\u001b[0mloc\u001b[0m\u001b[1;33m[\u001b[0m\u001b[1;36m2\u001b[0m\u001b[1;33m:\u001b[0m\u001b[1;36m5\u001b[0m\u001b[1;33m,\u001b[0m\u001b[1;33m[\u001b[0m\u001b[1;34m\"name\"\u001b[0m\u001b[1;33m]\u001b[0m\u001b[1;33m]\u001b[0m\u001b[1;33m)\u001b[0m\u001b[1;31m#by using location\u001b[0m\u001b[1;33m\u001b[0m\u001b[1;33m\u001b[0m\u001b[0m\n\u001b[0;32m      4\u001b[0m \u001b[0mprint\u001b[0m\u001b[1;33m(\u001b[0m\u001b[0ma\u001b[0m\u001b[1;33m[\u001b[0m\u001b[1;36m2\u001b[0m\u001b[1;33m:\u001b[0m\u001b[1;36m5\u001b[0m\u001b[1;33m]\u001b[0m \u001b[1;33m[\u001b[0m\u001b[1;33m[\u001b[0m\u001b[1;34m\"name\"\u001b[0m\u001b[1;33m]\u001b[0m\u001b[1;33m]\u001b[0m\u001b[1;33m)\u001b[0m\u001b[1;31m#normal call\u001b[0m\u001b[1;33m\u001b[0m\u001b[1;33m\u001b[0m\u001b[0m\n",
            "\u001b[1;32mE:\\Om_N_oM\\lib\\site-packages\\pandas\\util\\_decorators.py\u001b[0m in \u001b[0;36mwrapper\u001b[1;34m(*args, **kwargs)\u001b[0m\n\u001b[0;32m    309\u001b[0m                     \u001b[0mstacklevel\u001b[0m\u001b[1;33m=\u001b[0m\u001b[0mstacklevel\u001b[0m\u001b[1;33m,\u001b[0m\u001b[1;33m\u001b[0m\u001b[1;33m\u001b[0m\u001b[0m\n\u001b[0;32m    310\u001b[0m                 )\n\u001b[1;32m--> 311\u001b[1;33m             \u001b[1;32mreturn\u001b[0m \u001b[0mfunc\u001b[0m\u001b[1;33m(\u001b[0m\u001b[1;33m*\u001b[0m\u001b[0margs\u001b[0m\u001b[1;33m,\u001b[0m \u001b[1;33m**\u001b[0m\u001b[0mkwargs\u001b[0m\u001b[1;33m)\u001b[0m\u001b[1;33m\u001b[0m\u001b[1;33m\u001b[0m\u001b[0m\n\u001b[0m\u001b[0;32m    312\u001b[0m \u001b[1;33m\u001b[0m\u001b[0m\n\u001b[0;32m    313\u001b[0m         \u001b[1;32mreturn\u001b[0m \u001b[0mwrapper\u001b[0m\u001b[1;33m\u001b[0m\u001b[1;33m\u001b[0m\u001b[0m\n",
            "\u001b[1;32mE:\\Om_N_oM\\lib\\site-packages\\pandas\\io\\parsers\\readers.py\u001b[0m in \u001b[0;36mread_csv\u001b[1;34m(filepath_or_buffer, sep, delimiter, header, names, index_col, usecols, squeeze, prefix, mangle_dupe_cols, dtype, engine, converters, true_values, false_values, skipinitialspace, skiprows, skipfooter, nrows, na_values, keep_default_na, na_filter, verbose, skip_blank_lines, parse_dates, infer_datetime_format, keep_date_col, date_parser, dayfirst, cache_dates, iterator, chunksize, compression, thousands, decimal, lineterminator, quotechar, quoting, doublequote, escapechar, comment, encoding, encoding_errors, dialect, error_bad_lines, warn_bad_lines, on_bad_lines, delim_whitespace, low_memory, memory_map, float_precision, storage_options)\u001b[0m\n\u001b[0;32m    584\u001b[0m     \u001b[0mkwds\u001b[0m\u001b[1;33m.\u001b[0m\u001b[0mupdate\u001b[0m\u001b[1;33m(\u001b[0m\u001b[0mkwds_defaults\u001b[0m\u001b[1;33m)\u001b[0m\u001b[1;33m\u001b[0m\u001b[1;33m\u001b[0m\u001b[0m\n\u001b[0;32m    585\u001b[0m \u001b[1;33m\u001b[0m\u001b[0m\n\u001b[1;32m--> 586\u001b[1;33m     \u001b[1;32mreturn\u001b[0m \u001b[0m_read\u001b[0m\u001b[1;33m(\u001b[0m\u001b[0mfilepath_or_buffer\u001b[0m\u001b[1;33m,\u001b[0m \u001b[0mkwds\u001b[0m\u001b[1;33m)\u001b[0m\u001b[1;33m\u001b[0m\u001b[1;33m\u001b[0m\u001b[0m\n\u001b[0m\u001b[0;32m    587\u001b[0m \u001b[1;33m\u001b[0m\u001b[0m\n\u001b[0;32m    588\u001b[0m \u001b[1;33m\u001b[0m\u001b[0m\n",
            "\u001b[1;32mE:\\Om_N_oM\\lib\\site-packages\\pandas\\io\\parsers\\readers.py\u001b[0m in \u001b[0;36m_read\u001b[1;34m(filepath_or_buffer, kwds)\u001b[0m\n\u001b[0;32m    480\u001b[0m \u001b[1;33m\u001b[0m\u001b[0m\n\u001b[0;32m    481\u001b[0m     \u001b[1;31m# Create the parser.\u001b[0m\u001b[1;33m\u001b[0m\u001b[1;33m\u001b[0m\u001b[0m\n\u001b[1;32m--> 482\u001b[1;33m     \u001b[0mparser\u001b[0m \u001b[1;33m=\u001b[0m \u001b[0mTextFileReader\u001b[0m\u001b[1;33m(\u001b[0m\u001b[0mfilepath_or_buffer\u001b[0m\u001b[1;33m,\u001b[0m \u001b[1;33m**\u001b[0m\u001b[0mkwds\u001b[0m\u001b[1;33m)\u001b[0m\u001b[1;33m\u001b[0m\u001b[1;33m\u001b[0m\u001b[0m\n\u001b[0m\u001b[0;32m    483\u001b[0m \u001b[1;33m\u001b[0m\u001b[0m\n\u001b[0;32m    484\u001b[0m     \u001b[1;32mif\u001b[0m \u001b[0mchunksize\u001b[0m \u001b[1;32mor\u001b[0m \u001b[0miterator\u001b[0m\u001b[1;33m:\u001b[0m\u001b[1;33m\u001b[0m\u001b[1;33m\u001b[0m\u001b[0m\n",
            "\u001b[1;32mE:\\Om_N_oM\\lib\\site-packages\\pandas\\io\\parsers\\readers.py\u001b[0m in \u001b[0;36m__init__\u001b[1;34m(self, f, engine, **kwds)\u001b[0m\n\u001b[0;32m    809\u001b[0m             \u001b[0mself\u001b[0m\u001b[1;33m.\u001b[0m\u001b[0moptions\u001b[0m\u001b[1;33m[\u001b[0m\u001b[1;34m\"has_index_names\"\u001b[0m\u001b[1;33m]\u001b[0m \u001b[1;33m=\u001b[0m \u001b[0mkwds\u001b[0m\u001b[1;33m[\u001b[0m\u001b[1;34m\"has_index_names\"\u001b[0m\u001b[1;33m]\u001b[0m\u001b[1;33m\u001b[0m\u001b[1;33m\u001b[0m\u001b[0m\n\u001b[0;32m    810\u001b[0m \u001b[1;33m\u001b[0m\u001b[0m\n\u001b[1;32m--> 811\u001b[1;33m         \u001b[0mself\u001b[0m\u001b[1;33m.\u001b[0m\u001b[0m_engine\u001b[0m \u001b[1;33m=\u001b[0m \u001b[0mself\u001b[0m\u001b[1;33m.\u001b[0m\u001b[0m_make_engine\u001b[0m\u001b[1;33m(\u001b[0m\u001b[0mself\u001b[0m\u001b[1;33m.\u001b[0m\u001b[0mengine\u001b[0m\u001b[1;33m)\u001b[0m\u001b[1;33m\u001b[0m\u001b[1;33m\u001b[0m\u001b[0m\n\u001b[0m\u001b[0;32m    812\u001b[0m \u001b[1;33m\u001b[0m\u001b[0m\n\u001b[0;32m    813\u001b[0m     \u001b[1;32mdef\u001b[0m \u001b[0mclose\u001b[0m\u001b[1;33m(\u001b[0m\u001b[0mself\u001b[0m\u001b[1;33m)\u001b[0m\u001b[1;33m:\u001b[0m\u001b[1;33m\u001b[0m\u001b[1;33m\u001b[0m\u001b[0m\n",
            "\u001b[1;32mE:\\Om_N_oM\\lib\\site-packages\\pandas\\io\\parsers\\readers.py\u001b[0m in \u001b[0;36m_make_engine\u001b[1;34m(self, engine)\u001b[0m\n\u001b[0;32m   1038\u001b[0m             )\n\u001b[0;32m   1039\u001b[0m         \u001b[1;31m# error: Too many arguments for \"ParserBase\"\u001b[0m\u001b[1;33m\u001b[0m\u001b[1;33m\u001b[0m\u001b[0m\n\u001b[1;32m-> 1040\u001b[1;33m         \u001b[1;32mreturn\u001b[0m \u001b[0mmapping\u001b[0m\u001b[1;33m[\u001b[0m\u001b[0mengine\u001b[0m\u001b[1;33m]\u001b[0m\u001b[1;33m(\u001b[0m\u001b[0mself\u001b[0m\u001b[1;33m.\u001b[0m\u001b[0mf\u001b[0m\u001b[1;33m,\u001b[0m \u001b[1;33m**\u001b[0m\u001b[0mself\u001b[0m\u001b[1;33m.\u001b[0m\u001b[0moptions\u001b[0m\u001b[1;33m)\u001b[0m  \u001b[1;31m# type: ignore[call-arg]\u001b[0m\u001b[1;33m\u001b[0m\u001b[1;33m\u001b[0m\u001b[0m\n\u001b[0m\u001b[0;32m   1041\u001b[0m \u001b[1;33m\u001b[0m\u001b[0m\n\u001b[0;32m   1042\u001b[0m     \u001b[1;32mdef\u001b[0m \u001b[0m_failover_to_python\u001b[0m\u001b[1;33m(\u001b[0m\u001b[0mself\u001b[0m\u001b[1;33m)\u001b[0m\u001b[1;33m:\u001b[0m\u001b[1;33m\u001b[0m\u001b[1;33m\u001b[0m\u001b[0m\n",
            "\u001b[1;32mE:\\Om_N_oM\\lib\\site-packages\\pandas\\io\\parsers\\c_parser_wrapper.py\u001b[0m in \u001b[0;36m__init__\u001b[1;34m(self, src, **kwds)\u001b[0m\n\u001b[0;32m     49\u001b[0m \u001b[1;33m\u001b[0m\u001b[0m\n\u001b[0;32m     50\u001b[0m         \u001b[1;31m# open handles\u001b[0m\u001b[1;33m\u001b[0m\u001b[1;33m\u001b[0m\u001b[0m\n\u001b[1;32m---> 51\u001b[1;33m         \u001b[0mself\u001b[0m\u001b[1;33m.\u001b[0m\u001b[0m_open_handles\u001b[0m\u001b[1;33m(\u001b[0m\u001b[0msrc\u001b[0m\u001b[1;33m,\u001b[0m \u001b[0mkwds\u001b[0m\u001b[1;33m)\u001b[0m\u001b[1;33m\u001b[0m\u001b[1;33m\u001b[0m\u001b[0m\n\u001b[0m\u001b[0;32m     52\u001b[0m         \u001b[1;32massert\u001b[0m \u001b[0mself\u001b[0m\u001b[1;33m.\u001b[0m\u001b[0mhandles\u001b[0m \u001b[1;32mis\u001b[0m \u001b[1;32mnot\u001b[0m \u001b[1;32mNone\u001b[0m\u001b[1;33m\u001b[0m\u001b[1;33m\u001b[0m\u001b[0m\n\u001b[0;32m     53\u001b[0m \u001b[1;33m\u001b[0m\u001b[0m\n",
            "\u001b[1;32mE:\\Om_N_oM\\lib\\site-packages\\pandas\\io\\parsers\\base_parser.py\u001b[0m in \u001b[0;36m_open_handles\u001b[1;34m(self, src, kwds)\u001b[0m\n\u001b[0;32m    220\u001b[0m         \u001b[0mLet\u001b[0m \u001b[0mthe\u001b[0m \u001b[0mreaders\u001b[0m \u001b[0mopen\u001b[0m \u001b[0mIOHandles\u001b[0m \u001b[0mafter\u001b[0m \u001b[0mthey\u001b[0m \u001b[0mare\u001b[0m \u001b[0mdone\u001b[0m \u001b[1;32mwith\u001b[0m \u001b[0mtheir\u001b[0m \u001b[0mpotential\u001b[0m \u001b[0mraises\u001b[0m\u001b[1;33m.\u001b[0m\u001b[1;33m\u001b[0m\u001b[1;33m\u001b[0m\u001b[0m\n\u001b[0;32m    221\u001b[0m         \"\"\"\n\u001b[1;32m--> 222\u001b[1;33m         self.handles = get_handle(\n\u001b[0m\u001b[0;32m    223\u001b[0m             \u001b[0msrc\u001b[0m\u001b[1;33m,\u001b[0m\u001b[1;33m\u001b[0m\u001b[1;33m\u001b[0m\u001b[0m\n\u001b[0;32m    224\u001b[0m             \u001b[1;34m\"r\"\u001b[0m\u001b[1;33m,\u001b[0m\u001b[1;33m\u001b[0m\u001b[1;33m\u001b[0m\u001b[0m\n",
            "\u001b[1;32mE:\\Om_N_oM\\lib\\site-packages\\pandas\\io\\common.py\u001b[0m in \u001b[0;36mget_handle\u001b[1;34m(path_or_buf, mode, encoding, compression, memory_map, is_text, errors, storage_options)\u001b[0m\n\u001b[0;32m    700\u001b[0m         \u001b[1;32mif\u001b[0m \u001b[0mioargs\u001b[0m\u001b[1;33m.\u001b[0m\u001b[0mencoding\u001b[0m \u001b[1;32mand\u001b[0m \u001b[1;34m\"b\"\u001b[0m \u001b[1;32mnot\u001b[0m \u001b[1;32min\u001b[0m \u001b[0mioargs\u001b[0m\u001b[1;33m.\u001b[0m\u001b[0mmode\u001b[0m\u001b[1;33m:\u001b[0m\u001b[1;33m\u001b[0m\u001b[1;33m\u001b[0m\u001b[0m\n\u001b[0;32m    701\u001b[0m             \u001b[1;31m# Encoding\u001b[0m\u001b[1;33m\u001b[0m\u001b[1;33m\u001b[0m\u001b[0m\n\u001b[1;32m--> 702\u001b[1;33m             handle = open(\n\u001b[0m\u001b[0;32m    703\u001b[0m                 \u001b[0mhandle\u001b[0m\u001b[1;33m,\u001b[0m\u001b[1;33m\u001b[0m\u001b[1;33m\u001b[0m\u001b[0m\n\u001b[0;32m    704\u001b[0m                 \u001b[0mioargs\u001b[0m\u001b[1;33m.\u001b[0m\u001b[0mmode\u001b[0m\u001b[1;33m,\u001b[0m\u001b[1;33m\u001b[0m\u001b[1;33m\u001b[0m\u001b[0m\n",
            "\u001b[1;31mFileNotFoundError\u001b[0m: [Errno 2] No such file or directory: 'C:\\\\Users\\\\CSE22004\\\\Desktop\\\\koushik.csv.csv'"
          ]
        }
      ],
      "source": [
        "import pandas as pd\n",
        "a=pd.read_csv(\"C:\\\\Users\\CSE22004\\Desktop\\\\koushik.csv.csv\")\n",
        "print(a.loc[2:5,[\"name\"]])#by using location \n",
        "print(a[2:5] [[\"name\"]])#normal call"
      ]
    },
    {
      "cell_type": "code",
      "execution_count": null,
      "id": "174f7430",
      "metadata": {
        "id": "174f7430",
        "outputId": "3aa92402-8e45-450e-98a0-076bcfd7c72b"
      },
      "outputs": [
        {
          "name": "stdout",
          "output_type": "stream",
          "text": [
            "   s.no   name  age\n",
            "1     2  kiran   19\n",
            "3     4   ddad   19\n"
          ]
        }
      ],
      "source": [
        "import pandas as pd\n",
        "a=pd.read_csv(\"C:\\\\Users\\CSE22004\\Desktop\\\\koushik.csv.csv\")\n",
        "print(a.loc[a[\"age\"]==19])"
      ]
    },
    {
      "cell_type": "code",
      "execution_count": null,
      "id": "25c9b6ee",
      "metadata": {
        "id": "25c9b6ee",
        "outputId": "e1305adf-dde7-4a93-c157-5e20dca9800f"
      },
      "outputs": [
        {
          "name": "stdout",
          "output_type": "stream",
          "text": [
            "[   s.no     name  age\n",
            "0     1  koushik   18\n",
            "1     2    kiran   19\n",
            "3     4     ddad   19\n",
            "6     7      fsd   18]\n"
          ]
        }
      ],
      "source": [
        "import pandas as pd\n",
        "a=pd.read_csv(\"C:\\\\Users\\CSE22004\\Desktop\\\\koushik.csv.csv\")\n",
        "print([a.loc[(a[\"age\"]==18) | (a[\"age\"]==19)]])"
      ]
    },
    {
      "cell_type": "code",
      "execution_count": null,
      "id": "4a2634db",
      "metadata": {
        "id": "4a2634db",
        "outputId": "947c68ea-b3e9-44bb-8b0b-64c0883d2961"
      },
      "outputs": [
        {
          "name": "stdout",
          "output_type": "stream",
          "text": [
            "   s.no     name  age grade\n",
            "0     1  koushik   18     a\n",
            "1     2    kiran   19     a\n",
            "2     3      fsf    3     b\n",
            "3     4     ddad   19     b\n",
            "5     6     daad   17     a\n",
            "6     7      fsd   18     b\n"
          ]
        }
      ],
      "source": [
        "import pandas as pd\n",
        "a=pd.read_csv(\"C:\\\\Users\\CSE22004\\Desktop\\\\koushik.csv.csv\")\n",
        "print(a.loc[a[\"grade\"].isin([\"a\",\"b\"])])#is used to recognize char "
      ]
    },
    {
      "cell_type": "code",
      "execution_count": null,
      "id": "c1da209f",
      "metadata": {
        "id": "c1da209f",
        "outputId": "7d1260f4-7362-41a2-e361-d0c3009c473d"
      },
      "outputs": [
        {
          "name": "stdout",
          "output_type": "stream",
          "text": [
            "   s.no   name  age grade\n",
            "1   2.0  kiran   19     a\n",
            "2   3.0    fsf    3     b\n",
            "3   4.0   ddad   19     b\n",
            "4   5.0   assa   20     c\n",
            "5   6.0   daad   17     a\n",
            "6   7.0    fsd   18     b\n"
          ]
        }
      ],
      "source": [
        "import pandas as pd\n",
        "a=pd.read_csv(\"C:\\\\Users\\CSE22004\\Desktop\\\\koushik.csv.csv\")\n",
        "b=a.dropna()#is used to remove null values\n",
        "print(b.to_string())"
      ]
    },
    {
      "cell_type": "code",
      "execution_count": null,
      "id": "b6a4cd68",
      "metadata": {
        "id": "b6a4cd68",
        "outputId": "eed93bed-ccbb-421e-8653-5183e13e53cd"
      },
      "outputs": [
        {
          "name": "stdout",
          "output_type": "stream",
          "text": [
            "   s.no     name  age grade\n",
            "0   1.0  koushik   18     a\n",
            "1   2.0    kiran   19     a\n",
            "2   3.0      fsf    3     b\n",
            "3   4.0     ddad   19     b\n",
            "4   5.0     assa   20     c\n",
            "5   6.0     daad   17     a\n",
            "6   7.0      fsd   18     b\n"
          ]
        }
      ],
      "source": [
        "import pandas as pd\n",
        "a=pd.read_csv(\"C:\\\\Users\\CSE22004\\Desktop\\\\koushik.csv.csv\")\n",
        "a.fillna(1,inplace=True)\n",
        "print(a)"
      ]
    },
    {
      "cell_type": "code",
      "execution_count": null,
      "id": "19ee305a",
      "metadata": {
        "id": "19ee305a",
        "outputId": "710499a1-cc9f-44c1-dd7f-30d1ff196b09"
      },
      "outputs": [
        {
          "name": "stdout",
          "output_type": "stream",
          "text": [
            "   s.no     name  age\n",
            "0     1  koushik   18\n",
            "1     2    kiran   19\n"
          ]
        }
      ],
      "source": [
        "import pandas as pd\n",
        "b=pd.read_csv(\"C:\\\\Users\\CSE22004\\Desktop\\\\demo.csv\")\n",
        "print(b.to_string())#to string prints entire data frame\n",
        "#print(b)#this may not print entire data frame if it is too large"
      ]
    },
    {
      "cell_type": "code",
      "execution_count": null,
      "id": "df6ebcf8",
      "metadata": {
        "id": "df6ebcf8",
        "outputId": "30e75e50-023b-4dfb-c2da-aae962f84e6f"
      },
      "outputs": [
        {
          "name": "stdout",
          "output_type": "stream",
          "text": [
            "        NAME   age GENDER        DOB  ADDRESS HAVING PASSPORT HAVING LICENCE\n",
            "0   deekshit  18.0      M  18-Jun-04     vskp             yes             no\n",
            "1    koushik  19.0      M  19-Jun-04     vskp             yes             no\n",
            "2      kiran  19.0      M  20-Jun-04      hyd             yes            yes\n",
            "3     chaitu  19.0      M  21-Jun-04   guntur              no            yes\n",
            "4      surya  20.0      M  22-Jun-04     vskp             yes            yes\n",
            "5     murthy  17.0      M  23-Jun-04     bngl             yes            yes\n",
            "6     saketh  18.0      M  24-Jun-04     vskp             yes             no\n",
            "7       yesh  17.0      M  25-Jun-04      vzm              no            yes\n",
            "8          x  19.0      F  26-Jun-04      skl             yes            yes\n",
            "9          x  20.0      F  27-Jun-04   mumbai             yes            yes\n",
            "10         z  19.0      F  28-Jun-04  kolkata             yes            yes\n",
            "11         a  17.0      F  29-Jun-04    delhi              no             no\n",
            "12         b  20.0      F  30-Jun-04     vskp             yes            yes\n",
            "13        c   19.0      M  01-Jul-04      vzm              no            yes\n",
            "14         u  18.0      M  02-Jul-04   indore             yes             no\n",
            "15         v  19.0      M  03-Jul-04     vskp             yes            yes\n",
            "16         w  18.0      F  04-Jul-04      vzm             yes            yes\n",
            "17         i  19.0      F  05-Jul-04      skl             yes            yes\n",
            "18         j  18.0      F  06-Jul-04      hyd              no             no\n",
            "19         k  18.0      M  07-Jul-04   guntur             yes            yes\n",
            "20         l   NaN    NaN        NaN      NaN             NaN            NaN\n"
          ]
        }
      ],
      "source": [
        "import pandas as pd\n",
        "a=pd.read_csv(\"C:\\\\Users\\CSE22004\\Documents\\koushik\\\\passport.csv\")\n",
        "b=pd.DataFrame(a)\n",
        "print(b)"
      ]
    },
    {
      "cell_type": "code",
      "execution_count": null,
      "id": "4764529f",
      "metadata": {
        "id": "4764529f",
        "outputId": "7f05f2b7-6e84-41d6-d313-5002ce99ea14"
      },
      "outputs": [
        {
          "name": "stdout",
          "output_type": "stream",
          "text": [
            "None\n"
          ]
        }
      ],
      "source": [
        "import pandas as pd\n",
        "a=pd.read_csv(\"C:\\\\Users\\CSE22004\\Documents\\koushik\\\\passport.csv\")\n",
        "b=a.drop_duplicates(subset=\"NAME\",keep=\"first\",ignore_index=True,inplace=True)\n",
        "print(b)"
      ]
    },
    {
      "cell_type": "code",
      "execution_count": null,
      "id": "39199333",
      "metadata": {
        "id": "39199333",
        "outputId": "34fca1f6-6994-4399-e159-5e07c25e3d24"
      },
      "outputs": [
        {
          "name": "stdout",
          "output_type": "stream",
          "text": [
            "1.0\n"
          ]
        }
      ],
      "source": [
        "a=\"25/25\"\n",
        "if \"+\" in a:\n",
        "    b=a.replace(\"+\",\" \")\n",
        "elif \"-\" in a:\n",
        "    b=a.replace(\"-\",\" \")\n",
        "elif \"*\" in a:\n",
        "    b=a.replace(\"*\",\" \")\n",
        "elif \"/\" in a:\n",
        "    b=a.replace(\"/\",\" \")\n",
        "c=[]\n",
        "fact=1\n",
        "sub=0\n",
        "div=0\n",
        "for x in b.split():\n",
        "    c.append(int(x))\n",
        "if \"+\" in a:\n",
        "    print(sum(c))\n",
        "elif \"-\" in a:\n",
        "    for x in range(len(c)-1):\n",
        "         sub=sub+(c[x]-c[x+1])\n",
        "    print(sub)\n",
        "elif \"*\" in a:\n",
        "    for x in c:\n",
        "        fact=fact*x\n",
        "    print(fact)\n",
        "elif \"/\" in a:\n",
        "    for x in range(len(c)-1):\n",
        "        div=div+(c[x]/c[x+1])\n",
        "    print(div)\n"
      ]
    },
    {
      "cell_type": "code",
      "execution_count": null,
      "id": "5e5d45e6",
      "metadata": {
        "id": "5e5d45e6"
      },
      "outputs": [],
      "source": [
        "import pandas as pd\n",
        "a=pd.read_csv(\"C:\\\\Users\\CSE22004\\Desktop\\\\occupation.csv\")\n",
        "b=pd.DataFrame(a)\n",
        "for x in (b.loc[[\"doctor\"] & [\"salary\"]]):\n",
        "    print(x)"
      ]
    },
    {
      "cell_type": "code",
      "execution_count": null,
      "id": "fb99601a",
      "metadata": {
        "id": "fb99601a",
        "outputId": "7ce76fa9-0b6f-4633-b016-bdd9082cf1e9"
      },
      "outputs": [
        {
          "name": "stdout",
          "output_type": "stream",
          "text": [
            "      age\n",
            "min  17.0\n",
            "max  20.0\n"
          ]
        }
      ],
      "source": [
        "import pandas as pd\n",
        "a=pd.read_csv(\"C:\\\\Users\\CSE22004\\Documents\\koushik\\\\passport.csv\")\n",
        "b=pd.DataFrame(a)\n",
        "c=a.aggregate({\"age\":[\"min\",\"max\"]})\n",
        "print(c)"
      ]
    },
    {
      "cell_type": "code",
      "execution_count": null,
      "id": "dccc50a3",
      "metadata": {
        "id": "dccc50a3",
        "outputId": "ea4bf2c2-5696-40f4-f979-a094e3acf9d8"
      },
      "outputs": [
        {
          "name": "stdout",
          "output_type": "stream",
          "text": [
            "           age       NUMBERS\n",
            "min       17.0  9.567493e+09\n",
            "max       20.0  9.567493e+09\n",
            "sum      371.0  1.913499e+11\n",
            "average    NaN           NaN\n"
          ]
        }
      ],
      "source": [
        "import pandas as pd\n",
        "a=pd.read_csv(\"C:\\\\Users\\CSE22004\\Documents\\koushik\\\\passport.csv\")\n",
        "b=pd.DataFrame(a)\n",
        "c=a.aggregate({\"age\":[\"min\",\"max\",\"sum\",\"average\"],\"NUMBERS\":[\"min\",\"max\",\"sum\"]})\n",
        "print(c)"
      ]
    },
    {
      "cell_type": "code",
      "execution_count": null,
      "id": "8aa30499",
      "metadata": {
        "scrolled": true,
        "id": "8aa30499",
        "outputId": "f15f3666-b973-405f-d7ca-bec96157dccc"
      },
      "outputs": [
        {
          "name": "stdout",
          "output_type": "stream",
          "text": [
            "              NAME   age GENDER  ADDRESS HAVING PASSPORT HAVING LICENCE  \\\n",
            "DOB                                                                       \n",
            "01-Jul-04       c   19.0      M      vzm              no            yes   \n",
            "02-Jul-04        u  18.0      M   indore             yes             no   \n",
            "03-Jul-04        v  19.0      M     vskp             yes            yes   \n",
            "04-Jul-04        w  18.0      F      vzm             yes            yes   \n",
            "05-Jul-04        i  19.0      F      skl             yes            yes   \n",
            "06-Jul-04        j  18.0      F      hyd              no             no   \n",
            "07-Jul-04        k  18.0      M   guntur             yes            yes   \n",
            "18-Jun-04     None  18.0      M     vskp             yes             no   \n",
            "19-Jun-04  koushik  19.0      M     vskp             yes             no   \n",
            "20-Jun-04    kiran  19.0      M      hyd             yes            yes   \n",
            "21-Jun-04   chaitu  19.0      M   guntur              no            yes   \n",
            "22-Jun-04    surya  20.0      M     vskp             yes            yes   \n",
            "23-Jun-04   murthy  17.0      M     bngl             yes            yes   \n",
            "24-Jun-04   saketh  18.0      M     vskp             yes             no   \n",
            "25-Jun-04     yesh  17.0      M      vzm              no            yes   \n",
            "26-Jun-04        x  19.0      F      skl             yes            yes   \n",
            "27-Jun-04        x  20.0      F   mumbai             yes            yes   \n",
            "28-Jun-04        z  19.0      F  kolkata             yes            yes   \n",
            "29-Jun-04        a  17.0      F    delhi              no             no   \n",
            "30-Jun-04        b  20.0      F     vskp             yes            yes   \n",
            "\n",
            "                NUMBERS  \n",
            "DOB                      \n",
            "01-Jul-04  9.567493e+09  \n",
            "02-Jul-04  9.567493e+09  \n",
            "03-Jul-04  9.567493e+09  \n",
            "04-Jul-04  9.567493e+09  \n",
            "05-Jul-04  9.567493e+09  \n",
            "06-Jul-04  9.567493e+09  \n",
            "07-Jul-04  9.567493e+09  \n",
            "18-Jun-04  9.567493e+09  \n",
            "19-Jun-04  9.567493e+09  \n",
            "20-Jun-04  9.567493e+09  \n",
            "21-Jun-04  9.567493e+09  \n",
            "22-Jun-04  9.567493e+09  \n",
            "23-Jun-04  9.567493e+09  \n",
            "24-Jun-04  9.567493e+09  \n",
            "25-Jun-04  9.567493e+09  \n",
            "26-Jun-04  9.567493e+09  \n",
            "27-Jun-04  9.567493e+09  \n",
            "28-Jun-04  9.567493e+09  \n",
            "29-Jun-04  9.567493e+09  \n",
            "30-Jun-04  9.567493e+09  \n",
            "{'a': [11], 'b': [12], 'c ': [13], 'chaitu': [3], 'i': [17], 'j': [18], 'k': [19], 'kiran': [2], 'koushik': [1], 'l': [20], 'murthy': [5], 'saketh': [6], 'surya': [4], 'u': [14], 'v': [15], 'w': [16], 'x': [8, 9], 'yesh': [7], 'z': [10]}\n"
          ]
        }
      ],
      "source": [
        "import pandas as pd\n",
        "a=pd.read_csv(\"C:\\\\Users\\CSE22004\\Documents\\koushik\\\\passport.csv\")\n",
        "c=a.groupby(\"DOB\")\n",
        "d=a.groupby(\"NAME\").groups\n",
        "print(c.first())\n",
        "print(d)"
      ]
    },
    {
      "cell_type": "markdown",
      "id": "a08902ba",
      "metadata": {
        "id": "a08902ba"
      },
      "source": [
        "# lambda"
      ]
    },
    {
      "cell_type": "code",
      "execution_count": null,
      "id": "6252efd5",
      "metadata": {
        "id": "6252efd5",
        "outputId": "b5e05256-62d2-4fcb-839a-7181d238d483"
      },
      "outputs": [
        {
          "name": "stdout",
          "output_type": "stream",
          "text": [
            "30\n"
          ]
        }
      ],
      "source": [
        "z=lambda a,b,c:a*b*c\n",
        "print(z(2,3,5))"
      ]
    },
    {
      "cell_type": "code",
      "execution_count": null,
      "id": "4ed83313",
      "metadata": {
        "id": "4ed83313",
        "outputId": "2bcb608c-3c71-48c8-84e7-4ff6fe79b63b"
      },
      "outputs": [
        {
          "name": "stdout",
          "output_type": "stream",
          "text": [
            "['hello', 'this', 'is', 'koushik']\n"
          ]
        }
      ],
      "source": [
        "a=\"hello this is koushik\"\n",
        "print(a.split())"
      ]
    },
    {
      "cell_type": "code",
      "execution_count": null,
      "id": "602917a4",
      "metadata": {
        "id": "602917a4",
        "outputId": "19c99f78-abab-4489-fe4d-eb8afae1933d"
      },
      "outputs": [
        {
          "name": "stdout",
          "output_type": "stream",
          "text": [
            "       NAME\n",
            "0       NaN\n",
            "1   koushik\n",
            "2     kiran\n",
            "3    chaitu\n",
            "4     surya\n",
            "5    murthy\n",
            "6    saketh\n",
            "7      yesh\n",
            "8         x\n",
            "9         x\n",
            "10        z\n",
            "11        a\n",
            "12        b\n",
            "13       c \n",
            "14        u\n",
            "15        v\n",
            "16        w\n",
            "17        i\n",
            "18        j\n",
            "19        k\n",
            "20        l\n"
          ]
        }
      ],
      "source": [
        "import pandas as pd\n",
        "a=pd.read_csv(\"C:\\\\Users\\CSE22004\\Documents\\koushik\\\\passport.csv\")\n",
        "b=pd.DataFrame(a)\n",
        "print(b.loc[0:,[\"NAME\"]])"
      ]
    },
    {
      "cell_type": "code",
      "execution_count": null,
      "id": "09a541c0",
      "metadata": {
        "id": "09a541c0",
        "outputId": "722fe71a-e913-4c85-a5e0-86c0c50600b4"
      },
      "outputs": [
        {
          "name": "stdout",
          "output_type": "stream",
          "text": [
            "['Andhra->Amaravati', 'Madhyapradesh->Bhopal', 'Maharastra->Mumbai']\n"
          ]
        }
      ],
      "source": [
        "d1 = {\"Andhra\": \"Amaravati\", \"Madhyapradesh\" : \"Bhopal\", \"Maharastra\" : \"Mumbai\" }\n",
        "b=[]\n",
        "c=\"\"\n",
        "for x in d1:\n",
        "    c=c+str(x)+\"->\"+str(d1[x])+\" \"\n",
        "for x in c.split():\n",
        "    b.append(x)\n",
        "print(b)\n",
        "    "
      ]
    },
    {
      "cell_type": "code",
      "execution_count": null,
      "id": "f4399322",
      "metadata": {
        "id": "f4399322",
        "outputId": "414ff216-710d-4543-aae0-c880b2b8a218"
      },
      "outputs": [
        {
          "name": "stdout",
          "output_type": "stream",
          "text": [
            "{'B1': {'110065001': 'Ram', '110065002': 'Lakshman'}, 'B2': {'120065001': 'Bharat', '120065002': 'Satrugna'}, 'B3': {'130065001': 'Dhasaradh', '130065002': 'Babu'}}\n"
          ]
        }
      ],
      "source": [
        "classroom={\n",
        "\"B1\":{\"110065001\": \"Ram\", \"110065002\" : \"Lakshman\"},\n",
        "\"B2\":{\"120065001\": \"Bharat\", \"120065002\" : \"Satrugna\"},\n",
        "\"B3\":{\"130065001\": \"Dhasaradh\", \"130065002\" : \"Babu\"}\n",
        "}\n",
        "print(classroom)"
      ]
    },
    {
      "cell_type": "markdown",
      "id": "c387ecbc",
      "metadata": {
        "id": "c387ecbc"
      },
      "source": [
        "# MATPLOTLIB"
      ]
    },
    {
      "cell_type": "code",
      "execution_count": null,
      "id": "5403ffbd",
      "metadata": {
        "id": "5403ffbd",
        "outputId": "bbe49117-f113-4147-d657-aeea6a6c847c"
      },
      "outputs": [
        {
          "data": {
            "image/png": "[encoded data removed]",
            "text/plain": [
              "<Figure size 432x288 with 1 Axes>"
            ]
          },
          "metadata": {
            "needs_background": "light"
          },
          "output_type": "display_data"
        }
      ],
      "source": [
        "import matplotlib.pyplot as mp\n",
        "import numpy as np\n",
        "x=np.array([\"koushik\",\"kiran\",\"deekshit\",\"chaitu\"])\n",
        "y=np.array([18,19,19,17])\n",
        "mp.plot(x,y,marker=\"*\",ls=\"dashed\",color=\"r\",mec=\"b\",mfc=\"k\",ms=20)\n",
        "mp.title(\"AGE OF THE STUDENTS\")\n",
        "mp.xlabel(\"NAMES OF THE STUDENTS\")\n",
        "mp.ylabel(\"AGE OF THE STUDENTS\")\n",
        "mp.grid(color=\"black\",lw=5)\n",
        "mp.show()"
      ]
    },
    {
      "cell_type": "code",
      "execution_count": null,
      "id": "c1004c80",
      "metadata": {
        "id": "c1004c80",
        "outputId": "a2e5c0dc-8610-4bb5-9ccd-684f118343f5"
      },
      "outputs": [
        {
          "data": {
            "image/png": "[encoded data removed]",
            "text/plain": [
              "<Figure size 432x288 with 2 Axes>"
            ]
          },
          "metadata": {
            "needs_background": "light"
          },
          "output_type": "display_data"
        }
      ],
      "source": [
        "import matplotlib.pyplot as mp\n",
        "import numpy as np\n",
        "x=np.array([\"koushik\",\"kiran\",\"deekshit\",\"chaitu\"])\n",
        "y=np.array([1,4,8,4])\n",
        "mp.subplot(1,2,1)\n",
        "mp.plot(x,y,color=\"r\",lw=5,marker=6,mec=\"g\",mfc=\"b\",ls=\"dashed\")\n",
        "#plot 2\n",
        "mp.subplot(1,2,2)\n",
        "mp.plot(y,x,color=\"b\",lw=5,ls=\"dashed\",mfc=\"g\",mec=\"k\")\n",
        "mp.show()"
      ]
    },
    {
      "cell_type": "code",
      "execution_count": null,
      "id": "95a67c06",
      "metadata": {
        "id": "95a67c06",
        "outputId": "0e23c556-5493-43e5-9ff0-a945536d3011"
      },
      "outputs": [
        {
          "data": {
            "text/plain": [
              "<matplotlib.collections.PathCollection at 0x225135ab880>"
            ]
          },
          "execution_count": 11,
          "metadata": {},
          "output_type": "execute_result"
        },
        {
          "data": {
            "image/png": "[encoded data removed]",
            "text/plain": [
              "<Figure size 432x288 with 1 Axes>"
            ]
          },
          "metadata": {
            "needs_background": "light"
          },
          "output_type": "display_data"
        }
      ],
      "source": [
        "import matplotlib.pyplot as mp\n",
        "import numpy as np\n",
        "x=np.array([\"koushik\",\"kiran\",\"deekshit\",\"chaitu\"])\n",
        "y=np.array([1,4,8,4])\n",
        "mp.scatter(x,y,color=\"r\")"
      ]
    },
    {
      "cell_type": "code",
      "execution_count": null,
      "id": "70bac789",
      "metadata": {
        "id": "70bac789",
        "outputId": "8b7bcbaf-ec7c-4308-a2b6-8ab0e2a93c0f"
      },
      "outputs": [
        {
          "data": {
            "image/png": "[encoded data removed]",
            "text/plain": [
              "<Figure size 432x288 with 1 Axes>"
            ]
          },
          "metadata": {
            "needs_background": "light"
          },
          "output_type": "display_data"
        }
      ],
      "source": [
        "import matplotlib.pyplot as mp\n",
        "import numpy as np\n",
        "x=np.array([\"koushik\",\"kiran\",\"deekshit\",\"chaitu\"])\n",
        "y=np.array([1,4,8,4])\n",
        "colors=np.array([0,10,20,30])\n",
        "mp.scatter(x,y,c=colors,cmap=\"viridis\")\n",
        "mp.show()"
      ]
    },
    {
      "cell_type": "code",
      "execution_count": null,
      "id": "fe3fd336",
      "metadata": {
        "id": "fe3fd336",
        "outputId": "5aab4fb5-1159-47fc-fee2-05bc1c150526"
      },
      "outputs": [
        {
          "data": {
            "image/png": "[encoded data removed]",
            "text/plain": [
              "<Figure size 432x288 with 4 Axes>"
            ]
          },
          "metadata": {
            "needs_background": "light"
          },
          "output_type": "display_data"
        }
      ],
      "source": [
        "import matplotlib.pyplot as mp\n",
        "import numpy as np\n",
        "x=np.array([\"koushik\",\"kiran\",\"deekshit\",\"chaitu\"])\n",
        "y=np.array([1,4,8,4])\n",
        "color=np.array([90,40,20,30,])\n",
        "mp.subplot(2,2,1)\n",
        "mp.scatter(x,y,c=color,cmap=\"viridis\")\n",
        "mp.colorbar()\n",
        "mp.subplot(2,2,2)\n",
        "mp.scatter(x,y,c=color,cmap=\"Dark2\")\n",
        "mp.colorbar()\n",
        "mp.show()"
      ]
    },
    {
      "cell_type": "code",
      "execution_count": null,
      "id": "45a4d636",
      "metadata": {
        "id": "45a4d636",
        "outputId": "494ab422-055e-4066-8084-36eb3bd691aa"
      },
      "outputs": [
        {
          "data": {
            "image/png": "[encoded data removed]",
            "text/plain": [
              "<Figure size 432x288 with 1 Axes>"
            ]
          },
          "metadata": {
            "needs_background": "light"
          },
          "output_type": "display_data"
        }
      ],
      "source": [
        "import matplotlib.pyplot as mp\n",
        "import numpy as np\n",
        "x=np.array([\"koushik\",\"kiran\",\"deekshit\",\"chaitu\"])\n",
        "y=np.array([1,4,8,4])\n",
        "#mp.subplot(3,3,1)\n",
        "mp.bar(x,y,color=\"b\")\n",
        "#mp.subplot(3,3,2)\n",
        "mp.barh(x,y,color=\"r\")\n",
        "mp.show()"
      ]
    },
    {
      "cell_type": "code",
      "execution_count": null,
      "id": "845197dc",
      "metadata": {
        "id": "845197dc",
        "outputId": "b2e3c3f0-829e-4871-cf9a-e50a040a9e3d"
      },
      "outputs": [
        {
          "data": {
            "image/png": "[encoded data removed]",
            "text/plain": [
              "<Figure size 432x288 with 2 Axes>"
            ]
          },
          "metadata": {
            "needs_background": "light"
          },
          "output_type": "display_data"
        }
      ],
      "source": [
        "import matplotlib.pyplot as mp\n",
        "import numpy as np\n",
        "x=np.array([\"koushik\",\"kiran\",\"deekshit\",\"chaitu\"])\n",
        "y=np.array([1,4,8,4])\n",
        "mp.subplot(3,3,1)\n",
        "mp.bar(x,y,color=\"b\",width=3)\n",
        "mp.subplot(3,3,2)\n",
        "mp.barh(x,y,color=\"r\",height=5)\n",
        "mp.show()"
      ]
    },
    {
      "cell_type": "code",
      "execution_count": null,
      "id": "8971d118",
      "metadata": {
        "id": "8971d118"
      },
      "outputs": [],
      "source": [
        ""
      ]
    }
  ],
  "metadata": {
    "kernelspec": {
      "display_name": "Python 3 (ipykernel)",
      "language": "python",
      "name": "python3"
    },
    "language_info": {
      "codemirror_mode": {
        "name": "ipython",
        "version": 3
      },
      "file_extension": ".py",
      "mimetype": "text/x-python",
      "name": "python",
      "nbconvert_exporter": "python",
      "pygments_lexer": "ipython3",
      "version": "3.9.7"
    },
    "colab": {
      "name": "Untitled-checkpoint.ipynb",
      "provenance": [],
      "include_colab_link": true
    }
  },
  "nbformat": 4,
  "nbformat_minor": 5
}