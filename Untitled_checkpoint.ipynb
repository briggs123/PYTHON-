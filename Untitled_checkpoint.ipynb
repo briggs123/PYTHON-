{
  "cells": [
    {
      "cell_type": "markdown",
      "metadata": {
        "id": "view-in-github",
        "colab_type": "text"
      },
      "source": [
        "<a href=\"https://colab.research.google.com/github/briggs123/PYTHON-/blob/main/Untitled_checkpoint.ipynb\" target=\"_parent\"><img src=\"https://colab.research.google.com/assets/colab-badge.svg\" alt=\"Open In Colab\"/></a>"
      ]
    },
    {
      "cell_type": "markdown",
      "id": "d0dd3617",
      "metadata": {
        "id": "d0dd3617"
      },
      "source": [
        "### MODULE-1"
      ]
    },
    {
      "cell_type": "code",
      "execution_count": null,
      "id": "086b91b6",
      "metadata": {
        "id": "086b91b6",
        "outputId": "7d3c3321-d06b-4a10-b217-1f982993971e"
      },
      "outputs": [
        {
          "name": "stdout",
          "output_type": "stream",
          "text": [
            "enter the number6\n",
            "it is a palindrome\n"
          ]
        }
      ],
      "source": [
        "a=int(input(\"enter the number\"))\n",
        "rev=0\n",
        "temp=a\n",
        "while temp>0:\n",
        "  rem=temp%10\n",
        "  rev=(rev*10)+rem\n",
        "  temp=temp//10\n",
        "if a==rev:\n",
        "  print(\"it is a palindrome\")\n",
        "else:\n",
        "  print(\"not a palindrome\")"
      ]
    },
    {
      "cell_type": "code",
      "execution_count": null,
      "id": "f175e59a",
      "metadata": {
        "id": "f175e59a",
        "outputId": "1257ecf6-9be2-435f-ffea-cf9ac2eb36cb"
      },
      "outputs": [
        {
          "name": "stdout",
          "output_type": "stream",
          "text": [
            "enter the number6\n",
            "perfect number\n"
          ]
        }
      ],
      "source": [
        "a=int(input(\"enter the number\"))\n",
        "sum=0\n",
        "for i in range(1,a):\n",
        "  if a%i==0:\n",
        "     sum=sum+i\n",
        "if sum==a:\n",
        "  print(\"perfect number\")\n",
        "else:\n",
        "  print(\"not a perfect number\")"
      ]
    },
    {
      "cell_type": "code",
      "execution_count": null,
      "id": "4dcef258",
      "metadata": {
        "id": "4dcef258",
        "outputId": "2915c8de-2a46-4547-de3f-66d72a3c10b3"
      },
      "outputs": [
        {
          "name": "stdout",
          "output_type": "stream",
          "text": [
            "-5\n",
            "-4\n",
            "16.0\n",
            "3.0\n",
            "1.0\n",
            "5.66\n",
            "-4\n"
          ]
        }
      ],
      "source": [
        "import math\n",
        "a=-4.56\n",
        "print(math.floor(a))\n",
        "print(math.ceil(a))\n",
        "print(math.pow(4,2))\n",
        "print(math.sqrt(9))\n",
        "print(math.fmod(10,3))\n",
        "print(math.fabs(-5.66))\n",
        "print(math.trunc(a))\n"
      ]
    },
    {
      "cell_type": "code",
      "execution_count": null,
      "id": "aa81b44d",
      "metadata": {
        "id": "aa81b44d",
        "outputId": "98ea48f7-02a3-4600-ae30-b836d50c2e33"
      },
      "outputs": [
        {
          "name": "stdout",
          "output_type": "stream",
          "text": [
            "enter principal amount5000\n",
            "enter rate of intrest18\n",
            "amount of years5\n",
            "1 year intrest si is 900.0\n",
            "1 year intrest ci is 5900.0\n",
            "2 year intrest si is 1800.0\n",
            "2 year intrest ci is 6961.999999999999\n",
            "3 year intrest si is 2700.0\n",
            "3 year intrest ci is 8215.16\n",
            "4 year intrest si is 3600.0\n",
            "4 year intrest ci is 9693.888799999997\n",
            "5 year intrest si is 4500.0\n",
            "5 year intrest ci is 11438.788783999998\n"
          ]
        }
      ],
      "source": [
        "import math\n",
        "p=int(input(\"enter principal amount\"))\n",
        "r=int(input(\"enter rate of intrest\"))\n",
        "t=int(input(\"amount of years\"))\n",
        "for i in range(1,t+1):\n",
        "    si=(p*i*r)/100\n",
        "    print(i,\"year intrest si is\",si)\n",
        "    ci=p*(math.pow(1+r/100,i))\n",
        "    print(i,\"year intrest ci is\",ci)"
      ]
    },
    {
      "cell_type": "markdown",
      "id": "34c059f3",
      "metadata": {
        "id": "34c059f3"
      },
      "source": [
        "# TUPLE"
      ]
    },
    {
      "cell_type": "code",
      "execution_count": null,
      "id": "7cc46092",
      "metadata": {
        "id": "7cc46092",
        "outputId": "8bf684cf-cbd8-4fa3-93cd-c3aa091c8873"
      },
      "outputs": [
        {
          "name": "stdout",
          "output_type": "stream",
          "text": [
            "['test', 'kiran', 'hello', 'code']\n"
          ]
        }
      ],
      "source": [
        "a=(\"koushik\",\"hello\",\"kiran\")\n",
        "b=list(a)\n",
        "b.append(\"test\")\n",
        "b.insert(2,\"code\")\n",
        "b.remove(\"koushik\")\n",
        "b.sort(reverse=True)\n",
        "print(b)"
      ]
    },
    {
      "cell_type": "code",
      "execution_count": null,
      "id": "b9e8c0b2",
      "metadata": {
        "id": "b9e8c0b2",
        "outputId": "dd206be9-473f-4688-bb9a-a2cb1861bfc5"
      },
      "outputs": [
        {
          "name": "stdout",
          "output_type": "stream",
          "text": [
            "('apple',)\n",
            "('apple', 'green')\n"
          ]
        }
      ],
      "source": [
        "a=(\"apple\",)### , is used to create a single tuple\n",
        "print(a)\n",
        "b=(\"green\",)\n",
        "c=a+b\n",
        "print(c)"
      ]
    },
    {
      "cell_type": "code",
      "execution_count": null,
      "id": "5b88c9c5",
      "metadata": {
        "id": "5b88c9c5",
        "outputId": "2fcf94e2-0261-449c-8673-75ea76453b99"
      },
      "outputs": [
        {
          "name": "stdout",
          "output_type": "stream",
          "text": [
            "apple mango papaya\n"
          ]
        }
      ],
      "source": [
        "a=(\"apple\",\"mango\",\"papaya\")\n",
        "(red,yellow,orange)=a\n",
        "print(red,yellow,orange)"
      ]
    },
    {
      "cell_type": "code",
      "execution_count": null,
      "id": "b21871c1",
      "metadata": {
        "id": "b21871c1",
        "outputId": "37e7b2fb-3a6b-4555-d715-a03bc8a23291"
      },
      "outputs": [
        {
          "name": "stdout",
          "output_type": "stream",
          "text": [
            "apple ['mango', 'papaya', 'hello', 'hi'] he\n"
          ]
        }
      ],
      "source": [
        "a=(\"apple\",\"mango\",\"papaya\",\"hello\",\"hi\",\"he\")\n",
        "(red,*yellow,b)=a\n",
        "print(red,yellow,b)"
      ]
    },
    {
      "cell_type": "code",
      "source": [
        ""
      ],
      "metadata": {
        "id": "MekLhFODsoYq"
      },
      "id": "MekLhFODsoYq",
      "execution_count": null,
      "outputs": []
    },
    {
      "cell_type": "code",
      "execution_count": null,
      "id": "5988b3e6",
      "metadata": {
        "id": "5988b3e6",
        "outputId": "bddfe5f9-d1fd-471a-ac1a-6a7e09822dd9"
      },
      "outputs": [
        {
          "name": "stdout",
          "output_type": "stream",
          "text": [
            "apple\n",
            "mango\n",
            "papaya\n",
            "hello\n",
            "hi\n",
            "he\n"
          ]
        }
      ],
      "source": [
        "a=(\"apple\",\"mango\",\"papaya\",\"hello\",\"hi\",\"he\")\n",
        "for i in a:\n",
        "    print(i)"
      ]
    },
    {
      "cell_type": "code",
      "execution_count": null,
      "id": "1863c65f",
      "metadata": {
        "id": "1863c65f",
        "outputId": "25e0b856-5c60-4e11-d870-fbe8b7661529"
      },
      "outputs": [
        {
          "name": "stdout",
          "output_type": "stream",
          "text": [
            "apple\n",
            "mango\n",
            "papaya\n",
            "hello\n",
            "hi\n",
            "he\n"
          ]
        }
      ],
      "source": [
        "a=(\"apple\",\"mango\",\"papaya\",\"hello\",\"hi\",\"he\")\n",
        "for x in range(len(a)):\n",
        "    print(a[x])"
      ]
    },
    {
      "cell_type": "code",
      "execution_count": null,
      "id": "778d3123",
      "metadata": {
        "id": "778d3123",
        "outputId": "fe28d60e-af58-4046-d790-a468e4ad6296"
      },
      "outputs": [
        {
          "name": "stdout",
          "output_type": "stream",
          "text": [
            "yes\n"
          ]
        }
      ],
      "source": [
        "a=(\"apple\",\"mango\",\"papaya\",\"hello\",\"hi\",\"he\")\n",
        "if \"apple\" in a:\n",
        "    print(\"yes\")"
      ]
    },
    {
      "cell_type": "code",
      "execution_count": null,
      "id": "4108c77b",
      "metadata": {
        "id": "4108c77b",
        "outputId": "8f6e3298-a391-471f-e141-a29aecff05fa"
      },
      "outputs": [
        {
          "name": "stdout",
          "output_type": "stream",
          "text": [
            "('apple', 'mango', 'papaya', 'hello', 'hi', 'he', 'koushik', 'kiran')\n",
            "('koushik', 'kiran', 'koushik', 'kiran', 'koushik', 'kiran')\n"
          ]
        }
      ],
      "source": [
        "a=(\"apple\",\"mango\",\"papaya\",\"hello\",\"hi\",\"he\")\n",
        "b=(\"koushik\",\"kiran\")\n",
        "print(a+b)\n",
        "print(b*3)"
      ]
    },
    {
      "cell_type": "code",
      "execution_count": null,
      "id": "44bfc3d4",
      "metadata": {
        "id": "44bfc3d4",
        "outputId": "3524d1e7-e282-4f5b-a5ae-d1008c2d3e30"
      },
      "outputs": [
        {
          "name": "stdout",
          "output_type": "stream",
          "text": [
            "enter the number145\n",
            "145\n",
            "yes it is strong number\n"
          ]
        }
      ],
      "source": [
        "a=int(input(\"enter the number\"))\n",
        "sum=0\n",
        "temp=a\n",
        "while (temp>0):\n",
        "    fact=1\n",
        "    i=1\n",
        "    rem=temp%10\n",
        "    while i<=rem:\n",
        "        fact=fact*i\n",
        "        i=i+1\n",
        "    sum=sum+fact\n",
        "    temp=temp//10\n",
        "print(sum)\n",
        "if a==sum:\n",
        "    print(\"yes it is strong number\")\n",
        "else:\n",
        "    print(\"no\")"
      ]
    },
    {
      "cell_type": "code",
      "execution_count": null,
      "id": "d8d5b74a",
      "metadata": {
        "id": "d8d5b74a",
        "outputId": "d2e8354c-82e3-48fd-c1d0-9004ab3266f9"
      },
      "outputs": [
        {
          "name": "stdout",
          "output_type": "stream",
          "text": [
            "enter the number5\n",
            "120\n"
          ]
        }
      ],
      "source": [
        "a=int(input(\"enter the number\"))\n",
        "fact=1\n",
        "for i in range(1,a+1):\n",
        "    fact=fact*i\n",
        "print(fact)\n",
        "    "
      ]
    },
    {
      "cell_type": "code",
      "execution_count": null,
      "id": "45436c9a",
      "metadata": {
        "id": "45436c9a",
        "outputId": "dfb2965a-a583-4c02-f3eb-34684d660775"
      },
      "outputs": [
        {
          "name": "stdout",
          "output_type": "stream",
          "text": [
            " Please Enter any Number: 145\n",
            "\n",
            " Factorial of 5 = 120\n",
            "\n",
            " Factorial of 4 = 120\n",
            "\n",
            " Factorial of 1 = 120\n",
            " 145 is not\n"
          ]
        }
      ],
      "source": [
        "Number = int(input(\" Please Enter any Number: \"))\n",
        "Sum = 0\n",
        "Temp = Number\n",
        "Factorial = 1\n",
        "i = 1\n",
        "while(Temp > 0):\n",
        "    Reminder = Temp % 10\n",
        "    while(i <= Reminder):\n",
        "        Factorial = Factorial * i\n",
        "        i = i + 1\n",
        "\n",
        "    print(\"\\n Factorial of %d = %d\" %(Reminder, Factorial))\n",
        "    Sum = Sum + Factorial\n",
        "    Temp = Temp // 10\n",
        "if (Sum == Number):\n",
        "    print(\" %d is a Strong Number\" %Number)\n",
        "else:\n",
        "    print(\" %d is not\" %Number)\n"
      ]
    },
    {
      "cell_type": "markdown",
      "id": "ced9637e",
      "metadata": {
        "id": "ced9637e"
      },
      "source": [
        "# sets"
      ]
    },
    {
      "cell_type": "code",
      "execution_count": null,
      "id": "1962c438",
      "metadata": {
        "id": "1962c438",
        "outputId": "d09a0255-0e62-46c5-ab5d-8ee9b6390347"
      },
      "outputs": [
        {
          "name": "stdout",
          "output_type": "stream",
          "text": [
            "{1, 2, 3, 4, 5}\n"
          ]
        }
      ],
      "source": [
        "a={1,2,3,4,5,5,5,5,5}## duplicates are not allowed in sets\n",
        "print(a)"
      ]
    },
    {
      "cell_type": "code",
      "execution_count": null,
      "id": "7a5a5098",
      "metadata": {
        "id": "7a5a5098",
        "outputId": "dca7aa3a-71ec-44f2-ad7e-c1320c59c68e"
      },
      "outputs": [
        {
          "name": "stdout",
          "output_type": "stream",
          "text": [
            "<class 'set'> 5\n"
          ]
        }
      ],
      "source": [
        "a={1,2,3,4,5,5,5,5,5}\n",
        "print(type(a),len(a))"
      ]
    },
    {
      "cell_type": "code",
      "execution_count": null,
      "id": "bd03ee27",
      "metadata": {
        "id": "bd03ee27",
        "outputId": "7c836513-e3a7-49d7-f214-f67050db3a54"
      },
      "outputs": [
        {
          "name": "stdout",
          "output_type": "stream",
          "text": [
            "1\n",
            "2\n",
            "3\n",
            "4\n",
            "5\n"
          ]
        }
      ],
      "source": [
        "a={1,2,3,4,5,5,5,5,5}\n",
        "for x in a:\n",
        "    print(x)"
      ]
    },
    {
      "cell_type": "code",
      "execution_count": null,
      "id": "9fe29b71",
      "metadata": {
        "id": "9fe29b71",
        "outputId": "d54d03f2-9620-458b-ea16-3b3c522cca5d"
      },
      "outputs": [
        {
          "name": "stdout",
          "output_type": "stream",
          "text": [
            "{1, 2, 3, 4, 5, 99}\n"
          ]
        }
      ],
      "source": [
        "a={1,2,3,4,5,5,5,5,5}\n",
        "a.add(99) ### used for addition of elements\n",
        "print(a)"
      ]
    },
    {
      "cell_type": "code",
      "execution_count": null,
      "id": "94640042",
      "metadata": {
        "id": "94640042",
        "outputId": "755d69ca-fd14-4236-81af-8fca3e69b628"
      },
      "outputs": [
        {
          "name": "stdout",
          "output_type": "stream",
          "text": [
            "{1, 2, 3, 4, 5, 'c', 'b', 'a', 'd', 'koushik'}\n"
          ]
        }
      ],
      "source": [
        "a={1,2,3,4,5,5,5,5,5}\n",
        "b={\"a\",\"b\",\"c\",\"d\"}\n",
        "c=[\"koushik\"]\n",
        "a.update(b)### update is used to join the lists\n",
        "a.update(c)\n",
        "print(a)"
      ]
    },
    {
      "cell_type": "code",
      "execution_count": null,
      "id": "e1a79445",
      "metadata": {
        "id": "e1a79445",
        "outputId": "8d83ee1f-dff8-4962-ba4a-845375a87041"
      },
      "outputs": [
        {
          "name": "stdout",
          "output_type": "stream",
          "text": [
            "1\n",
            "{2, 3, 4}\n",
            "set()\n"
          ]
        }
      ],
      "source": [
        "a={1,2,3,4,5,5,5,5,5}\n",
        "a.remove(5)### remove will raise error if its not present\n",
        "a.discard(8)### discard will not raise a error if its not present\n",
        "b=a.pop() ### this removes the element and that is stored in the b\n",
        "print(b)\n",
        "print(a)\n",
        "a.clear()### this clears the set\n",
        "print(a)\n",
        "del a### this deleted the set"
      ]
    },
    {
      "cell_type": "code",
      "execution_count": null,
      "id": "0576f51f",
      "metadata": {
        "id": "0576f51f",
        "outputId": "8eae724a-0dab-4459-d497-487cd6fafa7a"
      },
      "outputs": [
        {
          "name": "stdout",
          "output_type": "stream",
          "text": [
            "{1, 2, 3, 4, 5}\n",
            "{1, 2, 3, 4, 5}\n"
          ]
        }
      ],
      "source": [
        "a={1,2,3,4,5,5,5,5,5}\n",
        "b={\"a\",\"b\",\"c\",\"d\",1}\n",
        "a.union(b)### combines all the elements\n",
        "print(a)\n",
        "a.intersection(b) ### only shows the common element\n",
        "print(a)"
      ]
    },
    {
      "cell_type": "code",
      "execution_count": null,
      "id": "bed8dd58",
      "metadata": {
        "id": "bed8dd58",
        "outputId": "295cec64-c764-4b5b-a89c-bf76f0f550d8"
      },
      "outputs": [
        {
          "name": "stdout",
          "output_type": "stream",
          "text": [
            "{1, 2, 3, 4, 5}\n"
          ]
        }
      ],
      "source": [
        "a={1,2,3,4,5,5,5,5,5}\n",
        "b=a.copy()### this copys the elments of the set\n",
        "print(b)"
      ]
    },
    {
      "cell_type": "code",
      "execution_count": null,
      "id": "ac77f61d",
      "metadata": {
        "id": "ac77f61d",
        "outputId": "fea789e5-b905-4abc-8531-d66536f40699"
      },
      "outputs": [
        {
          "name": "stdout",
          "output_type": "stream",
          "text": [
            "False\n",
            "False\n",
            "False\n"
          ]
        }
      ],
      "source": [
        "a={1,2,3,4,5,5,5,5,5}\n",
        "b={1,3,6,8}\n",
        "print(a.isdisjoint(b))\n",
        "print(b.issubset(a))\n",
        "print(a.issuperset(b))"
      ]
    },
    {
      "cell_type": "code",
      "execution_count": null,
      "id": "b0e3a8b0",
      "metadata": {
        "id": "b0e3a8b0",
        "outputId": "78b0acd6-b17a-4be7-d73e-7ebf89db84ae"
      },
      "outputs": [
        {
          "name": "stdout",
          "output_type": "stream",
          "text": [
            "{33, 2, 3, 4, 5, 7, 9}\n"
          ]
        }
      ],
      "source": [
        "a={1,2,3,4,5,5,5,5,5}\n",
        "b={1,7,9,33}\n",
        "print(a.symmetric_difference(b))\n"
      ]
    },
    {
      "cell_type": "markdown",
      "id": "1ff668aa",
      "metadata": {
        "id": "1ff668aa"
      },
      "source": [
        "# DICTONARY"
      ]
    },
    {
      "cell_type": "code",
      "execution_count": null,
      "id": "30354af1",
      "metadata": {
        "id": "30354af1",
        "outputId": "f8fedbfd-acd8-4cc1-b379-a59758a17652"
      },
      "outputs": [
        {
          "name": "stdout",
          "output_type": "stream",
          "text": [
            "{'name': 'koushik', 'age': 18, 'college': 'gitam'}\n"
          ]
        }
      ],
      "source": [
        "a={\n",
        "    \"name\":\"koushik\",  ### format for building the sets\n",
        "    \"age\":18,\n",
        "    \"college\":\"gitam\"\n",
        "}\n",
        "print(a)"
      ]
    },
    {
      "cell_type": "code",
      "execution_count": null,
      "id": "27b2ff7e",
      "metadata": {
        "id": "27b2ff7e",
        "outputId": "737fffc5-6d17-4166-b1b2-892d814cf219"
      },
      "outputs": [
        {
          "name": "stdout",
          "output_type": "stream",
          "text": [
            "koushik\n",
            "18\n",
            "3\n"
          ]
        }
      ],
      "source": [
        "a={\n",
        "    \"name\":\"koushik\",  ### format for building the dicitonary\n",
        "    \"age\":18,\n",
        "    \"college\":\"gitam\"\n",
        "}\n",
        "print(a[\"name\"])\n",
        "print(a[\"age\"])\n",
        "print(len(a))### shows the len of the dict\n",
        "print(type(a))"
      ]
    },
    {
      "cell_type": "code",
      "execution_count": null,
      "id": "0ce35042",
      "metadata": {
        "id": "0ce35042",
        "outputId": "8c3c2e7d-8f0a-496a-9efa-4fa51eee9eef"
      },
      "outputs": [
        {
          "name": "stdout",
          "output_type": "stream",
          "text": [
            "koushik 18\n"
          ]
        }
      ],
      "source": [
        "a={\n",
        "    \"name\":\"koushik\", \n",
        "    \"age\":18,\n",
        "    \"college\":\"gitam\"\n",
        "}\n",
        "b=a[\"name\"]\n",
        "c=a.get(\"age\")\n",
        "print(b,c)"
      ]
    },
    {
      "cell_type": "code",
      "execution_count": null,
      "id": "0c5722e8",
      "metadata": {
        "id": "0c5722e8",
        "outputId": "ccc376d0-3874-4803-94f3-e95581d156f6"
      },
      "outputs": [
        {
          "name": "stdout",
          "output_type": "stream",
          "text": [
            "dict_keys(['name', 'age', 'college'])\n"
          ]
        }
      ],
      "source": [
        "a={\n",
        "    \"name\":\"koushik\", \n",
        "    \"age\":18,\n",
        "    \"college\":\"gitam\"\n",
        "}\n",
        "print(a.keys())### this is the keys function used to displa all thge key words\n",
        "a[\"friend\"]=\" sike kiran\" ### this is a way of addition kes in dict\n",
        "print(a.)"
      ]
    },
    {
      "cell_type": "code",
      "execution_count": null,
      "id": "9a29f838",
      "metadata": {
        "id": "9a29f838",
        "outputId": "4e783ffa-c533-44f0-80f3-d490bb1797a7"
      },
      "outputs": [
        {
          "name": "stdout",
          "output_type": "stream",
          "text": [
            "dict_values(['koushik', 18, 'gitam'])\n",
            "dict_values(['koushik', 18, 'gitam', 'vskp']) dict_keys(['name', 'age', 'college', 'place'])\n"
          ]
        }
      ],
      "source": [
        "a={\n",
        "    \"name\":\"koushik\", \n",
        "    \"age\":18,\n",
        "    \"college\":\"gitam\"\n",
        "}\n",
        "print(a.values())\n",
        "a[\"place\"]=\"vskp\"\n",
        "print(a.values(),a.keys())"
      ]
    },
    {
      "cell_type": "code",
      "execution_count": null,
      "id": "ea9c164a",
      "metadata": {
        "id": "ea9c164a",
        "outputId": "145c79e4-26e8-481a-c602-c016c6d90ee7"
      },
      "outputs": [
        {
          "name": "stdout",
          "output_type": "stream",
          "text": [
            "dict_items([('name', 'koushik'), ('age', 18), ('college', 'gitam')])\n"
          ]
        }
      ],
      "source": [
        "a={\n",
        "    \"name\":\"koushik\", \n",
        "    \"age\":18,\n",
        "    \"college\":\"gitam\"\n",
        "}\n",
        "print(a.items())"
      ]
    },
    {
      "cell_type": "code",
      "execution_count": null,
      "id": "4004518f",
      "metadata": {
        "id": "4004518f",
        "outputId": "a138c01e-5616-43d0-93ac-ea1dc49c1306"
      },
      "outputs": [
        {
          "name": "stdout",
          "output_type": "stream",
          "text": [
            "yes\n"
          ]
        }
      ],
      "source": [
        "a={\n",
        "    \"name\":\"koushik\", \n",
        "    \"age\":18,\n",
        "    \"college\":\"gitam\"\n",
        "}\n",
        "if \"age\" in a:\n",
        "    print(\"yes\")"
      ]
    },
    {
      "cell_type": "code",
      "execution_count": null,
      "id": "6eec6314",
      "metadata": {
        "id": "6eec6314",
        "outputId": "ffa82bd0-a568-4ed1-eadd-c2cb36a77ef7"
      },
      "outputs": [
        {
          "name": "stdout",
          "output_type": "stream",
          "text": [
            "{'name': 'koushik', 'age': 18, 'college': 'gitam', 'place': 'vskp'}\n",
            "{'name': 'koushik', 'age': 19, 'college': 'gitam', 'place': 'vskp'}\n"
          ]
        }
      ],
      "source": [
        "a={\n",
        "    \"name\":\"koushik\", \n",
        "    \"age\":18,\n",
        "    \"college\":\"gitam\"\n",
        "}\n",
        "a.update({\"place\":\"vskp\"}) ### it is used to update the list\n",
        "print(a)\n",
        "a.update({\"age\":19}) ### it is also used to update the list\n",
        "print(a)"
      ]
    },
    {
      "cell_type": "code",
      "execution_count": null,
      "id": "a9ae629b",
      "metadata": {
        "id": "a9ae629b",
        "outputId": "da12b50a-bf46-4950-c956-5e52208bc4c6"
      },
      "outputs": [
        {
          "name": "stdout",
          "output_type": "stream",
          "text": [
            "{'name': 'koushik', 'college': 'gitam'}\n"
          ]
        }
      ],
      "source": [
        "a={\n",
        "    \"name\":\"koushik\", \n",
        "    \"age\":18,\n",
        "    \"college\":\"gitam\"\n",
        "}\n",
        "a.pop(\"age\") ### this is used to remove the elements from the dict\n",
        "print(a)"
      ]
    },
    {
      "cell_type": "code",
      "execution_count": null,
      "id": "2d88ac6c",
      "metadata": {
        "id": "2d88ac6c",
        "outputId": "06dfbe4c-f4d0-4396-ff3f-80c767f8a304"
      },
      "outputs": [
        {
          "name": "stdout",
          "output_type": "stream",
          "text": [
            "name\n",
            "age\n",
            "college\n"
          ]
        }
      ],
      "source": [
        "a={\n",
        "    \"name\":\"koushik\", \n",
        "    \"age\":18,\n",
        "    \"college\":\"gitam\"\n",
        "}\n",
        "for x in a:\n",
        "    print(x)"
      ]
    },
    {
      "cell_type": "code",
      "execution_count": null,
      "id": "a6ced0d0",
      "metadata": {
        "id": "a6ced0d0",
        "outputId": "6b1a4eff-cc50-4250-b123-ad857a23aeb3"
      },
      "outputs": [
        {
          "name": "stdout",
          "output_type": "stream",
          "text": [
            "{'name': 'koushik', 'age': 18, 'college': 'gitam', 'marks': '100'}\n"
          ]
        }
      ],
      "source": [
        "a={\n",
        "    \"name\":\"koushik\", \n",
        "    \"age\":18,\n",
        "    \"college\":\"gitam\"\n",
        "}\n",
        "a.update({\"marks\":\"100\"})\n",
        "print(a)"
      ]
    },
    {
      "cell_type": "code",
      "execution_count": null,
      "id": "99086451",
      "metadata": {
        "id": "99086451",
        "outputId": "2d48b203-a8f5-4b9d-9e37-75074774a16d"
      },
      "outputs": [
        {
          "name": "stdout",
          "output_type": "stream",
          "text": [
            "dict_items([('name', 'koushik'), ('age', 18), ('college', 'gitam')])\n",
            "('name', 'koushik')\n",
            "('age', 18)\n",
            "('college', 'gitam')\n"
          ]
        }
      ],
      "source": [
        "a={\n",
        "    \"name\":\"koushik\", \n",
        "    \"age\":18,\n",
        "    \"college\":\"gitam\"\n",
        "}\n",
        "print(a.items())\n",
        "for x in a.items():\n",
        "    print(x)"
      ]
    },
    {
      "cell_type": "code",
      "execution_count": null,
      "id": "66e1d220",
      "metadata": {
        "id": "66e1d220",
        "outputId": "c9dbaf7f-02a7-4790-8ba9-939af8a4fbf7"
      },
      "outputs": [
        {
          "name": "stdout",
          "output_type": "stream",
          "text": [
            "name koushik\n",
            "age 18\n",
            "college gitam\n"
          ]
        }
      ],
      "source": [
        "a={\n",
        "    \"name\":\"koushik\", \n",
        "    \"age\":18,\n",
        "    \"college\":\"gitam\"\n",
        "}\n",
        "for x,y in a.items():\n",
        "    print(x,y)"
      ]
    },
    {
      "cell_type": "code",
      "execution_count": null,
      "id": "e51a0008",
      "metadata": {
        "id": "e51a0008",
        "outputId": "fdf0961a-801e-4d80-db90-d7587f3daaca"
      },
      "outputs": [
        {
          "name": "stdout",
          "output_type": "stream",
          "text": [
            "name\n",
            "age\n",
            "college\n"
          ]
        }
      ],
      "source": [
        "a={\n",
        "    \"name\":\"koushik\", \n",
        "    \"age\":18,\n",
        "    \"college\":\"gitam\"\n",
        "}\n",
        "for x in a.keys():\n",
        "    print(x)"
      ]
    },
    {
      "cell_type": "code",
      "execution_count": null,
      "id": "7e3332b4",
      "metadata": {
        "id": "7e3332b4",
        "outputId": "d8482662-575a-4b69-fd4f-573632a5df8e"
      },
      "outputs": [
        {
          "name": "stdout",
          "output_type": "stream",
          "text": [
            "{'s1': {'name': 'koushik', 'age': '18', 'collge': 'gitam'}, 's2': {'name': 'ftghdgde', 'age': '18', 'collge': 'gitam'}, 's3': {'name': 'dffffff', 'age': '18', 'collge': 'gitam'}}\n"
          ]
        }
      ],
      "source": [
        "collge={\n",
        "    \"s1\":{\n",
        "        \"name\":\"koushik\",\n",
        "        \"age\":\"18\",\n",
        "        \"collge\":\"gitam\"\n",
        "    },\n",
        "    \"s2\":{\n",
        "         \"name\":\"ftghdgde\",\n",
        "        \"age\":\"18\",\n",
        "        \"collge\":\"gitam\"\n",
        "    },\n",
        "    \"s3\":{\n",
        "         \"name\":\"dffffff\",\n",
        "        \"age\":\"18\",\n",
        "        \"collge\":\"gitam\"\n",
        "    },\n",
        "    \n",
        "}\n",
        "print(collge)"
      ]
    },
    {
      "cell_type": "code",
      "execution_count": null,
      "id": "16e53334",
      "metadata": {
        "id": "16e53334",
        "outputId": "276b9f13-9a96-4cc9-a20d-00258ad0e97e"
      },
      "outputs": [
        {
          "name": "stdout",
          "output_type": "stream",
          "text": [
            "{'s1': ({'name': 'koushik', 'age': '18', 'collge': 'gitam'},), 's2': ({'name': 'koushik', 'age': '18', 'collge': 'gitam'},), 's3': {'name': 'koushik', 'age': '18', 'collge': 'gitam'}}\n"
          ]
        }
      ],
      "source": [
        "s1={\n",
        "     \"name\":\"koushik\",\n",
        "        \"age\":\"18\",\n",
        "        \"collge\":\"gitam\"\n",
        "},\n",
        "s2={\n",
        "     \"name\":\"koushik\",\n",
        "        \"age\":\"18\",\n",
        "        \"collge\":\"gitam\"\n",
        "},\n",
        "s3={\n",
        "     \"name\":\"koushik\",\n",
        "        \"age\":\"18\",\n",
        "        \"collge\":\"gitam\"\n",
        "}\n",
        "college={\n",
        "    \"s1\":s1,\n",
        "    \"s2\":s2,\n",
        "    \"s3\":s3\n",
        "}\n",
        "print(college)"
      ]
    },
    {
      "cell_type": "code",
      "execution_count": null,
      "id": "ee6179bf",
      "metadata": {
        "id": "ee6179bf",
        "outputId": "58448842-754f-4ca8-fc9d-6fce665e19ae"
      },
      "outputs": [
        {
          "name": "stdout",
          "output_type": "stream",
          "text": [
            "{'name': 'koushik', 'age': 18, 'college': 'gitam'}\n"
          ]
        }
      ],
      "source": [
        "a={\n",
        "    \"name\":\"koushik\", \n",
        "    \"age\":18,\n",
        "    \"college\":\"gitam\"\n",
        "}\n",
        "b=a.copy()\n",
        "print(b)"
      ]
    },
    {
      "cell_type": "code",
      "execution_count": null,
      "id": "4e9437c9",
      "metadata": {
        "id": "4e9437c9",
        "outputId": "affcdd06-6684-4b29-963d-00c655663322"
      },
      "outputs": [
        {
          "name": "stdout",
          "output_type": "stream",
          "text": [
            "{'s1': {'name': 'koushik', 'age': '18', 'college': 'gitam'}, 's2': {'name': 'sgsdgsdfsf', 'age': '17', 'college': 'afsfsf'}}\n"
          ]
        }
      ],
      "source": [
        "college={\n",
        "    \"s1\":{\n",
        "        \"name\":\"koushik\",\n",
        "        \"age\":\"18\",\n",
        "\"college\":\"gitam\"    \n",
        "    },\n",
        "    \"s2\":{\n",
        "        \"name\":\"sgsdgsdfsf\",\n",
        "        \"age\":\"17\",\n",
        "        \"college\":\"afsfsf\"\n",
        "    }\n",
        "}\n",
        "print(college)"
      ]
    },
    {
      "cell_type": "markdown",
      "id": "6ee096a1",
      "metadata": {
        "id": "6ee096a1"
      },
      "source": [
        "# MODULE 2"
      ]
    },
    {
      "cell_type": "code",
      "execution_count": null,
      "id": "190130b9",
      "metadata": {
        "id": "190130b9"
      },
      "outputs": [],
      "source": [
        "a=[1,2,3,4,5,6]\n"
      ]
    },
    {
      "cell_type": "code",
      "execution_count": null,
      "id": "d3c64a57",
      "metadata": {
        "id": "d3c64a57",
        "outputId": "5701c1ec-5b4d-4924-bafb-c2ca627f8f60"
      },
      "outputs": [
        {
          "name": "stdout",
          "output_type": "stream",
          "text": [
            "enter the command roll: roll\n",
            "4\n",
            "4\n",
            "6\n",
            "2\n",
            "6\n",
            "6\n"
          ]
        }
      ],
      "source": [
        "import random\n",
        "a=input(\"enter the command roll: \")\n",
        "if \"roll\"==a:\n",
        "    for x in range (6):\n",
        "        a=random.randint(1,6)\n",
        "        print(a)"
      ]
    },
    {
      "cell_type": "markdown",
      "id": "69dc1ab2",
      "metadata": {
        "id": "69dc1ab2"
      },
      "source": [
        "# FUNCTIONS"
      ]
    },
    {
      "cell_type": "code",
      "execution_count": null,
      "id": "0fb75574",
      "metadata": {
        "id": "0fb75574",
        "outputId": "39b73447-0cb7-4490-b360-3d7e2e1417d7"
      },
      "outputs": [
        {
          "name": "stdout",
          "output_type": "stream",
          "text": [
            "koushik\n"
          ]
        }
      ],
      "source": [
        "def koushik():\n",
        "    print(\"koushik\")\n",
        "koushik()"
      ]
    },
    {
      "cell_type": "code",
      "execution_count": null,
      "id": "1728e7e4",
      "metadata": {
        "id": "1728e7e4",
        "outputId": "5a0884b8-c6ea-4385-d0fd-43e63fbf2dfd"
      },
      "outputs": [
        {
          "name": "stdout",
          "output_type": "stream",
          "text": [
            "koushik 8 36\n",
            "kiran 19 31\n"
          ]
        }
      ],
      "source": [
        "def name(name,age,roll):\n",
        "    print(name,age,roll)\n",
        "name(\"koushik\",8,36)\n",
        "name(\"kiran\",19,31)"
      ]
    },
    {
      "cell_type": "code",
      "execution_count": null,
      "id": "07e32560",
      "metadata": {
        "id": "07e32560",
        "outputId": "499dd0d9-d8ba-4bf8-cb0a-9c652952ec18"
      },
      "outputs": [
        {
          "name": "stdout",
          "output_type": "stream",
          "text": [
            "info of the students 19\n"
          ]
        }
      ],
      "source": [
        "def student(*info):\n",
        "    print(\"info of the students\",info[1])\n",
        "student(\"koushik\",19,4,2021) ### only strings are sccepted but not the strings\n"
      ]
    },
    {
      "cell_type": "code",
      "execution_count": null,
      "id": "cb3ee2a4",
      "metadata": {
        "id": "cb3ee2a4",
        "outputId": "0be5911c-1811-415c-96a9-629a5011b500"
      },
      "outputs": [
        {
          "name": "stdout",
          "output_type": "stream",
          "text": [
            "2021\n"
          ]
        }
      ],
      "source": [
        "def student(name,age,year):\n",
        "    print(year)\n",
        "student(year=2021,name=\"koushik\",age=18)"
      ]
    },
    {
      "cell_type": "code",
      "execution_count": null,
      "id": "bfde68ed",
      "metadata": {
        "id": "bfde68ed",
        "outputId": "11a8472c-a305-4dff-e4fc-3fd434a040e9"
      },
      "outputs": [
        {
          "name": "stdout",
          "output_type": "stream",
          "text": [
            "student 18\n"
          ]
        }
      ],
      "source": [
        "def student(**info):\n",
        "    print(\"student\",info[\"age\"])\n",
        "student(name=\"koushik\",age=18,year=2021)"
      ]
    },
    {
      "cell_type": "code",
      "execution_count": null,
      "id": "3946dd50",
      "metadata": {
        "id": "3946dd50",
        "outputId": "7d0e2a25-6f0b-4006-e56a-1de4f9dafb07"
      },
      "outputs": [
        {
          "ename": "SyntaxError",
          "evalue": "invalid syntax (Temp/ipykernel_2328/965067153.py, line 1)",
          "output_type": "error",
          "traceback": [
            "\u001b[1;36m  File \u001b[1;32m\"C:\\Users\\CSE22004\\AppData\\Local\\Temp/ipykernel_2328/965067153.py\"\u001b[1;36m, line \u001b[1;32m1\u001b[0m\n\u001b[1;33m    def student(**info ==\"enter data\"):\u001b[0m\n\u001b[1;37m                       ^\u001b[0m\n\u001b[1;31mSyntaxError\u001b[0m\u001b[1;31m:\u001b[0m invalid syntax\n"
          ]
        }
      ],
      "source": [
        "def student(**info ==\"enter data\"):\n",
        "    print(info[\"name\"],info[\"age\"])\n",
        "student(name=\"koushik\",age=18)\n",
        "student(name=\"kiran\",age=19)"
      ]
    },
    {
      "cell_type": "code",
      "execution_count": null,
      "id": "d754c8bd",
      "metadata": {
        "id": "d754c8bd",
        "outputId": "b0894825-8291-4216-bdd2-3ba8acc3f2d5"
      },
      "outputs": [
        {
          "name": "stdout",
          "output_type": "stream",
          "text": [
            "enter the name\n",
            "koushik\n",
            "kiran\n"
          ]
        }
      ],
      "source": [
        "def student(name=\"enter the name\"):\n",
        "      print(name)\n",
        "student()\n",
        "student(\"koushik\")\n",
        "student(\"kiran\")"
      ]
    },
    {
      "cell_type": "code",
      "execution_count": null,
      "id": "606fe024",
      "metadata": {
        "id": "606fe024",
        "outputId": "30a2f85e-4541-45b1-ca73-a6566edb53db"
      },
      "outputs": [
        {
          "name": "stdout",
          "output_type": "stream",
          "text": [
            "koushik\n",
            "kiran\n"
          ]
        }
      ],
      "source": [
        "def students(name):\n",
        "    for x in name:\n",
        "        print(x)\n",
        "names=[\"koushik\",\"kiran\"]\n",
        "students(names)"
      ]
    },
    {
      "cell_type": "code",
      "execution_count": null,
      "id": "ae43c785",
      "metadata": {
        "id": "ae43c785",
        "outputId": "eb24f9ee-7412-4323-d131-03a3bf53e260"
      },
      "outputs": [
        {
          "name": "stdout",
          "output_type": "stream",
          "text": [
            "9\n",
            "11\n"
          ]
        }
      ],
      "source": [
        "def sum(a,b):\n",
        "   return a+b\n",
        "print(sum(3,6))\n",
        "print(sum(5,6))\n",
        "    "
      ]
    },
    {
      "cell_type": "code",
      "execution_count": null,
      "id": "6abd0a03",
      "metadata": {
        "id": "6abd0a03"
      },
      "outputs": [],
      "source": [
        "def number(n,r):\n",
        "    while i<=r\n",
        "        return (n-i*(n-(i+1))*(n-O())"
      ]
    },
    {
      "cell_type": "markdown",
      "id": "6712f541",
      "metadata": {
        "id": "6712f541"
      },
      "source": [
        "# module 2"
      ]
    },
    {
      "cell_type": "code",
      "execution_count": null,
      "id": "73cb4d85",
      "metadata": {
        "id": "73cb4d85",
        "outputId": "2df0bf7c-41cb-4504-ad9d-b79813c94b8f"
      },
      "outputs": [
        {
          "name": "stdout",
          "output_type": "stream",
          "text": [
            "stting\n"
          ]
        }
      ],
      "source": [
        "a=\"string\"\n",
        "print(a.replace(\"r\",\"t\"))\n"
      ]
    },
    {
      "cell_type": "code",
      "execution_count": null,
      "id": "d7fb5730",
      "metadata": {
        "id": "d7fb5730",
        "outputId": "b854d894-3065-4ce6-fb28-73c89250cd47"
      },
      "outputs": [
        {
          "name": "stdout",
          "output_type": "stream",
          "text": [
            "[5, 7]\n"
          ]
        }
      ],
      "source": [
        "a=[3,5,7,9]\n",
        "b=[2,3,8,9]\n",
        "c=[]\n",
        "for x in a:\n",
        "    if x not in b:\n",
        "        c.append(x)\n",
        "print(c)"
      ]
    },
    {
      "cell_type": "code",
      "execution_count": null,
      "id": "5dda2753",
      "metadata": {
        "id": "5dda2753",
        "outputId": "edae2661-fb90-444f-bff0-d9d35eb91470"
      },
      "outputs": [
        {
          "name": "stdout",
          "output_type": "stream",
          "text": [
            "enter the number6\n",
            "{0: 0, 1: 1, 2: 4, 3: 9, 4: 16, 5: 25, 6: 36}\n"
          ]
        }
      ],
      "source": [
        "a=dict()\n",
        "b=int(input(\"enter the number\"))\n",
        "for x in range(b+1):\n",
        "    a[x]=x*x\n",
        "print(a)"
      ]
    },
    {
      "cell_type": "code",
      "execution_count": null,
      "id": "aa24101b",
      "metadata": {
        "id": "aa24101b",
        "outputId": "5c6e840a-8093-4256-a2b3-32c28eddb296"
      },
      "outputs": [
        {
          "name": "stdout",
          "output_type": "stream",
          "text": [
            "{'name': 'koushik', 'age': 18}\n"
          ]
        }
      ],
      "source": [
        "a={\n",
        "    \"name\":\"koushik\",\n",
        "    \"age\":18,\n",
        "    \"year\":2021   \n",
        "}\n",
        "a.pop(\"year\")\n",
        "print(a)"
      ]
    },
    {
      "cell_type": "code",
      "execution_count": null,
      "id": "191fe5a0",
      "metadata": {
        "id": "191fe5a0",
        "outputId": "fd4cc0f1-326a-41e0-c11f-87870c1bfa88"
      },
      "outputs": [
        {
          "name": "stdout",
          "output_type": "stream",
          "text": [
            "3\n"
          ]
        }
      ],
      "source": [
        "a=\"I have to go to a doctor and get myself checked.\"\n",
        "print(a.count(\"to\"))"
      ]
    },
    {
      "cell_type": "code",
      "execution_count": null,
      "id": "d818bc08",
      "metadata": {
        "id": "d818bc08",
        "outputId": "a54d3793-34a7-49a4-d72b-14c2fcce09a5"
      },
      "outputs": [
        {
          "name": "stdout",
          "output_type": "stream",
          "text": [
            "[(4,), (8, 6, 7), (1,), (3, 4, 6, 7)]\n"
          ]
        }
      ],
      "source": [
        "a= [(4, 5), (4,), (8, 6, 7), (1,), (3, 4, 6, 7)]\n",
        "b=[]\n",
        "k=2\n",
        "for x in a:\n",
        "    if len(x)==k:\n",
        "        a.remove(x)\n",
        "print(a)"
      ]
    },
    {
      "cell_type": "code",
      "execution_count": null,
      "id": "7663a194",
      "metadata": {
        "id": "7663a194",
        "outputId": "add12c51-6ee7-4066-c8d0-4ad5cb943e0e"
      },
      "outputs": [
        {
          "name": "stdout",
          "output_type": "stream",
          "text": [
            "the lower values 3\n",
            "higher values 2\n"
          ]
        }
      ],
      "source": [
        "def string(a):\n",
        "    u=0;l=0\n",
        "    for x in a :\n",
        "        if x.isupper():\n",
        "            u=u+1\n",
        "        else:\n",
        "            l=l+1\n",
        "    print(\"the lower values\",l)\n",
        "    print(\"higher values\",u)\n",
        "string(\"KiRan\")"
      ]
    },
    {
      "cell_type": "code",
      "execution_count": null,
      "id": "bd7cf35d",
      "metadata": {
        "id": "bd7cf35d",
        "outputId": "3bd85201-b15a-4545-e038-660a4b6a08fb"
      },
      "outputs": [
        {
          "name": "stdout",
          "output_type": "stream",
          "text": [
            "enter the value of 10\n",
            "enter the value of r8\n",
            "45.0\n"
          ]
        }
      ],
      "source": [
        "def ncr(n,r):\n",
        "    return fact(n)/(fact(r)*fact(n-r))\n",
        "def fact(n):\n",
        "    fact=1\n",
        "    for i in range(1,n+1):\n",
        "        fact=fact*i\n",
        "    return fact\n",
        "a=int(input(\"enter the value of n \"))\n",
        "b=int(input(\"enter the value of r\"))\n",
        "print(ncr(a,b))"
      ]
    },
    {
      "cell_type": "code",
      "execution_count": null,
      "id": "1bbfe6f6",
      "metadata": {
        "id": "1bbfe6f6",
        "outputId": "42a94dd5-f823-4f04-ad04-0c8ba53a2799"
      },
      "outputs": [
        {
          "name": "stdout",
          "output_type": "stream",
          "text": [
            "enter the first number5\n",
            "enter the second number2\n",
            "gcd of two numbers is  1\n"
          ]
        }
      ],
      "source": [
        "def gcd(a,b):\n",
        "    if b==0:\n",
        "        return a\n",
        "    else:\n",
        "        return gcd(b,a%b)\n",
        "a=int(input(\"enter the first number\"))\n",
        "b=int(input(\"enter the second number\"))\n",
        "GCD=gcd(a,b)\n",
        "print(\"gcd of two numbers is \",GCD)"
      ]
    },
    {
      "cell_type": "code",
      "execution_count": null,
      "id": "6a783361",
      "metadata": {
        "id": "6a783361",
        "outputId": "ae99ee8d-9e8a-4a9b-fb0d-73f137040cce"
      },
      "outputs": [
        {
          "name": "stdout",
          "output_type": "stream",
          "text": [
            "enter the number5\n",
            "enter second number2\n",
            "product of two numbers 10\n"
          ]
        }
      ],
      "source": [
        "def pro(a,b):\n",
        "    if a<b:\n",
        "        return pro(b,a)\n",
        "    elif b!=0:\n",
        "        return (a+pro(a,b-1))\n",
        "    else:\n",
        "        return 0\n",
        "a=int(input(\"enter the number\"))\n",
        "b=int(input(\"enter second number\"))\n",
        "print(\"product of two numbers\",pro(a,b))"
      ]
    },
    {
      "cell_type": "code",
      "execution_count": null,
      "id": "b798e92a",
      "metadata": {
        "id": "b798e92a",
        "outputId": "61f724fb-58f0-4fc2-e79a-d2a478792f0f"
      },
      "outputs": [
        {
          "name": "stdout",
          "output_type": "stream",
          "text": [
            "enter the number of terms10\n",
            "0\n",
            "1\n",
            "1\n",
            "2\n",
            "3\n",
            "5\n",
            "8\n",
            "13\n",
            "21\n",
            "34\n",
            "55\n"
          ]
        }
      ],
      "source": [
        "def fibo(n):\n",
        "    if n<=1:\n",
        "        return n\n",
        "    else:\n",
        "        return (fibo(n-1)+fibo(n-2))\n",
        "n=int(input(\"enter the number of terms\"))\n",
        "if n<=0:\n",
        "    print(\"enter the number with min values\")\n",
        "else:\n",
        "    for i in range(n+1):\n",
        "        print(fibo(i))"
      ]
    },
    {
      "cell_type": "code",
      "execution_count": null,
      "id": "395bd377",
      "metadata": {
        "id": "395bd377",
        "outputId": "76ac0896-1107-467a-b47b-79ed21a6034b"
      },
      "outputs": [
        {
          "name": "stdout",
          "output_type": "stream",
          "text": [
            "[(9, 81.0), (3, 9.0), (6, 36.0)]\n"
          ]
        }
      ],
      "source": [
        "import math\n",
        "a=[9,3,6]\n",
        "b=[]\n",
        "for x in a:\n",
        "    b.append((x,math.pow(x,2)))\n",
        "print(b)\n",
        "    "
      ]
    },
    {
      "cell_type": "code",
      "execution_count": null,
      "id": "c6e5ce38",
      "metadata": {
        "id": "c6e5ce38",
        "outputId": "86b8bc1e-30b9-48e4-8090-7a52cc9ae8ae"
      },
      "outputs": [
        {
          "name": "stdout",
          "output_type": "stream",
          "text": [
            "enter the number12\n",
            "enter the last number15\n",
            "12\n",
            "13\n",
            "14\n"
          ]
        }
      ],
      "source": [
        "a=int(input(\"enter the number\"))\n",
        "b=int(input(\"enter the last number\"))\n",
        "if a<b:\n",
        "    for x in range(a,b):\n",
        "         print(x)\n",
        "  \n"
      ]
    },
    {
      "cell_type": "code",
      "execution_count": null,
      "id": "16fc06e3",
      "metadata": {
        "id": "16fc06e3",
        "outputId": "3c28a5d4-7944-4233-eaba-479f751971e3"
      },
      "outputs": [
        {
          "name": "stdout",
          "output_type": "stream",
          "text": [
            "121123145\n"
          ]
        }
      ],
      "source": [
        "a=[121,123,145]\n",
        "b=\"\"\n",
        "for x in a:\n",
        "    b=b+str(x)\n",
        "print(b) ### static method"
      ]
    },
    {
      "cell_type": "markdown",
      "id": "e330b500",
      "metadata": {
        "id": "e330b500"
      },
      "source": [
        "# ASSIGNMENT"
      ]
    },
    {
      "cell_type": "code",
      "execution_count": null,
      "id": "3e25395a",
      "metadata": {
        "id": "3e25395a",
        "outputId": "bee4b22e-210c-4f22-87ee-83f7959384b0"
      },
      "outputs": [
        {
          "name": "stdout",
          "output_type": "stream",
          "text": [
            "8.0\n"
          ]
        }
      ],
      "source": [
        "import math\n",
        "n=2;p=3\n",
        "print(math.pow(2,3))"
      ]
    },
    {
      "cell_type": "code",
      "execution_count": null,
      "id": "5bd60c3a",
      "metadata": {
        "id": "5bd60c3a",
        "outputId": "92bd6317-5e33-4c3d-c6f9-9ebd01a949db"
      },
      "outputs": [
        {
          "name": "stdout",
          "output_type": "stream",
          "text": [
            "[(1, 2), (3, 4, 6, 723), (134, 234, 34)]\n"
          ]
        }
      ],
      "source": [
        "list=[(3,4,6,723),(1,2),(134,234,34)]\n",
        "list.sort()\n",
        "print(list)"
      ]
    },
    {
      "cell_type": "code",
      "execution_count": null,
      "id": "f3e3e753",
      "metadata": {
        "id": "f3e3e753",
        "outputId": "91743f77-2c3b-481a-c12b-ae9efa56d46b"
      },
      "outputs": [
        {
          "name": "stdout",
          "output_type": "stream",
          "text": [
            "enter the number1\n",
            "enter the number10\n",
            "enter the number20\n",
            "1\n"
          ]
        }
      ],
      "source": [
        "a=int(input(\"enter the number\"))\n",
        "b=int(input(\"enter the number\"))\n",
        "c=int(input(\"enter the number\"))\n",
        "d=[a,b,c]\n",
        "k=d.copy()\n",
        "d.sort()\n",
        "e=d.copy()\n",
        "if k==e:\n",
        "    print(\"1\")\n",
        "else:\n",
        "    print(\"0\")"
      ]
    },
    {
      "cell_type": "code",
      "execution_count": null,
      "id": "a1949d30",
      "metadata": {
        "id": "a1949d30",
        "outputId": "0c1cdce5-cc1f-49b1-b997-38dad1ebc3ed"
      },
      "outputs": [
        {
          "name": "stdout",
          "output_type": "stream",
          "text": [
            "enter the number123\n",
            "6\n"
          ]
        }
      ],
      "source": [
        "a=int(input(\"enter the number\"))\n",
        "fact=1\n",
        "while a>0:\n",
        "    i=a%10\n",
        "    fact=fact*i\n",
        "    a=a//10\n",
        "print(fact)"
      ]
    },
    {
      "cell_type": "code",
      "execution_count": null,
      "id": "b6e9de6e",
      "metadata": {
        "id": "b6e9de6e",
        "outputId": "e248da98-8b4c-449f-d56c-d8ea8347c092"
      },
      "outputs": [
        {
          "name": "stdout",
          "output_type": "stream",
          "text": [
            "a\n",
            "b\n",
            "c\n",
            "e\n",
            "c\n",
            "b\n",
            "a\n",
            "number of digits which are in same sequence is: 7\n"
          ]
        }
      ],
      "source": [
        "s=\"abcdefcba\"\n",
        "n=len(s)\n",
        "i=0\n",
        "for x in range(len(s)):\n",
        "    if s[x]==s[n-1]:\n",
        "        print(s[x])\n",
        "        i=i+1\n",
        "    x=x+1\n",
        "    n=n-1\n",
        "print(\"number of digits which are in same sequence is:\",i)"
      ]
    },
    {
      "cell_type": "code",
      "execution_count": null,
      "id": "01608f53",
      "metadata": {
        "id": "01608f53",
        "outputId": "86d96566-efb1-4998-84e0-b0455741cd68"
      },
      "outputs": [
        {
          "name": "stdout",
          "output_type": "stream",
          "text": [
            "5\n",
            "2\n",
            "2\n"
          ]
        }
      ],
      "source": [
        "a=int(input(\"\"))\n",
        "b=int(input(\"\"))\n",
        "gcd=1\n",
        "i=1\n",
        "while(i<=a and i<=b):\n",
        "    if(a%i==0 and b%i==0):\n",
        "        gcd=gcd+1\n",
        "    i=i+1\n",
        "print(gcd)"
      ]
    },
    {
      "cell_type": "code",
      "execution_count": null,
      "id": "e463727f",
      "metadata": {
        "id": "e463727f",
        "outputId": "9694a97f-cdef-40d9-adff-666d09bdbd2e"
      },
      "outputs": [
        {
          "name": "stdout",
          "output_type": "stream",
          "text": [
            "50\n",
            "45\n",
            "21\n",
            "78\n",
            "65\n"
          ]
        },
        {
          "ename": "TypeError",
          "evalue": "unsupported operand type(s) for //: 'str' and 'int'",
          "output_type": "error",
          "traceback": [
            "\u001b[1;31m---------------------------------------------------------------------------\u001b[0m",
            "\u001b[1;31mTypeError\u001b[0m                                 Traceback (most recent call last)",
            "\u001b[1;32m~\\AppData\\Local\\Temp/ipykernel_6732/1871326073.py\u001b[0m in \u001b[0;36m<module>\u001b[1;34m\u001b[0m\n\u001b[0;32m      5\u001b[0m \u001b[0me\u001b[0m\u001b[1;33m=\u001b[0m\u001b[0minput\u001b[0m\u001b[1;33m(\u001b[0m\u001b[1;34m\"\"\u001b[0m\u001b[1;33m)\u001b[0m\u001b[1;33m\u001b[0m\u001b[1;33m\u001b[0m\u001b[0m\n\u001b[0;32m      6\u001b[0m \u001b[0mtotal\u001b[0m\u001b[1;33m=\u001b[0m\u001b[0ma\u001b[0m\u001b[1;33m+\u001b[0m\u001b[0mb\u001b[0m\u001b[1;33m+\u001b[0m\u001b[0mc\u001b[0m\u001b[1;33m+\u001b[0m\u001b[0md\u001b[0m\u001b[1;33m+\u001b[0m\u001b[0me\u001b[0m\u001b[1;33m\u001b[0m\u001b[1;33m\u001b[0m\u001b[0m\n\u001b[1;32m----> 7\u001b[1;33m \u001b[0mavg\u001b[0m\u001b[1;33m=\u001b[0m\u001b[0mtotal\u001b[0m\u001b[1;33m//\u001b[0m\u001b[1;36m5\u001b[0m\u001b[1;33m\u001b[0m\u001b[1;33m\u001b[0m\u001b[0m\n\u001b[0m\u001b[0;32m      8\u001b[0m \u001b[1;32mif\u001b[0m \u001b[0mavg\u001b[0m\u001b[1;33m>=\u001b[0m\u001b[1;36m90\u001b[0m \u001b[1;32mand\u001b[0m \u001b[0mavg\u001b[0m\u001b[1;33m<=\u001b[0m\u001b[1;36m100\u001b[0m\u001b[1;33m:\u001b[0m\u001b[1;33m\u001b[0m\u001b[1;33m\u001b[0m\u001b[0m\n\u001b[0;32m      9\u001b[0m     \u001b[0mprint\u001b[0m\u001b[1;33m(\u001b[0m\u001b[1;34m\"O\"\u001b[0m\u001b[1;33m)\u001b[0m\u001b[1;33m\u001b[0m\u001b[1;33m\u001b[0m\u001b[0m\n",
            "\u001b[1;31mTypeError\u001b[0m: unsupported operand type(s) for //: 'str' and 'int'"
          ]
        }
      ],
      "source": [
        "a=input(\"\")\n",
        "b=input(\"\")\n",
        "c=input(\"\")\n",
        "d=input(\"\")\n",
        "e=input(\"\")\n",
        "total=a+b+c+d+e\n",
        "avg=total//5\n",
        "if avg>=90 and avg<=100:\n",
        "    print(\"O\")\n",
        "elif avg>=80 and avg<=89:\n",
        "    print(\"A+\")\n",
        "elif avg>=70 and avg<=79:\n",
        "    print(\"A \")\n",
        "elif avg>=60 and avg<=69:\n",
        "    print(\"B+\")\n",
        "elif avg>=40 and avg<=59:\n",
        "    print(\"C\")\n",
        "else:\n",
        "    print(\"F\")"
      ]
    },
    {
      "cell_type": "code",
      "execution_count": null,
      "id": "9e90ff50",
      "metadata": {
        "id": "9e90ff50",
        "outputId": "199d8651-6fa9-4e77-a173-3814df7f5e03"
      },
      "outputs": [
        {
          "name": "stdout",
          "output_type": "stream",
          "text": [
            "80\n",
            "90\n",
            "60\n",
            "100\n",
            "50\n",
            "A \n"
          ]
        }
      ],
      "source": [
        "a=int(input(\"\"))\n",
        "b=int(input(\"\"))\n",
        "c=int(input(\"\"))\n",
        "d=int(input(\"\"))\n",
        "e=int(input(\"\"))\n",
        "total=a+b+c+d+e\n",
        "avg=total//5\n",
        "if avg>=90 and avg<=100:\n",
        "    print(\"O\")\n",
        "elif avg>=80 and avg<=89:\n",
        "    print(\"A+\")\n",
        "elif avg>=70 and avg<=79:\n",
        "    print(\"A \")\n",
        "elif avg>=60 and avg<=69:\n",
        "    print(\"B+\")\n",
        "elif avg>=40 and avg<=59:\n",
        "    print(\"C\")\n",
        "else:\n",
        "    print(\"F\")"
      ]
    },
    {
      "cell_type": "markdown",
      "id": "f79494d7",
      "metadata": {
        "id": "f79494d7"
      },
      "source": [
        "# FILES"
      ]
    },
    {
      "cell_type": "code",
      "execution_count": null,
      "id": "8f236912",
      "metadata": {
        "id": "8f236912",
        "outputId": "a89cbf7a-9c28-411c-bdbd-21ea7cb0c394"
      },
      "outputs": [
        {
          "name": "stdout",
          "output_type": "stream",
          "text": [
            "kiran\n"
          ]
        }
      ],
      "source": [
        "k=open(\"koushik\",\"w\")\n",
        "k.write(\"kiran\")\n",
        "k.close()\n",
        "k=open(\"koushik\",\"r\")\n",
        "print(k.read())"
      ]
    },
    {
      "cell_type": "code",
      "execution_count": null,
      "id": "47270dbc",
      "metadata": {
        "id": "47270dbc",
        "outputId": "328a9483-d33a-403d-f5a2-a2254218ebd1"
      },
      "outputs": [
        {
          "name": "stdout",
          "output_type": "stream",
          "text": [
            "hi everyone this is koushik \n",
            "\n",
            " this is koushik\n"
          ]
        }
      ],
      "source": [
        "f=open(\"koushik.txt\",\"w\")\n",
        "f.write(\"hi everyone this is koushik \\n this is koushik\")\n",
        "f.close()\n",
        "f=open(\"koushik.txt\",\"r\")\n",
        "print(f.readline())\n",
        "print(f.readline()) \n",
        "f.close()"
      ]
    },
    {
      "cell_type": "code",
      "execution_count": null,
      "id": "86ccd710",
      "metadata": {
        "id": "86ccd710",
        "outputId": "8474ff65-947a-4375-964b-e2e6809af419"
      },
      "outputs": [
        {
          "name": "stdout",
          "output_type": "stream",
          "text": [
            "true\n"
          ]
        }
      ],
      "source": [
        "import os\n",
        "if os.path.exists(\"koushik.txt\"):\n",
        "    os.remove(\"koushik.txt\")\n",
        "else:\n",
        "    print(\"false\")\n"
      ]
    },
    {
      "cell_type": "code",
      "execution_count": null,
      "id": "248f6b2b",
      "metadata": {
        "id": "248f6b2b"
      },
      "outputs": [],
      "source": [
        "import os\n",
        "os.rmdir(\"C:\\\\Users\\CSE22004\\Documents\\Python Scripts\")\n"
      ]
    },
    {
      "cell_type": "code",
      "execution_count": null,
      "id": "0c6fc778",
      "metadata": {
        "id": "0c6fc778",
        "outputId": "8690a9c2-b51c-42e3-9f55-0e36ec8a3cf5"
      },
      "outputs": [
        {
          "ename": "FileNotFoundError",
          "evalue": "[Errno 2] No such file or directory: 'C:\\\\Users\\\\CSE22004\\\\Desktop\\\\96\\\\kiran'",
          "output_type": "error",
          "traceback": [
            "\u001b[1;31m---------------------------------------------------------------------------\u001b[0m",
            "\u001b[1;31mFileNotFoundError\u001b[0m                         Traceback (most recent call last)",
            "\u001b[1;32m~\\AppData\\Local\\Temp/ipykernel_9580/1969339660.py\u001b[0m in \u001b[0;36m<module>\u001b[1;34m\u001b[0m\n\u001b[1;32m----> 1\u001b[1;33m \u001b[0mf\u001b[0m\u001b[1;33m=\u001b[0m\u001b[0mopen\u001b[0m\u001b[1;33m(\u001b[0m\u001b[1;34m\"C:\\\\Users\\CSE22004\\Desktop\\96\\kiran\"\u001b[0m\u001b[1;33m)\u001b[0m\u001b[1;33m\u001b[0m\u001b[1;33m\u001b[0m\u001b[0m\n\u001b[0m\u001b[0;32m      2\u001b[0m \u001b[0mprint\u001b[0m\u001b[1;33m(\u001b[0m\u001b[0mf\u001b[0m\u001b[1;33m.\u001b[0m\u001b[0mread\u001b[0m\u001b[1;33m(\u001b[0m\u001b[1;33m)\u001b[0m\u001b[1;33m)\u001b[0m\u001b[1;33m\u001b[0m\u001b[1;33m\u001b[0m\u001b[0m\n",
            "\u001b[1;31mFileNotFoundError\u001b[0m: [Errno 2] No such file or directory: 'C:\\\\Users\\\\CSE22004\\\\Desktop\\\\96\\\\kiran'"
          ]
        }
      ],
      "source": [
        "f=open(\"C:\\\\Users\\CSE22004\\Desktop\\96\\kiran\")\n",
        "print(f.read())"
      ]
    },
    {
      "cell_type": "code",
      "execution_count": null,
      "id": "5d1dca4d",
      "metadata": {
        "id": "5d1dca4d",
        "outputId": "5d6a93ea-d50e-424b-8d8e-8b3cd92f4ac4"
      },
      "outputs": [
        {
          "name": "stdout",
          "output_type": "stream",
          "text": [
            "write hello\n"
          ]
        }
      ],
      "source": [
        "f=open(\"hello\",\"w\")\n",
        "f.write(\"write hello\")\n",
        "f.close()\n",
        "f=open(\"hello\",\"r\")\n",
        "print(f.read())"
      ]
    },
    {
      "cell_type": "code",
      "execution_count": null,
      "id": "5b3dfb32",
      "metadata": {
        "id": "5b3dfb32"
      },
      "outputs": [],
      "source": [
        "f=open(\"C:\\\\Users\\CSE22004\\Desktop\\hello.txt\",\"w\")\n",
        "f.write(\"it works\")\n",
        "f.close()"
      ]
    },
    {
      "cell_type": "code",
      "execution_count": null,
      "id": "2aede91b",
      "metadata": {
        "id": "2aede91b",
        "outputId": "2704ef47-092b-4fd7-ed5e-5a42280100a9"
      },
      "outputs": [
        {
          "name": "stdout",
          "output_type": "stream",
          "text": [
            "nope\n"
          ]
        }
      ],
      "source": [
        "import os\n",
        "if os.path.exists(\"C:\\\\Users\\CSE22004\\Desktop\\96\\kiran.txt\"):\n",
        "    os.remove(\"C:\\\\Users\\CSE22004\\Desktop\\96\\kiran.txt\")\n",
        "else:\n",
        "    print(\"nope\")"
      ]
    },
    {
      "cell_type": "code",
      "execution_count": null,
      "id": "84e094f5",
      "metadata": {
        "id": "84e094f5"
      },
      "outputs": [],
      "source": [
        "import os\n",
        "os.rmdir(\"C:\\\\Users\\CSE22004\\Desktop\\kiransike\")"
      ]
    },
    {
      "cell_type": "code",
      "execution_count": null,
      "id": "2d4d2bde",
      "metadata": {
        "id": "2d4d2bde",
        "outputId": "d1d12d12-e043-4c16-c6ab-bb9dec259977"
      },
      "outputs": [
        {
          "name": "stdout",
          "output_type": "stream",
          "text": [
            "fiuaghdfukiashdiua\n",
            "\n"
          ]
        }
      ],
      "source": [
        "f=open(\"C:\\\\Users\\CSE22004\\Desktop\\kiransike\\hello.txt\",\"r\")\n",
        "print(f.read())\n",
        "f.close()"
      ]
    },
    {
      "cell_type": "code",
      "execution_count": null,
      "id": "fdf1c126",
      "metadata": {
        "id": "fdf1c126"
      },
      "outputs": [],
      "source": [
        "import os\n",
        "if os.path.exists(\"C:\\\\Users\\CSE22004\\Desktop\\kiransike\\hello.txt\"):\n",
        "    os.remove(\"C:\\\\Users\\CSE22004\\Desktop\\kiransike\\hello.txt\")\n",
        "else:\n",
        "    print(\"nope\")\n",
        "os.rmdir(\"C:\\\\Users\\CSE22004\\Desktop\\kiransike\")"
      ]
    },
    {
      "cell_type": "markdown",
      "id": "b6ed999f",
      "metadata": {
        "id": "b6ed999f"
      },
      "source": [
        "# MODULE 3"
      ]
    },
    {
      "cell_type": "code",
      "execution_count": null,
      "id": "d233a7a3",
      "metadata": {
        "id": "d233a7a3",
        "outputId": "3796ab7f-35a6-48a0-b865-537097f98292"
      },
      "outputs": [
        {
          "name": "stdout",
          "output_type": "stream",
          "text": [
            "this is koushik\n"
          ]
        }
      ],
      "source": [
        "#f=open(\"D:\\\\readfile.txt\",\"r\")\n",
        "#print(f.read())\n",
        "f=open(\"demo.txt\",\"w\")\n",
        "f.write(\"this is koushik\")\n",
        "f.close()\n",
        "f=open(\"demo.txt\",\"r\")\n",
        "print(f.read())\n"
      ]
    },
    {
      "cell_type": "code",
      "execution_count": null,
      "id": "835fe115",
      "metadata": {
        "id": "835fe115",
        "outputId": "b0adc94c-349d-4394-ea23-95a8e3d28903"
      },
      "outputs": [
        {
          "name": "stdout",
          "output_type": "stream",
          "text": [
            "this is koushik\n"
          ]
        }
      ],
      "source": [
        "f=open(\"demo.txt\",\"w\")\n",
        "f.write(\"this is koushik\")\n",
        "f.close()\n",
        "f=open(\"demo.txt\",\"r\")\n",
        "print(f.readline())\n"
      ]
    },
    {
      "cell_type": "code",
      "execution_count": null,
      "id": "81361edb",
      "metadata": {
        "id": "81361edb",
        "outputId": "67ffce85-7d33-4d54-d31d-fdbfc4d972fb"
      },
      "outputs": [
        {
          "name": "stdout",
          "output_type": "stream",
          "text": [
            "this is koushik\n",
            "this is koushikthis is kiran\n"
          ]
        }
      ],
      "source": [
        "f=open(\"demo.txt\",\"w\")\n",
        "f.write(\"this is koushik\")\n",
        "f.close()\n",
        "f=open(\"demo.txt\",\"r\")\n",
        "print(f.readline())\n",
        "f.close()\n",
        "f=open(\"demo.txt\",\"a\") ###append \n",
        "f.write(\"this is kiran\")\n",
        "f.close()\n",
        "f=open(\"demo.txt\",\"r\")\n",
        "print(f.read())\n"
      ]
    },
    {
      "cell_type": "code",
      "execution_count": null,
      "id": "89078c8f",
      "metadata": {
        "id": "89078c8f",
        "outputId": "02ce5902-916f-45f4-b29e-d330f4fdc8c0"
      },
      "outputs": [
        {
          "name": "stdout",
          "output_type": "stream",
          "text": [
            "['f', 'a', 'f', 'a', 'f', 'a', 'f', 'f', 'a', 'f', 'd']\n",
            " 0\n"
          ]
        }
      ],
      "source": [
        "f=open(\"hey.txt\",\"w\")\n",
        "f.write(\"f a f a f a f f a f d\")\n",
        "f.close()\n",
        "f=open(\"hey.txt\",\"r\")\n",
        "c=0\n",
        "z=\"\"\n",
        "print(f.read().split())\n",
        "for x in f.read().split():\n",
        "    z=z+x\n",
        "    if \"f\"==x:\n",
        "        c=c+1\n",
        "print(z,c)"
      ]
    },
    {
      "cell_type": "code",
      "execution_count": null,
      "id": "c764b882",
      "metadata": {
        "id": "c764b882",
        "outputId": "4df70bb6-f37c-42f9-afa4-86a77ff8dacf"
      },
      "outputs": [
        {
          "name": "stdout",
          "output_type": "stream",
          "text": [
            "koushik\n"
          ]
        }
      ],
      "source": [
        "f=open(\"kou.txt\",\"w\")\n",
        "f.write(\"koushik\")\n",
        "f.close()\n",
        "g=open(\"kou.txt\",\"r\")\n",
        "b=g.read()\n",
        "g.close()\n",
        "f=open(\"kiran.txt\",\"w\")\n",
        "f.write(b)\n",
        "f.close()\n",
        "f=open(\"kiran.txt\",\"r\")\n",
        "print(f.read())"
      ]
    },
    {
      "cell_type": "code",
      "execution_count": null,
      "id": "6feff695",
      "metadata": {
        "id": "6feff695",
        "outputId": "9a5eebb6-0fdd-43b1-f952-f1ff5c229c8c"
      },
      "outputs": [
        {
          "name": "stdout",
          "output_type": "stream",
          "text": [
            "abc\n"
          ]
        }
      ],
      "source": [
        "x=[\"a\",\"b\",\"c\"]\n",
        "b=\"\"\n",
        "for x in x:\n",
        "     b=b+(x)\n",
        "print(b)\n",
        "        "
      ]
    },
    {
      "cell_type": "code",
      "execution_count": null,
      "id": "5d3107a7",
      "metadata": {
        "id": "5d3107a7",
        "outputId": "12f83c8e-4adb-4e8b-ad4d-2848c1e751e1"
      },
      "outputs": [
        {
          "name": "stdout",
          "output_type": "stream",
          "text": [
            "['acb', 'cbd']\n"
          ]
        }
      ],
      "source": [
        "s=\"acb cbd\"\n",
        "a=s.split().copy()\n",
        "print(a)"
      ]
    },
    {
      "cell_type": "code",
      "execution_count": null,
      "id": "ce9781b6",
      "metadata": {
        "scrolled": true,
        "id": "ce9781b6",
        "outputId": "ba690d4d-349f-4084-cc61-2372679765dc"
      },
      "outputs": [
        {
          "name": "stdout",
          "output_type": "stream",
          "text": [
            "2\n",
            "4\n"
          ]
        }
      ],
      "source": [
        "f=open(\"koushik.txt\",\"w\")\n",
        "f.write(\"12345\")\n",
        "f.close()\n",
        "f=open(\"koushik.txt\",\"r\")\n",
        "b=[]\n",
        "for x in f.read():\n",
        "    b.append(int(x))\n",
        "for x in b:\n",
        "    if x%2==0:\n",
        "        print(x)"
      ]
    },
    {
      "cell_type": "code",
      "execution_count": null,
      "id": "1a5c2c46",
      "metadata": {
        "id": "1a5c2c46",
        "outputId": "161872d7-29e0-46ad-b069-6e006c7cf996"
      },
      "outputs": [
        {
          "name": "stdout",
          "output_type": "stream",
          "text": [
            "   s.no     name  age\n",
            "0     1  koushik   18\n",
            "1     2    kiran   19\n"
          ]
        }
      ],
      "source": [
        "import pandas as pd\n",
        "b=pd.read_csv(\"C:\\\\Users\\CSE22004\\Desktop\\\\demo.csv\")\n",
        "print(b.to_string())"
      ]
    },
    {
      "cell_type": "code",
      "execution_count": null,
      "id": "b563b67a",
      "metadata": {
        "id": "b563b67a",
        "outputId": "2de11a0c-ca1e-42b1-863a-8e70b4349d0b"
      },
      "outputs": [
        {
          "name": "stdout",
          "output_type": "stream",
          "text": [
            "   s.no  name  age grade\n",
            "2   3.0   fsf    3     b\n",
            "4   5.0  assa   20     c\n"
          ]
        }
      ],
      "source": [
        "import pandas as pd\n",
        "a=pd.read_csv(\"C:\\\\Users\\CSE22004\\Documents\\koushik\\\\koushik.csv.csv\")\n",
        "b=pd.DataFrame(a)\n",
        "print(b.loc[[2,4]])"
      ]
    },
    {
      "cell_type": "code",
      "execution_count": null,
      "id": "a062f41c",
      "metadata": {
        "id": "a062f41c",
        "outputId": "cc5440f8-6d37-45ef-96be-a7feeddd71f7"
      },
      "outputs": [
        {
          "name": "stdout",
          "output_type": "stream",
          "text": [
            "1    19\n",
            "2     3\n",
            "3    19\n",
            "4    20\n",
            "5    17\n",
            "6    18\n",
            "Name: age, dtype: int64\n"
          ]
        }
      ],
      "source": [
        "import pandas as pd\n",
        "a=pd.read_csv(\"C:\\\\Users\\CSE22004\\Documents\\koushik\\\\koushik.csv.csv\")\n",
        "b=pd.DataFrame(a)\n",
        "print(b.loc[[1]] [\"age\"])"
      ]
    },
    {
      "cell_type": "code",
      "execution_count": null,
      "id": "2638f24f",
      "metadata": {
        "id": "2638f24f",
        "outputId": "58736fb1-f416-4a95-d76d-6c80653e7813"
      },
      "outputs": [
        {
          "name": "stdout",
          "output_type": "stream",
          "text": [
            "   s.no     name  age grade\n",
            "0   NaN  koushik   18     a\n",
            "1   2.0    kiran   19     a\n",
            "3   4.0     ddad   19     b\n",
            "6   7.0      fsd   18     b\n"
          ]
        }
      ],
      "source": [
        "import pandas as pd\n",
        "a=pd.read_csv(\"C:\\\\Users\\CSE22004\\Documents\\koushik\\\\koushik.csv.csv\")\n",
        "b=pd.DataFrame(a)\n",
        "print(b.loc[(b[\"age\"]==18) | (b[\"age\"]==19)])"
      ]
    },
    {
      "cell_type": "code",
      "execution_count": null,
      "id": "b5ee2c8d",
      "metadata": {
        "id": "b5ee2c8d",
        "outputId": "6f4bbd8f-b53b-454f-bba6-6d98f6bed6f9"
      },
      "outputs": [
        {
          "name": "stdout",
          "output_type": "stream",
          "text": [
            "3 14 74\n"
          ]
        }
      ],
      "source": [
        "f=open(\"C:\\\\Users\\CSE22004\\Desktop\\\\module.txt\",\"r\")\n",
        "lines=0\n",
        "words=0\n",
        "letters=0\n",
        "for x in f.readlines():\n",
        "    lines=lines+1\n",
        "    words=words+len(x.split())\n",
        "    letters=letters+len(x.strip(\"\\n\"))\n",
        "print(lines,words,letters)"
      ]
    },
    {
      "cell_type": "code",
      "execution_count": null,
      "id": "71460427",
      "metadata": {
        "id": "71460427",
        "outputId": "499390b8-f7f0-461d-8232-a8880001a30b"
      },
      "outputs": [
        {
          "name": "stdout",
          "output_type": "stream",
          "text": [
            "lines 3\n",
            "words 14\n",
            "letters 74\n"
          ]
        }
      ],
      "source": [
        "f=open(\"C:\\\\Users\\CSE22004\\Desktop\\\\module.txt\",\"r\")\n",
        "lines=0\n",
        "words=0\n",
        "letters=0\n",
        "for x in f.readlines():\n",
        "    lines=lines+1\n",
        "    words=words+len(x.split())\n",
        "    letters=letters+len(x.strip())\n",
        "print(\"lines\",lines)\n",
        "print(\"words\",words)\n",
        "print(\"letters\",letters)"
      ]
    },
    {
      "cell_type": "code",
      "execution_count": null,
      "id": "f986879f",
      "metadata": {
        "id": "f986879f",
        "outputId": "d9b3ce61-2a3f-4813-9da5-dd52f9bf23f7"
      },
      "outputs": [
        {
          "name": "stdout",
          "output_type": "stream",
          "text": [
            "24\n",
            "135\n"
          ]
        }
      ],
      "source": [
        "f=open(\"koushik.txt\",\"w\")\n",
        "f.write(\"12345\")\n",
        "f.close()\n",
        "p=open(\"demo1\",\"w\")\n",
        "y=open(\"demo2\",\"w\")\n",
        "f=open(\"koushik.txt\",\"r\")\n",
        "b=[]\n",
        "for x in f.read():\n",
        "    b.append(int(x))\n",
        "for x in b:\n",
        "    if x%2==0:\n",
        "        p.write(str(x))\n",
        "    else:\n",
        "        y.write(str(x))\n",
        "p.close()\n",
        "y.close()\n",
        "p=open(\"demo1\",\"r\")\n",
        "y=open(\"demo2\",\"r\")\n",
        "print(p.read())\n",
        "print(y.read())\n",
        "        "
      ]
    },
    {
      "cell_type": "markdown",
      "id": "5d82ec57",
      "metadata": {
        "id": "5d82ec57"
      },
      "source": [
        "# PANDAS"
      ]
    },
    {
      "cell_type": "code",
      "execution_count": null,
      "id": "0f116250",
      "metadata": {
        "id": "0f116250",
        "outputId": "86bd6f2b-7b35-45fc-9b94-0f8be43c8524"
      },
      "outputs": [
        {
          "name": "stdout",
          "output_type": "stream",
          "text": [
            "       car type\n",
            "0     benz   f1\n",
            "1  ferrari   f2\n",
            "2    aston   f3\n"
          ]
        }
      ],
      "source": [
        "import pandas as pd\n",
        "a={\n",
        "    \"car\":[\"benz\",\"ferrari\",\"aston\"],\n",
        "    \"type\":[\"f1\",\"f2\",\"f3\"]\n",
        "}\n",
        "b=pd.DataFrame(a)\n",
        "print(b)"
      ]
    },
    {
      "cell_type": "code",
      "execution_count": null,
      "id": "aea7661e",
      "metadata": {
        "id": "aea7661e",
        "outputId": "cc5057e4-af2c-4031-910d-2455e65c5cb4"
      },
      "outputs": [
        {
          "name": "stdout",
          "output_type": "stream",
          "text": [
            "1.3.4\n"
          ]
        }
      ],
      "source": [
        "import pandas as pd\n",
        "print(pd.__version__)"
      ]
    },
    {
      "cell_type": "code",
      "execution_count": null,
      "id": "8476a24b",
      "metadata": {
        "id": "8476a24b",
        "outputId": "e5fd78cf-2f25-4bdb-ecfb-839d0d828fae"
      },
      "outputs": [
        {
          "name": "stdout",
          "output_type": "stream",
          "text": [
            "0    1\n",
            "1    2\n",
            "2    3\n",
            "3    4\n",
            "4    5\n",
            "dtype: int64\n"
          ]
        }
      ],
      "source": [
        "import pandas as pd\n",
        "a=[1,2,3,4,5]\n",
        "b=pd.Series(a)\n",
        "print(b)"
      ]
    },
    {
      "cell_type": "code",
      "execution_count": null,
      "id": "c946d0e6",
      "metadata": {
        "id": "c946d0e6",
        "outputId": "0b29d8ff-a10d-491f-b507-e35153954078"
      },
      "outputs": [
        {
          "name": "stdout",
          "output_type": "stream",
          "text": [
            "2\n"
          ]
        }
      ],
      "source": [
        "import pandas as pd\n",
        "a=[1,2,3,4,5]\n",
        "b=pd.Series(a)\n",
        "print(b[1])"
      ]
    },
    {
      "cell_type": "code",
      "execution_count": null,
      "id": "1b3517be",
      "metadata": {
        "id": "1b3517be",
        "outputId": "9529e13a-004d-4626-cd0b-491fde748337"
      },
      "outputs": [
        {
          "name": "stdout",
          "output_type": "stream",
          "text": [
            "a    1\n",
            "b    2\n",
            "c    3\n",
            "d    4\n",
            "e    5\n",
            "dtype: int64\n"
          ]
        }
      ],
      "source": [
        "import pandas as pd\n",
        "a=[1,2,3,4,5]\n",
        "b=pd.Series(a,index=[\"a\",\"b\",\"c\",\"d\",\"e\"])\n",
        "print(b)"
      ]
    },
    {
      "cell_type": "code",
      "execution_count": null,
      "id": "2233bc16",
      "metadata": {
        "id": "2233bc16",
        "outputId": "449d7e84-0c56-4b38-c676-017825c701d3"
      },
      "outputs": [
        {
          "name": "stdout",
          "output_type": "stream",
          "text": [
            "      name  age\n",
            "0  koushik   18\n",
            "1    kiran   19\n",
            "2      xyz   20\n"
          ]
        }
      ],
      "source": [
        "import pandas as pd\n",
        "a={\n",
        "    \"name\":[\"koushik\",\"kiran\",\"xyz\"],\n",
        "    \"age\":[18,19,20]\n",
        "}\n",
        "b=pd.DataFrame(a)\n",
        "print(b)"
      ]
    },
    {
      "cell_type": "code",
      "execution_count": null,
      "id": "67077296",
      "metadata": {
        "id": "67077296",
        "outputId": "4d73eb23-6e24-4c62-d764-56150afd1448"
      },
      "outputs": [
        {
          "name": "stdout",
          "output_type": "stream",
          "text": [
            "      name  age\n",
            "x  koushik   18\n",
            "y    kiran   19\n",
            "z      xyz   20\n"
          ]
        }
      ],
      "source": [
        "import pandas as pd\n",
        "a={\n",
        "    \"name\":[\"koushik\",\"kiran\",\"xyz\"],\n",
        "    \"age\":[18,19,20]\n",
        "}\n",
        "b=pd.DataFrame(a,index=[\"x\",\"y\",\"z\"])\n",
        "print(b)"
      ]
    },
    {
      "cell_type": "code",
      "execution_count": null,
      "id": "e0967356",
      "metadata": {
        "id": "e0967356",
        "outputId": "58ec3f6c-9938-4e59-aa0f-1ab7e360450a"
      },
      "outputs": [
        {
          "name": "stdout",
          "output_type": "stream",
          "text": [
            "      name  age\n",
            "0  koushik   18\n",
            "1    kiran   19\n",
            "2      xyz   20\n",
            "name    koushik\n",
            "age          18\n",
            "Name: 0, dtype: object\n"
          ]
        }
      ],
      "source": [
        "import pandas as pd\n",
        "a={\n",
        "    \"name\":[\"koushik\",\"kiran\",\"xyz\"],\n",
        "    \"age\":[18,19,20]\n",
        "}\n",
        "b=pd.DataFrame(a)\n",
        "print(b)\n",
        "print(b.loc[0])"
      ]
    },
    {
      "cell_type": "code",
      "execution_count": null,
      "id": "cb277fb9",
      "metadata": {
        "id": "cb277fb9",
        "outputId": "208b6d59-297f-4793-b6bc-1d9a83fa72be"
      },
      "outputs": [
        {
          "name": "stdout",
          "output_type": "stream",
          "text": [
            "      name  age\n",
            "0  koushik   18\n",
            "1    kiran   19\n"
          ]
        }
      ],
      "source": [
        "import pandas as pd\n",
        "a={\n",
        "    \"name\":[\"koushik\",\"kiran\",\"xyz\"],\n",
        "    \"age\":[18,19,20]\n",
        "}\n",
        "b=pd.DataFrame(a)\n",
        "print(b.loc[[0,1]])### double brackets"
      ]
    },
    {
      "cell_type": "code",
      "execution_count": null,
      "id": "b2031aca",
      "metadata": {
        "id": "b2031aca"
      },
      "outputs": [],
      "source": [
        "import pandas as pd\n",
        "a={\n",
        "    \"name\":[\"koushik\",\"kiran\",\"xyz\"],\n",
        "    \"age\":[18,19,20]\n",
        "}\n",
        "b=pd.DataFrame(a)\n",
        "f=open(\"koushik.csv\",\"w\")\n",
        "f.write(b)\n",
        "f.close()\n",
        "f=open(\"koushik.csv\",\"r\")\n",
        "print(f.read())\n",
        "#ERROR"
      ]
    },
    {
      "cell_type": "code",
      "execution_count": null,
      "id": "65daedee",
      "metadata": {
        "id": "65daedee",
        "outputId": "4ac7b941-e927-4db0-d032-980b8409d8bb"
      },
      "outputs": [
        {
          "name": "stdout",
          "output_type": "stream",
          "text": [
            "   s.no     name  age\n",
            "0     1  koushik   18\n",
            "1     2    kiran   19\n"
          ]
        }
      ],
      "source": [
        "import pandas as pd\n",
        "b=pd.read_csv(\"C:\\\\Users\\CSE22004\\Desktop\\\\demo.csv\")\n",
        "print(b.to_string())#to string prints entire data frame\n",
        "#print(b)#this may not print entire data frame if it is too large"
      ]
    },
    {
      "cell_type": "code",
      "execution_count": null,
      "id": "84b2382b",
      "metadata": {
        "id": "84b2382b",
        "outputId": "6ccf2a66-c97b-4ba7-d5c4-c79aee66ba0c"
      },
      "outputs": [
        {
          "name": "stdout",
          "output_type": "stream",
          "text": [
            "60\n",
            "1000\n"
          ]
        }
      ],
      "source": [
        "import pandas as pd\n",
        "print(pd.options.display.max_rows)\n",
        "pd.options.display.max_rows=1000\n",
        "print(pd.options.display.max_rows)"
      ]
    },
    {
      "cell_type": "code",
      "execution_count": null,
      "id": "8abfe143",
      "metadata": {
        "id": "8abfe143",
        "outputId": "009d9ef2-f367-4835-ea51-5e4dd52fbce4"
      },
      "outputs": [
        {
          "name": "stdout",
          "output_type": "stream",
          "text": [
            "      name  age\n",
            "1  koushik   18\n",
            "2        x   19\n",
            "3        y   20\n",
            "4        z   21\n",
            "      name  age\n",
            "1  koushik   18\n",
            "2        x   19\n",
            "3        y   20\n",
            "4        z   21\n",
            "1000\n"
          ]
        }
      ],
      "source": [
        "import pandas as pd\n",
        "a={\n",
        "    \"name\":[\"koushik\",\"x\",\"y\",\"z\"],\n",
        "    \"age\":[18,19,20,21]\n",
        "}\n",
        "b=pd.DataFrame(a,index=[1,2,3,4])\n",
        "print(b.head(5))#heads display the starting rows of a file\n",
        "print(b.tail(5))\n",
        "print(pd.options.display.max_rows)"
      ]
    },
    {
      "cell_type": "code",
      "execution_count": null,
      "id": "5e86fc8c",
      "metadata": {
        "id": "5e86fc8c",
        "outputId": "43a5e392-bb87-4dc3-9d7a-a21485d5bd86"
      },
      "outputs": [
        {
          "name": "stdout",
          "output_type": "stream",
          "text": [
            "name     z\n",
            "age     21\n",
            "Name: 4, dtype: object\n",
            "3\n"
          ]
        }
      ],
      "source": [
        "import pandas as pd \n",
        "a={\n",
        "    \"name\":[\"koushik\",\"x\",\"y\",\"z\"],\n",
        "    \"age\":[18,19,20,21]\n",
        "}\n",
        "b=pd.DataFrame(a,index=[1,2,3,4])\n",
        "print(b.loc[4])\n",
        "b=[2,3,4,5]\n",
        "c=pd.Series(b,index=[\"x\",\"y\",\"z\",\"a\"])\n",
        "print(c[\"y\"])"
      ]
    },
    {
      "cell_type": "code",
      "execution_count": null,
      "id": "cc29215a",
      "metadata": {
        "id": "cc29215a",
        "outputId": "00e0cf80-3994-41b9-8a7b-7b327dd04263"
      },
      "outputs": [
        {
          "name": "stdout",
          "output_type": "stream",
          "text": [
            "<class 'pandas.core.frame.DataFrame'>\n",
            "RangeIndex: 4 entries, 0 to 3\n",
            "Data columns (total 2 columns):\n",
            " #   Column  Non-Null Count  Dtype \n",
            "---  ------  --------------  ----- \n",
            " 0   name    4 non-null      object\n",
            " 1   age     4 non-null      int64 \n",
            "dtypes: int64(1), object(1)\n",
            "memory usage: 192.0+ bytes\n",
            "None\n"
          ]
        }
      ],
      "source": [
        "import pandas as pd \n",
        "a={\n",
        "    \"name\":[\"koushik\",\"x\",\"y\",\"z\"],\n",
        "    \"age\":[18,19,20,21]\n",
        "}\n",
        "b=pd.DataFrame(a)\n",
        "print(b.info())"
      ]
    },
    {
      "cell_type": "code",
      "execution_count": null,
      "id": "241706dd",
      "metadata": {
        "id": "241706dd",
        "outputId": "74c873ab-eadb-4a75-e104-beaf0e94467c"
      },
      "outputs": [
        {
          "ename": "FileNotFoundError",
          "evalue": "[Errno 2] No such file or directory: 'C:\\\\Users\\\\CSE22004\\\\Desktop\\\\koushik.csv.csv'",
          "output_type": "error",
          "traceback": [
            "\u001b[1;31m---------------------------------------------------------------------------\u001b[0m",
            "\u001b[1;31mFileNotFoundError\u001b[0m                         Traceback (most recent call last)",
            "\u001b[1;32m~\\AppData\\Local\\Temp/ipykernel_692/216238256.py\u001b[0m in \u001b[0;36m<module>\u001b[1;34m\u001b[0m\n\u001b[0;32m      1\u001b[0m \u001b[1;32mimport\u001b[0m \u001b[0mpandas\u001b[0m \u001b[1;32mas\u001b[0m \u001b[0mpd\u001b[0m\u001b[1;33m\u001b[0m\u001b[1;33m\u001b[0m\u001b[0m\n\u001b[1;32m----> 2\u001b[1;33m \u001b[0ma\u001b[0m\u001b[1;33m=\u001b[0m\u001b[0mpd\u001b[0m\u001b[1;33m.\u001b[0m\u001b[0mread_csv\u001b[0m\u001b[1;33m(\u001b[0m\u001b[1;34m\"C:\\\\Users\\CSE22004\\Desktop\\\\koushik.csv.csv\"\u001b[0m\u001b[1;33m)\u001b[0m\u001b[1;33m\u001b[0m\u001b[1;33m\u001b[0m\u001b[0m\n\u001b[0m\u001b[0;32m      3\u001b[0m \u001b[0mprint\u001b[0m\u001b[1;33m(\u001b[0m\u001b[0ma\u001b[0m\u001b[1;33m.\u001b[0m\u001b[0mloc\u001b[0m\u001b[1;33m[\u001b[0m\u001b[1;36m2\u001b[0m\u001b[1;33m:\u001b[0m\u001b[1;36m5\u001b[0m\u001b[1;33m,\u001b[0m\u001b[1;33m[\u001b[0m\u001b[1;34m\"name\"\u001b[0m\u001b[1;33m]\u001b[0m\u001b[1;33m]\u001b[0m\u001b[1;33m)\u001b[0m\u001b[1;31m#by using location\u001b[0m\u001b[1;33m\u001b[0m\u001b[1;33m\u001b[0m\u001b[0m\n\u001b[0;32m      4\u001b[0m \u001b[0mprint\u001b[0m\u001b[1;33m(\u001b[0m\u001b[0ma\u001b[0m\u001b[1;33m[\u001b[0m\u001b[1;36m2\u001b[0m\u001b[1;33m:\u001b[0m\u001b[1;36m5\u001b[0m\u001b[1;33m]\u001b[0m \u001b[1;33m[\u001b[0m\u001b[1;33m[\u001b[0m\u001b[1;34m\"name\"\u001b[0m\u001b[1;33m]\u001b[0m\u001b[1;33m]\u001b[0m\u001b[1;33m)\u001b[0m\u001b[1;31m#normal call\u001b[0m\u001b[1;33m\u001b[0m\u001b[1;33m\u001b[0m\u001b[0m\n",
            "\u001b[1;32mE:\\Om_N_oM\\lib\\site-packages\\pandas\\util\\_decorators.py\u001b[0m in \u001b[0;36mwrapper\u001b[1;34m(*args, **kwargs)\u001b[0m\n\u001b[0;32m    309\u001b[0m                     \u001b[0mstacklevel\u001b[0m\u001b[1;33m=\u001b[0m\u001b[0mstacklevel\u001b[0m\u001b[1;33m,\u001b[0m\u001b[1;33m\u001b[0m\u001b[1;33m\u001b[0m\u001b[0m\n\u001b[0;32m    310\u001b[0m                 )\n\u001b[1;32m--> 311\u001b[1;33m             \u001b[1;32mreturn\u001b[0m \u001b[0mfunc\u001b[0m\u001b[1;33m(\u001b[0m\u001b[1;33m*\u001b[0m\u001b[0margs\u001b[0m\u001b[1;33m,\u001b[0m \u001b[1;33m**\u001b[0m\u001b[0mkwargs\u001b[0m\u001b[1;33m)\u001b[0m\u001b[1;33m\u001b[0m\u001b[1;33m\u001b[0m\u001b[0m\n\u001b[0m\u001b[0;32m    312\u001b[0m \u001b[1;33m\u001b[0m\u001b[0m\n\u001b[0;32m    313\u001b[0m         \u001b[1;32mreturn\u001b[0m \u001b[0mwrapper\u001b[0m\u001b[1;33m\u001b[0m\u001b[1;33m\u001b[0m\u001b[0m\n",
            "\u001b[1;32mE:\\Om_N_oM\\lib\\site-packages\\pandas\\io\\parsers\\readers.py\u001b[0m in \u001b[0;36mread_csv\u001b[1;34m(filepath_or_buffer, sep, delimiter, header, names, index_col, usecols, squeeze, prefix, mangle_dupe_cols, dtype, engine, converters, true_values, false_values, skipinitialspace, skiprows, skipfooter, nrows, na_values, keep_default_na, na_filter, verbose, skip_blank_lines, parse_dates, infer_datetime_format, keep_date_col, date_parser, dayfirst, cache_dates, iterator, chunksize, compression, thousands, decimal, lineterminator, quotechar, quoting, doublequote, escapechar, comment, encoding, encoding_errors, dialect, error_bad_lines, warn_bad_lines, on_bad_lines, delim_whitespace, low_memory, memory_map, float_precision, storage_options)\u001b[0m\n\u001b[0;32m    584\u001b[0m     \u001b[0mkwds\u001b[0m\u001b[1;33m.\u001b[0m\u001b[0mupdate\u001b[0m\u001b[1;33m(\u001b[0m\u001b[0mkwds_defaults\u001b[0m\u001b[1;33m)\u001b[0m\u001b[1;33m\u001b[0m\u001b[1;33m\u001b[0m\u001b[0m\n\u001b[0;32m    585\u001b[0m \u001b[1;33m\u001b[0m\u001b[0m\n\u001b[1;32m--> 586\u001b[1;33m     \u001b[1;32mreturn\u001b[0m \u001b[0m_read\u001b[0m\u001b[1;33m(\u001b[0m\u001b[0mfilepath_or_buffer\u001b[0m\u001b[1;33m,\u001b[0m \u001b[0mkwds\u001b[0m\u001b[1;33m)\u001b[0m\u001b[1;33m\u001b[0m\u001b[1;33m\u001b[0m\u001b[0m\n\u001b[0m\u001b[0;32m    587\u001b[0m \u001b[1;33m\u001b[0m\u001b[0m\n\u001b[0;32m    588\u001b[0m \u001b[1;33m\u001b[0m\u001b[0m\n",
            "\u001b[1;32mE:\\Om_N_oM\\lib\\site-packages\\pandas\\io\\parsers\\readers.py\u001b[0m in \u001b[0;36m_read\u001b[1;34m(filepath_or_buffer, kwds)\u001b[0m\n\u001b[0;32m    480\u001b[0m \u001b[1;33m\u001b[0m\u001b[0m\n\u001b[0;32m    481\u001b[0m     \u001b[1;31m# Create the parser.\u001b[0m\u001b[1;33m\u001b[0m\u001b[1;33m\u001b[0m\u001b[0m\n\u001b[1;32m--> 482\u001b[1;33m     \u001b[0mparser\u001b[0m \u001b[1;33m=\u001b[0m \u001b[0mTextFileReader\u001b[0m\u001b[1;33m(\u001b[0m\u001b[0mfilepath_or_buffer\u001b[0m\u001b[1;33m,\u001b[0m \u001b[1;33m**\u001b[0m\u001b[0mkwds\u001b[0m\u001b[1;33m)\u001b[0m\u001b[1;33m\u001b[0m\u001b[1;33m\u001b[0m\u001b[0m\n\u001b[0m\u001b[0;32m    483\u001b[0m \u001b[1;33m\u001b[0m\u001b[0m\n\u001b[0;32m    484\u001b[0m     \u001b[1;32mif\u001b[0m \u001b[0mchunksize\u001b[0m \u001b[1;32mor\u001b[0m \u001b[0miterator\u001b[0m\u001b[1;33m:\u001b[0m\u001b[1;33m\u001b[0m\u001b[1;33m\u001b[0m\u001b[0m\n",
            "\u001b[1;32mE:\\Om_N_oM\\lib\\site-packages\\pandas\\io\\parsers\\readers.py\u001b[0m in \u001b[0;36m__init__\u001b[1;34m(self, f, engine, **kwds)\u001b[0m\n\u001b[0;32m    809\u001b[0m             \u001b[0mself\u001b[0m\u001b[1;33m.\u001b[0m\u001b[0moptions\u001b[0m\u001b[1;33m[\u001b[0m\u001b[1;34m\"has_index_names\"\u001b[0m\u001b[1;33m]\u001b[0m \u001b[1;33m=\u001b[0m \u001b[0mkwds\u001b[0m\u001b[1;33m[\u001b[0m\u001b[1;34m\"has_index_names\"\u001b[0m\u001b[1;33m]\u001b[0m\u001b[1;33m\u001b[0m\u001b[1;33m\u001b[0m\u001b[0m\n\u001b[0;32m    810\u001b[0m \u001b[1;33m\u001b[0m\u001b[0m\n\u001b[1;32m--> 811\u001b[1;33m         \u001b[0mself\u001b[0m\u001b[1;33m.\u001b[0m\u001b[0m_engine\u001b[0m \u001b[1;33m=\u001b[0m \u001b[0mself\u001b[0m\u001b[1;33m.\u001b[0m\u001b[0m_make_engine\u001b[0m\u001b[1;33m(\u001b[0m\u001b[0mself\u001b[0m\u001b[1;33m.\u001b[0m\u001b[0mengine\u001b[0m\u001b[1;33m)\u001b[0m\u001b[1;33m\u001b[0m\u001b[1;33m\u001b[0m\u001b[0m\n\u001b[0m\u001b[0;32m    812\u001b[0m \u001b[1;33m\u001b[0m\u001b[0m\n\u001b[0;32m    813\u001b[0m     \u001b[1;32mdef\u001b[0m \u001b[0mclose\u001b[0m\u001b[1;33m(\u001b[0m\u001b[0mself\u001b[0m\u001b[1;33m)\u001b[0m\u001b[1;33m:\u001b[0m\u001b[1;33m\u001b[0m\u001b[1;33m\u001b[0m\u001b[0m\n",
            "\u001b[1;32mE:\\Om_N_oM\\lib\\site-packages\\pandas\\io\\parsers\\readers.py\u001b[0m in \u001b[0;36m_make_engine\u001b[1;34m(self, engine)\u001b[0m\n\u001b[0;32m   1038\u001b[0m             )\n\u001b[0;32m   1039\u001b[0m         \u001b[1;31m# error: Too many arguments for \"ParserBase\"\u001b[0m\u001b[1;33m\u001b[0m\u001b[1;33m\u001b[0m\u001b[0m\n\u001b[1;32m-> 1040\u001b[1;33m         \u001b[1;32mreturn\u001b[0m \u001b[0mmapping\u001b[0m\u001b[1;33m[\u001b[0m\u001b[0mengine\u001b[0m\u001b[1;33m]\u001b[0m\u001b[1;33m(\u001b[0m\u001b[0mself\u001b[0m\u001b[1;33m.\u001b[0m\u001b[0mf\u001b[0m\u001b[1;33m,\u001b[0m \u001b[1;33m**\u001b[0m\u001b[0mself\u001b[0m\u001b[1;33m.\u001b[0m\u001b[0moptions\u001b[0m\u001b[1;33m)\u001b[0m  \u001b[1;31m# type: ignore[call-arg]\u001b[0m\u001b[1;33m\u001b[0m\u001b[1;33m\u001b[0m\u001b[0m\n\u001b[0m\u001b[0;32m   1041\u001b[0m \u001b[1;33m\u001b[0m\u001b[0m\n\u001b[0;32m   1042\u001b[0m     \u001b[1;32mdef\u001b[0m \u001b[0m_failover_to_python\u001b[0m\u001b[1;33m(\u001b[0m\u001b[0mself\u001b[0m\u001b[1;33m)\u001b[0m\u001b[1;33m:\u001b[0m\u001b[1;33m\u001b[0m\u001b[1;33m\u001b[0m\u001b[0m\n",
            "\u001b[1;32mE:\\Om_N_oM\\lib\\site-packages\\pandas\\io\\parsers\\c_parser_wrapper.py\u001b[0m in \u001b[0;36m__init__\u001b[1;34m(self, src, **kwds)\u001b[0m\n\u001b[0;32m     49\u001b[0m \u001b[1;33m\u001b[0m\u001b[0m\n\u001b[0;32m     50\u001b[0m         \u001b[1;31m# open handles\u001b[0m\u001b[1;33m\u001b[0m\u001b[1;33m\u001b[0m\u001b[0m\n\u001b[1;32m---> 51\u001b[1;33m         \u001b[0mself\u001b[0m\u001b[1;33m.\u001b[0m\u001b[0m_open_handles\u001b[0m\u001b[1;33m(\u001b[0m\u001b[0msrc\u001b[0m\u001b[1;33m,\u001b[0m \u001b[0mkwds\u001b[0m\u001b[1;33m)\u001b[0m\u001b[1;33m\u001b[0m\u001b[1;33m\u001b[0m\u001b[0m\n\u001b[0m\u001b[0;32m     52\u001b[0m         \u001b[1;32massert\u001b[0m \u001b[0mself\u001b[0m\u001b[1;33m.\u001b[0m\u001b[0mhandles\u001b[0m \u001b[1;32mis\u001b[0m \u001b[1;32mnot\u001b[0m \u001b[1;32mNone\u001b[0m\u001b[1;33m\u001b[0m\u001b[1;33m\u001b[0m\u001b[0m\n\u001b[0;32m     53\u001b[0m \u001b[1;33m\u001b[0m\u001b[0m\n",
            "\u001b[1;32mE:\\Om_N_oM\\lib\\site-packages\\pandas\\io\\parsers\\base_parser.py\u001b[0m in \u001b[0;36m_open_handles\u001b[1;34m(self, src, kwds)\u001b[0m\n\u001b[0;32m    220\u001b[0m         \u001b[0mLet\u001b[0m \u001b[0mthe\u001b[0m \u001b[0mreaders\u001b[0m \u001b[0mopen\u001b[0m \u001b[0mIOHandles\u001b[0m \u001b[0mafter\u001b[0m \u001b[0mthey\u001b[0m \u001b[0mare\u001b[0m \u001b[0mdone\u001b[0m \u001b[1;32mwith\u001b[0m \u001b[0mtheir\u001b[0m \u001b[0mpotential\u001b[0m \u001b[0mraises\u001b[0m\u001b[1;33m.\u001b[0m\u001b[1;33m\u001b[0m\u001b[1;33m\u001b[0m\u001b[0m\n\u001b[0;32m    221\u001b[0m         \"\"\"\n\u001b[1;32m--> 222\u001b[1;33m         self.handles = get_handle(\n\u001b[0m\u001b[0;32m    223\u001b[0m             \u001b[0msrc\u001b[0m\u001b[1;33m,\u001b[0m\u001b[1;33m\u001b[0m\u001b[1;33m\u001b[0m\u001b[0m\n\u001b[0;32m    224\u001b[0m             \u001b[1;34m\"r\"\u001b[0m\u001b[1;33m,\u001b[0m\u001b[1;33m\u001b[0m\u001b[1;33m\u001b[0m\u001b[0m\n",
            "\u001b[1;32mE:\\Om_N_oM\\lib\\site-packages\\pandas\\io\\common.py\u001b[0m in \u001b[0;36mget_handle\u001b[1;34m(path_or_buf, mode, encoding, compression, memory_map, is_text, errors, storage_options)\u001b[0m\n\u001b[0;32m    700\u001b[0m         \u001b[1;32mif\u001b[0m \u001b[0mioargs\u001b[0m\u001b[1;33m.\u001b[0m\u001b[0mencoding\u001b[0m \u001b[1;32mand\u001b[0m \u001b[1;34m\"b\"\u001b[0m \u001b[1;32mnot\u001b[0m \u001b[1;32min\u001b[0m \u001b[0mioargs\u001b[0m\u001b[1;33m.\u001b[0m\u001b[0mmode\u001b[0m\u001b[1;33m:\u001b[0m\u001b[1;33m\u001b[0m\u001b[1;33m\u001b[0m\u001b[0m\n\u001b[0;32m    701\u001b[0m             \u001b[1;31m# Encoding\u001b[0m\u001b[1;33m\u001b[0m\u001b[1;33m\u001b[0m\u001b[0m\n\u001b[1;32m--> 702\u001b[1;33m             handle = open(\n\u001b[0m\u001b[0;32m    703\u001b[0m                 \u001b[0mhandle\u001b[0m\u001b[1;33m,\u001b[0m\u001b[1;33m\u001b[0m\u001b[1;33m\u001b[0m\u001b[0m\n\u001b[0;32m    704\u001b[0m                 \u001b[0mioargs\u001b[0m\u001b[1;33m.\u001b[0m\u001b[0mmode\u001b[0m\u001b[1;33m,\u001b[0m\u001b[1;33m\u001b[0m\u001b[1;33m\u001b[0m\u001b[0m\n",
            "\u001b[1;31mFileNotFoundError\u001b[0m: [Errno 2] No such file or directory: 'C:\\\\Users\\\\CSE22004\\\\Desktop\\\\koushik.csv.csv'"
          ]
        }
      ],
      "source": [
        "import pandas as pd\n",
        "a=pd.read_csv(\"C:\\\\Users\\CSE22004\\Desktop\\\\koushik.csv.csv\")\n",
        "print(a.loc[2:5,[\"name\"]])#by using location \n",
        "print(a[2:5] [[\"name\"]])#normal call"
      ]
    },
    {
      "cell_type": "code",
      "execution_count": null,
      "id": "174f7430",
      "metadata": {
        "id": "174f7430",
        "outputId": "2b771696-1e39-4664-d072-760fd548434c"
      },
      "outputs": [
        {
          "name": "stdout",
          "output_type": "stream",
          "text": [
            "   s.no   name  age\n",
            "1     2  kiran   19\n",
            "3     4   ddad   19\n"
          ]
        }
      ],
      "source": [
        "import pandas as pd\n",
        "a=pd.read_csv(\"C:\\\\Users\\CSE22004\\Desktop\\\\koushik.csv.csv\")\n",
        "print(a.loc[a[\"age\"]==19])"
      ]
    },
    {
      "cell_type": "code",
      "execution_count": null,
      "id": "25c9b6ee",
      "metadata": {
        "id": "25c9b6ee",
        "outputId": "754572a0-374c-49ab-cf40-1de7c2498ab7"
      },
      "outputs": [
        {
          "name": "stdout",
          "output_type": "stream",
          "text": [
            "[   s.no     name  age\n",
            "0     1  koushik   18\n",
            "1     2    kiran   19\n",
            "3     4     ddad   19\n",
            "6     7      fsd   18]\n"
          ]
        }
      ],
      "source": [
        "import pandas as pd\n",
        "a=pd.read_csv(\"C:\\\\Users\\CSE22004\\Desktop\\\\koushik.csv.csv\")\n",
        "print([a.loc[(a[\"age\"]==18) | (a[\"age\"]==19)]])"
      ]
    },
    {
      "cell_type": "code",
      "execution_count": null,
      "id": "4a2634db",
      "metadata": {
        "id": "4a2634db",
        "outputId": "8596ee0b-7d25-4dd2-88da-76880dab01f3"
      },
      "outputs": [
        {
          "name": "stdout",
          "output_type": "stream",
          "text": [
            "   s.no     name  age grade\n",
            "0     1  koushik   18     a\n",
            "1     2    kiran   19     a\n",
            "2     3      fsf    3     b\n",
            "3     4     ddad   19     b\n",
            "5     6     daad   17     a\n",
            "6     7      fsd   18     b\n"
          ]
        }
      ],
      "source": [
        "import pandas as pd\n",
        "a=pd.read_csv(\"C:\\\\Users\\CSE22004\\Desktop\\\\koushik.csv.csv\")\n",
        "print(a.loc[a[\"grade\"].isin([\"a\",\"b\"])])#is used to recognize char "
      ]
    },
    {
      "cell_type": "code",
      "execution_count": null,
      "id": "c1da209f",
      "metadata": {
        "id": "c1da209f",
        "outputId": "dff5b039-c4a0-4d48-e6e8-5585fa25812f"
      },
      "outputs": [
        {
          "name": "stdout",
          "output_type": "stream",
          "text": [
            "   s.no   name  age grade\n",
            "1   2.0  kiran   19     a\n",
            "2   3.0    fsf    3     b\n",
            "3   4.0   ddad   19     b\n",
            "4   5.0   assa   20     c\n",
            "5   6.0   daad   17     a\n",
            "6   7.0    fsd   18     b\n"
          ]
        }
      ],
      "source": [
        "import pandas as pd\n",
        "a=pd.read_csv(\"C:\\\\Users\\CSE22004\\Desktop\\\\koushik.csv.csv\")\n",
        "b=a.dropna()#is used to remove null values\n",
        "print(b.to_string())"
      ]
    },
    {
      "cell_type": "code",
      "execution_count": null,
      "id": "b6a4cd68",
      "metadata": {
        "id": "b6a4cd68",
        "outputId": "67ccdb64-b3d2-4dc4-fcd8-05e16208d2e5"
      },
      "outputs": [
        {
          "name": "stdout",
          "output_type": "stream",
          "text": [
            "   s.no     name  age grade\n",
            "0   1.0  koushik   18     a\n",
            "1   2.0    kiran   19     a\n",
            "2   3.0      fsf    3     b\n",
            "3   4.0     ddad   19     b\n",
            "4   5.0     assa   20     c\n",
            "5   6.0     daad   17     a\n",
            "6   7.0      fsd   18     b\n"
          ]
        }
      ],
      "source": [
        "import pandas as pd\n",
        "a=pd.read_csv(\"C:\\\\Users\\CSE22004\\Desktop\\\\koushik.csv.csv\")\n",
        "a.fillna(1,inplace=True)\n",
        "print(a)"
      ]
    },
    {
      "cell_type": "code",
      "execution_count": null,
      "id": "19ee305a",
      "metadata": {
        "id": "19ee305a",
        "outputId": "5b64f332-8ada-4ec8-d47a-a5db4c5bf03c"
      },
      "outputs": [
        {
          "name": "stdout",
          "output_type": "stream",
          "text": [
            "   s.no     name  age\n",
            "0     1  koushik   18\n",
            "1     2    kiran   19\n"
          ]
        }
      ],
      "source": [
        "import pandas as pd\n",
        "b=pd.read_csv(\"C:\\\\Users\\CSE22004\\Desktop\\\\demo.csv\")\n",
        "print(b.to_string())#to string prints entire data frame\n",
        "#print(b)#this may not print entire data frame if it is too large"
      ]
    },
    {
      "cell_type": "code",
      "execution_count": null,
      "id": "df6ebcf8",
      "metadata": {
        "id": "df6ebcf8",
        "outputId": "3daf7312-4287-4d1c-b129-b69920429c52"
      },
      "outputs": [
        {
          "name": "stdout",
          "output_type": "stream",
          "text": [
            "        NAME   age GENDER        DOB  ADDRESS HAVING PASSPORT HAVING LICENCE\n",
            "0   deekshit  18.0      M  18-Jun-04     vskp             yes             no\n",
            "1    koushik  19.0      M  19-Jun-04     vskp             yes             no\n",
            "2      kiran  19.0      M  20-Jun-04      hyd             yes            yes\n",
            "3     chaitu  19.0      M  21-Jun-04   guntur              no            yes\n",
            "4      surya  20.0      M  22-Jun-04     vskp             yes            yes\n",
            "5     murthy  17.0      M  23-Jun-04     bngl             yes            yes\n",
            "6     saketh  18.0      M  24-Jun-04     vskp             yes             no\n",
            "7       yesh  17.0      M  25-Jun-04      vzm              no            yes\n",
            "8          x  19.0      F  26-Jun-04      skl             yes            yes\n",
            "9          x  20.0      F  27-Jun-04   mumbai             yes            yes\n",
            "10         z  19.0      F  28-Jun-04  kolkata             yes            yes\n",
            "11         a  17.0      F  29-Jun-04    delhi              no             no\n",
            "12         b  20.0      F  30-Jun-04     vskp             yes            yes\n",
            "13        c   19.0      M  01-Jul-04      vzm              no            yes\n",
            "14         u  18.0      M  02-Jul-04   indore             yes             no\n",
            "15         v  19.0      M  03-Jul-04     vskp             yes            yes\n",
            "16         w  18.0      F  04-Jul-04      vzm             yes            yes\n",
            "17         i  19.0      F  05-Jul-04      skl             yes            yes\n",
            "18         j  18.0      F  06-Jul-04      hyd              no             no\n",
            "19         k  18.0      M  07-Jul-04   guntur             yes            yes\n",
            "20         l   NaN    NaN        NaN      NaN             NaN            NaN\n"
          ]
        }
      ],
      "source": [
        "import pandas as pd\n",
        "a=pd.read_csv(\"C:\\\\Users\\CSE22004\\Documents\\koushik\\\\passport.csv\")\n",
        "b=pd.DataFrame(a)\n",
        "print(b)"
      ]
    },
    {
      "cell_type": "code",
      "execution_count": null,
      "id": "4764529f",
      "metadata": {
        "id": "4764529f",
        "outputId": "ee631ecf-f229-455a-d3a2-646afefd3f20"
      },
      "outputs": [
        {
          "name": "stdout",
          "output_type": "stream",
          "text": [
            "None\n"
          ]
        }
      ],
      "source": [
        "import pandas as pd\n",
        "a=pd.read_csv(\"C:\\\\Users\\CSE22004\\Documents\\koushik\\\\passport.csv\")\n",
        "b=a.drop_duplicates(subset=\"NAME\",keep=\"first\",ignore_index=True,inplace=True)\n",
        "print(b)"
      ]
    },
    {
      "cell_type": "code",
      "execution_count": null,
      "id": "38159b49",
      "metadata": {
        "id": "38159b49",
        "outputId": "edd43453-1cab-4aab-9cad-e8be20d7b404"
      },
      "outputs": [
        {
          "name": "stdout",
          "output_type": "stream",
          "text": [
            "1.0\n"
          ]
        }
      ],
      "source": [
        "a=\"25/25\"\n",
        "if \"+\" in a:\n",
        "    b=a.replace(\"+\",\" \")\n",
        "elif \"-\" in a:\n",
        "    b=a.replace(\"-\",\" \")\n",
        "elif \"*\" in a:\n",
        "    b=a.replace(\"*\",\" \")\n",
        "elif \"/\" in a:\n",
        "    b=a.replace(\"/\",\" \")\n",
        "c=[]\n",
        "fact=1\n",
        "sub=0\n",
        "div=0\n",
        "for x in b.split():\n",
        "    c.append(int(x))\n",
        "if \"+\" in a:\n",
        "    print(sum(c))\n",
        "elif \"-\" in a:\n",
        "    for x in range(len(c)-1):\n",
        "         sub=sub+(c[x]-c[x+1])\n",
        "    print(sub)\n",
        "elif \"*\" in a:\n",
        "    for x in c:\n",
        "        fact=fact*x\n",
        "    print(fact)\n",
        "elif \"/\" in a:\n",
        "    for x in range(len(c)-1):\n",
        "        div=div+(c[x]/c[x+1])\n",
        "    print(div)\n"
      ]
    },
    {
      "cell_type": "code",
      "execution_count": null,
      "id": "5e5d45e6",
      "metadata": {
        "id": "5e5d45e6"
      },
      "outputs": [],
      "source": [
        "import pandas as pd\n",
        "a=pd.read_csv(\"C:\\\\Users\\CSE22004\\Desktop\\\\occupation.csv\")\n",
        "b=pd.DataFrame(a)\n",
        "for x in (b.loc[[\"doctor\"] & [\"salary\"]]):\n",
        "    print(x)"
      ]
    },
    {
      "cell_type": "code",
      "execution_count": null,
      "id": "5ab7729b",
      "metadata": {
        "id": "5ab7729b",
        "outputId": "e7a06bfb-96a2-4afc-ad53-756d39549fc9"
      },
      "outputs": [
        {
          "name": "stdout",
          "output_type": "stream",
          "text": [
            "      age\n",
            "min  17.0\n",
            "max  20.0\n"
          ]
        }
      ],
      "source": [
        "import pandas as pd\n",
        "a=pd.read_csv(\"C:\\\\Users\\CSE22004\\Documents\\koushik\\\\passport.csv\")\n",
        "b=pd.DataFrame(a)\n",
        "c=a.aggregate({\"age\":[\"min\",\"max\"]})\n",
        "print(c)"
      ]
    },
    {
      "cell_type": "code",
      "execution_count": null,
      "id": "a1b5a991",
      "metadata": {
        "id": "a1b5a991",
        "outputId": "138be862-7095-422d-d57d-17cbddf6f219"
      },
      "outputs": [
        {
          "name": "stdout",
          "output_type": "stream",
          "text": [
            "           age       NUMBERS\n",
            "min       17.0  9.567493e+09\n",
            "max       20.0  9.567493e+09\n",
            "sum      371.0  1.913499e+11\n",
            "average    NaN           NaN\n"
          ]
        }
      ],
      "source": [
        "import pandas as pd\n",
        "a=pd.read_csv(\"C:\\\\Users\\CSE22004\\Documents\\koushik\\\\passport.csv\")\n",
        "b=pd.DataFrame(a)\n",
        "c=a.aggregate({\"age\":[\"min\",\"max\",\"sum\",\"average\"],\"NUMBERS\":[\"min\",\"max\",\"sum\"]})\n",
        "print(c)"
      ]
    },
    {
      "cell_type": "code",
      "execution_count": null,
      "id": "29b48528",
      "metadata": {
        "scrolled": true,
        "id": "29b48528",
        "outputId": "a789d94c-58ef-44d5-8086-23b8aa0fccad"
      },
      "outputs": [
        {
          "name": "stdout",
          "output_type": "stream",
          "text": [
            "              NAME   age GENDER  ADDRESS HAVING PASSPORT HAVING LICENCE  \\\n",
            "DOB                                                                       \n",
            "01-Jul-04       c   19.0      M      vzm              no            yes   \n",
            "02-Jul-04        u  18.0      M   indore             yes             no   \n",
            "03-Jul-04        v  19.0      M     vskp             yes            yes   \n",
            "04-Jul-04        w  18.0      F      vzm             yes            yes   \n",
            "05-Jul-04        i  19.0      F      skl             yes            yes   \n",
            "06-Jul-04        j  18.0      F      hyd              no             no   \n",
            "07-Jul-04        k  18.0      M   guntur             yes            yes   \n",
            "18-Jun-04     None  18.0      M     vskp             yes             no   \n",
            "19-Jun-04  koushik  19.0      M     vskp             yes             no   \n",
            "20-Jun-04    kiran  19.0      M      hyd             yes            yes   \n",
            "21-Jun-04   chaitu  19.0      M   guntur              no            yes   \n",
            "22-Jun-04    surya  20.0      M     vskp             yes            yes   \n",
            "23-Jun-04   murthy  17.0      M     bngl             yes            yes   \n",
            "24-Jun-04   saketh  18.0      M     vskp             yes             no   \n",
            "25-Jun-04     yesh  17.0      M      vzm              no            yes   \n",
            "26-Jun-04        x  19.0      F      skl             yes            yes   \n",
            "27-Jun-04        x  20.0      F   mumbai             yes            yes   \n",
            "28-Jun-04        z  19.0      F  kolkata             yes            yes   \n",
            "29-Jun-04        a  17.0      F    delhi              no             no   \n",
            "30-Jun-04        b  20.0      F     vskp             yes            yes   \n",
            "\n",
            "                NUMBERS  \n",
            "DOB                      \n",
            "01-Jul-04  9.567493e+09  \n",
            "02-Jul-04  9.567493e+09  \n",
            "03-Jul-04  9.567493e+09  \n",
            "04-Jul-04  9.567493e+09  \n",
            "05-Jul-04  9.567493e+09  \n",
            "06-Jul-04  9.567493e+09  \n",
            "07-Jul-04  9.567493e+09  \n",
            "18-Jun-04  9.567493e+09  \n",
            "19-Jun-04  9.567493e+09  \n",
            "20-Jun-04  9.567493e+09  \n",
            "21-Jun-04  9.567493e+09  \n",
            "22-Jun-04  9.567493e+09  \n",
            "23-Jun-04  9.567493e+09  \n",
            "24-Jun-04  9.567493e+09  \n",
            "25-Jun-04  9.567493e+09  \n",
            "26-Jun-04  9.567493e+09  \n",
            "27-Jun-04  9.567493e+09  \n",
            "28-Jun-04  9.567493e+09  \n",
            "29-Jun-04  9.567493e+09  \n",
            "30-Jun-04  9.567493e+09  \n",
            "{'a': [11], 'b': [12], 'c ': [13], 'chaitu': [3], 'i': [17], 'j': [18], 'k': [19], 'kiran': [2], 'koushik': [1], 'l': [20], 'murthy': [5], 'saketh': [6], 'surya': [4], 'u': [14], 'v': [15], 'w': [16], 'x': [8, 9], 'yesh': [7], 'z': [10]}\n"
          ]
        }
      ],
      "source": [
        "import pandas as pd\n",
        "a=pd.read_csv(\"C:\\\\Users\\CSE22004\\Documents\\koushik\\\\passport.csv\")\n",
        "c=a.groupby(\"DOB\")\n",
        "d=a.groupby(\"NAME\").groups\n",
        "print(c.first())\n",
        "print(d)"
      ]
    },
    {
      "cell_type": "markdown",
      "id": "a08902ba",
      "metadata": {
        "id": "a08902ba"
      },
      "source": [
        "# lambda"
      ]
    },
    {
      "cell_type": "code",
      "execution_count": null,
      "id": "6252efd5",
      "metadata": {
        "id": "6252efd5",
        "outputId": "f424c83d-ba80-42be-cf18-6aa21409f79f"
      },
      "outputs": [
        {
          "name": "stdout",
          "output_type": "stream",
          "text": [
            "30\n"
          ]
        }
      ],
      "source": [
        "z=lambda a,b,c:a*b*c\n",
        "print(z(2,3,5))"
      ]
    },
    {
      "cell_type": "code",
      "execution_count": null,
      "id": "4ed83313",
      "metadata": {
        "id": "4ed83313",
        "outputId": "43233b16-bd65-4c75-b4af-70ca18731fdf"
      },
      "outputs": [
        {
          "name": "stdout",
          "output_type": "stream",
          "text": [
            "['hello', 'this', 'is', 'koushik']\n"
          ]
        }
      ],
      "source": [
        "a=\"hello this is koushik\"\n",
        "print(a.split())"
      ]
    },
    {
      "cell_type": "code",
      "execution_count": null,
      "id": "602917a4",
      "metadata": {
        "id": "602917a4",
        "outputId": "986f5104-fb8e-43da-e3a4-a05614c6f550"
      },
      "outputs": [
        {
          "name": "stdout",
          "output_type": "stream",
          "text": [
            "       NAME\n",
            "0       NaN\n",
            "1   koushik\n",
            "2     kiran\n",
            "3    chaitu\n",
            "4     surya\n",
            "5    murthy\n",
            "6    saketh\n",
            "7      yesh\n",
            "8         x\n",
            "9         x\n",
            "10        z\n",
            "11        a\n",
            "12        b\n",
            "13       c \n",
            "14        u\n",
            "15        v\n",
            "16        w\n",
            "17        i\n",
            "18        j\n",
            "19        k\n",
            "20        l\n"
          ]
        }
      ],
      "source": [
        "import pandas as pd\n",
        "a=pd.read_csv(\"C:\\\\Users\\CSE22004\\Documents\\koushik\\\\passport.csv\")\n",
        "b=pd.DataFrame(a)\n",
        "print(b.loc[0:,[\"NAME\"]])"
      ]
    },
    {
      "cell_type": "code",
      "execution_count": null,
      "id": "09a541c0",
      "metadata": {
        "id": "09a541c0",
        "outputId": "33fe753c-4917-4220-8844-72329204fe7c"
      },
      "outputs": [
        {
          "name": "stdout",
          "output_type": "stream",
          "text": [
            "['Andhra->Amaravati', 'Madhyapradesh->Bhopal', 'Maharastra->Mumbai']\n"
          ]
        }
      ],
      "source": [
        "d1 = {\"Andhra\": \"Amaravati\", \"Madhyapradesh\" : \"Bhopal\", \"Maharastra\" : \"Mumbai\" }\n",
        "b=[]\n",
        "c=\"\"\n",
        "for x in d1:\n",
        "    c=c+str(x)+\"->\"+str(d1[x])+\" \"\n",
        "for x in c.split():\n",
        "    b.append(x)\n",
        "print(b)\n",
        "    "
      ]
    },
    {
      "cell_type": "code",
      "execution_count": null,
      "id": "6d1fe8df",
      "metadata": {
        "id": "6d1fe8df",
        "outputId": "1e95d713-0a4a-48ad-800f-5e0a0d4af9f4"
      },
      "outputs": [
        {
          "name": "stdout",
          "output_type": "stream",
          "text": [
            "{'B1': {'110065001': 'Ram', '110065002': 'Lakshman'}, 'B2': {'120065001': 'Bharat', '120065002': 'Satrugna'}, 'B3': {'130065001': 'Dhasaradh', '130065002': 'Babu'}}\n"
          ]
        }
      ],
      "source": [
        "classroom={\n",
        "\"B1\":{\"110065001\": \"Ram\", \"110065002\" : \"Lakshman\"},\n",
        "\"B2\":{\"120065001\": \"Bharat\", \"120065002\" : \"Satrugna\"},\n",
        "\"B3\":{\"130065001\": \"Dhasaradh\", \"130065002\" : \"Babu\"}\n",
        "}\n",
        "print(classroom)"
      ]
    },
    {
      "cell_type": "code",
      "execution_count": 1,
      "id": "5f87d49f",
      "metadata": {
        "colab": {
          "base_uri": "https://localhost:8080/",
          "height": 282
        },
        "id": "5f87d49f",
        "outputId": "c747483e-fae0-4304-c101-56cf0ff8b288"
      },
      "outputs": [
        {
          "output_type": "execute_result",
          "data": {
            "text/plain": [
              "<function matplotlib.pyplot.show>"
            ]
          },
          "metadata": {},
          "execution_count": 1
        },
        {
          "output_type": "display_data",
          "data": {
            "text/plain": [
              "<Figure size 432x288 with 1 Axes>"
            ],
            "image/png": "[encoded data removed]"
          },
          "metadata": {
            "needs_background": "light"
          }
        }
      ],
      "source": [
        "import matplotlib.pyplot as mp\n",
        "import numpy as np\n",
        "x = np.array([0,10])\n",
        "y=np.array([20,0])\n",
        "mp.plot(x,y)\n",
        "mp.show()"
      ]
    },
    {
      "cell_type": "code",
      "source": [
        "import matplotlib.pyplot as mp\n",
        "import numpy as np\n",
        "x=np.array([\"che\",\"emors\",\"it pro\",\"cse\",\"several variable\",\"single variable\",\"workshop\",\"venture develop\"])\n",
        "y=np.array([88,78,95,65,78,69,95,78])\n",
        "mp.plot(x,y)\n",
        "#mp.plot(x,y,\"o\")\n",
        "mp.show()"
      ],
      "metadata": {
        "colab": {
          "base_uri": "https://localhost:8080/",
          "height": 265
        },
        "id": "KRqLm43Kto7x",
        "outputId": "69a4d070-0052-43d5-e860-b211ce5cddac"
      },
      "id": "KRqLm43Kto7x",
      "execution_count": 6,
      "outputs": [
        {
          "output_type": "display_data",
          "data": {
            "text/plain": [
              "<Figure size 432x288 with 1 Axes>"
            ],
            "image/png": "[encoded data removed]"
          },
          "metadata": {
            "needs_background": "light"
          }
        }
      ]
    },
    {
      "cell_type": "code",
      "source": [
        ""
      ],
      "metadata": {
        "id": "RKTsezS8ydDR"
      },
      "id": "RKTsezS8ydDR",
      "execution_count": null,
      "outputs": []
    },
    {
      "cell_type": "code",
      "source": [
        "import matplotlib.pyplot as mp\n",
        "import numpy as np\n",
        "x=np.array([\"che\",\"emors\",\"it pro\",\"cse\",\"several variable\",\"single variable\",\"workshop\",\"venture develop\"])\n",
        "y=np.array([88,78,95,65,78,69,95,78])\n",
        "mp.bar(x,y)\n",
        "mp.show()"
      ],
      "metadata": {
        "colab": {
          "base_uri": "https://localhost:8080/",
          "height": 265
        },
        "id": "jz_no1XbwscS",
        "outputId": "cc3d7387-68e5-4429-85ab-6cf7f7383e36"
      },
      "id": "jz_no1XbwscS",
      "execution_count": 7,
      "outputs": [
        {
          "output_type": "display_data",
          "data": {
            "text/plain": [
              "<Figure size 432x288 with 1 Axes>"
            ],
            "image/png": "[encoded data removed]"
          },
          "metadata": {
            "needs_background": "light"
          }
        }
      ]
    },
    {
      "cell_type": "code",
      "source": [
        "import matplotlib.pyplot as mp\n",
        "import numpy as np\n",
        "x=np.array([\"che\",\"emors\",\"it pro\",\"cse\",\"several variable\",\"single variable\",\"workshop\",\"venture develop\"])\n",
        "y=np.array([88,78,95,65,78,69,95,78])\n",
        "mp.pie(y,labels=x)\n",
        "mp.show()\n"
      ],
      "metadata": {
        "colab": {
          "base_uri": "https://localhost:8080/",
          "height": 248
        },
        "id": "_eXNpRonxQih",
        "outputId": "c2b8e987-881b-43c8-e6de-2111c121d3ef"
      },
      "id": "_eXNpRonxQih",
      "execution_count": 11,
      "outputs": [
        {
          "output_type": "display_data",
          "data": {
            "text/plain": [
              "<Figure size 432x288 with 1 Axes>"
            ],
            "image/png": "[encoded data removed]"
          },
          "metadata": {}
        }
      ]
    },
    {
      "cell_type": "code",
      "source": [
        "import matplotlib.pyplot as mp\n",
        "import numpy as np\n",
        "x=np.array([\"che\",\"emors\",\"it pro\",\"cse\",\"several variable\",\"single variable\",\"workshop\",\"venture develop\"])\n",
        "y=np.array([88,78,95,65,78,69,95,78])\n",
        "mp.plot(x,y,marker=\"*\")\n",
        "#mp.plot(x,y,\"o\")\n",
        "mp.show()"
      ],
      "metadata": {
        "id": "7VyDxMxbydxA",
        "outputId": "15ab9ede-422a-46a9-e5f6-4cd643c5af4c",
        "colab": {
          "base_uri": "https://localhost:8080/",
          "height": 265
        }
      },
      "id": "7VyDxMxbydxA",
      "execution_count": 16,
      "outputs": [
        {
          "output_type": "display_data",
          "data": {
            "text/plain": [
              "<Figure size 432x288 with 1 Axes>"
            ],
            "image/png": "[encoded data removed]"
          },
          "metadata": {
            "needs_background": "light"
          }
        }
      ]
    },
    {
      "cell_type": "code",
      "source": [
        "import matplotlib.pyplot as mp\n",
        "import numpy as np\n",
        "x=np.array([\"che\",\"emors\",\"it pro\",\"cse\",\"several variable\",\"single variable\",\"workshop\",\"venture develop\"])\n",
        "y=np.array([88,78,95,65,78,69,95,78])\n",
        "mp.plot(x,y,marker=\"*\",ls=\"dashed\"#or dotted)\n",
        "#mp.plot(x,y,\"o\")\n",
        "mp.show()"
      ],
      "metadata": {
        "id": "-0vgznCezt6C",
        "outputId": "e7422839-f97c-441a-c185-f25f21e5bcad",
        "colab": {
          "base_uri": "https://localhost:8080/",
          "height": 265
        }
      },
      "id": "-0vgznCezt6C",
      "execution_count": 18,
      "outputs": [
        {
          "output_type": "display_data",
          "data": {
            "text/plain": [
              "<Figure size 432x288 with 1 Axes>"
            ],
            "image/png": "[encoded data removed]"
          },
          "metadata": {
            "needs_background": "light"
          }
        }
      ]
    }
  ],
  "metadata": {
    "kernelspec": {
      "display_name": "Python 3 (ipykernel)",
      "language": "python",
      "name": "python3"
    },
    "language_info": {
      "codemirror_mode": {
        "name": "ipython",
        "version": 3
      },
      "file_extension": ".py",
      "mimetype": "text/x-python",
      "name": "python",
      "nbconvert_exporter": "python",
      "pygments_lexer": "ipython3",
      "version": "3.9.7"
    },
    "colab": {
      "name": "Untitled-checkpoint.ipynb",
      "provenance": [],
      "include_colab_link": true
    }
  },
  "nbformat": 4,
  "nbformat_minor": 5
}