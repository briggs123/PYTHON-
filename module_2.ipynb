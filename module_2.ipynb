{
  "nbformat": 4,
  "nbformat_minor": 0,
  "metadata": {
    "colab": {
      "name": "module 2",
      "provenance": [],
      "authorship_tag": "ABX9TyPYsrq/mqd7M9Yz3B3g+4rw",
      "include_colab_link": true
    },
    "kernelspec": {
      "name": "python3",
      "display_name": "Python 3"
    },
    "language_info": {
      "name": "python"
    }
  },
  "cells": [
    {
      "cell_type": "markdown",
      "metadata": {
        "id": "view-in-github",
        "colab_type": "text"
      },
      "source": [
        "<a href=\"https://colab.research.google.com/github/briggs123/PYTHON-/blob/module-2/module_2.ipynb\" target=\"_parent\"><img src=\"https://colab.research.google.com/assets/colab-badge.svg\" alt=\"Open In Colab\"/></a>"
      ]
    },
    {
      "cell_type": "code",
      "execution_count": 3,
      "metadata": {
        "colab": {
          "base_uri": "https://localhost:8080/"
        },
        "id": "XHQJyqbG_Z80",
        "outputId": "610b7585-6176-4ba8-824b-911966c7e114"
      },
      "outputs": [
        {
          "output_type": "stream",
          "name": "stdout",
          "text": [
            "enter the value of n 5\n",
            "enter the value of r2\n",
            "10.0\n"
          ]
        }
      ],
      "source": [
        "def ncr(n,r):\n",
        "    return fact(n)/(fact(r)*fact(n-r))\n",
        "def fact(n):\n",
        "    fact=1\n",
        "    for i in range(1,n+1):\n",
        "        fact=fact*i\n",
        "    return fact\n",
        "a=int(input(\"enter the value of n \"))\n",
        "b=int(input(\"enter the value of r\"))\n",
        "print(ncr(a,b))"
      ]
    },
    {
      "cell_type": "code",
      "source": [
        "def gcd(a,b):\n",
        "    if b==0:\n",
        "        return a\n",
        "    else:\n",
        "        return gcd(b,a%b)\n",
        "a=int(input(\"enter the first number\"))\n",
        "b=int(input(\"enter the second number\"))\n",
        "GCD=gcd(a,b)\n",
        "print(\"gcd of two numbers is \",GCD)"
      ],
      "metadata": {
        "colab": {
          "base_uri": "https://localhost:8080/"
        },
        "id": "F4llfe5w_qQb",
        "outputId": "69e4d463-0f30-488a-d020-6ed3fb7863de"
      },
      "execution_count": 22,
      "outputs": [
        {
          "output_type": "stream",
          "name": "stdout",
          "text": [
            "enter the first number5\n",
            "enter the second number2\n",
            "gcd of two numbers is  1\n"
          ]
        }
      ]
    },
    {
      "cell_type": "code",
      "source": [
        "\n",
        "def pro(a,b):\n",
        "    if a<b:\n",
        "        return pro(b,a)\n",
        "    elif b!=0:\n",
        "        return (a+pro(a,b-1))\n",
        "    else:\n",
        "        return 0\n",
        "a=int(input(\"enter the number\"))\n",
        "b=int(input(\"enter second number\"))\n",
        "print(\"product of two numbers\",pro(a,b))"
      ],
      "metadata": {
        "colab": {
          "base_uri": "https://localhost:8080/"
        },
        "id": "1ONv48wj_u8P",
        "outputId": "d7e9c2ce-45f7-4b0a-9ed4-c23fbbe8f57b"
      },
      "execution_count": 24,
      "outputs": [
        {
          "output_type": "stream",
          "name": "stdout",
          "text": [
            "enter the number5\n",
            "enter second number9\n",
            "product of two numbers 45\n"
          ]
        }
      ]
    },
    {
      "cell_type": "code",
      "source": [
        "def fibo(n):\n",
        "    if n<=1:\n",
        "        return n\n",
        "    else:\n",
        "        return (fibo(n-1)+fibo(n-2))\n",
        "n=int(input(\"enter the number of terms\"))\n",
        "if n<=0:\n",
        "    print(\"enter the number with min values\")\n",
        "else:\n",
        "    for i in range(n+1):\n",
        "        print(fibo(i))"
      ],
      "metadata": {
        "colab": {
          "base_uri": "https://localhost:8080/"
        },
        "id": "RtQg7bFb_1k_",
        "outputId": "78c2826e-84b4-45a0-a436-6b6d28c18722"
      },
      "execution_count": 25,
      "outputs": [
        {
          "output_type": "stream",
          "name": "stdout",
          "text": [
            "enter the number of terms10\n",
            "0\n",
            "1\n",
            "1\n",
            "2\n",
            "3\n",
            "5\n",
            "8\n",
            "13\n",
            "21\n",
            "34\n",
            "55\n"
          ]
        }
      ]
    },
    {
      "cell_type": "code",
      "source": [
        "list=[\"red\",\"green\",\"white\",\"black\",\"pink\",\"yellow\"]\n",
        "list.pop(0)\n",
        "list.pop(3)\n",
        "list.pop()\n",
        "print(list)"
      ],
      "metadata": {
        "colab": {
          "base_uri": "https://localhost:8080/"
        },
        "id": "I1FJU5Lz_5Mf",
        "outputId": "8b662fea-e304-4c6d-c0c9-0ec011ffc2e6"
      },
      "execution_count": 4,
      "outputs": [
        {
          "output_type": "stream",
          "name": "stdout",
          "text": [
            "['green', 'white', 'black']\n"
          ]
        }
      ]
    },
    {
      "cell_type": "code",
      "source": [
        "a=[3,5,7,9]\n",
        "b=[2,3,8,9]\n",
        "c=[]\n",
        "for x in a:\n",
        "    if x not in b:\n",
        "        c.append(x)\n",
        "print(c)"
      ],
      "metadata": {
        "colab": {
          "base_uri": "https://localhost:8080/"
        },
        "id": "VmV8F4oTBA9n",
        "outputId": "3f205146-24e2-4f63-f775-31af7badbc76"
      },
      "execution_count": 5,
      "outputs": [
        {
          "output_type": "stream",
          "name": "stdout",
          "text": [
            "[5, 7]\n"
          ]
        }
      ]
    },
    {
      "cell_type": "code",
      "source": [
        "a=[1,2,3,4,5]\n",
        "a.sort(reverse=True)\n",
        "print(a[1],a[-2])"
      ],
      "metadata": {
        "colab": {
          "base_uri": "https://localhost:8080/"
        },
        "id": "pnsGYCijBElQ",
        "outputId": "424cf987-81dd-4975-b25b-642d439e81e7"
      },
      "execution_count": 6,
      "outputs": [
        {
          "output_type": "stream",
          "name": "stdout",
          "text": [
            "4 2\n"
          ]
        }
      ]
    },
    {
      "cell_type": "code",
      "source": [
        "import math\n",
        "a=[9,3,6]\n",
        "b=[]\n",
        "for x in a:\n",
        "    b.append((x,math.pow(x,2)))\n",
        "print(b)\n",
        "    "
      ],
      "metadata": {
        "colab": {
          "base_uri": "https://localhost:8080/"
        },
        "id": "Rt9dLXjTBVLX",
        "outputId": "fb4126c1-8d59-4cd8-d8b5-67eaa5c7a2d7"
      },
      "execution_count": 7,
      "outputs": [
        {
          "output_type": "stream",
          "name": "stdout",
          "text": [
            "[(9, 81.0), (3, 9.0), (6, 36.0)]\n"
          ]
        }
      ]
    },
    {
      "cell_type": "code",
      "source": [
        "a= [(4, 5), (4,), (8, 6, 7), (1,), (3, 4, 6, 7)]\n",
        "b=[]\n",
        "k=2\n",
        "for x in a:\n",
        "    if len(x)==k:\n",
        "        a.remove(x)\n",
        "print(a)"
      ],
      "metadata": {
        "colab": {
          "base_uri": "https://localhost:8080/"
        },
        "id": "tzeV0AQLB5gP",
        "outputId": "3c143e2e-7cb3-4702-b6c3-70c977eb5e2e"
      },
      "execution_count": 8,
      "outputs": [
        {
          "output_type": "stream",
          "name": "stdout",
          "text": [
            "[(4,), (8, 6, 7), (1,), (3, 4, 6, 7)]\n"
          ]
        }
      ]
    },
    {
      "cell_type": "code",
      "source": [
        "a=dict()\n",
        "b=int(input(\"enter the number\"))\n",
        "for x in range(1,b+1):\n",
        "    a[x]=x*x\n",
        "print(a)"
      ],
      "metadata": {
        "colab": {
          "base_uri": "https://localhost:8080/"
        },
        "id": "awY3anWAB9jP",
        "outputId": "512aa031-5be7-40f2-97fc-982ea3f8f6bd"
      },
      "execution_count": 10,
      "outputs": [
        {
          "output_type": "stream",
          "name": "stdout",
          "text": [
            "enter the number5\n",
            "{0: 0, 1: 1, 2: 4, 3: 9, 4: 16, 5: 25}\n"
          ]
        }
      ]
    },
    {
      "cell_type": "code",
      "source": [
        "a={\n",
        "    \"car\":\"bmw\",\n",
        "    \"model\":18,\n",
        "    \"year\":2021   \n",
        "}\n",
        "a.pop(\"year\")\n",
        "print(a)"
      ],
      "metadata": {
        "colab": {
          "base_uri": "https://localhost:8080/"
        },
        "id": "RbKdg70jCBJS",
        "outputId": "d03f867e-eb99-4dde-8abc-9ae23768dff2"
      },
      "execution_count": 12,
      "outputs": [
        {
          "output_type": "stream",
          "name": "stdout",
          "text": [
            "{'car': 'bmw', 'model': 18}\n"
          ]
        }
      ]
    },
    {
      "cell_type": "code",
      "source": [
        "a=\"koushik hello\"\n",
        "print(a[2:3])\n",
        "print(a.split())"
      ],
      "metadata": {
        "colab": {
          "base_uri": "https://localhost:8080/"
        },
        "id": "KUs5pGivCH5P",
        "outputId": "0378d177-6369-44f0-d722-ee5e7b724787"
      },
      "execution_count": 14,
      "outputs": [
        {
          "output_type": "stream",
          "name": "stdout",
          "text": [
            "u\n",
            "['koushik', 'hello']\n"
          ]
        }
      ]
    },
    {
      "cell_type": "code",
      "source": [
        "a=\"I have to go to a doctor and get myself checked.\"\n",
        "print(a.count(\"to\"))"
      ],
      "metadata": {
        "colab": {
          "base_uri": "https://localhost:8080/"
        },
        "id": "tCNoBh8FCaaw",
        "outputId": "d8501682-51ba-4385-b97e-b1d09591e590"
      },
      "execution_count": 16,
      "outputs": [
        {
          "output_type": "stream",
          "name": "stdout",
          "text": [
            "3\n"
          ]
        }
      ]
    },
    {
      "cell_type": "code",
      "source": [
        "a=\"rabbit\"\n",
        "print(a.replace(\"b\",\"c\"))\n"
      ],
      "metadata": {
        "colab": {
          "base_uri": "https://localhost:8080/"
        },
        "id": "F6L-E-JJCnhP",
        "outputId": "d025c00b-457a-4e4e-a987-7ce9c4475c29"
      },
      "execution_count": 17,
      "outputs": [
        {
          "output_type": "stream",
          "name": "stdout",
          "text": [
            "raccit\n"
          ]
        }
      ]
    },
    {
      "cell_type": "code",
      "source": [
        "import random\n",
        "a=input(\"enter command\")\n",
        "if \"shuffle\"==a:\n",
        "    for x in range (6):\n",
        "        a=random.randint(1,6)\n",
        "        print(a)"
      ],
      "metadata": {
        "colab": {
          "base_uri": "https://localhost:8080/"
        },
        "id": "M-c9SovBCxtv",
        "outputId": "346763c1-836a-484b-dc79-965e586e54d2"
      },
      "execution_count": 19,
      "outputs": [
        {
          "output_type": "stream",
          "name": "stdout",
          "text": [
            "enter commandshuffle\n",
            "2\n",
            "5\n",
            "1\n",
            "1\n",
            "1\n",
            "2\n"
          ]
        }
      ]
    },
    {
      "cell_type": "code",
      "source": [
        "def string(a):\n",
        "    u=0;l=0\n",
        "    for x in a :\n",
        "        if x.isupper():\n",
        "            u=u+1\n",
        "        else:\n",
        "            l=l+1\n",
        "    print(\"the lower values\",l)\n",
        "    print(\"higher values\",u)\n",
        "string(\"KousHiK\")"
      ],
      "metadata": {
        "colab": {
          "base_uri": "https://localhost:8080/"
        },
        "id": "DYkTSsJCDAw-",
        "outputId": "5b9636d2-a3db-4c28-d1cd-ed893c50a89a"
      },
      "execution_count": 20,
      "outputs": [
        {
          "output_type": "stream",
          "name": "stdout",
          "text": [
            "the lower values 4\n",
            "higher values 3\n"
          ]
        }
      ]
    },
    {
      "cell_type": "code",
      "source": [
        "a=[\"abc\",\"xyz\",\"aba\",\"1221\"]\n",
        "b=0\n",
        "for x in a:\n",
        "  if len(x)>=2:\n",
        "    if x[0]==x[-1]:\n",
        "      b=b+1\n",
        "print(\"number with same intial and final value\",b)"
      ],
      "metadata": {
        "colab": {
          "base_uri": "https://localhost:8080/"
        },
        "id": "NVNXnWiBDJA5",
        "outputId": "14b8e6c0-e015-4a88-e5e4-e23389b3867e"
      },
      "execution_count": 21,
      "outputs": [
        {
          "output_type": "stream",
          "name": "stdout",
          "text": [
            "number with same intial and final value 2\n"
          ]
        }
      ]
    },
    {
      "cell_type": "code",
      "source": [
        ""
      ],
      "metadata": {
        "id": "YQeIgW89Dp-f"
      },
      "execution_count": null,
      "outputs": []
    }
  ]
}