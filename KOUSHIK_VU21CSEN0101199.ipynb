{
  "cells": [
    {
      "cell_type": "markdown",
      "metadata": {
        "id": "view-in-github",
        "colab_type": "text"
      },
      "source": [
        "<a href=\"https://colab.research.google.com/github/briggs123/PYTHON-/blob/main/KOUSHIK_VU21CSEN0101199.ipynb\" target=\"_parent\"><img src=\"https://colab.research.google.com/assets/colab-badge.svg\" alt=\"Open In Colab\"/></a>"
      ]
    },
    {
      "cell_type": "markdown",
      "id": "817e7b52",
      "metadata": {
        "id": "817e7b52"
      },
      "source": [
        "## avg of 3 numbers"
      ]
    },
    {
      "cell_type": "code",
      "execution_count": null,
      "id": "10c1110e",
      "metadata": {
        "id": "10c1110e",
        "outputId": "14bfeac5-569b-4d88-9cfb-2465cb7544ff"
      },
      "outputs": [
        {
          "name": "stdout",
          "output_type": "stream",
          "text": [
            "the average ofthe numbers\n",
            "70 23.333333333333332\n",
            "<class 'float'>\n"
          ]
        }
      ],
      "source": [
        "a=10\n",
        "b=20\n",
        "c=30\n",
        "d=a+b+c\n",
        "avg=d/3\n",
        "print(\"the average ofthe numbers\")\n",
        "print(d,avg)\n",
        "print(type(avg))"
      ]
    },
    {
      "cell_type": "code",
      "execution_count": null,
      "id": "7d7af61f",
      "metadata": {
        "id": "7d7af61f",
        "outputId": "72896110-6a90-4c8e-efdc-c8e507a7a6d2"
      },
      "outputs": [
        {
          "name": "stdout",
          "output_type": "stream",
          "text": [
            "the average of the numbers\n",
            "26.666666666666668\n",
            "<class 'float'>\n"
          ]
        }
      ],
      "source": [
        "a=10;b=30;c=40\n",
        "d=a+b+c\n",
        "avg=d/3\n",
        "print(\"the average of the numbers\")\n",
        "print(avg)\n",
        "print(type(avg))"
      ]
    },
    {
      "cell_type": "code",
      "execution_count": null,
      "id": "87eff18d",
      "metadata": {
        "id": "87eff18d"
      },
      "outputs": [],
      "source": [
        "a=10;b=30;c=40\n",
        "d=a+b+c\n",
        "avg=d/3\n",
        "print(\"the average  of two numbers =\",avg)\n",
        "print(type(avg))"
      ]
    },
    {
      "cell_type": "markdown",
      "id": "8a2930f6",
      "metadata": {
        "id": "8a2930f6"
      },
      "source": [
        "## multiplication of two numbers"
      ]
    },
    {
      "cell_type": "code",
      "execution_count": null,
      "id": "b33096b1",
      "metadata": {
        "id": "b33096b1",
        "outputId": "eabd74e4-7ccc-466c-dd47-0833c4e79f45"
      },
      "outputs": [
        {
          "name": "stdout",
          "output_type": "stream",
          "text": [
            "the multiplication of two numbers= 600\n",
            "<class 'int'>\n"
          ]
        }
      ],
      "source": [
        "a=20;b=30\n",
        "c=a*b\n",
        "print(\"the multiplication of two numbers=\",c)\n",
        "print(type(c))"
      ]
    },
    {
      "cell_type": "markdown",
      "id": "52125cba",
      "metadata": {
        "id": "52125cba"
      },
      "source": [
        "## dynamic addition of two numbers"
      ]
    },
    {
      "cell_type": "code",
      "execution_count": null,
      "id": "059f1836",
      "metadata": {
        "id": "059f1836",
        "outputId": "2b1f4336-38b4-488c-e552-db8f14ae5ae2"
      },
      "outputs": [
        {
          "name": "stdout",
          "output_type": "stream",
          "text": [
            "enter a number5\n",
            "enter the second number3\n",
            "the addition of numbers= 8\n"
          ]
        }
      ],
      "source": [
        "a=int(input(\"enter a number\"))\n",
        "b=int(input(\"enter the second number\"))\n",
        "c=a+b\n",
        "print(\"the addition of numbers=\",c)"
      ]
    },
    {
      "cell_type": "code",
      "execution_count": null,
      "id": "34c56c6a",
      "metadata": {
        "id": "34c56c6a",
        "outputId": "db38a4d9-4052-4fe1-b3c6-7b174a1ae6ff"
      },
      "outputs": [
        {
          "name": "stdout",
          "output_type": "stream",
          "text": [
            "enter a number5\n",
            "enter the second number4\n",
            "the addition of numbers= 9\n"
          ]
        }
      ],
      "source": [
        "a=int(input(\"enter a number\"));b=int(input(\"enter the second number\"))\n",
        "c=a+b\n",
        "print(\"the addition of numbers=\",c)"
      ]
    },
    {
      "cell_type": "markdown",
      "id": "d1aa908f",
      "metadata": {
        "id": "d1aa908f"
      },
      "source": [
        "## ADDITION OF STRINGS"
      ]
    },
    {
      "cell_type": "code",
      "execution_count": null,
      "id": "204c271e",
      "metadata": {
        "id": "204c271e",
        "outputId": "3a140f58-0311-4460-99ee-e2a8b5a4e53d"
      },
      "outputs": [
        {
          "name": "stdout",
          "output_type": "stream",
          "text": [
            "koushik\n",
            "<class 'str'>\n"
          ]
        }
      ],
      "source": [
        "a=\"kou\";b=\"shik\"\n",
        "c=a+b\n",
        "print(c)\n",
        "print(type(c))"
      ]
    },
    {
      "cell_type": "code",
      "execution_count": null,
      "id": "cd943f42",
      "metadata": {
        "id": "cd943f42",
        "outputId": "4628d56f-ca44-4693-edeb-700c43db9c03"
      },
      "outputs": [
        {
          "name": "stdout",
          "output_type": "stream",
          "text": [
            "123456 <class 'str'>\n"
          ]
        }
      ],
      "source": [
        "a=\"123\"\n",
        "b=\"456\"\n",
        "c=a+b\n",
        "print(c,type(c))"
      ]
    },
    {
      "cell_type": "markdown",
      "id": "e1fb1c65",
      "metadata": {
        "id": "e1fb1c65"
      },
      "source": [
        "## CONVERSION OF DATA TYPES"
      ]
    },
    {
      "cell_type": "markdown",
      "id": "53252632",
      "metadata": {
        "id": "53252632"
      },
      "source": [
        "## COVERT INT TO FLOAT"
      ]
    },
    {
      "cell_type": "code",
      "execution_count": null,
      "id": "1b33a8d2",
      "metadata": {
        "id": "1b33a8d2",
        "outputId": "99966609-444f-4c8f-8358-06a5630d8c8d"
      },
      "outputs": [
        {
          "name": "stdout",
          "output_type": "stream",
          "text": [
            "10.0 <class 'float'>\n"
          ]
        }
      ],
      "source": [
        "a=10\n",
        "b=float(a)\n",
        "print(b,type(b))"
      ]
    },
    {
      "cell_type": "markdown",
      "id": "1130158e",
      "metadata": {
        "id": "1130158e"
      },
      "source": [
        "## convert int to float (viceversa)"
      ]
    },
    {
      "cell_type": "code",
      "execution_count": null,
      "id": "b75c5a7c",
      "metadata": {
        "id": "b75c5a7c",
        "outputId": "ea9b8d56-db3a-4ab9-c47f-7904cbb348cd"
      },
      "outputs": [
        {
          "name": "stdout",
          "output_type": "stream",
          "text": [
            "10.0 <class 'float'>\n",
            "10 <class 'int'>\n"
          ]
        }
      ],
      "source": [
        "a=10;b=float(a)\n",
        "print(b,type(b))\n",
        "c=int(b)\n",
        "print(c,type(c))"
      ]
    },
    {
      "cell_type": "markdown",
      "id": "f8b13dea",
      "metadata": {
        "id": "f8b13dea"
      },
      "source": [
        "## int to string"
      ]
    },
    {
      "cell_type": "code",
      "execution_count": null,
      "id": "5838b62b",
      "metadata": {
        "id": "5838b62b",
        "outputId": "e1c691f4-095c-42fc-f48c-95fa7215b307"
      },
      "outputs": [
        {
          "name": "stdout",
          "output_type": "stream",
          "text": [
            "64 <class 'str'>\n",
            "64 <class 'int'>\n"
          ]
        }
      ],
      "source": [
        "a=64\n",
        "b=str(64)\n",
        "print(b,type(b))\n",
        "c=int(b)\n",
        "print(c,type(c))\n",
        "##string to int is not posssible only if they are alphabets"
      ]
    },
    {
      "cell_type": "markdown",
      "id": "38224c30",
      "metadata": {
        "id": "38224c30"
      },
      "source": [
        "## boolean function"
      ]
    },
    {
      "cell_type": "code",
      "execution_count": null,
      "id": "417810d1",
      "metadata": {
        "id": "417810d1",
        "outputId": "626d5bcf-277e-42d2-eccf-37ff5a84be8a"
      },
      "outputs": [
        {
          "name": "stdout",
          "output_type": "stream",
          "text": [
            "True <class 'int'>\n",
            "True <class 'float'>\n"
          ]
        }
      ],
      "source": [
        "a=10\n",
        "b=float(a)\n",
        "print(bool(a),type(a))\n",
        "print(bool(b),type(b))"
      ]
    },
    {
      "cell_type": "code",
      "execution_count": null,
      "id": "f9de31dd",
      "metadata": {
        "id": "f9de31dd",
        "outputId": "fcaaa3e4-9966-4994-dbbc-a5e830457ca4"
      },
      "outputs": [
        {
          "name": "stdout",
          "output_type": "stream",
          "text": [
            "enter the numbers to check boolean \n",
            "enter the numbers5\n",
            "enter the second number10.4\n",
            "check boolean True True <class 'int'> <class 'float'>\n"
          ]
        }
      ],
      "source": [
        "print(\"enter the numbers to check boolean \");a=int(input(\"enter the numbers\"));b=float(input(\"enter the second number\"))\n",
        "print(\"check boolean\",bool(a),bool(b),type(a),type(b))"
      ]
    },
    {
      "cell_type": "code",
      "execution_count": null,
      "id": "15febb6f",
      "metadata": {
        "id": "15febb6f",
        "outputId": "9d43271a-8935-4bc6-c422-170348f9049a"
      },
      "outputs": [
        {
          "name": "stdout",
          "output_type": "stream",
          "text": [
            "enter the numbers to check boolean \n",
            "enter the numbers  5\n",
            "enter the second number   4\n",
            "check boolean\n",
            "True True <class 'int'> <class 'float'>\n"
          ]
        }
      ],
      "source": [
        "print(\"enter the numbers to check boolean \");a=int(input(\"enter the numbers  \"));b=float(input(\"enter the second number   \"))\n",
        "print(\"check boolean\")\n",
        "print(bool(a),bool(b),type(a),type(b))"
      ]
    },
    {
      "cell_type": "code",
      "execution_count": null,
      "id": "6fda1360",
      "metadata": {
        "id": "6fda1360",
        "outputId": "f3c273a1-ca33-4d22-ae50-1b93f604b394"
      },
      "outputs": [
        {
          "name": "stdout",
          "output_type": "stream",
          "text": [
            "False <class 'bool'>\n"
          ]
        }
      ],
      "source": [
        "a=10;b=15;c=a>b\n",
        "print(bool(c),type(c))"
      ]
    },
    {
      "cell_type": "code",
      "execution_count": null,
      "id": "4062e7e7",
      "metadata": {
        "id": "4062e7e7",
        "outputId": "82abcfc9-5431-4a64-9740-479376bb1053"
      },
      "outputs": [
        {
          "name": "stdout",
          "output_type": "stream",
          "text": [
            "False <class 'bool'>\n",
            "True\n",
            "0 1\n"
          ]
        }
      ],
      "source": [
        "a=10;b=15;c=a>b;e=a<b\n",
        "print(bool(c),type(c))\n",
        "d=int(c)\n",
        "print(bool(f))\n",
        "f=int(e)\n",
        "print(d,f)"
      ]
    },
    {
      "cell_type": "code",
      "execution_count": null,
      "id": "5052c50b",
      "metadata": {
        "id": "5052c50b",
        "outputId": "06a74d70-7bb6-4f06-b054-0a8eba55b384"
      },
      "outputs": [
        {
          "name": "stdout",
          "output_type": "stream",
          "text": [
            "False\n",
            "0 True 1.0\n"
          ]
        }
      ],
      "source": [
        "a=10;b=15;c=a>b;e=a<b\n",
        "print(bool(c))\n",
        "print(int(c),bool(e),float(e))"
      ]
    },
    {
      "cell_type": "code",
      "execution_count": null,
      "id": "24eccae3",
      "metadata": {
        "id": "24eccae3",
        "outputId": "d6b1fc2f-e4d9-4c04-c842-07df7514ac70"
      },
      "outputs": [
        {
          "name": "stdout",
          "output_type": "stream",
          "text": [
            "False <class 'bool'>\n"
          ]
        }
      ],
      "source": [
        "a=10;b=2\n",
        "c=b>a\n",
        "print(c,type(c))"
      ]
    },
    {
      "cell_type": "code",
      "execution_count": null,
      "id": "9dab458b",
      "metadata": {
        "id": "9dab458b",
        "outputId": "e70addd5-4f5c-4c81-f178-8ba15a9e06b1"
      },
      "outputs": [
        {
          "name": "stdout",
          "output_type": "stream",
          "text": [
            "True <class 'bool'>\n",
            "1 <class 'bool'>\n"
          ]
        }
      ],
      "source": [
        "a=bool(12)\n",
        "print(a,type(a))\n",
        "b=int(a)\n",
        "print(b,type(a))"
      ]
    },
    {
      "cell_type": "markdown",
      "id": "78712dcb",
      "metadata": {
        "id": "78712dcb"
      },
      "source": [
        "## complex"
      ]
    },
    {
      "cell_type": "code",
      "execution_count": null,
      "id": "bc5f4ea9",
      "metadata": {
        "id": "bc5f4ea9",
        "outputId": "83c4eec0-4eca-462e-932b-dda565a99e85"
      },
      "outputs": [
        {
          "name": "stdout",
          "output_type": "stream",
          "text": [
            "(12+0j)\n"
          ]
        }
      ],
      "source": [
        "a=12\n",
        "b=complex(a)\n",
        "print(b)"
      ]
    },
    {
      "cell_type": "code",
      "execution_count": null,
      "id": "6ced7895",
      "metadata": {
        "id": "6ced7895",
        "outputId": "a10bd6b6-3df2-4d44-e347-958a7a732dbf"
      },
      "outputs": [
        {
          "name": "stdout",
          "output_type": "stream",
          "text": [
            "True (35+0j) 35.0\n"
          ]
        }
      ],
      "source": [
        "a=35\n",
        "print(bool(35),complex(35),float(35))"
      ]
    },
    {
      "cell_type": "code",
      "execution_count": null,
      "id": "422c4113",
      "metadata": {
        "id": "422c4113",
        "outputId": "946b0916-3e69-487e-e722-b8077b44928f"
      },
      "outputs": [
        {
          "name": "stdout",
          "output_type": "stream",
          "text": [
            "<class 'complex'> (5+2j)\n"
          ]
        }
      ],
      "source": [
        "a=5+2j\n",
        "print(type(a),a)\n",
        "print"
      ]
    },
    {
      "cell_type": "markdown",
      "id": "feef4fa7",
      "metadata": {
        "id": "feef4fa7"
      },
      "source": [
        "## CONTROL STATEMENTS"
      ]
    },
    {
      "cell_type": "markdown",
      "id": "ff12cd74",
      "metadata": {
        "id": "ff12cd74"
      },
      "source": [
        "## if else"
      ]
    },
    {
      "cell_type": "code",
      "execution_count": null,
      "id": "73c2fe25",
      "metadata": {
        "id": "73c2fe25",
        "outputId": "81a0872e-60d6-49b4-ee0f-1853d49ac92d"
      },
      "outputs": [
        {
          "name": "stdout",
          "output_type": "stream",
          "text": [
            "eligible for voting\n"
          ]
        }
      ],
      "source": [
        "a=20\n",
        "if a>18: ### indentation is necessary \n",
        "    print(\"eligible for voting\") ### the code should be started below the idenenation "
      ]
    },
    {
      "cell_type": "code",
      "execution_count": null,
      "id": "0662f0b2",
      "metadata": {
        "id": "0662f0b2",
        "outputId": "03a5068b-525c-4595-cb81-1eb83a2927d4"
      },
      "outputs": [
        {
          "name": "stdout",
          "output_type": "stream",
          "text": [
            "enter your age21\n",
            "eligible for voting\n"
          ]
        }
      ],
      "source": [
        "a=int(input(\"enter your age\"))\n",
        "if a>18:\n",
        "    print(\"eligible for voting\")\n",
        "else:\n",
        "        print(\"not eligible\")\n",
        "    "
      ]
    },
    {
      "cell_type": "code",
      "execution_count": null,
      "id": "6a7346dc",
      "metadata": {
        "id": "6a7346dc",
        "outputId": "5adb2c06-012c-4fc0-bc8a-42e76ebc1c43"
      },
      "outputs": [
        {
          "name": "stdout",
          "output_type": "stream",
          "text": [
            "enter your age18\n",
            "just eligible\n"
          ]
        }
      ],
      "source": [
        "a=int(input(\"enter your age\"))\n",
        "if a>18:\n",
        "    print(\"eligible\")\n",
        "elif a==18:\n",
        "    print(\"just eligible\")\n",
        "else:\n",
        "    print(\"not eligible\")"
      ]
    },
    {
      "cell_type": "code",
      "execution_count": null,
      "id": "80dab61e",
      "metadata": {
        "id": "80dab61e",
        "outputId": "e3f00e83-579a-4492-def6-9bf6c2dee12a"
      },
      "outputs": [
        {
          "name": "stdout",
          "output_type": "stream",
          "text": [
            "enter the numbers7\n",
            "enter the second number8\n",
            "enter the third number5\n",
            "b is max\n"
          ]
        }
      ],
      "source": [
        "a=int(input(\"enter the numbers\"));b=int(input(\"enter the second number\"));c=int(input(\"enter the third number\"))\n",
        "if a>b and a>c:\n",
        "    print(\"a is max\")\n",
        "elif b>a and b>c:\n",
        "    print(\"b is max\")\n",
        "else:\n",
        "    print(\"c is max\")"
      ]
    },
    {
      "cell_type": "code",
      "execution_count": null,
      "id": "5e668345",
      "metadata": {
        "id": "5e668345",
        "outputId": "d1a37007-6ef0-45df-e24e-b6a977ee1ccc"
      },
      "outputs": [
        {
          "name": "stdout",
          "output_type": "stream",
          "text": [
            "enter the numbers5\n",
            "enter the second number3\n",
            "enter the third number2\n",
            "enter fourth number8\n",
            "enter the fifith numer9\n",
            "e is max\n"
          ]
        }
      ],
      "source": [
        "a=int(input(\"enter the numbers\"));b=int(input(\"enter the second number\"));c=int(input(\"enter the third number\"))\n",
        "d=int(input(\"enter fourth number\"));e=int(input(\"enter the fifith numer\"))\n",
        "if a>b and a>c and a>d and a>e:\n",
        "      print(\"a is max\")\n",
        "elif b>a and b>c and b>d and b>e:\n",
        "            print(\"b is max\")\n",
        "elif c>a and c>b and c>d and c>e:\n",
        "    print(\"c is max\")\n",
        "elif d>a and d>b and d>c and d>e:\n",
        "    print(\"d is max\")\n",
        "else:\n",
        "    print(\"e is max\")\n"
      ]
    },
    {
      "cell_type": "code",
      "execution_count": null,
      "id": "8067aeb6",
      "metadata": {
        "id": "8067aeb6",
        "outputId": "5ec33b0e-bf55-4a82-e396-5b731ceea374"
      },
      "outputs": [
        {
          "name": "stdout",
          "output_type": "stream",
          "text": [
            "enter the subject marks of the students\n",
            "enter the marks of subjects 45\n",
            "enter the marks of  2 subject  43\n",
            "enter 3 sub marks23\n",
            "enter the marks of 4 sub76\n",
            "enter the marks of 5 subject45\n",
            "d is max\n"
          ]
        }
      ],
      "source": [
        "print(\"enter the subject marks of the students\")\n",
        "s1=int(input(\"enter the marks of subjects \"));s2=int(input(\"enter the marks of  2 subject  \"));s3=int(input(\"enter 3 sub marks\"))\n",
        "s4=int(input(\"enter the marks of 4 sub\"));s5=int(input(\"enter the marks of 5 subject\"))\n",
        "if s1>s2 and s1>s3 and s1>s4 and s1>s5:\n",
        "      print(\"a is max\")\n",
        "elif s2>s1 and s2>s3 and s2>s4 and s2>s5:\n",
        "            print(\"b is max\")\n",
        "elif s3>s1 and s3>s2 and s3>s4 and s3>s5:\n",
        "    print(\"c is max\")\n",
        "elif s4>s1 and s4>s2 and s4>s3 and s4>s5:\n",
        "    print(\"d is max\")\n",
        "else:\n",
        "    print(\"e is max\")\n",
        "\n"
      ]
    },
    {
      "cell_type": "markdown",
      "id": "fefb0ef8",
      "metadata": {
        "id": "fefb0ef8"
      },
      "source": [
        "## for loop\n"
      ]
    },
    {
      "cell_type": "code",
      "execution_count": null,
      "id": "3f98c501",
      "metadata": {
        "id": "3f98c501",
        "outputId": "9cfe52ac-4ba2-4805-c70a-d533258f02dd"
      },
      "outputs": [
        {
          "name": "stdout",
          "output_type": "stream",
          "text": [
            "enter the number0\n",
            "enter the max number100\n",
            "even number 0\n",
            "even number 2\n",
            "even number 4\n",
            "even number 6\n",
            "even number 8\n",
            "even number 10\n",
            "even number 12\n",
            "even number 14\n",
            "even number 16\n",
            "even number 18\n",
            "even number 20\n",
            "even number 22\n",
            "even number 24\n",
            "even number 26\n",
            "even number 28\n",
            "even number 30\n",
            "even number 32\n",
            "even number 34\n",
            "even number 36\n",
            "even number 38\n",
            "even number 40\n",
            "even number 42\n",
            "even number 44\n",
            "even number 46\n",
            "even number 48\n",
            "even number 50\n",
            "even number 52\n",
            "even number 54\n",
            "even number 56\n",
            "even number 58\n",
            "even number 60\n",
            "even number 62\n",
            "even number 64\n",
            "even number 66\n",
            "even number 68\n",
            "even number 70\n",
            "even number 72\n",
            "even number 74\n",
            "even number 76\n",
            "even number 78\n",
            "even number 80\n",
            "even number 82\n",
            "even number 84\n",
            "even number 86\n",
            "even number 88\n",
            "even number 90\n",
            "even number 92\n",
            "even number 94\n",
            "even number 96\n",
            "even number 98\n"
          ]
        }
      ],
      "source": [
        "a=int(input(\"enter the number\"));b=int(input(\"enter the max number\"))\n",
        "for i in range(a,b):\n",
        "    if i%2==0:\n",
        "        print(\"even number\",i)\n",
        "    else:\n",
        "        print(\"odd numbers\",i)"
      ]
    },
    {
      "cell_type": "markdown",
      "id": "138d576b",
      "metadata": {
        "id": "138d576b"
      },
      "source": [
        "## multiplication table"
      ]
    },
    {
      "cell_type": "code",
      "execution_count": null,
      "id": "e40ee4f5",
      "metadata": {
        "id": "e40ee4f5",
        "outputId": "bb9fad45-a558-46f1-faca-cf08eeeeb7a0"
      },
      "outputs": [
        {
          "ename": "SyntaxError",
          "evalue": "invalid syntax (Temp/ipykernel_8176/3622758617.py, line 2)",
          "output_type": "error",
          "traceback": [
            "\u001b[1;36m  File \u001b[1;32m\"C:\\Users\\CSE22004\\AppData\\Local\\Temp/ipykernel_8176/3622758617.py\"\u001b[1;36m, line \u001b[1;32m2\u001b[0m\n\u001b[1;33m    for i in range(a,b,=2):\u001b[0m\n\u001b[1;37m                       ^\u001b[0m\n\u001b[1;31mSyntaxError\u001b[0m\u001b[1;31m:\u001b[0m invalid syntax\n"
          ]
        }
      ],
      "source": [
        "a=int(input(\"enter the number\"));b=int(input(\"enter the max number\"))\n",
        "for i in range(a,b,2):\n",
        "        print(\"even number\",i)\n",
        "for j in range(a,b,3):\n",
        "    print(\"odd numbers\",j)"
      ]
    },
    {
      "cell_type": "code",
      "execution_count": null,
      "id": "992a9947",
      "metadata": {
        "id": "992a9947",
        "outputId": "ffff2c91-3b0d-42d6-fc8b-f9daf984131f"
      },
      "outputs": [
        {
          "name": "stdout",
          "output_type": "stream",
          "text": [
            "enter the number to begin with   1\n",
            "enter the max number5\n",
            "1\n",
            "2\n",
            "3\n",
            "4\n"
          ]
        }
      ],
      "source": [
        "a=int(input(\"enter the number to begin with   \"));b=int(input(\"enter the max number   \"))\n",
        "for i in range(a,b):\n",
        "    print(i)"
      ]
    },
    {
      "cell_type": "code",
      "execution_count": null,
      "id": "866ff4a9",
      "metadata": {
        "id": "866ff4a9",
        "outputId": "79e256b0-4f7d-4f24-c29c-22e39940939c"
      },
      "outputs": [
        {
          "name": "stdout",
          "output_type": "stream",
          "text": [
            "enter the max number you want to add 10\n",
            "enter the first number4\n",
            "49\n"
          ]
        }
      ],
      "source": [
        "a=int(input(\"enter the max number you want to add \"));b=int(input(\"enter the first number\"))\n",
        "sum=0\n",
        "while b<=a:\n",
        "    sum=sum+b\n",
        "    b=b+1\n",
        "print(sum)"
      ]
    },
    {
      "cell_type": "markdown",
      "id": "b1ac20f2",
      "metadata": {
        "id": "b1ac20f2"
      },
      "source": [
        "## module"
      ]
    },
    {
      "cell_type": "code",
      "execution_count": null,
      "id": "4a65e001",
      "metadata": {
        "id": "4a65e001",
        "outputId": "175911da-51c0-42e1-cc91-a31b7e149fb4"
      },
      "outputs": [
        {
          "name": "stdout",
          "output_type": "stream",
          "text": [
            "enter the first side2\n",
            "enter the second side2\n",
            "enter the third side2\n",
            "quilateral triangle\n"
          ]
        }
      ],
      "source": [
        "a=int(input(\"enter the first side\"));b=int(input(\"enter the second side\"));c=int(input(\"enter the third side\"))\n",
        "if a==b and b==c and a==c:\n",
        "    print(\"equilateral triangle\")\n",
        "elif a==b or b==c or c==a:\n",
        "    print(\"isoscles triangle\")\n",
        "else:\n",
        "    print(\"scalen triangle\")"
      ]
    },
    {
      "cell_type": "code",
      "execution_count": null,
      "id": "d3123264",
      "metadata": {
        "id": "d3123264",
        "outputId": "66b9c4ca-88b4-4b15-da4e-1198d187892e"
      },
      "outputs": [
        {
          "name": "stdout",
          "output_type": "stream",
          "text": [
            "enter the year2020\n",
            "it is a leap year\n"
          ]
        }
      ],
      "source": [
        "a=int(input(\"enter the year\"))\n",
        "if a%400==0:\n",
        "    print(\"it is a leap year\")\n",
        "elif a%100==0:\n",
        "    print(\"it is not a leap year\")\n",
        "elif a%4==0:\n",
        "    print(\"it is a leap year\")\n",
        "else:\n",
        "    print(\"not a leap year\")"
      ]
    },
    {
      "cell_type": "code",
      "execution_count": null,
      "id": "6dc0d19a",
      "metadata": {
        "id": "6dc0d19a",
        "outputId": "a9e20e6a-0f4e-411b-ce9b-d9ddd563784c"
      },
      "outputs": [
        {
          "name": "stdout",
          "output_type": "stream",
          "text": [
            "enter the first number2\n",
            "enter the second number3\n",
            "enter the third number5\n",
            "c is max\n"
          ]
        }
      ],
      "source": [
        "a=int(input(\"enter the first number\"));b=int(input(\"enter the second number\"));c=int(input(\"enter the third number\"))\n",
        "if a>b and a>c:\n",
        "    print(\"a is max\")\n",
        "elif b>a and b>c:\n",
        "    print(\"b is max\")\n",
        "else:\n",
        "    print(\"c is max\")"
      ]
    },
    {
      "cell_type": "code",
      "execution_count": null,
      "id": "6d5cb4a9",
      "metadata": {
        "id": "6d5cb4a9",
        "outputId": "ed7375af-f8c7-4274-89a6-4d27720d6a08"
      },
      "outputs": [
        {
          "name": "stdout",
          "output_type": "stream",
          "text": [
            "enter the first number4\n",
            "enter the second number5\n",
            "enter the third number6\n",
            "a is max\n"
          ]
        }
      ],
      "source": [
        "a=int(input(\"enter the first number\"));b=int(input(\"enter the second number\"));c=int(input(\"enter the third number\"))\n",
        "if a<b and a<c:\n",
        "    print(\"a is max\")\n",
        "elif b<a and b<c:\n",
        "    print(\"b is max\")\n",
        "else:\n",
        "    print(\"c is max\")"
      ]
    },
    {
      "cell_type": "code",
      "execution_count": null,
      "id": "71ba9208",
      "metadata": {
        "id": "71ba9208",
        "outputId": "c3911813-7d57-4c72-8810-a101edd47d7f"
      },
      "outputs": [
        {
          "name": "stdout",
          "output_type": "stream",
          "text": [
            "enter the numer22\n",
            "it is divisible by 11\n"
          ]
        }
      ],
      "source": [
        "a=int(input(\"enter the numer\"))\n",
        "if a%5==0:\n",
        "    print(\"it is divisible by 5\")\n",
        "elif a%11==0:\n",
        "    print(\"it is divisible by 11\")\n",
        "elif a%5==0 and a%11==0:\n",
        "    print(\"it is div by 5 and 11\")\n",
        "else:\n",
        "    print(\"not divisible by both\")"
      ]
    },
    {
      "cell_type": "code",
      "execution_count": null,
      "id": "470e5392",
      "metadata": {
        "id": "470e5392",
        "outputId": "61612198-b010-44a6-883f-d62c458919ad"
      },
      "outputs": [
        {
          "name": "stdout",
          "output_type": "stream",
          "text": [
            "enter the number to find factorial for  5\n",
            "120\n"
          ]
        }
      ],
      "source": [
        "a=int(input(\"enter the number to find factorial for  \"))\n",
        "fact=1\n",
        "for i in range(1,a+1):\n",
        "    fact=fact*i\n",
        "print(fact)"
      ]
    },
    {
      "cell_type": "code",
      "execution_count": null,
      "id": "49ab9b13",
      "metadata": {
        "id": "49ab9b13",
        "outputId": "5ee7a532-aa6f-4170-d864-49376ca4cb39"
      },
      "outputs": [
        {
          "name": "stdout",
          "output_type": "stream",
          "text": [
            "enter the number you want121\n",
            "not a palindrome\n"
          ]
        }
      ],
      "source": [
        "original=int(input(\"enter the number you want\"))\n",
        "reverse=0\n",
        "temp=original\n",
        "while temp>0:\n",
        "    remainder=temp%10\n",
        "    reverse=(reverse*10)+remainder\n",
        "    temp=temp/10\n",
        "if reverse==original:\n",
        "    print(\"palindrome\")\n",
        "else:\n",
        "    print(\"not a palindrome\")"
      ]
    },
    {
      "cell_type": "code",
      "execution_count": null,
      "id": "a05d66ff",
      "metadata": {
        "id": "a05d66ff",
        "outputId": "171a92e9-b511-46aa-e554-e27df1adbb20"
      },
      "outputs": [
        {
          "name": "stdout",
          "output_type": "stream",
          "text": [
            "enter the numer of terms10\n",
            "0 1\n",
            "1\n",
            "2\n",
            "3\n",
            "5\n",
            "8\n",
            "13\n",
            "21\n",
            "34\n",
            "55\n",
            "completion of fibnoccii\n"
          ]
        }
      ],
      "source": [
        "t=int(input(\"enter the numer of terms\"));a=0;b=1\n",
        "print(a,b)\n",
        "for i in range(1,t):\n",
        "    nextnum=a+b\n",
        "    print(nextnum)\n",
        "    a=b\n",
        "    b=nextnum\n",
        "print(\"completion of fibnoccii\")\n",
        "    "
      ]
    },
    {
      "cell_type": "markdown",
      "id": "9a75a836",
      "metadata": {
        "id": "9a75a836"
      },
      "source": [
        "## LIST"
      ]
    },
    {
      "cell_type": "code",
      "execution_count": null,
      "id": "3368df43",
      "metadata": {
        "id": "3368df43",
        "outputId": "bc1dc2d6-fa73-423a-bc8e-265f536a9303"
      },
      "outputs": [
        {
          "name": "stdout",
          "output_type": "stream",
          "text": [
            "['apple', 'peach', 'melon', 'orange', 'banana']\n",
            "apple\n",
            "['apple', 'peach', 'melon']\n",
            "['apple', 'peach']\n",
            "['peach', 'melon']\n",
            "['peach', 'melon', 'orange', 'banana']\n"
          ]
        }
      ],
      "source": [
        "fruits=[\"apple\",\"peach\",\"melon\",\"orange\",\"banana\"]\n",
        "print(fruits)\n",
        "print(fruits[0])#it is used for printing index\n",
        "print(fruits[0:3])# intial index and range is a given number\n",
        "print(fruits[:2])\n",
        "print(fruits[1:3])#if the inex is not given it acts as zero\n",
        "print(fruits[1:])"
      ]
    },
    {
      "cell_type": "code",
      "execution_count": null,
      "id": "36a45cf8",
      "metadata": {
        "id": "36a45cf8",
        "outputId": "2b695e33-898a-4fb6-d763-00c46217f818"
      },
      "outputs": [
        {
          "name": "stdout",
          "output_type": "stream",
          "text": [
            "['apple', 'peach', 'melon', 'orange', 'banana']\n",
            "5\n",
            "['apple', 'peach', 'melon', 'orange', 'banana', 'grapes']\n",
            "['apple', 'fruits', 'peach', 'melon', 'orange', 'banana', 'grapes']\n"
          ]
        }
      ],
      "source": [
        "fruits=[\"apple\",\"peach\",\"melon\",\"orange\",\"banana\"]\n",
        "print(fruits)\n",
        "print(len(fruits))\n",
        "fruits.append(\"grapes\")# to add elemts into list\n",
        "print(fruits)\n",
        "fruits.insert(1,\"fruits\")# to add elements with respective to index\n",
        "print(fruits)"
      ]
    },
    {
      "cell_type": "code",
      "execution_count": null,
      "id": "083ffe55",
      "metadata": {
        "id": "083ffe55",
        "outputId": "d2e599b2-bf95-43b8-dc6e-1aea53fcdca9"
      },
      "outputs": [
        {
          "name": "stdout",
          "output_type": "stream",
          "text": [
            "['apple', 'peach', 'melon', 'orange', 'banana', 'brinjal', 'potato', 'onion']\n",
            "onion\n",
            "['apple', 'peach', 'melon', 'banana', 'brinjal', 'potato', 'onion']\n"
          ]
        }
      ],
      "source": [
        "fruits=[\"apple\",\"peach\",\"melon\",\"orange\",\"banana\"]\n",
        "vegetables=[\"brinjal\",\"potato\",\"onion\"]\n",
        "fruits.extend(vegetables)# to add elements of another list\n",
        "print(fruits)\n",
        "print(fruits[7])\n",
        "fruits.remove(\"orange\")# to remove elements from the list\n",
        "print(fruits)"
      ]
    },
    {
      "cell_type": "code",
      "execution_count": null,
      "id": "88865c71",
      "metadata": {
        "id": "88865c71",
        "outputId": "ac5d0539-5138-4c0c-c23c-b9fa8d0278b8"
      },
      "outputs": [
        {
          "name": "stdout",
          "output_type": "stream",
          "text": [
            "['ac', 'tv', 'w machine', 'heater']\n",
            "enter the fruit nametest\n",
            "enter the fruit namecase\n",
            "['ac', 'test', 'tv', 'w machine', 'heater']\n",
            "['ac', 'test', 'tv', 'w machine', 'heater', 'test']\n"
          ]
        }
      ],
      "source": [
        "fruits=[\"ac\",\"tv\",\"w machine\",\"heater\"]\n",
        "print(fruits)\n",
        "a=input(\"enter the fruit name\")\n",
        "b=input(\"enter the fruit name\")\n",
        "fruits.insert(1,a)\n",
        "print(fruits)\n",
        "fruits.append(a)\n",
        "print(fruits)"
      ]
    },
    {
      "cell_type": "code",
      "execution_count": null,
      "id": "b67abf43",
      "metadata": {
        "id": "b67abf43",
        "outputId": "edb703b3-84e2-4d7f-b029-f0863c74e0bf"
      },
      "outputs": [
        {
          "name": "stdout",
          "output_type": "stream",
          "text": [
            "[2, 3, 4, 5, 6]\n",
            "[1, 'koushik', True, 5j]\n",
            "['koushik', True]\n",
            "['koushik', True]\n",
            "[]\n"
          ]
        }
      ],
      "source": [
        "mix=[1,\"koushik\",bool(1),0+5j]\n",
        "g=[2,3,4,5,6]\n",
        "print(g)\n",
        "print(mix)\n",
        "mix.pop(0)# pop is used to remove the elements by the list \n",
        "mix.remove(5j)\n",
        "print(mix)\n",
        "del g[0] #del is used to delete elements if the index is mentioned it deltes the index value in list\n",
        "del g #del is used here without index to delete whole list\n",
        "print(mix)\n",
        "mix.clear()# to clear the list\n",
        "print(mix)"
      ]
    },
    {
      "cell_type": "code",
      "execution_count": null,
      "id": "d6884b87",
      "metadata": {
        "id": "d6884b87",
        "outputId": "1e09e9a7-c9db-40bf-fc94-7ec0c091635b"
      },
      "outputs": [
        {
          "name": "stdout",
          "output_type": "stream",
          "text": [
            "[1, 2, 3, 4, 5, 6]\n",
            "[6, 5, 4, 3, 2, 1]\n",
            "['A', 'b', 'c', 'd']\n",
            "['d', 'c', 'b', 'A']\n"
          ]
        }
      ],
      "source": [
        "num=[1,5,3,6,2,4]\n",
        "num.sort()#sort is used to sort out the list in our wish\n",
        "print(num)\n",
        "num.sort(reverse=True)#reverse=true statement used to reverse the list ie: descending order\n",
        "print(num)\n",
        "alph=[\"A\",\"b\",\"c\",\"d\"]\n",
        "print(alph)\n",
        "alph.sort(reverse=True)# it also sorts the alphabets in dictionary wise\n",
        "print(alph)"
      ]
    },
    {
      "cell_type": "code",
      "execution_count": null,
      "id": "faa0e822",
      "metadata": {
        "id": "faa0e822",
        "outputId": "3ab2aaa4-56aa-41be-ea8b-a895d4df13c8"
      },
      "outputs": [
        {
          "name": "stdout",
          "output_type": "stream",
          "text": [
            "('a', 'c', 'd')\n"
          ]
        }
      ],
      "source": [
        "t=(\"a\",\"c\",\"d\")#TUPLE DOES NOT ALLOW ADDITION OF ELEMENTS\n",
        "print(t)"
      ]
    },
    {
      "cell_type": "code",
      "execution_count": null,
      "id": "51f0257b",
      "metadata": {
        "id": "51f0257b",
        "outputId": "9237c95b-9c9a-49e1-c801-e3ede2df8367"
      },
      "outputs": [
        {
          "name": "stdout",
          "output_type": "stream",
          "text": [
            "2\n",
            "6\n"
          ]
        }
      ],
      "source": [
        "a=[1,2,3,6,5,7]\n",
        "for i in range(len(a)):\n",
        "    if a[i]%2==0:\n",
        "        print(a[i])\n",
        "    \n"
      ]
    },
    {
      "cell_type": "code",
      "execution_count": null,
      "id": "1b1b88fc",
      "metadata": {
        "id": "1b1b88fc",
        "outputId": "14d18093-6d81-4b2f-cb3d-3c90f1b83483"
      },
      "outputs": [
        {
          "name": "stdout",
          "output_type": "stream",
          "text": [
            "enter the numbers5\n"
          ]
        },
        {
          "ename": "IndexError",
          "evalue": "list assignment index out of range",
          "output_type": "error",
          "traceback": [
            "\u001b[1;31m---------------------------------------------------------------------------\u001b[0m",
            "\u001b[1;31mIndexError\u001b[0m                                Traceback (most recent call last)",
            "\u001b[1;32m~\\AppData\\Local\\Temp/ipykernel_6712/375826142.py\u001b[0m in \u001b[0;36m<module>\u001b[1;34m\u001b[0m\n\u001b[0;32m      1\u001b[0m \u001b[0ma\u001b[0m\u001b[1;33m=\u001b[0m\u001b[1;33m[\u001b[0m\u001b[1;33m]\u001b[0m\u001b[1;33m\u001b[0m\u001b[1;33m\u001b[0m\u001b[0m\n\u001b[0;32m      2\u001b[0m \u001b[1;32mfor\u001b[0m \u001b[0mi\u001b[0m \u001b[1;32min\u001b[0m \u001b[0mrange\u001b[0m\u001b[1;33m(\u001b[0m\u001b[1;36m1\u001b[0m\u001b[1;33m,\u001b[0m\u001b[1;36m10\u001b[0m\u001b[1;33m)\u001b[0m\u001b[1;33m:\u001b[0m\u001b[1;33m\u001b[0m\u001b[1;33m\u001b[0m\u001b[0m\n\u001b[1;32m----> 3\u001b[1;33m     \u001b[0ma\u001b[0m\u001b[1;33m[\u001b[0m\u001b[0mi\u001b[0m\u001b[1;33m]\u001b[0m\u001b[1;33m=\u001b[0m\u001b[0mint\u001b[0m\u001b[1;33m(\u001b[0m\u001b[0minput\u001b[0m\u001b[1;33m(\u001b[0m\u001b[1;34m\"enter the numbers\"\u001b[0m\u001b[1;33m)\u001b[0m\u001b[1;33m)\u001b[0m\u001b[1;33m\u001b[0m\u001b[1;33m\u001b[0m\u001b[0m\n\u001b[0m\u001b[0;32m      4\u001b[0m \u001b[1;32mwhile\u001b[0m \u001b[0mlen\u001b[0m\u001b[1;33m(\u001b[0m\u001b[0ma\u001b[0m\u001b[1;33m)\u001b[0m\u001b[1;33m<\u001b[0m\u001b[1;36m11\u001b[0m\u001b[1;33m:\u001b[0m\u001b[1;33m\u001b[0m\u001b[1;33m\u001b[0m\u001b[0m\n\u001b[0;32m      5\u001b[0m     \u001b[0mprint\u001b[0m\u001b[1;33m(\u001b[0m\u001b[0ma\u001b[0m\u001b[1;33m[\u001b[0m\u001b[0mi\u001b[0m\u001b[1;33m]\u001b[0m\u001b[1;33m)\u001b[0m\u001b[1;33m\u001b[0m\u001b[1;33m\u001b[0m\u001b[0m\n",
            "\u001b[1;31mIndexError\u001b[0m: list assignment index out of range"
          ]
        }
      ],
      "source": [
        "a=[]\n",
        "for i in range(1,10):\n",
        "    a[i]=int(input(\"enter the numbers\"))\n",
        "while len(a)<11:\n",
        "    print(a[i])\n",
        "    "
      ]
    },
    {
      "cell_type": "code",
      "execution_count": null,
      "id": "8648d8c6",
      "metadata": {
        "id": "8648d8c6",
        "outputId": "974feaab-8180-4e4a-c740-64450948eb0b"
      },
      "outputs": [
        {
          "name": "stdout",
          "output_type": "stream",
          "text": [
            "enter the number4\n",
            "2.0\n"
          ]
        }
      ],
      "source": [
        "import math\n",
        "a=int(input(\"enter the number\"))\n",
        "b=math.sqrt(a)\n",
        "print(b)"
      ]
    },
    {
      "cell_type": "code",
      "execution_count": null,
      "id": "fa23672d",
      "metadata": {
        "id": "fa23672d",
        "outputId": "a8dcf10a-dce7-4cba-9b78-7a11c6106937"
      },
      "outputs": [
        {
          "name": "stdout",
          "output_type": "stream",
          "text": [
            "enter the number3\n"
          ]
        },
        {
          "ename": "AttributeError",
          "evalue": "module 'math' has no attribute 'cbrt'",
          "output_type": "error",
          "traceback": [
            "\u001b[1;31m---------------------------------------------------------------------------\u001b[0m",
            "\u001b[1;31mAttributeError\u001b[0m                            Traceback (most recent call last)",
            "\u001b[1;32m~\\AppData\\Local\\Temp/ipykernel_5800/3202007100.py\u001b[0m in \u001b[0;36m<module>\u001b[1;34m\u001b[0m\n\u001b[0;32m      1\u001b[0m \u001b[1;32mimport\u001b[0m \u001b[0mmath\u001b[0m\u001b[1;33m\u001b[0m\u001b[1;33m\u001b[0m\u001b[0m\n\u001b[0;32m      2\u001b[0m \u001b[0ma\u001b[0m\u001b[1;33m=\u001b[0m\u001b[0mint\u001b[0m\u001b[1;33m(\u001b[0m\u001b[0minput\u001b[0m\u001b[1;33m(\u001b[0m\u001b[1;34m\"enter the number\"\u001b[0m\u001b[1;33m)\u001b[0m\u001b[1;33m)\u001b[0m\u001b[1;33m\u001b[0m\u001b[1;33m\u001b[0m\u001b[0m\n\u001b[1;32m----> 3\u001b[1;33m \u001b[0mb\u001b[0m\u001b[1;33m=\u001b[0m\u001b[0mmath\u001b[0m\u001b[1;33m.\u001b[0m\u001b[0mcbrt\u001b[0m\u001b[1;33m(\u001b[0m\u001b[0ma\u001b[0m\u001b[1;33m)\u001b[0m\u001b[1;33m\u001b[0m\u001b[1;33m\u001b[0m\u001b[0m\n\u001b[0m\u001b[0;32m      4\u001b[0m \u001b[0mprint\u001b[0m\u001b[1;33m(\u001b[0m\u001b[0mb\u001b[0m\u001b[1;33m)\u001b[0m\u001b[1;33m\u001b[0m\u001b[1;33m\u001b[0m\u001b[0m\n",
            "\u001b[1;31mAttributeError\u001b[0m: module 'math' has no attribute 'cbrt'"
          ]
        }
      ],
      "source": [
        ""
      ]
    },
    {
      "cell_type": "code",
      "execution_count": null,
      "id": "505dbad8",
      "metadata": {
        "id": "505dbad8",
        "outputId": "10bed02b-3e64-414c-fdf6-2fc8a01a1978"
      },
      "outputs": [
        {
          "name": "stdout",
          "output_type": "stream",
          "text": [
            "['125632,30236,64573,8075327,41234']\n"
          ]
        }
      ],
      "source": [
        "a=[\"125632,30236,64573,8075327,41234\"]\n",
        "new=[]\n",
        "for x in a:\n",
        "    if \"1\" in x:\n",
        "        new.append(x)\n",
        "print(new)"
      ]
    },
    {
      "cell_type": "code",
      "execution_count": null,
      "id": "4744698b",
      "metadata": {
        "id": "4744698b",
        "outputId": "0c2ab338-72d0-49e3-c3ea-ecff40b12198"
      },
      "outputs": [
        {
          "name": "stdout",
          "output_type": "stream",
          "text": [
            "5\n"
          ]
        },
        {
          "ename": "AttributeError",
          "evalue": "'int' object has no attribute 'insert'",
          "output_type": "error",
          "traceback": [
            "\u001b[1;31m---------------------------------------------------------------------------\u001b[0m",
            "\u001b[1;31mAttributeError\u001b[0m                            Traceback (most recent call last)",
            "\u001b[1;32m~\\AppData\\Local\\Temp/ipykernel_6712/1130155997.py\u001b[0m in \u001b[0;36m<module>\u001b[1;34m\u001b[0m\n\u001b[0;32m      2\u001b[0m \u001b[0mtnum\u001b[0m\u001b[1;33m=\u001b[0m\u001b[0mint\u001b[0m\u001b[1;33m(\u001b[0m\u001b[0minput\u001b[0m\u001b[1;33m(\u001b[0m\u001b[1;33m)\u001b[0m\u001b[1;33m)\u001b[0m\u001b[1;33m\u001b[0m\u001b[1;33m\u001b[0m\u001b[0m\n\u001b[0;32m      3\u001b[0m \u001b[1;32mfor\u001b[0m \u001b[0mi\u001b[0m \u001b[1;32min\u001b[0m \u001b[0mrange\u001b[0m\u001b[1;33m(\u001b[0m\u001b[0mtnum\u001b[0m\u001b[1;33m)\u001b[0m\u001b[1;33m:\u001b[0m\u001b[1;33m\u001b[0m\u001b[1;33m\u001b[0m\u001b[0m\n\u001b[1;32m----> 4\u001b[1;33m     \u001b[0mtnum\u001b[0m\u001b[1;33m.\u001b[0m\u001b[0minsert\u001b[0m\u001b[1;33m(\u001b[0m\u001b[0minput\u001b[0m\u001b[1;33m(\u001b[0m\u001b[1;33m)\u001b[0m\u001b[1;33m)\u001b[0m\u001b[1;33m\u001b[0m\u001b[1;33m\u001b[0m\u001b[0m\n\u001b[0m\u001b[0;32m      5\u001b[0m \u001b[0mprint\u001b[0m\u001b[1;33m(\u001b[0m\u001b[0mtnum\u001b[0m\u001b[1;33m)\u001b[0m\u001b[1;33m\u001b[0m\u001b[1;33m\u001b[0m\u001b[0m\n",
            "\u001b[1;31mAttributeError\u001b[0m: 'int' object has no attribute 'insert'"
          ]
        }
      ],
      "source": [
        "tnum=[]\n",
        "tnum=int(input())\n",
        "for i in range(tnum):\n",
        "    tnum.insert(input())\n",
        "print(tnum)"
      ]
    },
    {
      "cell_type": "markdown",
      "id": "92c7b99a",
      "metadata": {
        "id": "92c7b99a"
      },
      "source": [
        "# STRING"
      ]
    },
    {
      "cell_type": "code",
      "execution_count": null,
      "id": "91a9115b",
      "metadata": {
        "id": "91a9115b",
        "outputId": "6bdd6c6e-37a2-4e0a-86a0-760612ce314c"
      },
      "outputs": [
        {
          "name": "stdout",
          "output_type": "stream",
          "text": [
            "koushik\n",
            "o\n",
            "t\n",
            "12\n"
          ]
        }
      ],
      "source": [
        "a=\"koushik\"\n",
        "print(a)\n",
        "print(a[1])\n",
        "b=\"hello string\"\n",
        "print(b[7])\n",
        "print(len(b))"
      ]
    },
    {
      "cell_type": "code",
      "execution_count": null,
      "id": "314b91e1",
      "metadata": {
        "id": "314b91e1",
        "outputId": "ede97eec-48d2-4da3-c5cd-bccff0810e06"
      },
      "outputs": [
        {
          "name": "stdout",
          "output_type": "stream",
          "text": [
            "True\n"
          ]
        }
      ],
      "source": [
        "a=\"string cannot be found when it is not present\"\n",
        "print(\"string\" in a)"
      ]
    },
    {
      "cell_type": "code",
      "execution_count": null,
      "id": "6b836799",
      "metadata": {
        "id": "6b836799",
        "outputId": "45355a3f-b2a7-4bd3-f419-fe668c9e8343"
      },
      "outputs": [
        {
          "name": "stdout",
          "output_type": "stream",
          "text": [
            "True\n"
          ]
        }
      ],
      "source": [
        "a=\"string cannot be found when it is not present\"\n",
        "print(\"koushik\" not in a)###"
      ]
    },
    {
      "cell_type": "code",
      "execution_count": null,
      "id": "e901be66",
      "metadata": {
        "id": "e901be66",
        "outputId": "ec0f6b4c-eb2e-4cdf-d70a-8967fe6b0eb2"
      },
      "outputs": [
        {
          "name": "stdout",
          "output_type": "stream",
          "text": [
            "strin\n"
          ]
        }
      ],
      "source": [
        "a=\"string cannot be found when it is not present\"\n",
        "print(a[0:5])"
      ]
    },
    {
      "cell_type": "code",
      "execution_count": null,
      "id": "e269d525",
      "metadata": {
        "id": "e269d525",
        "outputId": "635b8809-9143-4301-df6a-d91375f93236"
      },
      "outputs": [
        {
          "name": "stdout",
          "output_type": "stream",
          "text": [
            "KOUSHIK\n",
            "koushik\n"
          ]
        }
      ],
      "source": [
        "a=\"koushik\"\n",
        "print(a.upper())\n",
        "b=\"HELLO\"\n",
        "print(a.lower())"
      ]
    },
    {
      "cell_type": "code",
      "execution_count": null,
      "id": "da61f916",
      "metadata": {
        "id": "da61f916",
        "outputId": "f525ba20-cfbd-405d-89bd-f5b27b4f2b66"
      },
      "outputs": [
        {
          "name": "stdout",
          "output_type": "stream",
          "text": [
            "koushik, hello\n"
          ]
        }
      ],
      "source": [
        "a=\" koushik, hello\"\n",
        "print(a.strip())## removes the spaces at starting"
      ]
    },
    {
      "cell_type": "code",
      "execution_count": null,
      "id": "8c2a3285",
      "metadata": {
        "id": "8c2a3285",
        "outputId": "7af1ac4f-f8c3-4b77-838d-2a92e67e8757"
      },
      "outputs": [
        {
          "name": "stdout",
          "output_type": "stream",
          "text": [
            " kiran, hello\n"
          ]
        }
      ],
      "source": [
        "a=\" koushik, hello\"\n",
        "print(a.replace(\"koushik\",\"kiran\"))### replaces the variable strings"
      ]
    },
    {
      "cell_type": "code",
      "execution_count": null,
      "id": "cca93188",
      "metadata": {
        "id": "cca93188",
        "outputId": "91db8bba-6ee7-43fa-a6e6-c7cca1f5bf80"
      },
      "outputs": [
        {
          "name": "stdout",
          "output_type": "stream",
          "text": [
            "['koushik', 'hello', 'kiran']\n",
            "[' koushik hello kiran']\n"
          ]
        }
      ],
      "source": [
        "a=\" koushik hello kiran\"\n",
        "print(a.split())## splits the components\n",
        "print(a.split(\",\"))"
      ]
    },
    {
      "cell_type": "code",
      "execution_count": null,
      "id": "4a41c46a",
      "metadata": {
        "id": "4a41c46a",
        "outputId": "e3a1cebe-9d77-4d4c-e6d1-04de621e4903"
      },
      "outputs": [
        {
          "name": "stdout",
          "output_type": "stream",
          "text": [
            "koushik hello\n",
            "koushikhello\n",
            "koushik hello\n"
          ]
        }
      ],
      "source": [
        "a=\"koushik\"\n",
        "b=\"hello\"\n",
        "c=a+b\n",
        "d=a+\" \"+b\n",
        "e=\"{} {}\"\n",
        "print(e.format(a,b))\n",
        "print(c)\n",
        "print(d)"
      ]
    },
    {
      "cell_type": "code",
      "execution_count": null,
      "id": "ec777dd7",
      "metadata": {
        "id": "ec777dd7",
        "outputId": "2ea48581-bdc9-401f-b30e-91d14fcb728b"
      },
      "outputs": [
        {
          "name": "stdout",
          "output_type": "stream",
          "text": [
            "my name is koushik and my age is 18\n"
          ]
        }
      ],
      "source": [
        "age=18\n",
        "txt=\"my name is koushik and my age is {}\"\n",
        "print(txt.format(age))## the format is used to covert integers "
      ]
    },
    {
      "cell_type": "code",
      "execution_count": null,
      "id": "8c8ade47",
      "metadata": {
        "id": "8c8ade47",
        "outputId": "5e46316e-6938-4dc3-c9c7-1b745ee5328b"
      },
      "outputs": [
        {
          "name": "stdout",
          "output_type": "stream",
          "text": [
            "marks of student in suject1 50 subject2 45 subject3 29\n",
            "marks of student in suject 129 subject2 45 subject3 50\n"
          ]
        }
      ],
      "source": [
        "s1=50\n",
        "s2=45\n",
        "s3=29\n",
        "a=\"marks of student in suject1 {} subject2 {} subject3 {}\"\n",
        "print(a.format(s1,s2,s3))\n",
        "b=\"marks of student in suject 1{2} subject2 {1} subject3 {0}\"\n",
        "print(b.format(s1,s2,s3))"
      ]
    },
    {
      "cell_type": "code",
      "execution_count": null,
      "id": "37338032",
      "metadata": {
        "id": "37338032",
        "outputId": "3e2abaf5-4be5-4ebc-a166-0d0f4453b069"
      },
      "outputs": [
        {
          "ename": "SyntaxError",
          "evalue": "EOL while scanning string literal (Temp/ipykernel_5744/956250208.py, line 3)",
          "output_type": "error",
          "traceback": [
            "\u001b[1;36m  File \u001b[1;32m\"C:\\Users\\CSE22004\\AppData\\Local\\Temp/ipykernel_5744/956250208.py\"\u001b[1;36m, line \u001b[1;32m3\u001b[0m\n\u001b[1;33m    b=\"koushik hello 'hi'\"\"\u001b[0m\n\u001b[1;37m                           ^\u001b[0m\n\u001b[1;31mSyntaxError\u001b[0m\u001b[1;31m:\u001b[0m EOL while scanning string literal\n"
          ]
        }
      ],
      "source": [
        "a=\"koushik hello \\\"hi\\\"\" ### \\txt\\ is used to seperate the  \n",
        "print(a)\n",
        "b=\"koushik hello 'hi'\"\n",
        "print(b)"
      ]
    },
    {
      "cell_type": "code",
      "execution_count": null,
      "id": "cfe02cab",
      "metadata": {
        "id": "cfe02cab",
        "outputId": "074e693c-c467-414a-f9f3-a78b57c98cca"
      },
      "outputs": [
        {
          "name": "stdout",
          "output_type": "stream",
          "text": [
            "hi \beveryone hi\teveryone hi\n",
            "everyone\n"
          ]
        }
      ],
      "source": [
        "a=\"hi \\beveryone\"\n",
        "b=\"hi\\teveryone\"\n",
        "c=\"hi\\neveryone\"\n",
        "print(a,b,c)\n"
      ]
    },
    {
      "cell_type": "code",
      "execution_count": null,
      "id": "a34a7fe2",
      "metadata": {
        "id": "a34a7fe2",
        "outputId": "2ffecac7-bcd5-45ae-d5e1-c5573a54add7"
      },
      "outputs": [
        {
          "name": "stdout",
          "output_type": "stream",
          "text": [
            "Koushik\n",
            "koushik\n",
            "                                              koushik                                               \n"
          ]
        }
      ],
      "source": [
        "a=\"koushik\"\n",
        "b=\"Kiran\"\n",
        "print(a.capitalize())# first letter to upper case\n",
        "print(a.casefold())# first letter to lower case\n",
        "print(a.center(100))# to intsal "
      ]
    },
    {
      "cell_type": "code",
      "execution_count": null,
      "id": "9a8f000f",
      "metadata": {
        "id": "9a8f000f"
      },
      "outputs": [],
      "source": [
        ""
      ]
    }
  ],
  "metadata": {
    "kernelspec": {
      "display_name": "Python 3 (ipykernel)",
      "language": "python",
      "name": "python3"
    },
    "language_info": {
      "codemirror_mode": {
        "name": "ipython",
        "version": 3
      },
      "file_extension": ".py",
      "mimetype": "text/x-python",
      "name": "python",
      "nbconvert_exporter": "python",
      "pygments_lexer": "ipython3",
      "version": "3.9.7"
    },
    "colab": {
      "name": "KOUSHIK VU21CSEN0101199.ipynb",
      "provenance": [],
      "include_colab_link": true
    }
  },
  "nbformat": 4,
  "nbformat_minor": 5
}