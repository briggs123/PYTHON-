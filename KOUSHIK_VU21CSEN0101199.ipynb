{
  "cells": [
    {
      "cell_type": "markdown",
      "metadata": {
        "id": "view-in-github",
        "colab_type": "text"
      },
      "source": [
        "<a href=\"https://colab.research.google.com/github/briggs123/PYTHON-/blob/main/KOUSHIK_VU21CSEN0101199.ipynb\" target=\"_parent\"><img src=\"https://colab.research.google.com/assets/colab-badge.svg\" alt=\"Open In Colab\"/></a>"
      ]
    },
    {
      "cell_type": "markdown",
      "id": "817e7b52",
      "metadata": {
        "id": "817e7b52"
      },
      "source": [
        "## avg of 3 numbers"
      ]
    },
    {
      "cell_type": "code",
      "execution_count": null,
      "id": "10c1110e",
      "metadata": {
        "id": "10c1110e",
        "outputId": "ee4767dc-2574-463c-8967-2659b6949dd8"
      },
      "outputs": [
        {
          "name": "stdout",
          "output_type": "stream",
          "text": [
            "the average ofthe numbers\n",
            "70 23.333333333333332\n",
            "<class 'float'>\n"
          ]
        }
      ],
      "source": [
        "a=10\n",
        "b=20\n",
        "c=30\n",
        "d=a+b+c\n",
        "avg=d/3\n",
        "print(\"the average ofthe numbers\")\n",
        "print(d,avg)\n",
        "print(type(avg))"
      ]
    },
    {
      "cell_type": "code",
      "execution_count": null,
      "id": "7d7af61f",
      "metadata": {
        "id": "7d7af61f",
        "outputId": "3ef9a8eb-add6-45a2-bff8-a558f2b8f587"
      },
      "outputs": [
        {
          "name": "stdout",
          "output_type": "stream",
          "text": [
            "the average of the numbers\n",
            "26.666666666666668\n",
            "<class 'float'>\n"
          ]
        }
      ],
      "source": [
        "a=10;b=30;c=40\n",
        "d=a+b+c\n",
        "avg=d/3\n",
        "print(\"the average of the numbers\")\n",
        "print(avg)\n",
        "print(type(avg))"
      ]
    },
    {
      "cell_type": "code",
      "execution_count": null,
      "id": "87eff18d",
      "metadata": {
        "id": "87eff18d"
      },
      "outputs": [],
      "source": [
        "a=10;b=30;c=40\n",
        "d=a+b+c\n",
        "avg=d/3\n",
        "print(\"the average  of two numbers =\",avg)\n",
        "print(type(avg))"
      ]
    },
    {
      "cell_type": "markdown",
      "id": "8a2930f6",
      "metadata": {
        "id": "8a2930f6"
      },
      "source": [
        "## multiplication of two numbers"
      ]
    },
    {
      "cell_type": "code",
      "execution_count": null,
      "id": "b33096b1",
      "metadata": {
        "id": "b33096b1",
        "outputId": "47f3c983-c402-49de-f8e6-a727b8ca14f5"
      },
      "outputs": [
        {
          "name": "stdout",
          "output_type": "stream",
          "text": [
            "the multiplication of two numbers= 600\n",
            "<class 'int'>\n"
          ]
        }
      ],
      "source": [
        "a=20;b=30\n",
        "c=a*b\n",
        "print(\"the multiplication of two numbers=\",c)\n",
        "print(type(c))"
      ]
    },
    {
      "cell_type": "markdown",
      "id": "52125cba",
      "metadata": {
        "id": "52125cba"
      },
      "source": [
        "## dynamic addition of two numbers"
      ]
    },
    {
      "cell_type": "code",
      "execution_count": null,
      "id": "059f1836",
      "metadata": {
        "id": "059f1836",
        "outputId": "d5a28dbb-387b-4134-d719-947863e608ab"
      },
      "outputs": [
        {
          "name": "stdout",
          "output_type": "stream",
          "text": [
            "enter a number5\n",
            "enter the second number3\n",
            "the addition of numbers= 8\n"
          ]
        }
      ],
      "source": [
        "a=int(input(\"enter a number\"))\n",
        "b=int(input(\"enter the second number\"))\n",
        "c=a+b\n",
        "print(\"the addition of numbers=\",c)"
      ]
    },
    {
      "cell_type": "code",
      "execution_count": null,
      "id": "34c56c6a",
      "metadata": {
        "id": "34c56c6a",
        "outputId": "ac969531-09c8-4ba8-cee7-14745b6881e7"
      },
      "outputs": [
        {
          "name": "stdout",
          "output_type": "stream",
          "text": [
            "enter a number5\n",
            "enter the second number4\n",
            "the addition of numbers= 9\n"
          ]
        }
      ],
      "source": [
        "a=int(input(\"enter a number\"));b=int(input(\"enter the second number\"))\n",
        "c=a+b\n",
        "print(\"the addition of numbers=\",c)"
      ]
    },
    {
      "cell_type": "markdown",
      "id": "d1aa908f",
      "metadata": {
        "id": "d1aa908f"
      },
      "source": [
        "## ADDITION OF STRINGS"
      ]
    },
    {
      "cell_type": "code",
      "execution_count": null,
      "id": "204c271e",
      "metadata": {
        "id": "204c271e",
        "outputId": "86948db6-8239-4cbf-b5e3-ca84c08ebb9d"
      },
      "outputs": [
        {
          "name": "stdout",
          "output_type": "stream",
          "text": [
            "koushik\n",
            "<class 'str'>\n"
          ]
        }
      ],
      "source": [
        "a=\"kou\";b=\"shik\"\n",
        "c=a+b\n",
        "print(c)\n",
        "print(type(c))"
      ]
    },
    {
      "cell_type": "code",
      "execution_count": null,
      "id": "cd943f42",
      "metadata": {
        "id": "cd943f42",
        "outputId": "c084eb6b-1d4e-49d7-e4f4-6cc0a4c76a37"
      },
      "outputs": [
        {
          "name": "stdout",
          "output_type": "stream",
          "text": [
            "123456 <class 'str'>\n"
          ]
        }
      ],
      "source": [
        "a=\"123\"\n",
        "b=\"456\"\n",
        "c=a+b\n",
        "print(c,type(c))"
      ]
    },
    {
      "cell_type": "markdown",
      "id": "e1fb1c65",
      "metadata": {
        "id": "e1fb1c65"
      },
      "source": [
        "## CONVERSION OF DATA TYPES"
      ]
    },
    {
      "cell_type": "markdown",
      "id": "53252632",
      "metadata": {
        "id": "53252632"
      },
      "source": [
        "## COVERT INT TO FLOAT"
      ]
    },
    {
      "cell_type": "code",
      "execution_count": null,
      "id": "1b33a8d2",
      "metadata": {
        "id": "1b33a8d2",
        "outputId": "153ecd91-ac17-4ede-86aa-4293e86ccb9f"
      },
      "outputs": [
        {
          "name": "stdout",
          "output_type": "stream",
          "text": [
            "10.0 <class 'float'>\n"
          ]
        }
      ],
      "source": [
        "a=10\n",
        "b=float(a)\n",
        "print(b,type(b))"
      ]
    },
    {
      "cell_type": "markdown",
      "id": "1130158e",
      "metadata": {
        "id": "1130158e"
      },
      "source": [
        "## convert int to float (viceversa)"
      ]
    },
    {
      "cell_type": "code",
      "execution_count": null,
      "id": "b75c5a7c",
      "metadata": {
        "id": "b75c5a7c",
        "outputId": "196a8996-607d-455c-eafe-e8288c246e6f"
      },
      "outputs": [
        {
          "name": "stdout",
          "output_type": "stream",
          "text": [
            "10.0 <class 'float'>\n",
            "10 <class 'int'>\n"
          ]
        }
      ],
      "source": [
        "a=10;b=float(a)\n",
        "print(b,type(b))\n",
        "c=int(b)\n",
        "print(c,type(c))"
      ]
    },
    {
      "cell_type": "markdown",
      "id": "f8b13dea",
      "metadata": {
        "id": "f8b13dea"
      },
      "source": [
        "## int to string"
      ]
    },
    {
      "cell_type": "code",
      "execution_count": null,
      "id": "5838b62b",
      "metadata": {
        "id": "5838b62b",
        "outputId": "3637d378-c5f1-4453-b2bd-474992fd27d1"
      },
      "outputs": [
        {
          "name": "stdout",
          "output_type": "stream",
          "text": [
            "64 <class 'str'>\n",
            "64 <class 'int'>\n"
          ]
        }
      ],
      "source": [
        "a=64\n",
        "b=str(64)\n",
        "print(b,type(b))\n",
        "c=int(b)\n",
        "print(c,type(c))\n",
        "##string to int is not posssible only if they are alphabets"
      ]
    },
    {
      "cell_type": "markdown",
      "id": "38224c30",
      "metadata": {
        "id": "38224c30"
      },
      "source": [
        "## boolean function"
      ]
    },
    {
      "cell_type": "code",
      "execution_count": null,
      "id": "417810d1",
      "metadata": {
        "id": "417810d1",
        "outputId": "ca06be26-1b3b-4fb4-f0b0-0ab1b68adeea"
      },
      "outputs": [
        {
          "name": "stdout",
          "output_type": "stream",
          "text": [
            "True <class 'int'>\n",
            "True <class 'float'>\n"
          ]
        }
      ],
      "source": [
        "a=10\n",
        "b=float(a)\n",
        "print(bool(a),type(a))\n",
        "print(bool(b),type(b))"
      ]
    },
    {
      "cell_type": "code",
      "execution_count": null,
      "id": "f9de31dd",
      "metadata": {
        "id": "f9de31dd",
        "outputId": "bed0612e-c27e-4c58-b9d1-eb4b71e555ab"
      },
      "outputs": [
        {
          "name": "stdout",
          "output_type": "stream",
          "text": [
            "enter the numbers to check boolean \n",
            "enter the numbers5\n",
            "enter the second number10.4\n",
            "check boolean True True <class 'int'> <class 'float'>\n"
          ]
        }
      ],
      "source": [
        "print(\"enter the numbers to check boolean \");a=int(input(\"enter the numbers\"));b=float(input(\"enter the second number\"))\n",
        "print(\"check boolean\",bool(a),bool(b),type(a),type(b))"
      ]
    },
    {
      "cell_type": "code",
      "execution_count": null,
      "id": "15febb6f",
      "metadata": {
        "id": "15febb6f",
        "outputId": "45123f23-a8ec-4b1d-b8b5-bbbb578609fd"
      },
      "outputs": [
        {
          "name": "stdout",
          "output_type": "stream",
          "text": [
            "enter the numbers to check boolean \n",
            "enter the numbers  5\n",
            "enter the second number   4\n",
            "check boolean\n",
            "True True <class 'int'> <class 'float'>\n"
          ]
        }
      ],
      "source": [
        "print(\"enter the numbers to check boolean \");a=int(input(\"enter the numbers  \"));b=float(input(\"enter the second number   \"))\n",
        "print(\"check boolean\")\n",
        "print(bool(a),bool(b),type(a),type(b))"
      ]
    },
    {
      "cell_type": "code",
      "execution_count": null,
      "id": "6fda1360",
      "metadata": {
        "id": "6fda1360",
        "outputId": "25f01055-2fd4-479e-e9f3-be4246ae2be8"
      },
      "outputs": [
        {
          "name": "stdout",
          "output_type": "stream",
          "text": [
            "False <class 'bool'>\n"
          ]
        }
      ],
      "source": [
        "a=10;b=15;c=a>b\n",
        "print(bool(c),type(c))"
      ]
    },
    {
      "cell_type": "code",
      "execution_count": null,
      "id": "4062e7e7",
      "metadata": {
        "id": "4062e7e7",
        "outputId": "64dc5959-4efc-4a6b-ccaa-878c8713e400"
      },
      "outputs": [
        {
          "name": "stdout",
          "output_type": "stream",
          "text": [
            "False <class 'bool'>\n",
            "True\n",
            "0 1\n"
          ]
        }
      ],
      "source": [
        "a=10;b=15;c=a>b;e=a<b\n",
        "print(bool(c),type(c))\n",
        "d=int(c)\n",
        "print(bool(f))\n",
        "f=int(e)\n",
        "print(d,f)"
      ]
    },
    {
      "cell_type": "code",
      "execution_count": null,
      "id": "5052c50b",
      "metadata": {
        "id": "5052c50b",
        "outputId": "ccdd500a-b51a-4071-df64-5a8cf19414c2"
      },
      "outputs": [
        {
          "name": "stdout",
          "output_type": "stream",
          "text": [
            "False\n",
            "0 True 1.0\n"
          ]
        }
      ],
      "source": [
        "a=10;b=15;c=a>b;e=a<b\n",
        "print(bool(c))\n",
        "print(int(c),bool(e),float(e))"
      ]
    },
    {
      "cell_type": "code",
      "execution_count": null,
      "id": "24eccae3",
      "metadata": {
        "id": "24eccae3",
        "outputId": "5d952f02-c294-4693-df55-26a4274d53ba"
      },
      "outputs": [
        {
          "name": "stdout",
          "output_type": "stream",
          "text": [
            "False <class 'bool'>\n"
          ]
        }
      ],
      "source": [
        "a=10;b=2\n",
        "c=b>a\n",
        "print(c,type(c))"
      ]
    },
    {
      "cell_type": "code",
      "execution_count": null,
      "id": "9dab458b",
      "metadata": {
        "id": "9dab458b",
        "outputId": "32a418d0-3c23-4f97-92fd-2b2795dd1611"
      },
      "outputs": [
        {
          "name": "stdout",
          "output_type": "stream",
          "text": [
            "True <class 'bool'>\n",
            "1 <class 'bool'>\n"
          ]
        }
      ],
      "source": [
        "a=bool(12)\n",
        "print(a,type(a))\n",
        "b=int(a)\n",
        "print(b,type(a))"
      ]
    },
    {
      "cell_type": "markdown",
      "id": "78712dcb",
      "metadata": {
        "id": "78712dcb"
      },
      "source": [
        "## complex"
      ]
    },
    {
      "cell_type": "code",
      "execution_count": null,
      "id": "bc5f4ea9",
      "metadata": {
        "id": "bc5f4ea9",
        "outputId": "b95b9fd3-68f4-4f34-a447-8917aa54d01a"
      },
      "outputs": [
        {
          "name": "stdout",
          "output_type": "stream",
          "text": [
            "(12+0j)\n"
          ]
        }
      ],
      "source": [
        "a=12\n",
        "b=complex(a)\n",
        "print(b)"
      ]
    },
    {
      "cell_type": "code",
      "execution_count": null,
      "id": "6ced7895",
      "metadata": {
        "id": "6ced7895",
        "outputId": "c6129188-b00c-4eb0-a3fc-79aed786cf63"
      },
      "outputs": [
        {
          "name": "stdout",
          "output_type": "stream",
          "text": [
            "True (35+0j) 35.0\n"
          ]
        }
      ],
      "source": [
        "a=35\n",
        "print(bool(35),complex(35),float(35))"
      ]
    },
    {
      "cell_type": "code",
      "execution_count": null,
      "id": "422c4113",
      "metadata": {
        "id": "422c4113",
        "outputId": "5ae6f704-c00f-460a-d40f-1818df8047b6"
      },
      "outputs": [
        {
          "name": "stdout",
          "output_type": "stream",
          "text": [
            "<class 'complex'> (5+2j)\n"
          ]
        }
      ],
      "source": [
        "a=5+2j\n",
        "print(type(a),a)\n",
        "print"
      ]
    },
    {
      "cell_type": "markdown",
      "id": "feef4fa7",
      "metadata": {
        "id": "feef4fa7"
      },
      "source": [
        "## CONTROL STATEMENTS"
      ]
    },
    {
      "cell_type": "markdown",
      "id": "ff12cd74",
      "metadata": {
        "id": "ff12cd74"
      },
      "source": [
        "## if else"
      ]
    },
    {
      "cell_type": "code",
      "execution_count": null,
      "id": "73c2fe25",
      "metadata": {
        "id": "73c2fe25",
        "outputId": "952f4a0a-259a-4fb2-9602-45d01bee6d37"
      },
      "outputs": [
        {
          "name": "stdout",
          "output_type": "stream",
          "text": [
            "eligible for voting\n"
          ]
        }
      ],
      "source": [
        "a=20\n",
        "if a>18: ### indentation is necessary \n",
        "    print(\"eligible for voting\") ### the code should be started below the idenenation "
      ]
    },
    {
      "cell_type": "code",
      "execution_count": null,
      "id": "0662f0b2",
      "metadata": {
        "id": "0662f0b2",
        "outputId": "b9474ec2-da03-413e-fcaf-00d3885ee903"
      },
      "outputs": [
        {
          "name": "stdout",
          "output_type": "stream",
          "text": [
            "enter your age21\n",
            "eligible for voting\n"
          ]
        }
      ],
      "source": [
        "a=int(input(\"enter your age\"))\n",
        "if a>18:\n",
        "    print(\"eligible for voting\")\n",
        "else:\n",
        "        print(\"not eligible\")\n",
        "    "
      ]
    },
    {
      "cell_type": "code",
      "execution_count": null,
      "id": "6a7346dc",
      "metadata": {
        "id": "6a7346dc",
        "outputId": "dfe56986-3769-47e1-aa7c-aaa262ad9acf"
      },
      "outputs": [
        {
          "name": "stdout",
          "output_type": "stream",
          "text": [
            "enter your age18\n",
            "just eligible\n"
          ]
        }
      ],
      "source": [
        "a=int(input(\"enter your age\"))\n",
        "if a>18:\n",
        "    print(\"eligible\")\n",
        "elif a==18:\n",
        "    print(\"just eligible\")\n",
        "else:\n",
        "    print(\"not eligible\")"
      ]
    },
    {
      "cell_type": "code",
      "execution_count": null,
      "id": "80dab61e",
      "metadata": {
        "id": "80dab61e",
        "outputId": "6430fbba-c457-41b1-b216-96b6a2206133"
      },
      "outputs": [
        {
          "name": "stdout",
          "output_type": "stream",
          "text": [
            "enter the numbers7\n",
            "enter the second number8\n",
            "enter the third number5\n",
            "b is max\n"
          ]
        }
      ],
      "source": [
        "a=int(input(\"enter the numbers\"));b=int(input(\"enter the second number\"));c=int(input(\"enter the third number\"))\n",
        "if a>b and a>c:\n",
        "    print(\"a is max\")\n",
        "elif b>a and b>c:\n",
        "    print(\"b is max\")\n",
        "else:\n",
        "    print(\"c is max\")"
      ]
    },
    {
      "cell_type": "code",
      "execution_count": null,
      "id": "5e668345",
      "metadata": {
        "id": "5e668345",
        "outputId": "be8c4a2f-2767-47eb-8fe0-adfeed1b2431"
      },
      "outputs": [
        {
          "name": "stdout",
          "output_type": "stream",
          "text": [
            "enter the numbers5\n",
            "enter the second number3\n",
            "enter the third number2\n",
            "enter fourth number8\n",
            "enter the fifith numer9\n",
            "e is max\n"
          ]
        }
      ],
      "source": [
        "a=int(input(\"enter the numbers\"));b=int(input(\"enter the second number\"));c=int(input(\"enter the third number\"))\n",
        "d=int(input(\"enter fourth number\"));e=int(input(\"enter the fifith numer\"))\n",
        "if a>b and a>c and a>d and a>e:\n",
        "      print(\"a is max\")\n",
        "elif b>a and b>c and b>d and b>e:\n",
        "            print(\"b is max\")\n",
        "elif c>a and c>b and c>d and c>e:\n",
        "    print(\"c is max\")\n",
        "elif d>a and d>b and d>c and d>e:\n",
        "    print(\"d is max\")\n",
        "else:\n",
        "    print(\"e is max\")\n"
      ]
    },
    {
      "cell_type": "code",
      "execution_count": null,
      "id": "8067aeb6",
      "metadata": {
        "id": "8067aeb6",
        "outputId": "6d78ffc2-2b14-4134-c7fb-c16fe9d70f5a"
      },
      "outputs": [
        {
          "name": "stdout",
          "output_type": "stream",
          "text": [
            "enter the subject marks of the students\n",
            "enter the marks of subjects 45\n",
            "enter the marks of  2 subject  43\n",
            "enter 3 sub marks23\n",
            "enter the marks of 4 sub76\n",
            "enter the marks of 5 subject45\n",
            "d is max\n"
          ]
        }
      ],
      "source": [
        "print(\"enter the subject marks of the students\")\n",
        "s1=int(input(\"enter the marks of subjects \"));s2=int(input(\"enter the marks of  2 subject  \"));s3=int(input(\"enter 3 sub marks\"))\n",
        "s4=int(input(\"enter the marks of 4 sub\"));s5=int(input(\"enter the marks of 5 subject\"))\n",
        "if s1>s2 and s1>s3 and s1>s4 and s1>s5:\n",
        "      print(\"a is max\")\n",
        "elif s2>s1 and s2>s3 and s2>s4 and s2>s5:\n",
        "            print(\"b is max\")\n",
        "elif s3>s1 and s3>s2 and s3>s4 and s3>s5:\n",
        "    print(\"c is max\")\n",
        "elif s4>s1 and s4>s2 and s4>s3 and s4>s5:\n",
        "    print(\"d is max\")\n",
        "else:\n",
        "    print(\"e is max\")\n",
        "\n"
      ]
    },
    {
      "cell_type": "markdown",
      "id": "fefb0ef8",
      "metadata": {
        "id": "fefb0ef8"
      },
      "source": [
        "## for loop\n"
      ]
    },
    {
      "cell_type": "code",
      "execution_count": null,
      "id": "3f98c501",
      "metadata": {
        "id": "3f98c501",
        "outputId": "8fae9f68-cf6a-44a4-ff1e-a295297a7c4c"
      },
      "outputs": [
        {
          "name": "stdout",
          "output_type": "stream",
          "text": [
            "enter the number0\n",
            "enter the max number100\n",
            "even number 0\n",
            "even number 2\n",
            "even number 4\n",
            "even number 6\n",
            "even number 8\n",
            "even number 10\n",
            "even number 12\n",
            "even number 14\n",
            "even number 16\n",
            "even number 18\n",
            "even number 20\n",
            "even number 22\n",
            "even number 24\n",
            "even number 26\n",
            "even number 28\n",
            "even number 30\n",
            "even number 32\n",
            "even number 34\n",
            "even number 36\n",
            "even number 38\n",
            "even number 40\n",
            "even number 42\n",
            "even number 44\n",
            "even number 46\n",
            "even number 48\n",
            "even number 50\n",
            "even number 52\n",
            "even number 54\n",
            "even number 56\n",
            "even number 58\n",
            "even number 60\n",
            "even number 62\n",
            "even number 64\n",
            "even number 66\n",
            "even number 68\n",
            "even number 70\n",
            "even number 72\n",
            "even number 74\n",
            "even number 76\n",
            "even number 78\n",
            "even number 80\n",
            "even number 82\n",
            "even number 84\n",
            "even number 86\n",
            "even number 88\n",
            "even number 90\n",
            "even number 92\n",
            "even number 94\n",
            "even number 96\n",
            "even number 98\n"
          ]
        }
      ],
      "source": [
        "a=int(input(\"enter the number\"));b=int(input(\"enter the max number\"))\n",
        "for i in range(a,b):\n",
        "    if i%2==0:\n",
        "        print(\"even number\",i)\n",
        "    else:\n",
        "        print(\"odd numbers\",i)"
      ]
    },
    {
      "cell_type": "markdown",
      "id": "138d576b",
      "metadata": {
        "id": "138d576b"
      },
      "source": [
        "## multiplication table"
      ]
    },
    {
      "cell_type": "code",
      "execution_count": null,
      "id": "e40ee4f5",
      "metadata": {
        "id": "e40ee4f5",
        "outputId": "6d1d714e-870f-4b55-ab51-943784b0b0ae"
      },
      "outputs": [
        {
          "name": "stdout",
          "output_type": "stream",
          "text": [
            "enter the number0\n",
            "enter the max number100\n",
            "even number 0\n",
            "even number 2\n",
            "even number 4\n",
            "even number 6\n",
            "even number 8\n",
            "even number 10\n",
            "even number 12\n",
            "even number 14\n",
            "even number 16\n",
            "even number 18\n",
            "even number 20\n",
            "even number 22\n",
            "even number 24\n",
            "even number 26\n",
            "even number 28\n",
            "even number 30\n",
            "even number 32\n",
            "even number 34\n",
            "even number 36\n",
            "even number 38\n",
            "even number 40\n",
            "even number 42\n",
            "even number 44\n",
            "even number 46\n",
            "even number 48\n",
            "even number 50\n",
            "even number 52\n",
            "even number 54\n",
            "even number 56\n",
            "even number 58\n",
            "even number 60\n",
            "even number 62\n",
            "even number 64\n",
            "even number 66\n",
            "even number 68\n",
            "even number 70\n",
            "even number 72\n",
            "even number 74\n",
            "even number 76\n",
            "even number 78\n",
            "even number 80\n",
            "even number 82\n",
            "even number 84\n",
            "even number 86\n",
            "even number 88\n",
            "even number 90\n",
            "even number 92\n",
            "even number 94\n",
            "even number 96\n",
            "even number 98\n",
            "odd numbers 0\n",
            "odd numbers 3\n",
            "odd numbers 6\n",
            "odd numbers 9\n",
            "odd numbers 12\n",
            "odd numbers 15\n",
            "odd numbers 18\n",
            "odd numbers 21\n",
            "odd numbers 24\n",
            "odd numbers 27\n",
            "odd numbers 30\n",
            "odd numbers 33\n",
            "odd numbers 36\n",
            "odd numbers 39\n",
            "odd numbers 42\n",
            "odd numbers 45\n",
            "odd numbers 48\n",
            "odd numbers 51\n",
            "odd numbers 54\n",
            "odd numbers 57\n",
            "odd numbers 60\n",
            "odd numbers 63\n",
            "odd numbers 66\n",
            "odd numbers 69\n",
            "odd numbers 72\n",
            "odd numbers 75\n",
            "odd numbers 78\n",
            "odd numbers 81\n",
            "odd numbers 84\n",
            "odd numbers 87\n",
            "odd numbers 90\n",
            "odd numbers 93\n",
            "odd numbers 96\n",
            "odd numbers 99\n"
          ]
        }
      ],
      "source": [
        "a=int(input(\"enter the number\"));b=int(input(\"enter the max number\"))\n",
        "for i in range(a,b,2):\n",
        "        print(\"even number\",i)\n",
        "for j in range(a,b,3):\n",
        "    print(\"odd numbers\",j)"
      ]
    },
    {
      "cell_type": "code",
      "execution_count": null,
      "id": "992a9947",
      "metadata": {
        "id": "992a9947"
      },
      "outputs": [],
      "source": [
        ""
      ]
    }
  ],
  "metadata": {
    "kernelspec": {
      "display_name": "Python 3 (ipykernel)",
      "language": "python",
      "name": "python3"
    },
    "language_info": {
      "codemirror_mode": {
        "name": "ipython",
        "version": 3
      },
      "file_extension": ".py",
      "mimetype": "text/x-python",
      "name": "python",
      "nbconvert_exporter": "python",
      "pygments_lexer": "ipython3",
      "version": "3.9.7"
    },
    "colab": {
      "name": "KOUSHIK VU21CSEN0101199.ipynb",
      "provenance": [],
      "include_colab_link": true
    }
  },
  "nbformat": 4,
  "nbformat_minor": 5
}