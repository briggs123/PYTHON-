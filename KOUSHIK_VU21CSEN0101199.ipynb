{
  "cells": [
    {
      "cell_type": "markdown",
      "metadata": {
        "id": "view-in-github",
        "colab_type": "text"
      },
      "source": [
        "<a href=\"https://colab.research.google.com/github/briggs123/PYTHON-/blob/main/KOUSHIK_VU21CSEN0101199.ipynb\" target=\"_parent\"><img src=\"https://colab.research.google.com/assets/colab-badge.svg\" alt=\"Open In Colab\"/></a>"
      ]
    },
    {
      "cell_type": "markdown",
      "id": "817e7b52",
      "metadata": {
        "id": "817e7b52"
      },
      "source": [
        "## avg of 3 numbers"
      ]
    },
    {
      "cell_type": "code",
      "execution_count": null,
      "id": "10c1110e",
      "metadata": {
        "id": "10c1110e",
        "outputId": "ede2a92d-f1d9-4c8a-d075-b21bf2834a9f"
      },
      "outputs": [
        {
          "name": "stdout",
          "output_type": "stream",
          "text": [
            "the average ofthe numbers\n",
            "70 23.333333333333332\n",
            "<class 'float'>\n"
          ]
        }
      ],
      "source": [
        "a=10\n",
        "b=20\n",
        "c=30\n",
        "d=a+b+c\n",
        "avg=d/3\n",
        "print(\"the average ofthe numbers\")\n",
        "print(d,avg)\n",
        "print(type(avg))"
      ]
    },
    {
      "cell_type": "code",
      "execution_count": null,
      "id": "7d7af61f",
      "metadata": {
        "id": "7d7af61f",
        "outputId": "7589811a-3802-4758-bf01-4ec9fd55e495"
      },
      "outputs": [
        {
          "name": "stdout",
          "output_type": "stream",
          "text": [
            "the average of the numbers\n",
            "26.666666666666668\n",
            "<class 'float'>\n"
          ]
        }
      ],
      "source": [
        "a=10;b=30;c=40\n",
        "d=a+b+c\n",
        "avg=d/3\n",
        "print(\"the average of the numbers\")\n",
        "print(avg)\n",
        "print(type(avg))"
      ]
    },
    {
      "cell_type": "code",
      "execution_count": null,
      "id": "87eff18d",
      "metadata": {
        "id": "87eff18d"
      },
      "outputs": [],
      "source": [
        "a=10;b=30;c=40\n",
        "d=a+b+c\n",
        "avg=d/3\n",
        "print(\"the average  of two numbers =\",avg)\n",
        "print(type(avg))"
      ]
    },
    {
      "cell_type": "markdown",
      "id": "8a2930f6",
      "metadata": {
        "id": "8a2930f6"
      },
      "source": [
        "## multiplication of two numbers"
      ]
    },
    {
      "cell_type": "code",
      "execution_count": null,
      "id": "b33096b1",
      "metadata": {
        "id": "b33096b1",
        "outputId": "f62cad79-f291-4c03-d8d9-a3df36db8aad"
      },
      "outputs": [
        {
          "name": "stdout",
          "output_type": "stream",
          "text": [
            "the multiplication of two numbers= 600\n",
            "<class 'int'>\n"
          ]
        }
      ],
      "source": [
        "a=20;b=30\n",
        "c=a*b\n",
        "print(\"the multiplication of two numbers=\",c)\n",
        "print(type(c))"
      ]
    },
    {
      "cell_type": "markdown",
      "id": "52125cba",
      "metadata": {
        "id": "52125cba"
      },
      "source": [
        "## dynamic addition of two numbers"
      ]
    },
    {
      "cell_type": "code",
      "execution_count": null,
      "id": "059f1836",
      "metadata": {
        "id": "059f1836",
        "outputId": "02bb1db2-ac6c-43ec-89cd-68c992ff78d1"
      },
      "outputs": [
        {
          "name": "stdout",
          "output_type": "stream",
          "text": [
            "enter a number5\n",
            "enter the second number3\n",
            "the addition of numbers= 8\n"
          ]
        }
      ],
      "source": [
        "a=int(input(\"enter a number\"))\n",
        "b=int(input(\"enter the second number\"))\n",
        "c=a+b\n",
        "print(\"the addition of numbers=\",c)"
      ]
    },
    {
      "cell_type": "code",
      "execution_count": null,
      "id": "34c56c6a",
      "metadata": {
        "id": "34c56c6a",
        "outputId": "e3234ab9-48a8-4827-84fb-7f548318279a"
      },
      "outputs": [
        {
          "name": "stdout",
          "output_type": "stream",
          "text": [
            "enter a number5\n",
            "enter the second number4\n",
            "the addition of numbers= 9\n"
          ]
        }
      ],
      "source": [
        "a=int(input(\"enter a number\"));b=int(input(\"enter the second number\"))\n",
        "c=a+b\n",
        "print(\"the addition of numbers=\",c)"
      ]
    },
    {
      "cell_type": "markdown",
      "id": "d1aa908f",
      "metadata": {
        "id": "d1aa908f"
      },
      "source": [
        "## ADDITION OF STRINGS"
      ]
    },
    {
      "cell_type": "code",
      "execution_count": null,
      "id": "204c271e",
      "metadata": {
        "id": "204c271e",
        "outputId": "a1732971-fc2f-4ae1-fe99-c95e894a67dd"
      },
      "outputs": [
        {
          "name": "stdout",
          "output_type": "stream",
          "text": [
            "koushik\n",
            "<class 'str'>\n"
          ]
        }
      ],
      "source": [
        "a=\"kou\";b=\"shik\"\n",
        "c=a+b\n",
        "print(c)\n",
        "print(type(c))"
      ]
    },
    {
      "cell_type": "code",
      "execution_count": null,
      "id": "cd943f42",
      "metadata": {
        "id": "cd943f42",
        "outputId": "15a5f8c9-d175-4242-a07b-8cfd41f74a1e"
      },
      "outputs": [
        {
          "name": "stdout",
          "output_type": "stream",
          "text": [
            "123456 <class 'str'>\n"
          ]
        }
      ],
      "source": [
        "a=\"123\"\n",
        "b=\"456\"\n",
        "c=a+b\n",
        "print(c,type(c))"
      ]
    },
    {
      "cell_type": "markdown",
      "id": "e1fb1c65",
      "metadata": {
        "id": "e1fb1c65"
      },
      "source": [
        "## CONVERSION OF DATA TYPES"
      ]
    },
    {
      "cell_type": "markdown",
      "id": "53252632",
      "metadata": {
        "id": "53252632"
      },
      "source": [
        "## COVERT INT TO FLOAT"
      ]
    },
    {
      "cell_type": "code",
      "execution_count": null,
      "id": "1b33a8d2",
      "metadata": {
        "id": "1b33a8d2",
        "outputId": "29266908-7031-44c5-ed2f-5d91767e98b3"
      },
      "outputs": [
        {
          "name": "stdout",
          "output_type": "stream",
          "text": [
            "10.0 <class 'float'>\n"
          ]
        }
      ],
      "source": [
        "a=10\n",
        "b=float(a)\n",
        "print(b,type(b))"
      ]
    },
    {
      "cell_type": "markdown",
      "id": "1130158e",
      "metadata": {
        "id": "1130158e"
      },
      "source": [
        "## convert int to float (viceversa)"
      ]
    },
    {
      "cell_type": "code",
      "execution_count": null,
      "id": "b75c5a7c",
      "metadata": {
        "id": "b75c5a7c",
        "outputId": "0f48e9ed-f022-4fce-db6e-0678d453aeb3"
      },
      "outputs": [
        {
          "name": "stdout",
          "output_type": "stream",
          "text": [
            "10.0 <class 'float'>\n",
            "10 <class 'int'>\n"
          ]
        }
      ],
      "source": [
        "a=10;b=float(a)\n",
        "print(b,type(b))\n",
        "c=int(b)\n",
        "print(c,type(c))"
      ]
    },
    {
      "cell_type": "markdown",
      "id": "f8b13dea",
      "metadata": {
        "id": "f8b13dea"
      },
      "source": [
        "## int to string"
      ]
    },
    {
      "cell_type": "code",
      "execution_count": null,
      "id": "5838b62b",
      "metadata": {
        "id": "5838b62b",
        "outputId": "1ebbc1a4-c617-4d02-ad86-8479f92fa1ad"
      },
      "outputs": [
        {
          "name": "stdout",
          "output_type": "stream",
          "text": [
            "64 <class 'str'>\n",
            "64 <class 'int'>\n"
          ]
        }
      ],
      "source": [
        "a=64\n",
        "b=str(64)\n",
        "print(b,type(b))\n",
        "c=int(b)\n",
        "print(c,type(c))\n",
        "##string to int is not posssible only if they are alphabets"
      ]
    },
    {
      "cell_type": "markdown",
      "id": "38224c30",
      "metadata": {
        "id": "38224c30"
      },
      "source": [
        "## boolean function"
      ]
    },
    {
      "cell_type": "code",
      "execution_count": null,
      "id": "417810d1",
      "metadata": {
        "id": "417810d1",
        "outputId": "fec8b198-28a7-4b5c-8235-1018f48cb1b9"
      },
      "outputs": [
        {
          "name": "stdout",
          "output_type": "stream",
          "text": [
            "True <class 'int'>\n",
            "True <class 'float'>\n"
          ]
        }
      ],
      "source": [
        "a=10\n",
        "b=float(a)\n",
        "print(bool(a),type(a))\n",
        "print(bool(b),type(b))"
      ]
    },
    {
      "cell_type": "code",
      "execution_count": null,
      "id": "f9de31dd",
      "metadata": {
        "id": "f9de31dd",
        "outputId": "67377299-8d76-4144-9ca2-944a442579dd"
      },
      "outputs": [
        {
          "name": "stdout",
          "output_type": "stream",
          "text": [
            "enter the numbers to check boolean \n",
            "enter the numbers5\n",
            "enter the second number10.4\n",
            "check boolean True True <class 'int'> <class 'float'>\n"
          ]
        }
      ],
      "source": [
        "print(\"enter the numbers to check boolean \");a=int(input(\"enter the numbers\"));b=float(input(\"enter the second number\"))\n",
        "print(\"check boolean\",bool(a),bool(b),type(a),type(b))"
      ]
    },
    {
      "cell_type": "code",
      "execution_count": null,
      "id": "15febb6f",
      "metadata": {
        "id": "15febb6f",
        "outputId": "71f89247-72c3-42ba-e929-1ca7faeca0fa"
      },
      "outputs": [
        {
          "name": "stdout",
          "output_type": "stream",
          "text": [
            "enter the numbers to check boolean \n",
            "enter the numbers  5\n",
            "enter the second number   4\n",
            "check boolean\n",
            "True True <class 'int'> <class 'float'>\n"
          ]
        }
      ],
      "source": [
        "print(\"enter the numbers to check boolean \");a=int(input(\"enter the numbers  \"));b=float(input(\"enter the second number   \"))\n",
        "print(\"check boolean\")\n",
        "print(bool(a),bool(b),type(a),type(b))"
      ]
    },
    {
      "cell_type": "code",
      "execution_count": null,
      "id": "6fda1360",
      "metadata": {
        "id": "6fda1360",
        "outputId": "575f786d-7bc8-4112-cba7-3e7012c72aac"
      },
      "outputs": [
        {
          "name": "stdout",
          "output_type": "stream",
          "text": [
            "False <class 'bool'>\n"
          ]
        }
      ],
      "source": [
        "a=10;b=15;c=a>b\n",
        "print(bool(c),type(c))"
      ]
    },
    {
      "cell_type": "code",
      "execution_count": null,
      "id": "4062e7e7",
      "metadata": {
        "id": "4062e7e7",
        "outputId": "51ff0378-2648-4d9d-c8f5-8e4234bf43c0"
      },
      "outputs": [
        {
          "name": "stdout",
          "output_type": "stream",
          "text": [
            "False <class 'bool'>\n",
            "True\n",
            "0 1\n"
          ]
        }
      ],
      "source": [
        "a=10;b=15;c=a>b;e=a<b\n",
        "print(bool(c),type(c))\n",
        "d=int(c)\n",
        "print(bool(f))\n",
        "f=int(e)\n",
        "print(d,f)"
      ]
    },
    {
      "cell_type": "code",
      "execution_count": null,
      "id": "5052c50b",
      "metadata": {
        "id": "5052c50b",
        "outputId": "60a0c07a-e159-4079-f092-eddcea4df538"
      },
      "outputs": [
        {
          "name": "stdout",
          "output_type": "stream",
          "text": [
            "False\n",
            "0 True 1.0\n"
          ]
        }
      ],
      "source": [
        "a=10;b=15;c=a>b;e=a<b\n",
        "print(bool(c))\n",
        "print(int(c),bool(e),float(e))"
      ]
    },
    {
      "cell_type": "code",
      "execution_count": null,
      "id": "24eccae3",
      "metadata": {
        "id": "24eccae3",
        "outputId": "812cdb96-ba63-4245-ad26-5b6aaf3dd6c8"
      },
      "outputs": [
        {
          "name": "stdout",
          "output_type": "stream",
          "text": [
            "False <class 'bool'>\n"
          ]
        }
      ],
      "source": [
        "a=10;b=2\n",
        "c=b>a\n",
        "print(c,type(c))"
      ]
    },
    {
      "cell_type": "code",
      "execution_count": null,
      "id": "9dab458b",
      "metadata": {
        "id": "9dab458b",
        "outputId": "6e4dabff-e5ad-470e-b121-e5d3c6eb4131"
      },
      "outputs": [
        {
          "name": "stdout",
          "output_type": "stream",
          "text": [
            "True <class 'bool'>\n",
            "1 <class 'bool'>\n"
          ]
        }
      ],
      "source": [
        "a=bool(12)\n",
        "print(a,type(a))\n",
        "b=int(a)\n",
        "print(b,type(a))"
      ]
    },
    {
      "cell_type": "markdown",
      "id": "78712dcb",
      "metadata": {
        "id": "78712dcb"
      },
      "source": [
        "## complex"
      ]
    },
    {
      "cell_type": "code",
      "execution_count": null,
      "id": "bc5f4ea9",
      "metadata": {
        "id": "bc5f4ea9",
        "outputId": "64c4b4f0-c2b8-4c38-ad4c-c49f53a4fa92"
      },
      "outputs": [
        {
          "name": "stdout",
          "output_type": "stream",
          "text": [
            "(12+0j)\n"
          ]
        }
      ],
      "source": [
        "a=12\n",
        "b=complex(a)\n",
        "print(b)"
      ]
    },
    {
      "cell_type": "code",
      "execution_count": null,
      "id": "6ced7895",
      "metadata": {
        "id": "6ced7895",
        "outputId": "4d5c5dc9-2522-4272-9e8b-8e337439bc52"
      },
      "outputs": [
        {
          "name": "stdout",
          "output_type": "stream",
          "text": [
            "True (35+0j) 35.0\n"
          ]
        }
      ],
      "source": [
        "a=35\n",
        "print(bool(35),complex(35),float(35))"
      ]
    },
    {
      "cell_type": "code",
      "execution_count": null,
      "id": "422c4113",
      "metadata": {
        "id": "422c4113",
        "outputId": "806dabaa-453f-4111-820d-d970455413b3"
      },
      "outputs": [
        {
          "name": "stdout",
          "output_type": "stream",
          "text": [
            "<class 'complex'> (5+2j)\n"
          ]
        }
      ],
      "source": [
        "a=5+2j\n",
        "print(type(a),a)\n",
        "print"
      ]
    },
    {
      "cell_type": "markdown",
      "id": "feef4fa7",
      "metadata": {
        "id": "feef4fa7"
      },
      "source": [
        "## CONTROL STATEMENTS"
      ]
    },
    {
      "cell_type": "markdown",
      "id": "ff12cd74",
      "metadata": {
        "id": "ff12cd74"
      },
      "source": [
        "## if else"
      ]
    },
    {
      "cell_type": "code",
      "execution_count": null,
      "id": "73c2fe25",
      "metadata": {
        "id": "73c2fe25",
        "outputId": "0d2d9a7a-87c6-4b24-e614-382ff9e95c3d"
      },
      "outputs": [
        {
          "name": "stdout",
          "output_type": "stream",
          "text": [
            "eligible for voting\n"
          ]
        }
      ],
      "source": [
        "a=20\n",
        "if a>18: ### indentation is necessary \n",
        "    print(\"eligible for voting\") ### the code should be started below the idenenation "
      ]
    },
    {
      "cell_type": "code",
      "execution_count": null,
      "id": "0662f0b2",
      "metadata": {
        "id": "0662f0b2",
        "outputId": "b4ee7b79-8447-40d5-8ac5-8a1e948a5b65"
      },
      "outputs": [
        {
          "name": "stdout",
          "output_type": "stream",
          "text": [
            "enter your age21\n",
            "eligible for voting\n"
          ]
        }
      ],
      "source": [
        "a=int(input(\"enter your age\"))\n",
        "if a>18:\n",
        "    print(\"eligible for voting\")\n",
        "else:\n",
        "        print(\"not eligible\")\n",
        "    "
      ]
    },
    {
      "cell_type": "code",
      "execution_count": null,
      "id": "6a7346dc",
      "metadata": {
        "id": "6a7346dc",
        "outputId": "971e7f39-1253-46b1-a45b-873ff0018a1b"
      },
      "outputs": [
        {
          "name": "stdout",
          "output_type": "stream",
          "text": [
            "enter your age18\n",
            "just eligible\n"
          ]
        }
      ],
      "source": [
        "a=int(input(\"enter your age\"))\n",
        "if a>18:\n",
        "    print(\"eligible\")\n",
        "elif a==18:\n",
        "    print(\"just eligible\")\n",
        "else:\n",
        "    print(\"not eligible\")"
      ]
    },
    {
      "cell_type": "code",
      "execution_count": null,
      "id": "80dab61e",
      "metadata": {
        "id": "80dab61e",
        "outputId": "63f8f393-804a-4fca-d278-8949797d2d53"
      },
      "outputs": [
        {
          "name": "stdout",
          "output_type": "stream",
          "text": [
            "enter the numbers7\n",
            "enter the second number8\n",
            "enter the third number5\n",
            "b is max\n"
          ]
        }
      ],
      "source": [
        "a=int(input(\"enter the numbers\"));b=int(input(\"enter the second number\"));c=int(input(\"enter the third number\"))\n",
        "if a>b and a>c:\n",
        "    print(\"a is max\")\n",
        "elif b>a and b>c:\n",
        "    print(\"b is max\")\n",
        "else:\n",
        "    print(\"c is max\")"
      ]
    },
    {
      "cell_type": "code",
      "execution_count": null,
      "id": "5e668345",
      "metadata": {
        "id": "5e668345",
        "outputId": "27bd44e6-414b-4dc4-8a5b-18481af513de"
      },
      "outputs": [
        {
          "name": "stdout",
          "output_type": "stream",
          "text": [
            "enter the numbers5\n",
            "enter the second number3\n",
            "enter the third number2\n",
            "enter fourth number8\n",
            "enter the fifith numer9\n",
            "e is max\n"
          ]
        }
      ],
      "source": [
        "a=int(input(\"enter the numbers\"));b=int(input(\"enter the second number\"));c=int(input(\"enter the third number\"))\n",
        "d=int(input(\"enter fourth number\"));e=int(input(\"enter the fifith numer\"))\n",
        "if a>b and a>c and a>d and a>e:\n",
        "      print(\"a is max\")\n",
        "elif b>a and b>c and b>d and b>e:\n",
        "            print(\"b is max\")\n",
        "elif c>a and c>b and c>d and c>e:\n",
        "    print(\"c is max\")\n",
        "elif d>a and d>b and d>c and d>e:\n",
        "    print(\"d is max\")\n",
        "else:\n",
        "    print(\"e is max\")\n"
      ]
    },
    {
      "cell_type": "code",
      "execution_count": null,
      "id": "8067aeb6",
      "metadata": {
        "id": "8067aeb6",
        "outputId": "b990d948-13ca-457c-bb1b-d01d5229cbb5"
      },
      "outputs": [
        {
          "name": "stdout",
          "output_type": "stream",
          "text": [
            "enter the subject marks of the students\n",
            "enter the marks of subjects 45\n",
            "enter the marks of  2 subject  43\n",
            "enter 3 sub marks23\n",
            "enter the marks of 4 sub76\n",
            "enter the marks of 5 subject45\n",
            "d is max\n"
          ]
        }
      ],
      "source": [
        "print(\"enter the subject marks of the students\")\n",
        "s1=int(input(\"enter the marks of subjects \"));s2=int(input(\"enter the marks of  2 subject  \"));s3=int(input(\"enter 3 sub marks\"))\n",
        "s4=int(input(\"enter the marks of 4 sub\"));s5=int(input(\"enter the marks of 5 subject\"))\n",
        "if s1>s2 and s1>s3 and s1>s4 and s1>s5:\n",
        "      print(\"a is max\")\n",
        "elif s2>s1 and s2>s3 and s2>s4 and s2>s5:\n",
        "            print(\"b is max\")\n",
        "elif s3>s1 and s3>s2 and s3>s4 and s3>s5:\n",
        "    print(\"c is max\")\n",
        "elif s4>s1 and s4>s2 and s4>s3 and s4>s5:\n",
        "    print(\"d is max\")\n",
        "else:\n",
        "    print(\"e is max\")\n",
        "\n"
      ]
    },
    {
      "cell_type": "markdown",
      "id": "fefb0ef8",
      "metadata": {
        "id": "fefb0ef8"
      },
      "source": [
        "## for loop\n"
      ]
    },
    {
      "cell_type": "code",
      "execution_count": null,
      "id": "3f98c501",
      "metadata": {
        "id": "3f98c501",
        "outputId": "e54ad776-ccf6-43a1-f9cb-ae061c562a8e"
      },
      "outputs": [
        {
          "name": "stdout",
          "output_type": "stream",
          "text": [
            "enter the number0\n",
            "enter the max number100\n",
            "even number 0\n",
            "even number 2\n",
            "even number 4\n",
            "even number 6\n",
            "even number 8\n",
            "even number 10\n",
            "even number 12\n",
            "even number 14\n",
            "even number 16\n",
            "even number 18\n",
            "even number 20\n",
            "even number 22\n",
            "even number 24\n",
            "even number 26\n",
            "even number 28\n",
            "even number 30\n",
            "even number 32\n",
            "even number 34\n",
            "even number 36\n",
            "even number 38\n",
            "even number 40\n",
            "even number 42\n",
            "even number 44\n",
            "even number 46\n",
            "even number 48\n",
            "even number 50\n",
            "even number 52\n",
            "even number 54\n",
            "even number 56\n",
            "even number 58\n",
            "even number 60\n",
            "even number 62\n",
            "even number 64\n",
            "even number 66\n",
            "even number 68\n",
            "even number 70\n",
            "even number 72\n",
            "even number 74\n",
            "even number 76\n",
            "even number 78\n",
            "even number 80\n",
            "even number 82\n",
            "even number 84\n",
            "even number 86\n",
            "even number 88\n",
            "even number 90\n",
            "even number 92\n",
            "even number 94\n",
            "even number 96\n",
            "even number 98\n"
          ]
        }
      ],
      "source": [
        "a=int(input(\"enter the number\"));b=int(input(\"enter the max number\"))\n",
        "for i in range(a,b):\n",
        "    if i%2==0:\n",
        "        print(\"even number\",i)\n",
        "    else:\n",
        "        print(\"odd numbers\",i)"
      ]
    },
    {
      "cell_type": "markdown",
      "id": "138d576b",
      "metadata": {
        "id": "138d576b"
      },
      "source": [
        "## multiplication table"
      ]
    },
    {
      "cell_type": "code",
      "execution_count": null,
      "id": "e40ee4f5",
      "metadata": {
        "id": "e40ee4f5",
        "outputId": "aded6328-0265-431b-d853-91699557b15f"
      },
      "outputs": [
        {
          "ename": "SyntaxError",
          "evalue": "invalid syntax (Temp/ipykernel_8176/3622758617.py, line 2)",
          "output_type": "error",
          "traceback": [
            "\u001b[1;36m  File \u001b[1;32m\"C:\\Users\\CSE22004\\AppData\\Local\\Temp/ipykernel_8176/3622758617.py\"\u001b[1;36m, line \u001b[1;32m2\u001b[0m\n\u001b[1;33m    for i in range(a,b,=2):\u001b[0m\n\u001b[1;37m                       ^\u001b[0m\n\u001b[1;31mSyntaxError\u001b[0m\u001b[1;31m:\u001b[0m invalid syntax\n"
          ]
        }
      ],
      "source": [
        "a=int(input(\"enter the number\"));b=int(input(\"enter the max number\"))\n",
        "for i in range(a,b,2):\n",
        "        print(\"even number\",i)\n",
        "for j in range(a,b,3):\n",
        "    print(\"odd numbers\",j)"
      ]
    },
    {
      "cell_type": "code",
      "execution_count": null,
      "id": "992a9947",
      "metadata": {
        "id": "992a9947",
        "outputId": "2682568b-b556-47fd-c585-2ffa098e8959"
      },
      "outputs": [
        {
          "name": "stdout",
          "output_type": "stream",
          "text": [
            "enter the number to begin with   1\n",
            "enter the max number5\n",
            "1\n",
            "2\n",
            "3\n",
            "4\n"
          ]
        }
      ],
      "source": [
        "a=int(input(\"enter the number to begin with   \"));b=int(input(\"enter the max number   \"))\n",
        "for i in range(a,b):\n",
        "    print(i)"
      ]
    },
    {
      "cell_type": "code",
      "execution_count": null,
      "id": "866ff4a9",
      "metadata": {
        "id": "866ff4a9",
        "outputId": "046b3968-c113-48b7-90c9-c3528062aa9d"
      },
      "outputs": [
        {
          "name": "stdout",
          "output_type": "stream",
          "text": [
            "enter the max number you want to add 10\n",
            "enter the first number4\n",
            "49\n"
          ]
        }
      ],
      "source": [
        "a=int(input(\"enter the max number you want to add \"));b=int(input(\"enter the first number\"))\n",
        "sum=0\n",
        "while b<=a:\n",
        "    sum=sum+b\n",
        "    b=b+1\n",
        "print(sum)"
      ]
    },
    {
      "cell_type": "markdown",
      "id": "b1ac20f2",
      "metadata": {
        "id": "b1ac20f2"
      },
      "source": [
        "## module"
      ]
    },
    {
      "cell_type": "code",
      "execution_count": null,
      "id": "4a65e001",
      "metadata": {
        "id": "4a65e001",
        "outputId": "ddd77109-caa4-4f84-8924-f12832bc2315"
      },
      "outputs": [
        {
          "name": "stdout",
          "output_type": "stream",
          "text": [
            "enter the first side2\n",
            "enter the second side2\n",
            "enter the third side2\n",
            "quilateral triangle\n"
          ]
        }
      ],
      "source": [
        "a=int(input(\"enter the first side\"));b=int(input(\"enter the second side\"));c=int(input(\"enter the third side\"))\n",
        "if a==b and b==c and a==c:\n",
        "    print(\"equilateral triangle\")\n",
        "elif a==b or b==c or c==a:\n",
        "    print(\"isoscles triangle\")\n",
        "else:\n",
        "    print(\"scalen triangle\")"
      ]
    },
    {
      "cell_type": "code",
      "execution_count": null,
      "id": "d3123264",
      "metadata": {
        "id": "d3123264",
        "outputId": "5faab904-50d8-491c-bbf7-cc12b729c4d7"
      },
      "outputs": [
        {
          "name": "stdout",
          "output_type": "stream",
          "text": [
            "enter the year2020\n",
            "it is a leap year\n"
          ]
        }
      ],
      "source": [
        "a=int(input(\"enter the year\"))\n",
        "if a%400==0:\n",
        "    print(\"it is a leap year\")\n",
        "elif a%100==0:\n",
        "    print(\"it is not a leap year\")\n",
        "elif a%4==0:\n",
        "    print(\"it is a leap year\")\n",
        "else:\n",
        "    print(\"not a leap year\")"
      ]
    },
    {
      "cell_type": "code",
      "execution_count": null,
      "id": "6dc0d19a",
      "metadata": {
        "id": "6dc0d19a",
        "outputId": "32f0002e-ddc2-4855-8b8d-c203edd43e0e"
      },
      "outputs": [
        {
          "name": "stdout",
          "output_type": "stream",
          "text": [
            "enter the first number2\n",
            "enter the second number3\n",
            "enter the third number5\n",
            "c is max\n"
          ]
        }
      ],
      "source": [
        "a=int(input(\"enter the first number\"));b=int(input(\"enter the second number\"));c=int(input(\"enter the third number\"))\n",
        "if a>b and a>c:\n",
        "    print(\"a is max\")\n",
        "elif b>a and b>c:\n",
        "    print(\"b is max\")\n",
        "else:\n",
        "    print(\"c is max\")"
      ]
    },
    {
      "cell_type": "code",
      "execution_count": null,
      "id": "6d5cb4a9",
      "metadata": {
        "id": "6d5cb4a9",
        "outputId": "9fff63d2-987f-4a8e-c9fb-68e8cec6e151"
      },
      "outputs": [
        {
          "name": "stdout",
          "output_type": "stream",
          "text": [
            "enter the first number4\n",
            "enter the second number5\n",
            "enter the third number6\n",
            "a is max\n"
          ]
        }
      ],
      "source": [
        "a=int(input(\"enter the first number\"));b=int(input(\"enter the second number\"));c=int(input(\"enter the third number\"))\n",
        "if a<b and a<c:\n",
        "    print(\"a is max\")\n",
        "elif b<a and b<c:\n",
        "    print(\"b is max\")\n",
        "else:\n",
        "    print(\"c is max\")"
      ]
    },
    {
      "cell_type": "code",
      "execution_count": null,
      "id": "71ba9208",
      "metadata": {
        "id": "71ba9208",
        "outputId": "7140d3e3-20ea-4898-c8b1-4a4f566fc1f5"
      },
      "outputs": [
        {
          "name": "stdout",
          "output_type": "stream",
          "text": [
            "enter the numer22\n",
            "it is divisible by 11\n"
          ]
        }
      ],
      "source": [
        "a=int(input(\"enter the numer\"))\n",
        "if a%5==0:\n",
        "    print(\"it is divisible by 5\")\n",
        "elif a%11==0:\n",
        "    print(\"it is divisible by 11\")\n",
        "elif a%5==0 and a%11==0:\n",
        "    print(\"it is div by 5 and 11\")\n",
        "else:\n",
        "    print(\"not divisible by both\")"
      ]
    },
    {
      "cell_type": "code",
      "execution_count": null,
      "id": "470e5392",
      "metadata": {
        "id": "470e5392",
        "outputId": "bc2b4751-0d48-4ecc-d352-aa85e868a968"
      },
      "outputs": [
        {
          "name": "stdout",
          "output_type": "stream",
          "text": [
            "enter the number to find factorial for  5\n",
            "120\n"
          ]
        }
      ],
      "source": [
        "a=int(input(\"enter the number to find factorial for  \"))\n",
        "fact=1\n",
        "for i in range(1,a+1):\n",
        "    fact=fact*i\n",
        "print(fact)"
      ]
    },
    {
      "cell_type": "code",
      "execution_count": null,
      "id": "49ab9b13",
      "metadata": {
        "id": "49ab9b13",
        "outputId": "1f059730-b300-4fd7-dcb1-86a9a6b163b9"
      },
      "outputs": [
        {
          "name": "stdout",
          "output_type": "stream",
          "text": [
            "enter the number you want121\n",
            "not a palindrome\n"
          ]
        }
      ],
      "source": [
        "original=int(input(\"enter the number you want\"))\n",
        "reverse=0\n",
        "temp=original\n",
        "while temp>0:\n",
        "    remainder=temp%10\n",
        "    reverse=(reverse*10)+remainder\n",
        "    temp=temp/10\n",
        "if reverse==original:\n",
        "    print(\"palindrome\")\n",
        "else:\n",
        "    print(\"not a palindrome\")"
      ]
    },
    {
      "cell_type": "code",
      "execution_count": null,
      "id": "a05d66ff",
      "metadata": {
        "id": "a05d66ff"
      },
      "outputs": [],
      "source": [
        ""
      ]
    }
  ],
  "metadata": {
    "kernelspec": {
      "display_name": "Python 3 (ipykernel)",
      "language": "python",
      "name": "python3"
    },
    "language_info": {
      "codemirror_mode": {
        "name": "ipython",
        "version": 3
      },
      "file_extension": ".py",
      "mimetype": "text/x-python",
      "name": "python",
      "nbconvert_exporter": "python",
      "pygments_lexer": "ipython3",
      "version": "3.9.7"
    },
    "colab": {
      "name": "KOUSHIK VU21CSEN0101199.ipynb",
      "provenance": [],
      "include_colab_link": true
    }
  },
  "nbformat": 4,
  "nbformat_minor": 5
}