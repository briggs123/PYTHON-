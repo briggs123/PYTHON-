{
  "cells": [
    {
      "cell_type": "markdown",
      "metadata": {
        "id": "view-in-github",
        "colab_type": "text"
      },
      "source": [
        "<a href=\"https://colab.research.google.com/github/briggs123/PYTHON-/blob/main/KOUSHIK_VU21CSEN0101199.ipynb\" target=\"_parent\"><img src=\"https://colab.research.google.com/assets/colab-badge.svg\" alt=\"Open In Colab\"/></a>"
      ]
    },
    {
      "cell_type": "markdown",
      "id": "817e7b52",
      "metadata": {
        "id": "817e7b52"
      },
      "source": [
        "## avg of 3 numbers"
      ]
    },
    {
      "cell_type": "code",
      "execution_count": null,
      "id": "10c1110e",
      "metadata": {
        "id": "10c1110e",
        "outputId": "d097e332-9f6d-485d-e695-26853b606cc1"
      },
      "outputs": [
        {
          "name": "stdout",
          "output_type": "stream",
          "text": [
            "the average ofthe numbers\n",
            "70 23.333333333333332\n",
            "<class 'float'>\n"
          ]
        }
      ],
      "source": [
        "a=10\n",
        "b=20\n",
        "c=30\n",
        "d=a+b+c\n",
        "avg=d/3\n",
        "print(\"the average ofthe numbers\")\n",
        "print(d,avg)\n",
        "print(type(avg))"
      ]
    },
    {
      "cell_type": "code",
      "execution_count": null,
      "id": "7d7af61f",
      "metadata": {
        "id": "7d7af61f",
        "outputId": "87b6dced-8284-4965-d75e-d6f8fdd81cf5"
      },
      "outputs": [
        {
          "name": "stdout",
          "output_type": "stream",
          "text": [
            "the average of the numbers\n",
            "26.666666666666668\n",
            "<class 'float'>\n"
          ]
        }
      ],
      "source": [
        "a=10;b=30;c=40\n",
        "d=a+b+c\n",
        "avg=d/3\n",
        "print(\"the average of the numbers\")\n",
        "print(avg)\n",
        "print(type(avg))"
      ]
    },
    {
      "cell_type": "code",
      "execution_count": null,
      "id": "87eff18d",
      "metadata": {
        "id": "87eff18d"
      },
      "outputs": [],
      "source": [
        "a=10;b=30;c=40\n",
        "d=a+b+c\n",
        "avg=d/3\n",
        "print(\"the average  of two numbers =\",avg)\n",
        "print(type(avg))"
      ]
    },
    {
      "cell_type": "markdown",
      "id": "8a2930f6",
      "metadata": {
        "id": "8a2930f6"
      },
      "source": [
        "## multiplication of two numbers"
      ]
    },
    {
      "cell_type": "code",
      "execution_count": null,
      "id": "b33096b1",
      "metadata": {
        "id": "b33096b1",
        "outputId": "02cda5de-78fb-4b90-dd06-4b6867952811"
      },
      "outputs": [
        {
          "name": "stdout",
          "output_type": "stream",
          "text": [
            "the multiplication of two numbers= 600\n",
            "<class 'int'>\n"
          ]
        }
      ],
      "source": [
        "a=20;b=30\n",
        "c=a*b\n",
        "print(\"the multiplication of two numbers=\",c)\n",
        "print(type(c))"
      ]
    },
    {
      "cell_type": "markdown",
      "id": "52125cba",
      "metadata": {
        "id": "52125cba"
      },
      "source": [
        "## dynamic addition of two numbers"
      ]
    },
    {
      "cell_type": "code",
      "execution_count": null,
      "id": "059f1836",
      "metadata": {
        "id": "059f1836",
        "outputId": "b0d4f914-5faa-46c0-97f1-d6c7c0ef36f6"
      },
      "outputs": [
        {
          "name": "stdout",
          "output_type": "stream",
          "text": [
            "enter a number5\n",
            "enter the second number3\n",
            "the addition of numbers= 8\n"
          ]
        }
      ],
      "source": [
        "a=int(input(\"enter a number\"))\n",
        "b=int(input(\"enter the second number\"))\n",
        "c=a+b\n",
        "print(\"the addition of numbers=\",c)"
      ]
    },
    {
      "cell_type": "code",
      "execution_count": null,
      "id": "34c56c6a",
      "metadata": {
        "id": "34c56c6a",
        "outputId": "530c7a96-cbbd-43c0-af19-71aa62e8a855"
      },
      "outputs": [
        {
          "name": "stdout",
          "output_type": "stream",
          "text": [
            "enter a number5\n",
            "enter the second number4\n",
            "the addition of numbers= 9\n"
          ]
        }
      ],
      "source": [
        "a=int(input(\"enter a number\"));b=int(input(\"enter the second number\"))\n",
        "c=a+b\n",
        "print(\"the addition of numbers=\",c)"
      ]
    },
    {
      "cell_type": "markdown",
      "id": "d1aa908f",
      "metadata": {
        "id": "d1aa908f"
      },
      "source": [
        "## ADDITION OF STRINGS"
      ]
    },
    {
      "cell_type": "code",
      "execution_count": null,
      "id": "204c271e",
      "metadata": {
        "id": "204c271e",
        "outputId": "09578435-007f-455e-b4cc-d9cbd69a071b"
      },
      "outputs": [
        {
          "name": "stdout",
          "output_type": "stream",
          "text": [
            "koushik\n",
            "<class 'str'>\n"
          ]
        }
      ],
      "source": [
        "a=\"kou\";b=\"shik\"\n",
        "c=a+b\n",
        "print(c)\n",
        "print(type(c))"
      ]
    },
    {
      "cell_type": "code",
      "execution_count": null,
      "id": "cd943f42",
      "metadata": {
        "id": "cd943f42",
        "outputId": "399cfccf-4988-4863-b72b-9c50167f6b66"
      },
      "outputs": [
        {
          "name": "stdout",
          "output_type": "stream",
          "text": [
            "123456 <class 'str'>\n"
          ]
        }
      ],
      "source": [
        "a=\"123\"\n",
        "b=\"456\"\n",
        "c=a+b\n",
        "print(c,type(c))"
      ]
    },
    {
      "cell_type": "markdown",
      "id": "e1fb1c65",
      "metadata": {
        "id": "e1fb1c65"
      },
      "source": [
        "## CONVERSION OF DATA TYPES"
      ]
    },
    {
      "cell_type": "markdown",
      "id": "53252632",
      "metadata": {
        "id": "53252632"
      },
      "source": [
        "## COVERT INT TO FLOAT"
      ]
    },
    {
      "cell_type": "code",
      "execution_count": null,
      "id": "1b33a8d2",
      "metadata": {
        "id": "1b33a8d2",
        "outputId": "be2e9d32-297c-41d8-fb68-9760d3772bbd"
      },
      "outputs": [
        {
          "name": "stdout",
          "output_type": "stream",
          "text": [
            "10.0 <class 'float'>\n"
          ]
        }
      ],
      "source": [
        "a=10\n",
        "b=float(a)\n",
        "print(b,type(b))"
      ]
    },
    {
      "cell_type": "markdown",
      "id": "1130158e",
      "metadata": {
        "id": "1130158e"
      },
      "source": [
        "## convert int to float (viceversa)"
      ]
    },
    {
      "cell_type": "code",
      "execution_count": null,
      "id": "b75c5a7c",
      "metadata": {
        "id": "b75c5a7c",
        "outputId": "1286593e-0144-496d-fe52-6766c2f9202c"
      },
      "outputs": [
        {
          "name": "stdout",
          "output_type": "stream",
          "text": [
            "10.0 <class 'float'>\n",
            "10 <class 'int'>\n"
          ]
        }
      ],
      "source": [
        "a=10;b=float(a)\n",
        "print(b,type(b))\n",
        "c=int(b)\n",
        "print(c,type(c))"
      ]
    },
    {
      "cell_type": "markdown",
      "id": "f8b13dea",
      "metadata": {
        "id": "f8b13dea"
      },
      "source": [
        "## int to string"
      ]
    },
    {
      "cell_type": "code",
      "execution_count": null,
      "id": "5838b62b",
      "metadata": {
        "id": "5838b62b",
        "outputId": "4348764f-94e3-44b2-da48-ec9963ad0d02"
      },
      "outputs": [
        {
          "name": "stdout",
          "output_type": "stream",
          "text": [
            "64 <class 'str'>\n",
            "64 <class 'int'>\n"
          ]
        }
      ],
      "source": [
        "a=64\n",
        "b=str(64)\n",
        "print(b,type(b))\n",
        "c=int(b)\n",
        "print(c,type(c))\n",
        "##string to int is not posssible only if they are alphabets"
      ]
    },
    {
      "cell_type": "markdown",
      "id": "38224c30",
      "metadata": {
        "id": "38224c30"
      },
      "source": [
        "## boolean function"
      ]
    },
    {
      "cell_type": "code",
      "execution_count": null,
      "id": "417810d1",
      "metadata": {
        "id": "417810d1",
        "outputId": "07ba9f3f-c4e2-4c0a-bd80-994823af024e"
      },
      "outputs": [
        {
          "name": "stdout",
          "output_type": "stream",
          "text": [
            "True <class 'int'>\n",
            "True <class 'float'>\n"
          ]
        }
      ],
      "source": [
        "a=10\n",
        "b=float(a)\n",
        "print(bool(a),type(a))\n",
        "print(bool(b),type(b))"
      ]
    },
    {
      "cell_type": "code",
      "execution_count": null,
      "id": "f9de31dd",
      "metadata": {
        "id": "f9de31dd",
        "outputId": "01c72120-925f-4013-b395-7fcca4da2b29"
      },
      "outputs": [
        {
          "name": "stdout",
          "output_type": "stream",
          "text": [
            "enter the numbers to check boolean \n",
            "enter the numbers5\n",
            "enter the second number10.4\n",
            "check boolean True True <class 'int'> <class 'float'>\n"
          ]
        }
      ],
      "source": [
        "print(\"enter the numbers to check boolean \");a=int(input(\"enter the numbers\"));b=float(input(\"enter the second number\"))\n",
        "print(\"check boolean\",bool(a),bool(b),type(a),type(b))"
      ]
    },
    {
      "cell_type": "code",
      "execution_count": null,
      "id": "15febb6f",
      "metadata": {
        "id": "15febb6f",
        "outputId": "dd373cb1-fe67-44d3-9ec8-869324a9bf0e"
      },
      "outputs": [
        {
          "name": "stdout",
          "output_type": "stream",
          "text": [
            "enter the numbers to check boolean \n",
            "enter the numbers  5\n",
            "enter the second number   4\n",
            "check boolean\n",
            "True True <class 'int'> <class 'float'>\n"
          ]
        }
      ],
      "source": [
        "print(\"enter the numbers to check boolean \");a=int(input(\"enter the numbers  \"));b=float(input(\"enter the second number   \"))\n",
        "print(\"check boolean\")\n",
        "print(bool(a),bool(b),type(a),type(b))"
      ]
    },
    {
      "cell_type": "code",
      "execution_count": null,
      "id": "6fda1360",
      "metadata": {
        "id": "6fda1360",
        "outputId": "0080f812-958e-4a67-9ca4-ca045bb2933e"
      },
      "outputs": [
        {
          "name": "stdout",
          "output_type": "stream",
          "text": [
            "False <class 'bool'>\n"
          ]
        }
      ],
      "source": [
        "a=10;b=15;c=a>b\n",
        "print(bool(c),type(c))"
      ]
    },
    {
      "cell_type": "code",
      "execution_count": null,
      "id": "4062e7e7",
      "metadata": {
        "id": "4062e7e7",
        "outputId": "ce5b5c07-a6a8-4f5e-e990-24fa8bf7b462"
      },
      "outputs": [
        {
          "name": "stdout",
          "output_type": "stream",
          "text": [
            "False <class 'bool'>\n",
            "True\n",
            "0 1\n"
          ]
        }
      ],
      "source": [
        "a=10;b=15;c=a>b;e=a<b\n",
        "print(bool(c),type(c))\n",
        "d=int(c)\n",
        "print(bool(f))\n",
        "f=int(e)\n",
        "print(d,f)"
      ]
    },
    {
      "cell_type": "code",
      "execution_count": null,
      "id": "5052c50b",
      "metadata": {
        "id": "5052c50b",
        "outputId": "e8476128-868b-49e3-cc39-3bcf15d5cd22"
      },
      "outputs": [
        {
          "name": "stdout",
          "output_type": "stream",
          "text": [
            "False\n",
            "0 True 1.0\n"
          ]
        }
      ],
      "source": [
        "a=10;b=15;c=a>b;e=a<b\n",
        "print(bool(c))\n",
        "print(int(c),bool(e),float(e))"
      ]
    },
    {
      "cell_type": "code",
      "execution_count": null,
      "id": "24eccae3",
      "metadata": {
        "id": "24eccae3",
        "outputId": "ecbe1e71-0a2b-467d-9571-b6ecfa4cb594"
      },
      "outputs": [
        {
          "name": "stdout",
          "output_type": "stream",
          "text": [
            "False <class 'bool'>\n"
          ]
        }
      ],
      "source": [
        "a=10;b=2\n",
        "c=b>a\n",
        "print(c,type(c))"
      ]
    },
    {
      "cell_type": "code",
      "execution_count": null,
      "id": "9dab458b",
      "metadata": {
        "id": "9dab458b",
        "outputId": "35717a0b-3b25-43ae-cbd8-60fb36f1f384"
      },
      "outputs": [
        {
          "name": "stdout",
          "output_type": "stream",
          "text": [
            "True <class 'bool'>\n",
            "1 <class 'bool'>\n"
          ]
        }
      ],
      "source": [
        "a=bool(12)\n",
        "print(a,type(a))\n",
        "b=int(a)\n",
        "print(b,type(a))"
      ]
    },
    {
      "cell_type": "markdown",
      "id": "78712dcb",
      "metadata": {
        "id": "78712dcb"
      },
      "source": [
        "## complex"
      ]
    },
    {
      "cell_type": "code",
      "execution_count": null,
      "id": "bc5f4ea9",
      "metadata": {
        "id": "bc5f4ea9",
        "outputId": "0653ac13-53ac-42b2-f9da-7ef71dbf8d10"
      },
      "outputs": [
        {
          "name": "stdout",
          "output_type": "stream",
          "text": [
            "(12+0j)\n"
          ]
        }
      ],
      "source": [
        "a=12\n",
        "b=complex(a)\n",
        "print(b)"
      ]
    },
    {
      "cell_type": "code",
      "execution_count": null,
      "id": "6ced7895",
      "metadata": {
        "id": "6ced7895",
        "outputId": "e800c69b-e79b-4f3b-fb70-97fe704be446"
      },
      "outputs": [
        {
          "name": "stdout",
          "output_type": "stream",
          "text": [
            "True (35+0j) 35.0\n"
          ]
        }
      ],
      "source": [
        "a=35\n",
        "print(bool(35),complex(35),float(35))"
      ]
    },
    {
      "cell_type": "code",
      "execution_count": null,
      "id": "422c4113",
      "metadata": {
        "id": "422c4113",
        "outputId": "d4d23b2e-a51d-4a2e-8966-57e12f9fd432"
      },
      "outputs": [
        {
          "name": "stdout",
          "output_type": "stream",
          "text": [
            "<class 'complex'> (5+2j)\n"
          ]
        }
      ],
      "source": [
        "a=5+2j\n",
        "print(type(a),a)\n",
        "print"
      ]
    },
    {
      "cell_type": "code",
      "execution_count": null,
      "id": "04e03239",
      "metadata": {
        "id": "04e03239"
      },
      "outputs": [],
      "source": [
        ""
      ]
    }
  ],
  "metadata": {
    "kernelspec": {
      "display_name": "Python 3 (ipykernel)",
      "language": "python",
      "name": "python3"
    },
    "language_info": {
      "codemirror_mode": {
        "name": "ipython",
        "version": 3
      },
      "file_extension": ".py",
      "mimetype": "text/x-python",
      "name": "python",
      "nbconvert_exporter": "python",
      "pygments_lexer": "ipython3",
      "version": "3.9.7"
    },
    "colab": {
      "name": "KOUSHIK VU21CSEN0101199.ipynb",
      "provenance": [],
      "include_colab_link": true
    }
  },
  "nbformat": 4,
  "nbformat_minor": 5
}