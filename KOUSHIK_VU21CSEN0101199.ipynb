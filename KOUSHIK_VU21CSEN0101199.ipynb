{
  "cells": [
    {
      "cell_type": "markdown",
      "metadata": {
        "id": "view-in-github",
        "colab_type": "text"
      },
      "source": [
        "<a href=\"https://colab.research.google.com/github/briggs123/PYTHON-/blob/main/KOUSHIK_VU21CSEN0101199.ipynb\" target=\"_parent\"><img src=\"https://colab.research.google.com/assets/colab-badge.svg\" alt=\"Open In Colab\"/></a>"
      ]
    },
    {
      "cell_type": "markdown",
      "id": "817e7b52",
      "metadata": {
        "id": "817e7b52"
      },
      "source": [
        "## avg of 3 numbers"
      ]
    },
    {
      "cell_type": "code",
      "execution_count": null,
      "id": "10c1110e",
      "metadata": {
        "id": "10c1110e",
        "outputId": "3c3e692b-f251-483a-de53-4cf3323d5a39"
      },
      "outputs": [
        {
          "name": "stdout",
          "output_type": "stream",
          "text": [
            "the average ofthe numbers\n",
            "70 23.333333333333332\n",
            "<class 'float'>\n"
          ]
        }
      ],
      "source": [
        "a=10\n",
        "b=20\n",
        "c=30\n",
        "d=a+b+c\n",
        "avg=d/3\n",
        "print(\"the average ofthe numbers\")\n",
        "print(d,avg)\n",
        "print(type(avg))"
      ]
    },
    {
      "cell_type": "code",
      "execution_count": null,
      "id": "7d7af61f",
      "metadata": {
        "id": "7d7af61f",
        "outputId": "e5677292-ad25-4105-e1e4-d5804a102a62"
      },
      "outputs": [
        {
          "name": "stdout",
          "output_type": "stream",
          "text": [
            "the average of the numbers\n",
            "26.666666666666668\n",
            "<class 'float'>\n"
          ]
        }
      ],
      "source": [
        "a=10;b=30;c=40\n",
        "d=a+b+c\n",
        "avg=d/3\n",
        "print(\"the average of the numbers\")\n",
        "print(avg)\n",
        "print(type(avg))"
      ]
    },
    {
      "cell_type": "code",
      "execution_count": null,
      "id": "87eff18d",
      "metadata": {
        "id": "87eff18d"
      },
      "outputs": [],
      "source": [
        "a=10;b=30;c=40\n",
        "d=a+b+c\n",
        "avg=d/3\n",
        "print(\"the average  of two numbers =\",avg)\n",
        "print(type(avg))"
      ]
    },
    {
      "cell_type": "markdown",
      "id": "8a2930f6",
      "metadata": {
        "id": "8a2930f6"
      },
      "source": [
        "## multiplication of two numbers"
      ]
    },
    {
      "cell_type": "code",
      "execution_count": null,
      "id": "b33096b1",
      "metadata": {
        "id": "b33096b1",
        "outputId": "8288aac1-bde8-41fa-8022-cceceec8dcc9"
      },
      "outputs": [
        {
          "name": "stdout",
          "output_type": "stream",
          "text": [
            "the multiplication of two numbers= 600\n",
            "<class 'int'>\n"
          ]
        }
      ],
      "source": [
        "a=20;b=30\n",
        "c=a*b\n",
        "print(\"the multiplication of two numbers=\",c)\n",
        "print(type(c))"
      ]
    },
    {
      "cell_type": "markdown",
      "id": "52125cba",
      "metadata": {
        "id": "52125cba"
      },
      "source": [
        "## dynamic addition of two numbers"
      ]
    },
    {
      "cell_type": "code",
      "execution_count": null,
      "id": "059f1836",
      "metadata": {
        "id": "059f1836",
        "outputId": "404bfc79-a252-4aa5-c155-b2fab6869b4e"
      },
      "outputs": [
        {
          "name": "stdout",
          "output_type": "stream",
          "text": [
            "enter a number5\n",
            "enter the second number3\n",
            "the addition of numbers= 8\n"
          ]
        }
      ],
      "source": [
        "a=int(input(\"enter a number\"))\n",
        "b=int(input(\"enter the second number\"))\n",
        "c=a+b\n",
        "print(\"the addition of numbers=\",c)"
      ]
    },
    {
      "cell_type": "code",
      "execution_count": null,
      "id": "34c56c6a",
      "metadata": {
        "id": "34c56c6a",
        "outputId": "c248f7f8-6f4f-490c-cb2f-85be08a2bf07"
      },
      "outputs": [
        {
          "name": "stdout",
          "output_type": "stream",
          "text": [
            "enter a number5\n",
            "enter the second number4\n",
            "the addition of numbers= 9\n"
          ]
        }
      ],
      "source": [
        "a=int(input(\"enter a number\"));b=int(input(\"enter the second number\"))\n",
        "c=a+b\n",
        "print(\"the addition of numbers=\",c)"
      ]
    },
    {
      "cell_type": "markdown",
      "id": "d1aa908f",
      "metadata": {
        "id": "d1aa908f"
      },
      "source": [
        "## ADDITION OF STRINGS"
      ]
    },
    {
      "cell_type": "code",
      "execution_count": null,
      "id": "204c271e",
      "metadata": {
        "id": "204c271e",
        "outputId": "36037dc0-fcb4-48e6-9e5e-50dfe47ccb71"
      },
      "outputs": [
        {
          "name": "stdout",
          "output_type": "stream",
          "text": [
            "koushik\n",
            "<class 'str'>\n"
          ]
        }
      ],
      "source": [
        "a=\"kou\";b=\"shik\"\n",
        "c=a+b\n",
        "print(c)\n",
        "print(type(c))"
      ]
    },
    {
      "cell_type": "code",
      "execution_count": null,
      "id": "cd943f42",
      "metadata": {
        "id": "cd943f42",
        "outputId": "c6313e58-10a0-4bc8-b3c8-69f1d1fa3313"
      },
      "outputs": [
        {
          "name": "stdout",
          "output_type": "stream",
          "text": [
            "123456 <class 'str'>\n"
          ]
        }
      ],
      "source": [
        "a=\"123\"\n",
        "b=\"456\"\n",
        "c=a+b\n",
        "print(c,type(c))"
      ]
    },
    {
      "cell_type": "markdown",
      "id": "e1fb1c65",
      "metadata": {
        "id": "e1fb1c65"
      },
      "source": [
        "## CONVERSION OF DATA TYPES"
      ]
    },
    {
      "cell_type": "markdown",
      "id": "53252632",
      "metadata": {
        "id": "53252632"
      },
      "source": [
        "## COVERT INT TO FLOAT"
      ]
    },
    {
      "cell_type": "code",
      "execution_count": null,
      "id": "1b33a8d2",
      "metadata": {
        "id": "1b33a8d2",
        "outputId": "9b3b19a6-6a8d-495f-a257-f20bdce6bf4a"
      },
      "outputs": [
        {
          "name": "stdout",
          "output_type": "stream",
          "text": [
            "10.0 <class 'float'>\n"
          ]
        }
      ],
      "source": [
        "a=10\n",
        "b=float(a)\n",
        "print(b,type(b))"
      ]
    },
    {
      "cell_type": "markdown",
      "id": "1130158e",
      "metadata": {
        "id": "1130158e"
      },
      "source": [
        "## convert int to float (viceversa)"
      ]
    },
    {
      "cell_type": "code",
      "execution_count": null,
      "id": "b75c5a7c",
      "metadata": {
        "id": "b75c5a7c",
        "outputId": "4df89fe0-7bf4-4a6a-db01-3dbcfbb936df"
      },
      "outputs": [
        {
          "name": "stdout",
          "output_type": "stream",
          "text": [
            "10.0 <class 'float'>\n",
            "10 <class 'int'>\n"
          ]
        }
      ],
      "source": [
        "a=10;b=float(a)\n",
        "print(b,type(b))\n",
        "c=int(b)\n",
        "print(c,type(c))"
      ]
    },
    {
      "cell_type": "markdown",
      "id": "f8b13dea",
      "metadata": {
        "id": "f8b13dea"
      },
      "source": [
        "## int to string"
      ]
    },
    {
      "cell_type": "code",
      "execution_count": null,
      "id": "5838b62b",
      "metadata": {
        "id": "5838b62b",
        "outputId": "de204cc0-3196-4365-e36e-519243995f4d"
      },
      "outputs": [
        {
          "name": "stdout",
          "output_type": "stream",
          "text": [
            "64 <class 'str'>\n",
            "64 <class 'int'>\n"
          ]
        }
      ],
      "source": [
        "a=64\n",
        "b=str(64)\n",
        "print(b,type(b))\n",
        "c=int(b)\n",
        "print(c,type(c))\n",
        "##string to int is not posssible only if they are alphabets"
      ]
    },
    {
      "cell_type": "markdown",
      "id": "38224c30",
      "metadata": {
        "id": "38224c30"
      },
      "source": [
        "## boolean function"
      ]
    },
    {
      "cell_type": "code",
      "execution_count": null,
      "id": "417810d1",
      "metadata": {
        "id": "417810d1",
        "outputId": "b7c43547-7c25-45a5-b8c5-0807b7eaeadf"
      },
      "outputs": [
        {
          "name": "stdout",
          "output_type": "stream",
          "text": [
            "True <class 'int'>\n",
            "True <class 'float'>\n"
          ]
        }
      ],
      "source": [
        "a=10\n",
        "b=float(a)\n",
        "print(bool(a),type(a))\n",
        "print(bool(b),type(b))"
      ]
    },
    {
      "cell_type": "code",
      "execution_count": null,
      "id": "f9de31dd",
      "metadata": {
        "id": "f9de31dd",
        "outputId": "3788e87c-2bc6-43f6-ff9f-3c9747f0a685"
      },
      "outputs": [
        {
          "name": "stdout",
          "output_type": "stream",
          "text": [
            "enter the numbers to check boolean \n",
            "enter the numbers5\n",
            "enter the second number10.4\n",
            "check boolean True True <class 'int'> <class 'float'>\n"
          ]
        }
      ],
      "source": [
        "print(\"enter the numbers to check boolean \");a=int(input(\"enter the numbers\"));b=float(input(\"enter the second number\"))\n",
        "print(\"check boolean\",bool(a),bool(b),type(a),type(b))"
      ]
    },
    {
      "cell_type": "code",
      "execution_count": null,
      "id": "15febb6f",
      "metadata": {
        "id": "15febb6f",
        "outputId": "ae1e30f5-77f2-4d66-a6cf-5e1339ce3391"
      },
      "outputs": [
        {
          "name": "stdout",
          "output_type": "stream",
          "text": [
            "enter the numbers to check boolean \n",
            "enter the numbers  5\n",
            "enter the second number   4\n",
            "check boolean\n",
            "True True <class 'int'> <class 'float'>\n"
          ]
        }
      ],
      "source": [
        "print(\"enter the numbers to check boolean \");a=int(input(\"enter the numbers  \"));b=float(input(\"enter the second number   \"))\n",
        "print(\"check boolean\")\n",
        "print(bool(a),bool(b),type(a),type(b))"
      ]
    },
    {
      "cell_type": "code",
      "execution_count": null,
      "id": "6fda1360",
      "metadata": {
        "id": "6fda1360",
        "outputId": "3ab1e11e-68a3-4121-e3da-1cadc95040d8"
      },
      "outputs": [
        {
          "name": "stdout",
          "output_type": "stream",
          "text": [
            "False <class 'bool'>\n"
          ]
        }
      ],
      "source": [
        "a=10;b=15;c=a>b\n",
        "print(bool(c),type(c))"
      ]
    },
    {
      "cell_type": "code",
      "execution_count": null,
      "id": "4062e7e7",
      "metadata": {
        "id": "4062e7e7",
        "outputId": "3ec5757a-0642-4cc9-cee8-f1259602e861"
      },
      "outputs": [
        {
          "name": "stdout",
          "output_type": "stream",
          "text": [
            "False <class 'bool'>\n",
            "True\n",
            "0 1\n"
          ]
        }
      ],
      "source": [
        "a=10;b=15;c=a>b;e=a<b\n",
        "print(bool(c),type(c))\n",
        "d=int(c)\n",
        "print(bool(f))\n",
        "f=int(e)\n",
        "print(d,f)"
      ]
    },
    {
      "cell_type": "code",
      "execution_count": null,
      "id": "5052c50b",
      "metadata": {
        "id": "5052c50b",
        "outputId": "e8a12269-54aa-482e-e29e-dbb50bca557f"
      },
      "outputs": [
        {
          "name": "stdout",
          "output_type": "stream",
          "text": [
            "False\n",
            "0 True 1.0\n"
          ]
        }
      ],
      "source": [
        "a=10;b=15;c=a>b;e=a<b\n",
        "print(bool(c))\n",
        "print(int(c),bool(e),float(e))"
      ]
    },
    {
      "cell_type": "code",
      "execution_count": null,
      "id": "24eccae3",
      "metadata": {
        "id": "24eccae3",
        "outputId": "990ae0e1-6d20-42a9-8308-8bb699581f6b"
      },
      "outputs": [
        {
          "name": "stdout",
          "output_type": "stream",
          "text": [
            "False <class 'bool'>\n"
          ]
        }
      ],
      "source": [
        "a=10;b=2\n",
        "c=b>a\n",
        "print(c,type(c))"
      ]
    },
    {
      "cell_type": "code",
      "execution_count": null,
      "id": "9dab458b",
      "metadata": {
        "id": "9dab458b",
        "outputId": "261e68b7-6177-4440-faec-35dcca439ca9"
      },
      "outputs": [
        {
          "name": "stdout",
          "output_type": "stream",
          "text": [
            "True <class 'bool'>\n",
            "1 <class 'bool'>\n"
          ]
        }
      ],
      "source": [
        "a=bool(12)\n",
        "print(a,type(a))\n",
        "b=int(a)\n",
        "print(b,type(a))"
      ]
    },
    {
      "cell_type": "markdown",
      "id": "78712dcb",
      "metadata": {
        "id": "78712dcb"
      },
      "source": [
        "## complex"
      ]
    },
    {
      "cell_type": "code",
      "execution_count": null,
      "id": "bc5f4ea9",
      "metadata": {
        "id": "bc5f4ea9",
        "outputId": "6e69701a-6165-4605-cbc2-5102e8c818e8"
      },
      "outputs": [
        {
          "name": "stdout",
          "output_type": "stream",
          "text": [
            "(12+0j)\n"
          ]
        }
      ],
      "source": [
        "a=12\n",
        "b=complex(a)\n",
        "print(b)"
      ]
    },
    {
      "cell_type": "code",
      "execution_count": null,
      "id": "6ced7895",
      "metadata": {
        "id": "6ced7895",
        "outputId": "9e463f46-30d0-4eb3-ef8c-b442b4434755"
      },
      "outputs": [
        {
          "name": "stdout",
          "output_type": "stream",
          "text": [
            "True (35+0j) 35.0\n"
          ]
        }
      ],
      "source": [
        "a=35\n",
        "print(bool(35),complex(35),float(35))"
      ]
    },
    {
      "cell_type": "code",
      "execution_count": null,
      "id": "422c4113",
      "metadata": {
        "id": "422c4113",
        "outputId": "2e8960ed-7a42-4d9a-9520-fae5c3a2e1bb"
      },
      "outputs": [
        {
          "name": "stdout",
          "output_type": "stream",
          "text": [
            "<class 'complex'> (5+2j)\n"
          ]
        }
      ],
      "source": [
        "a=5+2j\n",
        "print(type(a),a)\n",
        "print"
      ]
    },
    {
      "cell_type": "markdown",
      "id": "feef4fa7",
      "metadata": {
        "id": "feef4fa7"
      },
      "source": [
        "## CONTROL STATEMENTS"
      ]
    },
    {
      "cell_type": "markdown",
      "id": "ff12cd74",
      "metadata": {
        "id": "ff12cd74"
      },
      "source": [
        "## if else"
      ]
    },
    {
      "cell_type": "code",
      "execution_count": null,
      "id": "73c2fe25",
      "metadata": {
        "id": "73c2fe25",
        "outputId": "bda1450a-9266-4ebf-c3f8-8ea8cc77c86c"
      },
      "outputs": [
        {
          "name": "stdout",
          "output_type": "stream",
          "text": [
            "eligible for voting\n"
          ]
        }
      ],
      "source": [
        "a=20\n",
        "if a>18: ### indentation is necessary \n",
        "    print(\"eligible for voting\") ### the code should be started below the idenenation "
      ]
    },
    {
      "cell_type": "code",
      "execution_count": null,
      "id": "0662f0b2",
      "metadata": {
        "id": "0662f0b2",
        "outputId": "cce10bdf-3704-4d70-b236-0d4abf56c83a"
      },
      "outputs": [
        {
          "name": "stdout",
          "output_type": "stream",
          "text": [
            "enter your age21\n",
            "eligible for voting\n"
          ]
        }
      ],
      "source": [
        "a=int(input(\"enter your age\"))\n",
        "if a>18:\n",
        "    print(\"eligible for voting\")\n",
        "else:\n",
        "        print(\"not eligible\")\n",
        "    "
      ]
    },
    {
      "cell_type": "code",
      "execution_count": null,
      "id": "6a7346dc",
      "metadata": {
        "id": "6a7346dc",
        "outputId": "f352ab1a-c4ec-4bef-e615-9c6dd1701ab5"
      },
      "outputs": [
        {
          "name": "stdout",
          "output_type": "stream",
          "text": [
            "enter your age18\n",
            "just eligible\n"
          ]
        }
      ],
      "source": [
        "a=int(input(\"enter your age\"))\n",
        "if a>18:\n",
        "    print(\"eligible\")\n",
        "elif a==18:\n",
        "    print(\"just eligible\")\n",
        "else:\n",
        "    print(\"not eligible\")"
      ]
    },
    {
      "cell_type": "code",
      "execution_count": null,
      "id": "80dab61e",
      "metadata": {
        "id": "80dab61e",
        "outputId": "3b31e7b5-02f0-4feb-eba7-58b242b9f933"
      },
      "outputs": [
        {
          "name": "stdout",
          "output_type": "stream",
          "text": [
            "enter the numbers7\n",
            "enter the second number8\n",
            "enter the third number5\n",
            "b is max\n"
          ]
        }
      ],
      "source": [
        "a=int(input(\"enter the numbers\"));b=int(input(\"enter the second number\"));c=int(input(\"enter the third number\"))\n",
        "if a>b and a>c:\n",
        "    print(\"a is max\")\n",
        "elif b>a and b>c:\n",
        "    print(\"b is max\")\n",
        "else:\n",
        "    print(\"c is max\")"
      ]
    },
    {
      "cell_type": "code",
      "execution_count": null,
      "id": "5e668345",
      "metadata": {
        "id": "5e668345",
        "outputId": "23a08ab9-50c0-4b29-b0c8-c041ade4c669"
      },
      "outputs": [
        {
          "name": "stdout",
          "output_type": "stream",
          "text": [
            "enter the numbers5\n",
            "enter the second number3\n",
            "enter the third number2\n",
            "enter fourth number8\n",
            "enter the fifith numer9\n",
            "e is max\n"
          ]
        }
      ],
      "source": [
        "a=int(input(\"enter the numbers\"));b=int(input(\"enter the second number\"));c=int(input(\"enter the third number\"))\n",
        "d=int(input(\"enter fourth number\"));e=int(input(\"enter the fifith numer\"))\n",
        "if a>b and a>c and a>d and a>e:\n",
        "      print(\"a is max\")\n",
        "elif b>a and b>c and b>d and b>e:\n",
        "            print(\"b is max\")\n",
        "elif c>a and c>b and c>d and c>e:\n",
        "    print(\"c is max\")\n",
        "elif d>a and d>b and d>c and d>e:\n",
        "    print(\"d is max\")\n",
        "else:\n",
        "    print(\"e is max\")\n"
      ]
    },
    {
      "cell_type": "code",
      "execution_count": null,
      "id": "8067aeb6",
      "metadata": {
        "id": "8067aeb6",
        "outputId": "59fa882b-9cbc-4087-9348-5cb3452d5c26"
      },
      "outputs": [
        {
          "name": "stdout",
          "output_type": "stream",
          "text": [
            "enter the subject marks of the students\n",
            "enter the marks of subjects 45\n",
            "enter the marks of  2 subject  43\n",
            "enter 3 sub marks23\n",
            "enter the marks of 4 sub76\n",
            "enter the marks of 5 subject45\n",
            "d is max\n"
          ]
        }
      ],
      "source": [
        "print(\"enter the subject marks of the students\")\n",
        "s1=int(input(\"enter the marks of subjects \"));s2=int(input(\"enter the marks of  2 subject  \"));s3=int(input(\"enter 3 sub marks\"))\n",
        "s4=int(input(\"enter the marks of 4 sub\"));s5=int(input(\"enter the marks of 5 subject\"))\n",
        "if s1>s2 and s1>s3 and s1>s4 and s1>s5:\n",
        "      print(\"a is max\")\n",
        "elif s2>s1 and s2>s3 and s2>s4 and s2>s5:\n",
        "            print(\"b is max\")\n",
        "elif s3>s1 and s3>s2 and s3>s4 and s3>s5:\n",
        "    print(\"c is max\")\n",
        "elif s4>s1 and s4>s2 and s4>s3 and s4>s5:\n",
        "    print(\"d is max\")\n",
        "else:\n",
        "    print(\"e is max\")\n",
        "\n"
      ]
    },
    {
      "cell_type": "markdown",
      "id": "fefb0ef8",
      "metadata": {
        "id": "fefb0ef8"
      },
      "source": [
        "## for loop\n"
      ]
    },
    {
      "cell_type": "code",
      "execution_count": null,
      "id": "3f98c501",
      "metadata": {
        "id": "3f98c501",
        "outputId": "d070447b-3013-42f2-e63a-a18197299556"
      },
      "outputs": [
        {
          "name": "stdout",
          "output_type": "stream",
          "text": [
            "enter the number0\n",
            "enter the max number100\n",
            "even number 0\n",
            "even number 2\n",
            "even number 4\n",
            "even number 6\n",
            "even number 8\n",
            "even number 10\n",
            "even number 12\n",
            "even number 14\n",
            "even number 16\n",
            "even number 18\n",
            "even number 20\n",
            "even number 22\n",
            "even number 24\n",
            "even number 26\n",
            "even number 28\n",
            "even number 30\n",
            "even number 32\n",
            "even number 34\n",
            "even number 36\n",
            "even number 38\n",
            "even number 40\n",
            "even number 42\n",
            "even number 44\n",
            "even number 46\n",
            "even number 48\n",
            "even number 50\n",
            "even number 52\n",
            "even number 54\n",
            "even number 56\n",
            "even number 58\n",
            "even number 60\n",
            "even number 62\n",
            "even number 64\n",
            "even number 66\n",
            "even number 68\n",
            "even number 70\n",
            "even number 72\n",
            "even number 74\n",
            "even number 76\n",
            "even number 78\n",
            "even number 80\n",
            "even number 82\n",
            "even number 84\n",
            "even number 86\n",
            "even number 88\n",
            "even number 90\n",
            "even number 92\n",
            "even number 94\n",
            "even number 96\n",
            "even number 98\n"
          ]
        }
      ],
      "source": [
        "a=int(input(\"enter the number\"));b=int(input(\"enter the max number\"))\n",
        "for i in range(a,b):\n",
        "    if i%2==0:\n",
        "        print(\"even number\",i)\n",
        "    else:\n",
        "        print(\"odd numbers\",i)"
      ]
    },
    {
      "cell_type": "markdown",
      "id": "138d576b",
      "metadata": {
        "id": "138d576b"
      },
      "source": [
        "## multiplication table"
      ]
    },
    {
      "cell_type": "code",
      "execution_count": null,
      "id": "e40ee4f5",
      "metadata": {
        "id": "e40ee4f5",
        "outputId": "d4db7c8a-c0e3-46b6-cdaa-b7deb35dd669"
      },
      "outputs": [
        {
          "ename": "SyntaxError",
          "evalue": "invalid syntax (Temp/ipykernel_8176/3622758617.py, line 2)",
          "output_type": "error",
          "traceback": [
            "\u001b[1;36m  File \u001b[1;32m\"C:\\Users\\CSE22004\\AppData\\Local\\Temp/ipykernel_8176/3622758617.py\"\u001b[1;36m, line \u001b[1;32m2\u001b[0m\n\u001b[1;33m    for i in range(a,b,=2):\u001b[0m\n\u001b[1;37m                       ^\u001b[0m\n\u001b[1;31mSyntaxError\u001b[0m\u001b[1;31m:\u001b[0m invalid syntax\n"
          ]
        }
      ],
      "source": [
        "a=int(input(\"enter the number\"));b=int(input(\"enter the max number\"))\n",
        "for i in range(a,b,2):\n",
        "        print(\"even number\",i)\n",
        "for j in range(a,b,3):\n",
        "    print(\"odd numbers\",j)"
      ]
    },
    {
      "cell_type": "code",
      "execution_count": null,
      "id": "992a9947",
      "metadata": {
        "id": "992a9947",
        "outputId": "d604df17-bfa6-4311-9cb5-8e7741423083"
      },
      "outputs": [
        {
          "name": "stdout",
          "output_type": "stream",
          "text": [
            "enter the number to begin with   1\n",
            "enter the max number5\n",
            "1\n",
            "2\n",
            "3\n",
            "4\n"
          ]
        }
      ],
      "source": [
        "a=int(input(\"enter the number to begin with   \"));b=int(input(\"enter the max number   \"))\n",
        "for i in range(a,b):\n",
        "    print(i)"
      ]
    },
    {
      "cell_type": "code",
      "execution_count": null,
      "id": "866ff4a9",
      "metadata": {
        "id": "866ff4a9",
        "outputId": "be68225a-a698-44ef-fcb5-308303bfb533"
      },
      "outputs": [
        {
          "name": "stdout",
          "output_type": "stream",
          "text": [
            "enter the max number you want to add 10\n",
            "enter the first number4\n",
            "49\n"
          ]
        }
      ],
      "source": [
        "a=int(input(\"enter the max number you want to add \"));b=int(input(\"enter the first number\"))\n",
        "sum=0\n",
        "while b<=a:\n",
        "    sum=sum+b\n",
        "    b=b+1\n",
        "print(sum)"
      ]
    },
    {
      "cell_type": "markdown",
      "id": "b1ac20f2",
      "metadata": {
        "id": "b1ac20f2"
      },
      "source": [
        "## module"
      ]
    },
    {
      "cell_type": "code",
      "execution_count": null,
      "id": "4a65e001",
      "metadata": {
        "id": "4a65e001",
        "outputId": "31f33870-9d5a-4b76-c525-7d009c0c8f1a"
      },
      "outputs": [
        {
          "name": "stdout",
          "output_type": "stream",
          "text": [
            "enter the first side2\n",
            "enter the second side2\n",
            "enter the third side2\n",
            "quilateral triangle\n"
          ]
        }
      ],
      "source": [
        "a=int(input(\"enter the first side\"));b=int(input(\"enter the second side\"));c=int(input(\"enter the third side\"))\n",
        "if a==b and b==c and a==c:\n",
        "    print(\"equilateral triangle\")\n",
        "elif a==b or b==c or c==a:\n",
        "    print(\"isoscles triangle\")\n",
        "else:\n",
        "    print(\"scalen triangle\")"
      ]
    },
    {
      "cell_type": "code",
      "execution_count": null,
      "id": "d3123264",
      "metadata": {
        "id": "d3123264",
        "outputId": "2e45be69-8d8c-4f3e-f166-42d92d26272f"
      },
      "outputs": [
        {
          "name": "stdout",
          "output_type": "stream",
          "text": [
            "enter the year2020\n",
            "it is a leap year\n"
          ]
        }
      ],
      "source": [
        "a=int(input(\"enter the year\"))\n",
        "if a%400==0:\n",
        "    print(\"it is a leap year\")\n",
        "elif a%100==0:\n",
        "    print(\"it is not a leap year\")\n",
        "elif a%4==0:\n",
        "    print(\"it is a leap year\")\n",
        "else:\n",
        "    print(\"not a leap year\")"
      ]
    },
    {
      "cell_type": "code",
      "execution_count": null,
      "id": "6dc0d19a",
      "metadata": {
        "id": "6dc0d19a",
        "outputId": "f4d1dc4b-9606-4a6e-b35f-a5d6aa37aa11"
      },
      "outputs": [
        {
          "name": "stdout",
          "output_type": "stream",
          "text": [
            "enter the first number2\n",
            "enter the second number3\n",
            "enter the third number5\n",
            "c is max\n"
          ]
        }
      ],
      "source": [
        "a=int(input(\"enter the first number\"));b=int(input(\"enter the second number\"));c=int(input(\"enter the third number\"))\n",
        "if a>b and a>c:\n",
        "    print(\"a is max\")\n",
        "elif b>a and b>c:\n",
        "    print(\"b is max\")\n",
        "else:\n",
        "    print(\"c is max\")"
      ]
    },
    {
      "cell_type": "code",
      "execution_count": null,
      "id": "6d5cb4a9",
      "metadata": {
        "id": "6d5cb4a9",
        "outputId": "6572d471-9ac1-4e5e-b0f1-1f95be49ddb2"
      },
      "outputs": [
        {
          "name": "stdout",
          "output_type": "stream",
          "text": [
            "enter the first number4\n",
            "enter the second number5\n",
            "enter the third number6\n",
            "a is max\n"
          ]
        }
      ],
      "source": [
        "a=int(input(\"enter the first number\"));b=int(input(\"enter the second number\"));c=int(input(\"enter the third number\"))\n",
        "if a<b and a<c:\n",
        "    print(\"a is max\")\n",
        "elif b<a and b<c:\n",
        "    print(\"b is max\")\n",
        "else:\n",
        "    print(\"c is max\")"
      ]
    },
    {
      "cell_type": "code",
      "execution_count": null,
      "id": "71ba9208",
      "metadata": {
        "id": "71ba9208",
        "outputId": "ab73c347-0f35-4f98-b4b2-4e15700abdc4"
      },
      "outputs": [
        {
          "name": "stdout",
          "output_type": "stream",
          "text": [
            "enter the numer22\n",
            "it is divisible by 11\n"
          ]
        }
      ],
      "source": [
        "a=int(input(\"enter the numer\"))\n",
        "if a%5==0:\n",
        "    print(\"it is divisible by 5\")\n",
        "elif a%11==0:\n",
        "    print(\"it is divisible by 11\")\n",
        "elif a%5==0 and a%11==0:\n",
        "    print(\"it is div by 5 and 11\")\n",
        "else:\n",
        "    print(\"not divisible by both\")"
      ]
    },
    {
      "cell_type": "code",
      "execution_count": null,
      "id": "470e5392",
      "metadata": {
        "id": "470e5392",
        "outputId": "b16e2f9f-1dba-4217-89f5-d065dc5d31a4"
      },
      "outputs": [
        {
          "name": "stdout",
          "output_type": "stream",
          "text": [
            "enter the number to find factorial for  5\n",
            "120\n"
          ]
        }
      ],
      "source": [
        "a=int(input(\"enter the number to find factorial for  \"))\n",
        "fact=1\n",
        "for i in range(1,a+1):\n",
        "    fact=fact*i\n",
        "print(fact)"
      ]
    },
    {
      "cell_type": "code",
      "execution_count": null,
      "id": "49ab9b13",
      "metadata": {
        "id": "49ab9b13",
        "outputId": "4701c32d-0d7b-4702-e8ba-9eb6912f13e6"
      },
      "outputs": [
        {
          "name": "stdout",
          "output_type": "stream",
          "text": [
            "enter the number you want121\n",
            "not a palindrome\n"
          ]
        }
      ],
      "source": [
        "original=int(input(\"enter the number you want\"))\n",
        "reverse=0\n",
        "temp=original\n",
        "while temp>0:\n",
        "    remainder=temp%10\n",
        "    reverse=(reverse*10)+remainder\n",
        "    temp=temp/10\n",
        "if reverse==original:\n",
        "    print(\"palindrome\")\n",
        "else:\n",
        "    print(\"not a palindrome\")"
      ]
    },
    {
      "cell_type": "code",
      "execution_count": null,
      "id": "a05d66ff",
      "metadata": {
        "id": "a05d66ff",
        "outputId": "af604388-8b95-4bbe-adb5-b807a5b0f964"
      },
      "outputs": [
        {
          "name": "stdout",
          "output_type": "stream",
          "text": [
            "enter the numer of terms10\n",
            "0 1\n",
            "1\n",
            "2\n",
            "3\n",
            "5\n",
            "8\n",
            "13\n",
            "21\n",
            "34\n",
            "55\n",
            "completion of fibnoccii\n"
          ]
        }
      ],
      "source": [
        "t=int(input(\"enter the numer of terms\"));a=0;b=1\n",
        "print(a,b)\n",
        "for i in range(1,t):\n",
        "    nextnum=a+b\n",
        "    print(nextnum)\n",
        "    a=b\n",
        "    b=nextnum\n",
        "print(\"completion of fibnoccii\")\n",
        "    "
      ]
    },
    {
      "cell_type": "markdown",
      "id": "e9c93f11",
      "metadata": {
        "id": "e9c93f11"
      },
      "source": [
        "## LIST"
      ]
    },
    {
      "cell_type": "code",
      "execution_count": null,
      "id": "4aa1b387",
      "metadata": {
        "id": "4aa1b387",
        "outputId": "d74f9405-bb6f-446e-c732-f1b1ec3eac94"
      },
      "outputs": [
        {
          "name": "stdout",
          "output_type": "stream",
          "text": [
            "['apple', 'peach', 'melon', 'orange', 'banana']\n",
            "apple\n",
            "['apple', 'peach', 'melon']\n",
            "['apple', 'peach']\n",
            "['peach', 'melon']\n",
            "['peach', 'melon', 'orange', 'banana']\n"
          ]
        }
      ],
      "source": [
        "fruits=[\"apple\",\"peach\",\"melon\",\"orange\",\"banana\"]\n",
        "print(fruits)\n",
        "print(fruits[0])#it is used for printing index\n",
        "print(fruits[0:3])# intial index and range is a given number\n",
        "print(fruits[:2])\n",
        "print(fruits[1:3])#if the inex is not given it acts as zero\n",
        "print(fruits[1:])"
      ]
    },
    {
      "cell_type": "code",
      "execution_count": null,
      "id": "64f4e56c",
      "metadata": {
        "id": "64f4e56c",
        "outputId": "9b82aaef-39cf-44c6-b9c9-76399e19ef09"
      },
      "outputs": [
        {
          "name": "stdout",
          "output_type": "stream",
          "text": [
            "['apple', 'peach', 'melon', 'orange', 'banana']\n",
            "5\n",
            "['apple', 'peach', 'melon', 'orange', 'banana', 'grapes']\n",
            "['apple', 'fruits', 'peach', 'melon', 'orange', 'banana', 'grapes']\n"
          ]
        }
      ],
      "source": [
        "fruits=[\"apple\",\"peach\",\"melon\",\"orange\",\"banana\"]\n",
        "print(fruits)\n",
        "print(len(fruits))\n",
        "fruits.append(\"grapes\")# to add elemts into list\n",
        "print(fruits)\n",
        "fruits.insert(1,\"fruits\")# to add elements with respective to index\n",
        "print(fruits)"
      ]
    },
    {
      "cell_type": "code",
      "execution_count": null,
      "id": "44c09f42",
      "metadata": {
        "id": "44c09f42",
        "outputId": "2f4592e5-e9b8-4626-c335-5b99faccdeae"
      },
      "outputs": [
        {
          "name": "stdout",
          "output_type": "stream",
          "text": [
            "['apple', 'peach', 'melon', 'orange', 'banana', 'brinjal', 'potato', 'onion']\n",
            "onion\n",
            "['apple', 'peach', 'melon', 'banana', 'brinjal', 'potato', 'onion']\n"
          ]
        }
      ],
      "source": [
        "fruits=[\"apple\",\"peach\",\"melon\",\"orange\",\"banana\"]\n",
        "vegetables=[\"brinjal\",\"potato\",\"onion\"]\n",
        "fruits.extend(vegetables)# to add elements of another list\n",
        "print(fruits)\n",
        "print(fruits[7])\n",
        "fruits.remove(\"orange\")# to remove elements from the list\n",
        "print(fruits)"
      ]
    },
    {
      "cell_type": "code",
      "execution_count": null,
      "id": "9ca1ad1c",
      "metadata": {
        "id": "9ca1ad1c",
        "outputId": "b9985cd8-7178-4019-9eb5-4103d978857e"
      },
      "outputs": [
        {
          "name": "stdout",
          "output_type": "stream",
          "text": [
            "['ac', 'tv', 'w machine', 'heater']\n",
            "enter the fruit nametest\n",
            "enter the fruit namecase\n",
            "['ac', 'test', 'tv', 'w machine', 'heater']\n",
            "['ac', 'test', 'tv', 'w machine', 'heater', 'test']\n"
          ]
        }
      ],
      "source": [
        "fruits=[\"ac\",\"tv\",\"w machine\",\"heater\"]\n",
        "print(fruits)\n",
        "a=input(\"enter the fruit name\")\n",
        "b=input(\"enter the fruit name\")\n",
        "fruits.insert(1,a)\n",
        "print(fruits)\n",
        "fruits.append(a)\n",
        "print(fruits)"
      ]
    },
    {
      "cell_type": "code",
      "execution_count": null,
      "id": "5f867cda",
      "metadata": {
        "id": "5f867cda",
        "outputId": "b49a4e6d-3a18-41a3-9a6e-3e58c8a34207"
      },
      "outputs": [
        {
          "name": "stdout",
          "output_type": "stream",
          "text": [
            "[2, 3, 4, 5, 6]\n",
            "[1, 'koushik', True, 5j]\n",
            "['koushik', True]\n",
            "['koushik', True]\n",
            "[]\n"
          ]
        }
      ],
      "source": [
        "mix=[1,\"koushik\",bool(1),0+5j]\n",
        "g=[2,3,4,5,6]\n",
        "print(g)\n",
        "print(mix)\n",
        "mix.pop(0)# pop is used to remove the elements by the list \n",
        "mix.remove(5j)\n",
        "print(mix)\n",
        "del g[0] #del is used to delete elements if the index is mentioned it deltes the index value in list\n",
        "del g #del is used here without index to delete whole list\n",
        "print(mix)\n",
        "mix.clear()# to clear the list\n",
        "print(mix)"
      ]
    },
    {
      "cell_type": "code",
      "execution_count": null,
      "id": "a04f09c6",
      "metadata": {
        "id": "a04f09c6",
        "outputId": "a5d772e2-91c1-40c3-c92f-685d2dcf6af8"
      },
      "outputs": [
        {
          "name": "stdout",
          "output_type": "stream",
          "text": [
            "[1, 2, 3, 4, 5, 6]\n",
            "[6, 5, 4, 3, 2, 1]\n",
            "['A', 'b', 'c', 'd']\n",
            "['d', 'c', 'b', 'A']\n"
          ]
        }
      ],
      "source": [
        "num=[1,5,3,6,2,4]\n",
        "num.sort()#sort is used to sort out the list in our wish\n",
        "print(num)\n",
        "num.sort(reverse=True)#reverse=true statement used to reverse the list ie: descending order\n",
        "print(num)\n",
        "alph=[\"A\",\"b\",\"c\",\"d\"]\n",
        "print(alph)\n",
        "alph.sort(reverse=True)# it also sorts the alphabets in dictionary wise\n",
        "print(alph)"
      ]
    },
    {
      "cell_type": "code",
      "execution_count": null,
      "id": "ce12bf6b",
      "metadata": {
        "id": "ce12bf6b",
        "outputId": "1b418bdf-446b-4a09-a462-f8136ff01124"
      },
      "outputs": [
        {
          "name": "stdout",
          "output_type": "stream",
          "text": [
            "('a', 'c', 'd')\n"
          ]
        }
      ],
      "source": [
        "t=(\"a\",\"c\",\"d\")#TUPLE DOES NOT ALLOW ADDITION OF ELEMENTS\n",
        "print(t)"
      ]
    },
    {
      "cell_type": "code",
      "execution_count": null,
      "id": "c5f92c0f",
      "metadata": {
        "id": "c5f92c0f",
        "outputId": "eb08c68f-2bf6-417b-a99a-9d11bcd57693"
      },
      "outputs": [
        {
          "name": "stdout",
          "output_type": "stream",
          "text": [
            "2\n",
            "6\n"
          ]
        }
      ],
      "source": [
        "a=[1,2,3,6,5,7]\n",
        "for i in range(len(a)):\n",
        "    if a[i]%2==0:\n",
        "        print(a[i])\n",
        "    \n"
      ]
    },
    {
      "cell_type": "code",
      "execution_count": null,
      "id": "e706d91a",
      "metadata": {
        "id": "e706d91a"
      },
      "outputs": [],
      "source": [
        ""
      ]
    }
  ],
  "metadata": {
    "kernelspec": {
      "display_name": "Python 3 (ipykernel)",
      "language": "python",
      "name": "python3"
    },
    "language_info": {
      "codemirror_mode": {
        "name": "ipython",
        "version": 3
      },
      "file_extension": ".py",
      "mimetype": "text/x-python",
      "name": "python",
      "nbconvert_exporter": "python",
      "pygments_lexer": "ipython3",
      "version": "3.9.7"
    },
    "colab": {
      "name": "KOUSHIK VU21CSEN0101199.ipynb",
      "provenance": [],
      "include_colab_link": true
    }
  },
  "nbformat": 4,
  "nbformat_minor": 5
}