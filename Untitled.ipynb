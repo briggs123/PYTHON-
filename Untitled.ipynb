{
  "cells": [
    {
      "cell_type": "markdown",
      "metadata": {
        "id": "view-in-github",
        "colab_type": "text"
      },
      "source": [
        "<a href=\"https://colab.research.google.com/github/briggs123/PYTHON-/blob/main/Untitled.ipynb\" target=\"_parent\"><img src=\"https://colab.research.google.com/assets/colab-badge.svg\" alt=\"Open In Colab\"/></a>"
      ]
    },
    {
      "cell_type": "markdown",
      "id": "d0dd3617",
      "metadata": {
        "id": "d0dd3617"
      },
      "source": [
        "### MODULE-1"
      ]
    },
    {
      "cell_type": "code",
      "execution_count": null,
      "id": "086b91b6",
      "metadata": {
        "id": "086b91b6",
        "outputId": "657f8ee3-0ce3-4582-df98-58ddc6eab422"
      },
      "outputs": [
        {
          "name": "stdout",
          "output_type": "stream",
          "text": [
            "enter the number6\n",
            "it is a palindrome\n"
          ]
        }
      ],
      "source": [
        "a=int(input(\"enter the number\"))\n",
        "rev=0\n",
        "temp=a\n",
        "while temp>0:\n",
        "  rem=temp%10\n",
        "  rev=(rev*10)+rem\n",
        "  temp=temp//10\n",
        "if a==rev:\n",
        "  print(\"it is a palindrome\")\n",
        "else:\n",
        "  print(\"not a palindrome\")"
      ]
    },
    {
      "cell_type": "code",
      "execution_count": null,
      "id": "f175e59a",
      "metadata": {
        "id": "f175e59a",
        "outputId": "0378d20a-be54-4ce4-bd94-0bd9229a26a6"
      },
      "outputs": [
        {
          "name": "stdout",
          "output_type": "stream",
          "text": [
            "enter the number6\n",
            "perfect number\n"
          ]
        }
      ],
      "source": [
        "a=int(input(\"enter the number\"))\n",
        "sum=0\n",
        "for i in range(1,a):\n",
        "  if a%i==0:\n",
        "     sum=sum+i\n",
        "if sum==a:\n",
        "  print(\"perfect number\")\n",
        "else:\n",
        "  print(\"not a perfect number\")"
      ]
    },
    {
      "cell_type": "code",
      "execution_count": null,
      "id": "4dcef258",
      "metadata": {
        "id": "4dcef258",
        "outputId": "f6c32c52-7875-4e42-a72f-761042ee9e08"
      },
      "outputs": [
        {
          "name": "stdout",
          "output_type": "stream",
          "text": [
            "-5\n",
            "-4\n",
            "16.0\n",
            "3.0\n",
            "1.0\n",
            "5.66\n",
            "-4\n"
          ]
        }
      ],
      "source": [
        "import math\n",
        "a=-4.56\n",
        "print(math.floor(a))\n",
        "print(math.ceil(a))\n",
        "print(math.pow(4,2))\n",
        "print(math.sqrt(9))\n",
        "print(math.fmod(10,3))\n",
        "print(math.fabs(-5.66))\n",
        "print(math.trunc(a))\n"
      ]
    },
    {
      "cell_type": "code",
      "execution_count": null,
      "id": "aa81b44d",
      "metadata": {
        "id": "aa81b44d",
        "outputId": "e8f55249-f321-4ee9-952e-b8ffa2598079"
      },
      "outputs": [
        {
          "name": "stdout",
          "output_type": "stream",
          "text": [
            "enter principal amount5000\n",
            "enter rate of intrest18\n",
            "amount of years5\n",
            "1 year intrest si is 900.0\n",
            "1 year intrest ci is 5900.0\n",
            "2 year intrest si is 1800.0\n",
            "2 year intrest ci is 6961.999999999999\n",
            "3 year intrest si is 2700.0\n",
            "3 year intrest ci is 8215.16\n",
            "4 year intrest si is 3600.0\n",
            "4 year intrest ci is 9693.888799999997\n",
            "5 year intrest si is 4500.0\n",
            "5 year intrest ci is 11438.788783999998\n"
          ]
        }
      ],
      "source": [
        "import math\n",
        "p=int(input(\"enter principal amount\"))\n",
        "r=int(input(\"enter rate of intrest\"))\n",
        "t=int(input(\"amount of years\"))\n",
        "for i in range(1,t+1):\n",
        "    si=(p*i*r)/100\n",
        "    print(i,\"year intrest si is\",si)\n",
        "    ci=p*(math.pow(1+r/100,i))\n",
        "    print(i,\"year intrest ci is\",ci)"
      ]
    },
    {
      "cell_type": "markdown",
      "id": "34c059f3",
      "metadata": {
        "id": "34c059f3"
      },
      "source": [
        "# TUPLE"
      ]
    },
    {
      "cell_type": "code",
      "execution_count": null,
      "id": "7cc46092",
      "metadata": {
        "id": "7cc46092",
        "outputId": "08daec39-86fb-475f-b3a8-9855d7afb478"
      },
      "outputs": [
        {
          "name": "stdout",
          "output_type": "stream",
          "text": [
            "['test', 'kiran', 'hello', 'code']\n"
          ]
        }
      ],
      "source": [
        "a=(\"koushik\",\"hello\",\"kiran\")\n",
        "b=list(a)\n",
        "b.append(\"test\")\n",
        "b.insert(2,\"code\")\n",
        "b.remove(\"koushik\")\n",
        "b.sort(reverse=True)\n",
        "print(b)"
      ]
    },
    {
      "cell_type": "code",
      "execution_count": null,
      "id": "b9e8c0b2",
      "metadata": {
        "id": "b9e8c0b2",
        "outputId": "c5845369-339f-4cac-ac0e-58da891d4c77"
      },
      "outputs": [
        {
          "name": "stdout",
          "output_type": "stream",
          "text": [
            "('apple',)\n",
            "('apple', 'green')\n"
          ]
        }
      ],
      "source": [
        "a=(\"apple\",)### , is used to create a single tuple\n",
        "print(a)\n",
        "b=(\"green\",)\n",
        "c=a+b\n",
        "print(c)"
      ]
    },
    {
      "cell_type": "code",
      "execution_count": null,
      "id": "5b88c9c5",
      "metadata": {
        "id": "5b88c9c5",
        "outputId": "afbec757-360d-46a3-d2a5-0a4065328e35"
      },
      "outputs": [
        {
          "name": "stdout",
          "output_type": "stream",
          "text": [
            "apple mango papaya\n"
          ]
        }
      ],
      "source": [
        "a=(\"apple\",\"mango\",\"papaya\")\n",
        "(red,yellow,orange)=a\n",
        "print(red,yellow,orange)"
      ]
    },
    {
      "cell_type": "code",
      "execution_count": null,
      "id": "b21871c1",
      "metadata": {
        "id": "b21871c1",
        "outputId": "0c93fa66-0ec8-490f-ae5a-d523d3dcfb76"
      },
      "outputs": [
        {
          "name": "stdout",
          "output_type": "stream",
          "text": [
            "apple ['mango', 'papaya', 'hello', 'hi'] he\n"
          ]
        }
      ],
      "source": [
        "a=(\"apple\",\"mango\",\"papaya\",\"hello\",\"hi\",\"he\")\n",
        "(red,*yellow,b)=a\n",
        "print(red,yellow,b)"
      ]
    },
    {
      "cell_type": "code",
      "execution_count": null,
      "id": "5988b3e6",
      "metadata": {
        "id": "5988b3e6",
        "outputId": "d80f0d5d-fb60-4949-c4fa-1a3af6ff6aec"
      },
      "outputs": [
        {
          "name": "stdout",
          "output_type": "stream",
          "text": [
            "apple\n",
            "mango\n",
            "papaya\n",
            "hello\n",
            "hi\n",
            "he\n"
          ]
        }
      ],
      "source": [
        "a=(\"apple\",\"mango\",\"papaya\",\"hello\",\"hi\",\"he\")\n",
        "for i in a:\n",
        "    print(i)"
      ]
    },
    {
      "cell_type": "code",
      "execution_count": null,
      "id": "1863c65f",
      "metadata": {
        "id": "1863c65f",
        "outputId": "8bedf74e-5e2f-4a6d-cf05-cf1790eefb84"
      },
      "outputs": [
        {
          "name": "stdout",
          "output_type": "stream",
          "text": [
            "apple\n",
            "mango\n",
            "papaya\n",
            "hello\n",
            "hi\n",
            "he\n"
          ]
        }
      ],
      "source": [
        "a=(\"apple\",\"mango\",\"papaya\",\"hello\",\"hi\",\"he\")\n",
        "for x in range(len(a)):\n",
        "    print(a[x])"
      ]
    },
    {
      "cell_type": "code",
      "execution_count": null,
      "id": "778d3123",
      "metadata": {
        "id": "778d3123",
        "outputId": "78afde06-1832-4801-b03d-d2d79e5e930a"
      },
      "outputs": [
        {
          "name": "stdout",
          "output_type": "stream",
          "text": [
            "yes\n"
          ]
        }
      ],
      "source": [
        "a=(\"apple\",\"mango\",\"papaya\",\"hello\",\"hi\",\"he\")\n",
        "if \"apple\" in a:\n",
        "    print(\"yes\")"
      ]
    },
    {
      "cell_type": "code",
      "execution_count": null,
      "id": "4108c77b",
      "metadata": {
        "id": "4108c77b",
        "outputId": "1cb43e62-6665-412e-c462-323b7a1c8e0a"
      },
      "outputs": [
        {
          "name": "stdout",
          "output_type": "stream",
          "text": [
            "('apple', 'mango', 'papaya', 'hello', 'hi', 'he', 'koushik', 'kiran')\n",
            "('koushik', 'kiran', 'koushik', 'kiran', 'koushik', 'kiran')\n"
          ]
        }
      ],
      "source": [
        "a=(\"apple\",\"mango\",\"papaya\",\"hello\",\"hi\",\"he\")\n",
        "b=(\"koushik\",\"kiran\")\n",
        "print(a+b)\n",
        "print(b*3)"
      ]
    },
    {
      "cell_type": "code",
      "execution_count": null,
      "id": "44bfc3d4",
      "metadata": {
        "id": "44bfc3d4",
        "outputId": "ca691701-59ec-4d3a-96ec-9f8f7054e885"
      },
      "outputs": [
        {
          "name": "stdout",
          "output_type": "stream",
          "text": [
            "enter the number145\n",
            "145\n",
            "yes it is strong number\n"
          ]
        }
      ],
      "source": [
        "a=int(input(\"enter the number\"))\n",
        "sum=0\n",
        "temp=a\n",
        "while (temp>0):\n",
        "    fact=1\n",
        "    i=1\n",
        "    rem=temp%10\n",
        "    while i<=rem:\n",
        "        fact=fact*i\n",
        "        i=i+1\n",
        "    sum=sum+fact\n",
        "    temp=temp//10\n",
        "print(sum)\n",
        "if a==sum:\n",
        "    print(\"yes it is strong number\")\n",
        "else:\n",
        "    print(\"no\")"
      ]
    },
    {
      "cell_type": "code",
      "execution_count": null,
      "id": "d8d5b74a",
      "metadata": {
        "id": "d8d5b74a",
        "outputId": "8d0364b2-1485-474e-ae74-e97c0f6363a9"
      },
      "outputs": [
        {
          "name": "stdout",
          "output_type": "stream",
          "text": [
            "enter the number5\n",
            "120\n"
          ]
        }
      ],
      "source": [
        "a=int(input(\"enter the number\"))\n",
        "fact=1\n",
        "for i in range(1,a+1):\n",
        "    fact=fact*i\n",
        "print(fact)\n",
        "    "
      ]
    },
    {
      "cell_type": "code",
      "execution_count": null,
      "id": "45436c9a",
      "metadata": {
        "id": "45436c9a",
        "outputId": "044fbb2c-7e35-476f-ffb3-a94a8b43fb9c"
      },
      "outputs": [
        {
          "name": "stdout",
          "output_type": "stream",
          "text": [
            " Please Enter any Number: 145\n",
            "\n",
            " Factorial of 5 = 120\n",
            "\n",
            " Factorial of 4 = 120\n",
            "\n",
            " Factorial of 1 = 120\n",
            " 145 is not\n"
          ]
        }
      ],
      "source": [
        "Number = int(input(\" Please Enter any Number: \"))\n",
        "Sum = 0\n",
        "Temp = Number\n",
        "Factorial = 1\n",
        "i = 1\n",
        "while(Temp > 0):\n",
        "    Reminder = Temp % 10\n",
        "    while(i <= Reminder):\n",
        "        Factorial = Factorial * i\n",
        "        i = i + 1\n",
        "\n",
        "    print(\"\\n Factorial of %d = %d\" %(Reminder, Factorial))\n",
        "    Sum = Sum + Factorial\n",
        "    Temp = Temp // 10\n",
        "if (Sum == Number):\n",
        "    print(\" %d is a Strong Number\" %Number)\n",
        "else:\n",
        "    print(\" %d is not\" %Number)\n"
      ]
    },
    {
      "cell_type": "markdown",
      "id": "ced9637e",
      "metadata": {
        "id": "ced9637e"
      },
      "source": [
        "# sets"
      ]
    },
    {
      "cell_type": "code",
      "execution_count": null,
      "id": "1962c438",
      "metadata": {
        "id": "1962c438",
        "outputId": "f3fd3ace-a24b-4d4f-8ae7-8bea9a5cd82b"
      },
      "outputs": [
        {
          "name": "stdout",
          "output_type": "stream",
          "text": [
            "{1, 2, 3, 4, 5}\n"
          ]
        }
      ],
      "source": [
        "a={1,2,3,4,5,5,5,5,5}## duplicates are not allowed in sets\n",
        "print(a)"
      ]
    },
    {
      "cell_type": "code",
      "execution_count": null,
      "id": "7a5a5098",
      "metadata": {
        "id": "7a5a5098",
        "outputId": "e597d49c-9822-4845-8a94-061c9a03acd5"
      },
      "outputs": [
        {
          "name": "stdout",
          "output_type": "stream",
          "text": [
            "<class 'set'> 5\n"
          ]
        }
      ],
      "source": [
        "a={1,2,3,4,5,5,5,5,5}\n",
        "print(type(a),len(a))"
      ]
    },
    {
      "cell_type": "code",
      "execution_count": null,
      "id": "bd03ee27",
      "metadata": {
        "id": "bd03ee27",
        "outputId": "78124f90-9dcf-420e-d031-713cda73f067"
      },
      "outputs": [
        {
          "name": "stdout",
          "output_type": "stream",
          "text": [
            "1\n",
            "2\n",
            "3\n",
            "4\n",
            "5\n"
          ]
        }
      ],
      "source": [
        "a={1,2,3,4,5,5,5,5,5}\n",
        "for x in a:\n",
        "    print(x)"
      ]
    },
    {
      "cell_type": "code",
      "execution_count": null,
      "id": "9fe29b71",
      "metadata": {
        "id": "9fe29b71",
        "outputId": "a99db5a5-c64f-4ddc-cd0c-42b8e785a2ef"
      },
      "outputs": [
        {
          "name": "stdout",
          "output_type": "stream",
          "text": [
            "{1, 2, 3, 4, 5, 99}\n"
          ]
        }
      ],
      "source": [
        "a={1,2,3,4,5,5,5,5,5}\n",
        "a.add(99) ### used for addition of elements\n",
        "print(a)"
      ]
    },
    {
      "cell_type": "code",
      "execution_count": null,
      "id": "94640042",
      "metadata": {
        "id": "94640042",
        "outputId": "cf471ba4-948e-4c5d-b99a-3df4c52b1ef1"
      },
      "outputs": [
        {
          "name": "stdout",
          "output_type": "stream",
          "text": [
            "{1, 2, 3, 4, 5, 'c', 'b', 'a', 'd', 'koushik'}\n"
          ]
        }
      ],
      "source": [
        "a={1,2,3,4,5,5,5,5,5}\n",
        "b={\"a\",\"b\",\"c\",\"d\"}\n",
        "c=[\"koushik\"]\n",
        "a.update(b)### update is used to join the lists\n",
        "a.update(c)\n",
        "print(a)"
      ]
    },
    {
      "cell_type": "code",
      "execution_count": null,
      "id": "e1a79445",
      "metadata": {
        "id": "e1a79445",
        "outputId": "29e818da-d639-4679-b0d2-4fd4010f66d8"
      },
      "outputs": [
        {
          "name": "stdout",
          "output_type": "stream",
          "text": [
            "1\n",
            "{2, 3, 4}\n",
            "set()\n"
          ]
        }
      ],
      "source": [
        "a={1,2,3,4,5,5,5,5,5}\n",
        "a.remove(5)### remove will raise error if its not present\n",
        "a.discard(8)### discard will not raise a error if its not present\n",
        "b=a.pop() ### this removes the element and that is stored in the b\n",
        "print(b)\n",
        "print(a)\n",
        "a.clear()### this clears the set\n",
        "print(a)\n",
        "del a### this deleted the set"
      ]
    },
    {
      "cell_type": "code",
      "execution_count": null,
      "id": "0576f51f",
      "metadata": {
        "id": "0576f51f",
        "outputId": "8fed5615-3de8-46d1-a81d-a8a7460cf38f"
      },
      "outputs": [
        {
          "name": "stdout",
          "output_type": "stream",
          "text": [
            "{1, 2, 3, 4, 5}\n",
            "{1, 2, 3, 4, 5}\n"
          ]
        }
      ],
      "source": [
        "a={1,2,3,4,5,5,5,5,5}\n",
        "b={\"a\",\"b\",\"c\",\"d\",1}\n",
        "a.union(b)### combines all the elements\n",
        "print(a)\n",
        "a.intersection(b) ### only shows the common element\n",
        "print(a)"
      ]
    },
    {
      "cell_type": "code",
      "execution_count": null,
      "id": "bed8dd58",
      "metadata": {
        "id": "bed8dd58",
        "outputId": "e478bd16-d3ec-4fde-cfda-7d03bd0f6055"
      },
      "outputs": [
        {
          "name": "stdout",
          "output_type": "stream",
          "text": [
            "{1, 2, 3, 4, 5}\n"
          ]
        }
      ],
      "source": [
        "a={1,2,3,4,5,5,5,5,5}\n",
        "b=a.copy()### this copys the elments of the set\n",
        "print(b)"
      ]
    },
    {
      "cell_type": "code",
      "execution_count": null,
      "id": "ac77f61d",
      "metadata": {
        "id": "ac77f61d",
        "outputId": "883ffdf4-7638-44dc-a6d5-c11085f114bb"
      },
      "outputs": [
        {
          "name": "stdout",
          "output_type": "stream",
          "text": [
            "False\n",
            "False\n",
            "False\n"
          ]
        }
      ],
      "source": [
        "a={1,2,3,4,5,5,5,5,5}\n",
        "b={1,3,6,8}\n",
        "print(a.isdisjoint(b))\n",
        "print(b.issubset(a))\n",
        "print(a.issuperset(b))"
      ]
    },
    {
      "cell_type": "code",
      "execution_count": null,
      "id": "b0e3a8b0",
      "metadata": {
        "id": "b0e3a8b0",
        "outputId": "9291ee9c-753c-4c0e-e3c9-5d26e09d77f3"
      },
      "outputs": [
        {
          "name": "stdout",
          "output_type": "stream",
          "text": [
            "{33, 2, 3, 4, 5, 7, 9}\n"
          ]
        }
      ],
      "source": [
        "a={1,2,3,4,5,5,5,5,5}\n",
        "b={1,7,9,33}\n",
        "print(a.symmetric_difference(b))\n"
      ]
    },
    {
      "cell_type": "markdown",
      "id": "1ff668aa",
      "metadata": {
        "id": "1ff668aa"
      },
      "source": [
        "# DICTONARY"
      ]
    },
    {
      "cell_type": "code",
      "execution_count": null,
      "id": "30354af1",
      "metadata": {
        "id": "30354af1",
        "outputId": "7899c366-d80b-451d-b0fe-56e4dccd6e5a"
      },
      "outputs": [
        {
          "name": "stdout",
          "output_type": "stream",
          "text": [
            "{'name': 'koushik', 'age': 18, 'college': 'gitam'}\n"
          ]
        }
      ],
      "source": [
        "a={\n",
        "    \"name\":\"koushik\",  ### format for building the sets\n",
        "    \"age\":18,\n",
        "    \"college\":\"gitam\"\n",
        "}\n",
        "print(a)"
      ]
    },
    {
      "cell_type": "code",
      "execution_count": null,
      "id": "27b2ff7e",
      "metadata": {
        "id": "27b2ff7e",
        "outputId": "a55745ce-ae0b-4e98-8dcf-80cf2451e58b"
      },
      "outputs": [
        {
          "name": "stdout",
          "output_type": "stream",
          "text": [
            "koushik\n",
            "18\n",
            "3\n"
          ]
        }
      ],
      "source": [
        "a={\n",
        "    \"name\":\"koushik\",  ### format for building the dicitonary\n",
        "    \"age\":18,\n",
        "    \"college\":\"gitam\"\n",
        "}\n",
        "print(a[\"name\"])\n",
        "print(a[\"age\"])\n",
        "print(len(a))### shows the len of the dict\n",
        "print(type(a))"
      ]
    },
    {
      "cell_type": "code",
      "execution_count": null,
      "id": "0ce35042",
      "metadata": {
        "id": "0ce35042",
        "outputId": "bd4b3f93-620c-490d-9e37-521de576fadb"
      },
      "outputs": [
        {
          "name": "stdout",
          "output_type": "stream",
          "text": [
            "koushik 18\n"
          ]
        }
      ],
      "source": [
        "a={\n",
        "    \"name\":\"koushik\", \n",
        "    \"age\":18,\n",
        "    \"college\":\"gitam\"\n",
        "}\n",
        "b=a[\"name\"]\n",
        "c=a.get(\"age\")\n",
        "print(b,c)"
      ]
    },
    {
      "cell_type": "code",
      "execution_count": null,
      "id": "0c5722e8",
      "metadata": {
        "id": "0c5722e8",
        "outputId": "458381b6-59f0-4b5a-8a79-f977afa7442c"
      },
      "outputs": [
        {
          "name": "stdout",
          "output_type": "stream",
          "text": [
            "dict_keys(['name', 'age', 'college'])\n"
          ]
        }
      ],
      "source": [
        "a={\n",
        "    \"name\":\"koushik\", \n",
        "    \"age\":18,\n",
        "    \"college\":\"gitam\"\n",
        "}\n",
        "print(a.keys())### this is the keys function used to displa all thge key words\n",
        "a[\"friend\"]=\" sike kiran\" ### this is a way of addition kes in dict\n",
        "print(a.)"
      ]
    },
    {
      "cell_type": "code",
      "execution_count": null,
      "id": "9a29f838",
      "metadata": {
        "id": "9a29f838",
        "outputId": "f8402bdb-ace0-40f8-b32e-f59351acc7d2"
      },
      "outputs": [
        {
          "name": "stdout",
          "output_type": "stream",
          "text": [
            "dict_values(['koushik', 18, 'gitam'])\n",
            "dict_values(['koushik', 18, 'gitam', 'vskp']) dict_keys(['name', 'age', 'college', 'place'])\n"
          ]
        }
      ],
      "source": [
        "a={\n",
        "    \"name\":\"koushik\", \n",
        "    \"age\":18,\n",
        "    \"college\":\"gitam\"\n",
        "}\n",
        "print(a.values())\n",
        "a[\"place\"]=\"vskp\"\n",
        "print(a.values(),a.keys())"
      ]
    },
    {
      "cell_type": "code",
      "execution_count": null,
      "id": "ea9c164a",
      "metadata": {
        "id": "ea9c164a",
        "outputId": "8c651064-343c-498f-bd7a-009ea1c281cb"
      },
      "outputs": [
        {
          "name": "stdout",
          "output_type": "stream",
          "text": [
            "dict_items([('name', 'koushik'), ('age', 18), ('college', 'gitam')])\n"
          ]
        }
      ],
      "source": [
        "a={\n",
        "    \"name\":\"koushik\", \n",
        "    \"age\":18,\n",
        "    \"college\":\"gitam\"\n",
        "}\n",
        "print(a.items())"
      ]
    },
    {
      "cell_type": "code",
      "execution_count": null,
      "id": "4004518f",
      "metadata": {
        "id": "4004518f",
        "outputId": "6b7549ab-2ea7-45c7-af98-27497383dd28"
      },
      "outputs": [
        {
          "name": "stdout",
          "output_type": "stream",
          "text": [
            "yes\n"
          ]
        }
      ],
      "source": [
        "a={\n",
        "    \"name\":\"koushik\", \n",
        "    \"age\":18,\n",
        "    \"college\":\"gitam\"\n",
        "}\n",
        "if \"age\" in a:\n",
        "    print(\"yes\")"
      ]
    },
    {
      "cell_type": "code",
      "execution_count": null,
      "id": "6eec6314",
      "metadata": {
        "id": "6eec6314",
        "outputId": "58fadc1e-127f-46af-c793-b06c74619cfc"
      },
      "outputs": [
        {
          "name": "stdout",
          "output_type": "stream",
          "text": [
            "{'name': 'koushik', 'age': 18, 'college': 'gitam', 'place': 'vskp'}\n",
            "{'name': 'koushik', 'age': 19, 'college': 'gitam', 'place': 'vskp'}\n"
          ]
        }
      ],
      "source": [
        "a={\n",
        "    \"name\":\"koushik\", \n",
        "    \"age\":18,\n",
        "    \"college\":\"gitam\"\n",
        "}\n",
        "a.update({\"place\":\"vskp\"}) ### it is used to update the list\n",
        "print(a)\n",
        "a.update({\"age\":19}) ### it is also used to update the list\n",
        "print(a)"
      ]
    },
    {
      "cell_type": "code",
      "execution_count": null,
      "id": "a9ae629b",
      "metadata": {
        "id": "a9ae629b",
        "outputId": "71efdfc5-a8dc-4897-c9d5-807be7b6aee8"
      },
      "outputs": [
        {
          "name": "stdout",
          "output_type": "stream",
          "text": [
            "{'name': 'koushik', 'college': 'gitam'}\n"
          ]
        }
      ],
      "source": [
        "a={\n",
        "    \"name\":\"koushik\", \n",
        "    \"age\":18,\n",
        "    \"college\":\"gitam\"\n",
        "}\n",
        "a.pop(\"age\") ### this is used to remove the elements from the dict\n",
        "print(a)"
      ]
    },
    {
      "cell_type": "code",
      "execution_count": null,
      "id": "2d88ac6c",
      "metadata": {
        "id": "2d88ac6c",
        "outputId": "d6fc3ccb-f888-456e-ea6f-2a841bab70d7"
      },
      "outputs": [
        {
          "name": "stdout",
          "output_type": "stream",
          "text": [
            "name\n",
            "age\n",
            "college\n"
          ]
        }
      ],
      "source": [
        "a={\n",
        "    \"name\":\"koushik\", \n",
        "    \"age\":18,\n",
        "    \"college\":\"gitam\"\n",
        "}\n",
        "for x in a:\n",
        "    print(x)"
      ]
    },
    {
      "cell_type": "code",
      "execution_count": null,
      "id": "a6ced0d0",
      "metadata": {
        "id": "a6ced0d0",
        "outputId": "80e0cbca-01a5-4569-ca07-ed14086cb093"
      },
      "outputs": [
        {
          "name": "stdout",
          "output_type": "stream",
          "text": [
            "{'name': 'koushik', 'age': 18, 'college': 'gitam', 'marks': '100'}\n"
          ]
        }
      ],
      "source": [
        "a={\n",
        "    \"name\":\"koushik\", \n",
        "    \"age\":18,\n",
        "    \"college\":\"gitam\"\n",
        "}\n",
        "a.update({\"marks\":\"100\"})\n",
        "print(a)"
      ]
    },
    {
      "cell_type": "code",
      "execution_count": null,
      "id": "99086451",
      "metadata": {
        "id": "99086451",
        "outputId": "1773ab42-f6e2-4a17-bf6c-1bedfb455796"
      },
      "outputs": [
        {
          "name": "stdout",
          "output_type": "stream",
          "text": [
            "dict_items([('name', 'koushik'), ('age', 18), ('college', 'gitam')])\n",
            "('name', 'koushik')\n",
            "('age', 18)\n",
            "('college', 'gitam')\n"
          ]
        }
      ],
      "source": [
        "a={\n",
        "    \"name\":\"koushik\", \n",
        "    \"age\":18,\n",
        "    \"college\":\"gitam\"\n",
        "}\n",
        "print(a.items())\n",
        "for x in a.items():\n",
        "    print(x)"
      ]
    },
    {
      "cell_type": "code",
      "execution_count": null,
      "id": "66e1d220",
      "metadata": {
        "id": "66e1d220",
        "outputId": "0e9efff6-08ae-4cf3-a91e-c23eb154289c"
      },
      "outputs": [
        {
          "name": "stdout",
          "output_type": "stream",
          "text": [
            "name koushik\n",
            "age 18\n",
            "college gitam\n"
          ]
        }
      ],
      "source": [
        "a={\n",
        "    \"name\":\"koushik\", \n",
        "    \"age\":18,\n",
        "    \"college\":\"gitam\"\n",
        "}\n",
        "for x,y in a.items():\n",
        "    print(x,y)"
      ]
    },
    {
      "cell_type": "code",
      "execution_count": null,
      "id": "e51a0008",
      "metadata": {
        "id": "e51a0008",
        "outputId": "024c6526-963a-49ad-a67b-16b1e17e510c"
      },
      "outputs": [
        {
          "name": "stdout",
          "output_type": "stream",
          "text": [
            "name\n",
            "age\n",
            "college\n"
          ]
        }
      ],
      "source": [
        "a={\n",
        "    \"name\":\"koushik\", \n",
        "    \"age\":18,\n",
        "    \"college\":\"gitam\"\n",
        "}\n",
        "for x in a.keys():\n",
        "    print(x)"
      ]
    },
    {
      "cell_type": "code",
      "execution_count": null,
      "id": "7e3332b4",
      "metadata": {
        "id": "7e3332b4",
        "outputId": "d639ce87-d61c-46fc-f028-24d503432957"
      },
      "outputs": [
        {
          "name": "stdout",
          "output_type": "stream",
          "text": [
            "{'s1': {'name': 'koushik', 'age': '18', 'collge': 'gitam'}, 's2': {'name': 'ftghdgde', 'age': '18', 'collge': 'gitam'}, 's3': {'name': 'dffffff', 'age': '18', 'collge': 'gitam'}}\n"
          ]
        }
      ],
      "source": [
        "collge={\n",
        "    \"s1\":{\n",
        "        \"name\":\"koushik\",\n",
        "        \"age\":\"18\",\n",
        "        \"collge\":\"gitam\"\n",
        "    },\n",
        "    \"s2\":{\n",
        "         \"name\":\"ftghdgde\",\n",
        "        \"age\":\"18\",\n",
        "        \"collge\":\"gitam\"\n",
        "    },\n",
        "    \"s3\":{\n",
        "         \"name\":\"dffffff\",\n",
        "        \"age\":\"18\",\n",
        "        \"collge\":\"gitam\"\n",
        "    },\n",
        "    \n",
        "}\n",
        "print(collge)"
      ]
    },
    {
      "cell_type": "code",
      "execution_count": null,
      "id": "16e53334",
      "metadata": {
        "id": "16e53334",
        "outputId": "4aeb6b23-99cb-4819-d0b9-84a6cbc79e2a"
      },
      "outputs": [
        {
          "name": "stdout",
          "output_type": "stream",
          "text": [
            "{'s1': ({'name': 'koushik', 'age': '18', 'collge': 'gitam'},), 's2': ({'name': 'koushik', 'age': '18', 'collge': 'gitam'},), 's3': {'name': 'koushik', 'age': '18', 'collge': 'gitam'}}\n"
          ]
        }
      ],
      "source": [
        "s1={\n",
        "     \"name\":\"koushik\",\n",
        "        \"age\":\"18\",\n",
        "        \"collge\":\"gitam\"\n",
        "},\n",
        "s2={\n",
        "     \"name\":\"koushik\",\n",
        "        \"age\":\"18\",\n",
        "        \"collge\":\"gitam\"\n",
        "},\n",
        "s3={\n",
        "     \"name\":\"koushik\",\n",
        "        \"age\":\"18\",\n",
        "        \"collge\":\"gitam\"\n",
        "}\n",
        "college={\n",
        "    \"s1\":s1,\n",
        "    \"s2\":s2,\n",
        "    \"s3\":s3\n",
        "}\n",
        "print(college)"
      ]
    },
    {
      "cell_type": "code",
      "execution_count": null,
      "id": "ee6179bf",
      "metadata": {
        "id": "ee6179bf",
        "outputId": "0dd6b277-78a9-4d38-889b-8adea6ac8ccc"
      },
      "outputs": [
        {
          "name": "stdout",
          "output_type": "stream",
          "text": [
            "{'name': 'koushik', 'age': 18, 'college': 'gitam'}\n"
          ]
        }
      ],
      "source": [
        "a={\n",
        "    \"name\":\"koushik\", \n",
        "    \"age\":18,\n",
        "    \"college\":\"gitam\"\n",
        "}\n",
        "b=a.copy()\n",
        "print(b)"
      ]
    },
    {
      "cell_type": "code",
      "execution_count": null,
      "id": "4e9437c9",
      "metadata": {
        "id": "4e9437c9",
        "outputId": "b764583b-d925-4ea9-b3b6-04e6594edb15"
      },
      "outputs": [
        {
          "name": "stdout",
          "output_type": "stream",
          "text": [
            "{'s1': {'name': 'koushik', 'age': '18', 'college': 'gitam'}, 's2': {'name': 'sgsdgsdfsf', 'age': '17', 'college': 'afsfsf'}}\n"
          ]
        }
      ],
      "source": [
        "college={\n",
        "    \"s1\":{\n",
        "        \"name\":\"koushik\",\n",
        "        \"age\":\"18\",\n",
        "\"college\":\"gitam\"    \n",
        "    },\n",
        "    \"s2\":{\n",
        "        \"name\":\"sgsdgsdfsf\",\n",
        "        \"age\":\"17\",\n",
        "        \"college\":\"afsfsf\"\n",
        "    }\n",
        "}\n",
        "print(college)"
      ]
    },
    {
      "cell_type": "markdown",
      "id": "6ee096a1",
      "metadata": {
        "id": "6ee096a1"
      },
      "source": [
        "# MODULE 2"
      ]
    },
    {
      "cell_type": "code",
      "execution_count": null,
      "id": "190130b9",
      "metadata": {
        "id": "190130b9"
      },
      "outputs": [],
      "source": [
        "a=[1,2,3,4,5,6]\n"
      ]
    },
    {
      "cell_type": "code",
      "execution_count": null,
      "id": "d3c64a57",
      "metadata": {
        "id": "d3c64a57",
        "outputId": "9e76fd13-3179-447c-cddb-5560263c92c7"
      },
      "outputs": [
        {
          "name": "stdout",
          "output_type": "stream",
          "text": [
            "enter the command roll: roll\n",
            "4\n",
            "4\n",
            "6\n",
            "2\n",
            "6\n",
            "6\n"
          ]
        }
      ],
      "source": [
        "import random\n",
        "a=input(\"enter the command roll: \")\n",
        "if \"roll\"==a:\n",
        "    for x in range (6):\n",
        "        a=random.randint(1,6)\n",
        "        print(a)"
      ]
    },
    {
      "cell_type": "markdown",
      "id": "69dc1ab2",
      "metadata": {
        "id": "69dc1ab2"
      },
      "source": [
        "# FUNCTIONS"
      ]
    },
    {
      "cell_type": "code",
      "execution_count": null,
      "id": "0fb75574",
      "metadata": {
        "id": "0fb75574",
        "outputId": "1a8d5ddd-8135-49ff-f852-4ea0b98940c5"
      },
      "outputs": [
        {
          "name": "stdout",
          "output_type": "stream",
          "text": [
            "koushik\n"
          ]
        }
      ],
      "source": [
        "def koushik():\n",
        "    print(\"koushik\")\n",
        "koushik()"
      ]
    },
    {
      "cell_type": "code",
      "execution_count": null,
      "id": "1728e7e4",
      "metadata": {
        "id": "1728e7e4",
        "outputId": "573c20e2-5755-4702-9316-b304b7b349e9"
      },
      "outputs": [
        {
          "name": "stdout",
          "output_type": "stream",
          "text": [
            "koushik 8 36\n",
            "kiran 19 31\n"
          ]
        }
      ],
      "source": [
        "def name(name,age,roll):\n",
        "    print(name,age,roll)\n",
        "name(\"koushik\",8,36)\n",
        "name(\"kiran\",19,31)"
      ]
    },
    {
      "cell_type": "code",
      "execution_count": null,
      "id": "07e32560",
      "metadata": {
        "id": "07e32560",
        "outputId": "9cb81e7d-84f2-4f08-f628-a2193ca70e62"
      },
      "outputs": [
        {
          "name": "stdout",
          "output_type": "stream",
          "text": [
            "info of the students 19\n"
          ]
        }
      ],
      "source": [
        "def student(*info):\n",
        "    print(\"info of the students\",info[1])\n",
        "student(\"koushik\",19,4,2021) ### only strings are sccepted but not the strings\n"
      ]
    },
    {
      "cell_type": "code",
      "execution_count": null,
      "id": "cb3ee2a4",
      "metadata": {
        "id": "cb3ee2a4",
        "outputId": "46dc7e32-d858-4349-bd9e-6bffa3d64f48"
      },
      "outputs": [
        {
          "name": "stdout",
          "output_type": "stream",
          "text": [
            "2021\n"
          ]
        }
      ],
      "source": [
        "def student(name,age,year):\n",
        "    print(year)\n",
        "student(year=2021,name=\"koushik\",age=18)"
      ]
    },
    {
      "cell_type": "code",
      "execution_count": null,
      "id": "bfde68ed",
      "metadata": {
        "id": "bfde68ed",
        "outputId": "c9c3c67c-e766-444f-b169-8a1fbc442eb4"
      },
      "outputs": [
        {
          "name": "stdout",
          "output_type": "stream",
          "text": [
            "student 18\n"
          ]
        }
      ],
      "source": [
        "def student(**info):\n",
        "    print(\"student\",info[\"age\"])\n",
        "student(name=\"koushik\",age=18,year=2021)"
      ]
    },
    {
      "cell_type": "code",
      "execution_count": null,
      "id": "3946dd50",
      "metadata": {
        "id": "3946dd50",
        "outputId": "4bf4f8fa-0dbe-48c3-cf99-b3dcfec6d2c2"
      },
      "outputs": [
        {
          "ename": "SyntaxError",
          "evalue": "invalid syntax (Temp/ipykernel_2328/965067153.py, line 1)",
          "output_type": "error",
          "traceback": [
            "\u001b[1;36m  File \u001b[1;32m\"C:\\Users\\CSE22004\\AppData\\Local\\Temp/ipykernel_2328/965067153.py\"\u001b[1;36m, line \u001b[1;32m1\u001b[0m\n\u001b[1;33m    def student(**info ==\"enter data\"):\u001b[0m\n\u001b[1;37m                       ^\u001b[0m\n\u001b[1;31mSyntaxError\u001b[0m\u001b[1;31m:\u001b[0m invalid syntax\n"
          ]
        }
      ],
      "source": [
        "def student(**info ==\"enter data\"):\n",
        "    print(info[\"name\"],info[\"age\"])\n",
        "student(name=\"koushik\",age=18)\n",
        "student(name=\"kiran\",age=19)"
      ]
    },
    {
      "cell_type": "code",
      "execution_count": null,
      "id": "d754c8bd",
      "metadata": {
        "id": "d754c8bd",
        "outputId": "4698522b-f6f5-4908-cfb3-bbcd4f312bef"
      },
      "outputs": [
        {
          "name": "stdout",
          "output_type": "stream",
          "text": [
            "enter the name\n",
            "koushik\n",
            "kiran\n"
          ]
        }
      ],
      "source": [
        "def student(name=\"enter the name\"):\n",
        "      print(name)\n",
        "student()\n",
        "student(\"koushik\")\n",
        "student(\"kiran\")"
      ]
    },
    {
      "cell_type": "code",
      "execution_count": null,
      "id": "606fe024",
      "metadata": {
        "id": "606fe024",
        "outputId": "fdcb2f8b-0aec-45fe-8343-e5578f780691"
      },
      "outputs": [
        {
          "name": "stdout",
          "output_type": "stream",
          "text": [
            "koushik\n",
            "kiran\n"
          ]
        }
      ],
      "source": [
        "def students(name):\n",
        "    for x in name:\n",
        "        print(x)\n",
        "names=[\"koushik\",\"kiran\"]\n",
        "students(names)"
      ]
    },
    {
      "cell_type": "code",
      "execution_count": null,
      "id": "ae43c785",
      "metadata": {
        "id": "ae43c785",
        "outputId": "ea773eed-cce4-4679-ed50-7c4cfd0ec7c0"
      },
      "outputs": [
        {
          "name": "stdout",
          "output_type": "stream",
          "text": [
            "9\n",
            "11\n"
          ]
        }
      ],
      "source": [
        "def sum(a,b):\n",
        "   return a+b\n",
        "print(sum(3,6))\n",
        "print(sum(5,6))\n",
        "    "
      ]
    },
    {
      "cell_type": "code",
      "execution_count": null,
      "id": "6abd0a03",
      "metadata": {
        "id": "6abd0a03"
      },
      "outputs": [],
      "source": [
        "def number(n,r):\n",
        "    while i<=r\n",
        "        return (n-i*(n-(i+1))*(n-O())"
      ]
    },
    {
      "cell_type": "markdown",
      "id": "6712f541",
      "metadata": {
        "id": "6712f541"
      },
      "source": [
        "# module 2"
      ]
    },
    {
      "cell_type": "code",
      "execution_count": null,
      "id": "73cb4d85",
      "metadata": {
        "id": "73cb4d85",
        "outputId": "51c49c7a-c966-4b83-96c9-0aed678e7c2c"
      },
      "outputs": [
        {
          "name": "stdout",
          "output_type": "stream",
          "text": [
            "stting\n"
          ]
        }
      ],
      "source": [
        "a=\"string\"\n",
        "print(a.replace(\"r\",\"t\"))\n"
      ]
    },
    {
      "cell_type": "code",
      "execution_count": null,
      "id": "d7fb5730",
      "metadata": {
        "id": "d7fb5730",
        "outputId": "15e74aaa-890e-4adf-cc33-08115ac083ac"
      },
      "outputs": [
        {
          "name": "stdout",
          "output_type": "stream",
          "text": [
            "[5, 7]\n"
          ]
        }
      ],
      "source": [
        "a=[3,5,7,9]\n",
        "b=[2,3,8,9]\n",
        "c=[]\n",
        "for x in a:\n",
        "    if x not in b:\n",
        "        c.append(x)\n",
        "print(c)"
      ]
    },
    {
      "cell_type": "code",
      "execution_count": null,
      "id": "5dda2753",
      "metadata": {
        "id": "5dda2753",
        "outputId": "78339275-0ed9-459b-9e0e-73320770f9bf"
      },
      "outputs": [
        {
          "name": "stdout",
          "output_type": "stream",
          "text": [
            "enter the number6\n",
            "{0: 0, 1: 1, 2: 4, 3: 9, 4: 16, 5: 25, 6: 36}\n"
          ]
        }
      ],
      "source": [
        "a=dict()\n",
        "b=int(input(\"enter the number\"))\n",
        "for x in range(b+1):\n",
        "    a[x]=x*x\n",
        "print(a)"
      ]
    },
    {
      "cell_type": "code",
      "execution_count": null,
      "id": "aa24101b",
      "metadata": {
        "id": "aa24101b",
        "outputId": "420f9abb-8c47-4659-c49a-abc130bd5077"
      },
      "outputs": [
        {
          "name": "stdout",
          "output_type": "stream",
          "text": [
            "{'name': 'koushik', 'age': 18}\n"
          ]
        }
      ],
      "source": [
        "a={\n",
        "    \"name\":\"koushik\",\n",
        "    \"age\":18,\n",
        "    \"year\":2021   \n",
        "}\n",
        "a.pop(\"year\")\n",
        "print(a)"
      ]
    },
    {
      "cell_type": "code",
      "execution_count": null,
      "id": "191fe5a0",
      "metadata": {
        "id": "191fe5a0",
        "outputId": "85828c59-48d9-478d-d299-718f49beba3a"
      },
      "outputs": [
        {
          "name": "stdout",
          "output_type": "stream",
          "text": [
            "3\n"
          ]
        }
      ],
      "source": [
        "a=\"I have to go to a doctor and get myself checked.\"\n",
        "print(a.count(\"to\"))"
      ]
    },
    {
      "cell_type": "code",
      "execution_count": null,
      "id": "d818bc08",
      "metadata": {
        "id": "d818bc08",
        "outputId": "79e3d7d4-482b-4975-f67d-fdae3b8a0062"
      },
      "outputs": [
        {
          "name": "stdout",
          "output_type": "stream",
          "text": [
            "[(4,), (8, 6, 7), (1,), (3, 4, 6, 7)]\n"
          ]
        }
      ],
      "source": [
        "a= [(4, 5), (4,), (8, 6, 7), (1,), (3, 4, 6, 7)]\n",
        "b=[]\n",
        "k=2\n",
        "for x in a:\n",
        "    if len(x)==k:\n",
        "        a.remove(x)\n",
        "print(a)"
      ]
    },
    {
      "cell_type": "code",
      "execution_count": null,
      "id": "7663a194",
      "metadata": {
        "id": "7663a194",
        "outputId": "724ca52c-323f-4c1c-a3b9-2dba7b8356a3"
      },
      "outputs": [
        {
          "name": "stdout",
          "output_type": "stream",
          "text": [
            "the lower values 3\n",
            "higher values 2\n"
          ]
        }
      ],
      "source": [
        "def string(a):\n",
        "    u=0;l=0\n",
        "    for x in a :\n",
        "        if x.isupper():\n",
        "            u=u+1\n",
        "        else:\n",
        "            l=l+1\n",
        "    print(\"the lower values\",l)\n",
        "    print(\"higher values\",u)\n",
        "string(\"KiRan\")"
      ]
    },
    {
      "cell_type": "code",
      "execution_count": null,
      "id": "bd7cf35d",
      "metadata": {
        "id": "bd7cf35d",
        "outputId": "df356546-752a-40f1-ac21-98d203c02e30"
      },
      "outputs": [
        {
          "name": "stdout",
          "output_type": "stream",
          "text": [
            "enter the value of 10\n",
            "enter the value of r8\n",
            "45.0\n"
          ]
        }
      ],
      "source": [
        "def ncr(n,r):\n",
        "    return fact(n)/(fact(r)*fact(n-r))\n",
        "def fact(n):\n",
        "    fact=1\n",
        "    for i in range(1,n+1):\n",
        "        fact=fact*i\n",
        "    return fact\n",
        "a=int(input(\"enter the value of n \"))\n",
        "b=int(input(\"enter the value of r\"))\n",
        "print(ncr(a,b))"
      ]
    },
    {
      "cell_type": "code",
      "execution_count": null,
      "id": "1bbfe6f6",
      "metadata": {
        "id": "1bbfe6f6",
        "outputId": "db80b9f0-8045-48a7-890c-30d99ad43be3"
      },
      "outputs": [
        {
          "name": "stdout",
          "output_type": "stream",
          "text": [
            "enter the first number5\n",
            "enter the second number2\n",
            "gcd of two numbers is  1\n"
          ]
        }
      ],
      "source": [
        "def gcd(a,b):\n",
        "    if b==0:\n",
        "        return a\n",
        "    else:\n",
        "        return gcd(b,a%b)\n",
        "a=int(input(\"enter the first number\"))\n",
        "b=int(input(\"enter the second number\"))\n",
        "GCD=gcd(a,b)\n",
        "print(\"gcd of two numbers is \",GCD)"
      ]
    },
    {
      "cell_type": "code",
      "execution_count": null,
      "id": "6a783361",
      "metadata": {
        "id": "6a783361",
        "outputId": "ebdfbea2-f119-447a-e336-4f1f4e83f23f"
      },
      "outputs": [
        {
          "name": "stdout",
          "output_type": "stream",
          "text": [
            "enter the number5\n",
            "enter second number2\n",
            "product of two numbers 10\n"
          ]
        }
      ],
      "source": [
        "def pro(a,b):\n",
        "    if a<b:\n",
        "        return pro(b,a)\n",
        "    elif b!=0:\n",
        "        return (a+pro(a,b-1))\n",
        "    else:\n",
        "        return 0\n",
        "a=int(input(\"enter the number\"))\n",
        "b=int(input(\"enter second number\"))\n",
        "print(\"product of two numbers\",pro(a,b))"
      ]
    },
    {
      "cell_type": "code",
      "execution_count": null,
      "id": "b798e92a",
      "metadata": {
        "id": "b798e92a",
        "outputId": "72eef1ce-1d34-404f-9959-6b66c37922af"
      },
      "outputs": [
        {
          "name": "stdout",
          "output_type": "stream",
          "text": [
            "enter the number of terms10\n",
            "0\n",
            "1\n",
            "1\n",
            "2\n",
            "3\n",
            "5\n",
            "8\n",
            "13\n",
            "21\n",
            "34\n",
            "55\n"
          ]
        }
      ],
      "source": [
        "def fibo(n):\n",
        "    if n<=1:\n",
        "        return n\n",
        "    else:\n",
        "        return (fibo(n-1)+fibo(n-2))\n",
        "n=int(input(\"enter the number of terms\"))\n",
        "if n<=0:\n",
        "    print(\"enter the number with min values\")\n",
        "else:\n",
        "    for i in range(n+1):\n",
        "        print(fibo(i))"
      ]
    },
    {
      "cell_type": "code",
      "execution_count": null,
      "id": "395bd377",
      "metadata": {
        "id": "395bd377",
        "outputId": "04c1dbf2-a3be-4be0-baaf-240f912a7138"
      },
      "outputs": [
        {
          "name": "stdout",
          "output_type": "stream",
          "text": [
            "[(9, 81.0), (3, 9.0), (6, 36.0)]\n"
          ]
        }
      ],
      "source": [
        "import math\n",
        "a=[9,3,6]\n",
        "b=[]\n",
        "for x in a:\n",
        "    b.append((x,math.pow(x,2)))\n",
        "print(b)\n",
        "    "
      ]
    },
    {
      "cell_type": "code",
      "execution_count": null,
      "id": "c6e5ce38",
      "metadata": {
        "id": "c6e5ce38",
        "outputId": "094af233-6796-4eb2-cad2-3996bc758771"
      },
      "outputs": [
        {
          "name": "stdout",
          "output_type": "stream",
          "text": [
            "enter the number12\n",
            "enter the last number15\n",
            "12\n",
            "13\n",
            "14\n"
          ]
        }
      ],
      "source": [
        "a=int(input(\"enter the number\"))\n",
        "b=int(input(\"enter the last number\"))\n",
        "if a<b:\n",
        "    for x in range(a,b):\n",
        "         print(x)\n",
        "  \n"
      ]
    },
    {
      "cell_type": "code",
      "execution_count": null,
      "id": "16fc06e3",
      "metadata": {
        "id": "16fc06e3",
        "outputId": "38077f9a-94ba-4de3-ee04-a0254e039d97"
      },
      "outputs": [
        {
          "name": "stdout",
          "output_type": "stream",
          "text": [
            "121123145\n"
          ]
        }
      ],
      "source": [
        "a=[121,123,145]\n",
        "b=\"\"\n",
        "for x in a:\n",
        "    b=b+str(x)\n",
        "print(b) ### static method"
      ]
    },
    {
      "cell_type": "markdown",
      "id": "e330b500",
      "metadata": {
        "id": "e330b500"
      },
      "source": [
        "# ASSIGNMENT"
      ]
    },
    {
      "cell_type": "code",
      "execution_count": null,
      "id": "3e25395a",
      "metadata": {
        "id": "3e25395a",
        "outputId": "7720b0d0-cb02-4d03-a3be-4bfb7ec931c7"
      },
      "outputs": [
        {
          "name": "stdout",
          "output_type": "stream",
          "text": [
            "8.0\n"
          ]
        }
      ],
      "source": [
        "import math\n",
        "n=2;p=3\n",
        "print(math.pow(2,3))"
      ]
    },
    {
      "cell_type": "code",
      "execution_count": null,
      "id": "5bd60c3a",
      "metadata": {
        "id": "5bd60c3a",
        "outputId": "8e185bc5-8238-4da0-e991-d8cf6969f229"
      },
      "outputs": [
        {
          "name": "stdout",
          "output_type": "stream",
          "text": [
            "[(1, 2), (3, 4, 6, 723), (134, 234, 34)]\n"
          ]
        }
      ],
      "source": [
        "list=[(3,4,6,723),(1,2),(134,234,34)]\n",
        "list.sort()\n",
        "print(list)"
      ]
    },
    {
      "cell_type": "code",
      "execution_count": null,
      "id": "f3e3e753",
      "metadata": {
        "id": "f3e3e753",
        "outputId": "6ee9ed96-333d-45db-ded7-2e9fb0615389"
      },
      "outputs": [
        {
          "name": "stdout",
          "output_type": "stream",
          "text": [
            "enter the number1\n",
            "enter the number10\n",
            "enter the number20\n",
            "1\n"
          ]
        }
      ],
      "source": [
        "a=int(input(\"enter the number\"))\n",
        "b=int(input(\"enter the number\"))\n",
        "c=int(input(\"enter the number\"))\n",
        "d=[a,b,c]\n",
        "k=d.copy()\n",
        "d.sort()\n",
        "e=d.copy()\n",
        "if k==e:\n",
        "    print(\"1\")\n",
        "else:\n",
        "    print(\"0\")"
      ]
    },
    {
      "cell_type": "code",
      "execution_count": null,
      "id": "a1949d30",
      "metadata": {
        "id": "a1949d30",
        "outputId": "609f1e0e-4c23-4b9d-c752-f194d7f8c882"
      },
      "outputs": [
        {
          "name": "stdout",
          "output_type": "stream",
          "text": [
            "enter the number123\n",
            "6\n"
          ]
        }
      ],
      "source": [
        "a=int(input(\"enter the number\"))\n",
        "fact=1\n",
        "while a>0:\n",
        "    i=a%10\n",
        "    fact=fact*i\n",
        "    a=a//10\n",
        "print(fact)"
      ]
    },
    {
      "cell_type": "code",
      "execution_count": null,
      "id": "b6e9de6e",
      "metadata": {
        "id": "b6e9de6e",
        "outputId": "d5fd6c65-c1ca-4f86-db3c-2f87226a20d1"
      },
      "outputs": [
        {
          "name": "stdout",
          "output_type": "stream",
          "text": [
            "a\n",
            "b\n",
            "c\n",
            "e\n",
            "c\n",
            "b\n",
            "a\n",
            "number of digits which are in same sequence is: 7\n"
          ]
        }
      ],
      "source": [
        "s=\"abcdefcba\"\n",
        "n=len(s)\n",
        "i=0\n",
        "for x in range(len(s)):\n",
        "    if s[x]==s[n-1]:\n",
        "        print(s[x])\n",
        "        i=i+1\n",
        "    x=x+1\n",
        "    n=n-1\n",
        "print(\"number of digits which are in same sequence is:\",i)"
      ]
    },
    {
      "cell_type": "code",
      "execution_count": null,
      "id": "01608f53",
      "metadata": {
        "id": "01608f53"
      },
      "outputs": [],
      "source": [
        "1"
      ]
    }
  ],
  "metadata": {
    "kernelspec": {
      "display_name": "Python 3 (ipykernel)",
      "language": "python",
      "name": "python3"
    },
    "language_info": {
      "codemirror_mode": {
        "name": "ipython",
        "version": 3
      },
      "file_extension": ".py",
      "mimetype": "text/x-python",
      "name": "python",
      "nbconvert_exporter": "python",
      "pygments_lexer": "ipython3",
      "version": "3.9.7"
    },
    "colab": {
      "name": "Untitled.ipynb",
      "provenance": [],
      "include_colab_link": true
    }
  },
  "nbformat": 4,
  "nbformat_minor": 5
}