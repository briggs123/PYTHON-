{
  "cells": [
    {
      "cell_type": "markdown",
      "metadata": {
        "id": "view-in-github",
        "colab_type": "text"
      },
      "source": [
        "<a href=\"https://colab.research.google.com/github/briggs123/PYTHON-/blob/main/Untitled.ipynb\" target=\"_parent\"><img src=\"https://colab.research.google.com/assets/colab-badge.svg\" alt=\"Open In Colab\"/></a>"
      ]
    },
    {
      "cell_type": "markdown",
      "id": "d0dd3617",
      "metadata": {
        "id": "d0dd3617"
      },
      "source": [
        "### MODULE-1"
      ]
    },
    {
      "cell_type": "code",
      "execution_count": null,
      "id": "086b91b6",
      "metadata": {
        "id": "086b91b6",
        "outputId": "ca761d0c-e004-409f-859a-1c9ce7a4df94"
      },
      "outputs": [
        {
          "name": "stdout",
          "output_type": "stream",
          "text": [
            "enter the number6\n",
            "it is a palindrome\n"
          ]
        }
      ],
      "source": [
        "a=int(input(\"enter the number\"))\n",
        "rev=0\n",
        "temp=a\n",
        "while temp>0:\n",
        "  rem=temp%10\n",
        "  rev=(rev*10)+rem\n",
        "  temp=temp//10\n",
        "if a==rev:\n",
        "  print(\"it is a palindrome\")\n",
        "else:\n",
        "  print(\"not a palindrome\")"
      ]
    },
    {
      "cell_type": "code",
      "execution_count": null,
      "id": "f175e59a",
      "metadata": {
        "id": "f175e59a",
        "outputId": "861a37b0-f853-437d-e432-6a8f9dfc9566"
      },
      "outputs": [
        {
          "name": "stdout",
          "output_type": "stream",
          "text": [
            "enter the number6\n",
            "perfect number\n"
          ]
        }
      ],
      "source": [
        "a=int(input(\"enter the number\"))\n",
        "sum=0\n",
        "for i in range(1,a):\n",
        "  if a%i==0:\n",
        "     sum=sum+i\n",
        "if sum==a:\n",
        "  print(\"perfect number\")\n",
        "else:\n",
        "  print(\"not a perfect number\")"
      ]
    },
    {
      "cell_type": "code",
      "execution_count": null,
      "id": "4dcef258",
      "metadata": {
        "id": "4dcef258",
        "outputId": "af1a338a-83a4-4a2c-884a-9dcbbcb60d44"
      },
      "outputs": [
        {
          "name": "stdout",
          "output_type": "stream",
          "text": [
            "-5\n",
            "-4\n",
            "16.0\n",
            "3.0\n",
            "1.0\n",
            "5.66\n",
            "-4\n"
          ]
        }
      ],
      "source": [
        "import math\n",
        "a=-4.56\n",
        "print(math.floor(a))\n",
        "print(math.ceil(a))\n",
        "print(math.pow(4,2))\n",
        "print(math.sqrt(9))\n",
        "print(math.fmod(10,3))\n",
        "print(math.fabs(-5.66))\n",
        "print(math.trunc(a))\n"
      ]
    },
    {
      "cell_type": "code",
      "execution_count": null,
      "id": "aa81b44d",
      "metadata": {
        "id": "aa81b44d",
        "outputId": "873aee30-55e8-4247-8da0-4161101799af"
      },
      "outputs": [
        {
          "name": "stdout",
          "output_type": "stream",
          "text": [
            "enter principal amount5000\n",
            "enter rate of intrest18\n",
            "amount of years5\n",
            "1 year intrest si is 900.0\n",
            "1 year intrest ci is 5900.0\n",
            "2 year intrest si is 1800.0\n",
            "2 year intrest ci is 6961.999999999999\n",
            "3 year intrest si is 2700.0\n",
            "3 year intrest ci is 8215.16\n",
            "4 year intrest si is 3600.0\n",
            "4 year intrest ci is 9693.888799999997\n",
            "5 year intrest si is 4500.0\n",
            "5 year intrest ci is 11438.788783999998\n"
          ]
        }
      ],
      "source": [
        "import math\n",
        "p=int(input(\"enter principal amount\"))\n",
        "r=int(input(\"enter rate of intrest\"))\n",
        "t=int(input(\"amount of years\"))\n",
        "for i in range(1,t+1):\n",
        "    si=(p*i*r)/100\n",
        "    print(i,\"year intrest si is\",si)\n",
        "    ci=p*(math.pow(1+r/100,i))\n",
        "    print(i,\"year intrest ci is\",ci)"
      ]
    },
    {
      "cell_type": "markdown",
      "id": "34c059f3",
      "metadata": {
        "id": "34c059f3"
      },
      "source": [
        "# TUPLE"
      ]
    },
    {
      "cell_type": "code",
      "execution_count": null,
      "id": "7cc46092",
      "metadata": {
        "id": "7cc46092",
        "outputId": "339b84f4-5256-46f3-dcfa-1c5ffc88b1f1"
      },
      "outputs": [
        {
          "name": "stdout",
          "output_type": "stream",
          "text": [
            "['test', 'kiran', 'hello', 'code']\n"
          ]
        }
      ],
      "source": [
        "a=(\"koushik\",\"hello\",\"kiran\")\n",
        "b=list(a)\n",
        "b.append(\"test\")\n",
        "b.insert(2,\"code\")\n",
        "b.remove(\"koushik\")\n",
        "b.sort(reverse=True)\n",
        "print(b)"
      ]
    },
    {
      "cell_type": "code",
      "execution_count": null,
      "id": "b9e8c0b2",
      "metadata": {
        "id": "b9e8c0b2",
        "outputId": "83f86259-61f7-4faf-c21e-4e7bfff9a0ff"
      },
      "outputs": [
        {
          "name": "stdout",
          "output_type": "stream",
          "text": [
            "('apple',)\n",
            "('apple', 'green')\n"
          ]
        }
      ],
      "source": [
        "a=(\"apple\",)### , is used to create a single tuple\n",
        "print(a)\n",
        "b=(\"green\",)\n",
        "c=a+b\n",
        "print(c)"
      ]
    },
    {
      "cell_type": "code",
      "execution_count": null,
      "id": "5b88c9c5",
      "metadata": {
        "id": "5b88c9c5",
        "outputId": "325ede4e-d680-4bd8-cf63-853ec379fa89"
      },
      "outputs": [
        {
          "name": "stdout",
          "output_type": "stream",
          "text": [
            "apple mango papaya\n"
          ]
        }
      ],
      "source": [
        "a=(\"apple\",\"mango\",\"papaya\")\n",
        "(red,yellow,orange)=a\n",
        "print(red,yellow,orange)"
      ]
    },
    {
      "cell_type": "code",
      "execution_count": null,
      "id": "b21871c1",
      "metadata": {
        "id": "b21871c1",
        "outputId": "67dfcf49-1d93-48e1-f562-538f4ddbb59b"
      },
      "outputs": [
        {
          "name": "stdout",
          "output_type": "stream",
          "text": [
            "apple ['mango', 'papaya', 'hello', 'hi'] he\n"
          ]
        }
      ],
      "source": [
        "a=(\"apple\",\"mango\",\"papaya\",\"hello\",\"hi\",\"he\")\n",
        "(red,*yellow,b)=a\n",
        "print(red,yellow,b)"
      ]
    },
    {
      "cell_type": "code",
      "execution_count": null,
      "id": "5988b3e6",
      "metadata": {
        "id": "5988b3e6",
        "outputId": "68379c80-fb6d-4e5e-cf5e-0b7fb9883914"
      },
      "outputs": [
        {
          "name": "stdout",
          "output_type": "stream",
          "text": [
            "apple\n",
            "mango\n",
            "papaya\n",
            "hello\n",
            "hi\n",
            "he\n"
          ]
        }
      ],
      "source": [
        "a=(\"apple\",\"mango\",\"papaya\",\"hello\",\"hi\",\"he\")\n",
        "for i in a:\n",
        "    print(i)"
      ]
    },
    {
      "cell_type": "code",
      "execution_count": null,
      "id": "1863c65f",
      "metadata": {
        "id": "1863c65f",
        "outputId": "f2d11021-d2f7-4f52-e76c-3fc7b9b2da8d"
      },
      "outputs": [
        {
          "name": "stdout",
          "output_type": "stream",
          "text": [
            "apple\n",
            "mango\n",
            "papaya\n",
            "hello\n",
            "hi\n",
            "he\n"
          ]
        }
      ],
      "source": [
        "a=(\"apple\",\"mango\",\"papaya\",\"hello\",\"hi\",\"he\")\n",
        "for x in range(len(a)):\n",
        "    print(a[x])"
      ]
    },
    {
      "cell_type": "code",
      "execution_count": null,
      "id": "778d3123",
      "metadata": {
        "id": "778d3123",
        "outputId": "bcd1ba10-d3f2-4c16-854c-7eda8ae3d5d8"
      },
      "outputs": [
        {
          "name": "stdout",
          "output_type": "stream",
          "text": [
            "yes\n"
          ]
        }
      ],
      "source": [
        "a=(\"apple\",\"mango\",\"papaya\",\"hello\",\"hi\",\"he\")\n",
        "if \"apple\" in a:\n",
        "    print(\"yes\")"
      ]
    },
    {
      "cell_type": "code",
      "execution_count": null,
      "id": "4108c77b",
      "metadata": {
        "id": "4108c77b",
        "outputId": "7a2e114b-2dd2-4eac-a81b-64c3c191e6e7"
      },
      "outputs": [
        {
          "name": "stdout",
          "output_type": "stream",
          "text": [
            "('apple', 'mango', 'papaya', 'hello', 'hi', 'he', 'koushik', 'kiran')\n",
            "('koushik', 'kiran', 'koushik', 'kiran', 'koushik', 'kiran')\n"
          ]
        }
      ],
      "source": [
        "a=(\"apple\",\"mango\",\"papaya\",\"hello\",\"hi\",\"he\")\n",
        "b=(\"koushik\",\"kiran\")\n",
        "print(a+b)\n",
        "print(b*3)"
      ]
    },
    {
      "cell_type": "code",
      "execution_count": null,
      "id": "44bfc3d4",
      "metadata": {
        "id": "44bfc3d4",
        "outputId": "4ee3a5da-11aa-44f3-8911-89def67fc847"
      },
      "outputs": [
        {
          "name": "stdout",
          "output_type": "stream",
          "text": [
            "enter the number145\n",
            "145\n",
            "yes it is strong number\n"
          ]
        }
      ],
      "source": [
        "a=int(input(\"enter the number\"))\n",
        "sum=0\n",
        "temp=a\n",
        "while (temp>0):\n",
        "    fact=1\n",
        "    i=1\n",
        "    rem=temp%10\n",
        "    while i<=rem:\n",
        "        fact=fact*i\n",
        "        i=i+1\n",
        "    sum=sum+fact\n",
        "    temp=temp//10\n",
        "print(sum)\n",
        "if a==sum:\n",
        "    print(\"yes it is strong number\")\n",
        "else:\n",
        "    print(\"no\")"
      ]
    },
    {
      "cell_type": "code",
      "execution_count": null,
      "id": "d8d5b74a",
      "metadata": {
        "id": "d8d5b74a",
        "outputId": "a9c4694a-42be-4a3f-deee-1892e8fd58ed"
      },
      "outputs": [
        {
          "name": "stdout",
          "output_type": "stream",
          "text": [
            "enter the number5\n",
            "120\n"
          ]
        }
      ],
      "source": [
        "a=int(input(\"enter the number\"))\n",
        "fact=1\n",
        "for i in range(1,a+1):\n",
        "    fact=fact*i\n",
        "print(fact)\n",
        "    "
      ]
    },
    {
      "cell_type": "code",
      "execution_count": null,
      "id": "45436c9a",
      "metadata": {
        "id": "45436c9a",
        "outputId": "187ae7c0-bf7b-4134-a349-2947eda055fd"
      },
      "outputs": [
        {
          "name": "stdout",
          "output_type": "stream",
          "text": [
            " Please Enter any Number: 145\n",
            "\n",
            " Factorial of 5 = 120\n",
            "\n",
            " Factorial of 4 = 120\n",
            "\n",
            " Factorial of 1 = 120\n",
            " 145 is not\n"
          ]
        }
      ],
      "source": [
        "Number = int(input(\" Please Enter any Number: \"))\n",
        "Sum = 0\n",
        "Temp = Number\n",
        "Factorial = 1\n",
        "i = 1\n",
        "while(Temp > 0):\n",
        "    Reminder = Temp % 10\n",
        "    while(i <= Reminder):\n",
        "        Factorial = Factorial * i\n",
        "        i = i + 1\n",
        "\n",
        "    print(\"\\n Factorial of %d = %d\" %(Reminder, Factorial))\n",
        "    Sum = Sum + Factorial\n",
        "    Temp = Temp // 10\n",
        "if (Sum == Number):\n",
        "    print(\" %d is a Strong Number\" %Number)\n",
        "else:\n",
        "    print(\" %d is not\" %Number)\n"
      ]
    },
    {
      "cell_type": "markdown",
      "id": "ced9637e",
      "metadata": {
        "id": "ced9637e"
      },
      "source": [
        "# sets"
      ]
    },
    {
      "cell_type": "code",
      "execution_count": null,
      "id": "1962c438",
      "metadata": {
        "id": "1962c438",
        "outputId": "82da2b00-6f50-42c6-c3b7-8b5d406346d3"
      },
      "outputs": [
        {
          "name": "stdout",
          "output_type": "stream",
          "text": [
            "{1, 2, 3, 4, 5}\n"
          ]
        }
      ],
      "source": [
        "a={1,2,3,4,5,5,5,5,5}## duplicates are not allowed in sets\n",
        "print(a)"
      ]
    },
    {
      "cell_type": "code",
      "execution_count": null,
      "id": "7a5a5098",
      "metadata": {
        "id": "7a5a5098",
        "outputId": "5259be13-78d3-418c-cd61-34e97e4ba517"
      },
      "outputs": [
        {
          "name": "stdout",
          "output_type": "stream",
          "text": [
            "<class 'set'> 5\n"
          ]
        }
      ],
      "source": [
        "a={1,2,3,4,5,5,5,5,5}\n",
        "print(type(a),len(a))"
      ]
    },
    {
      "cell_type": "code",
      "execution_count": null,
      "id": "bd03ee27",
      "metadata": {
        "id": "bd03ee27",
        "outputId": "9a6f7a2c-3014-4532-d69f-2536a1aaf8ad"
      },
      "outputs": [
        {
          "name": "stdout",
          "output_type": "stream",
          "text": [
            "1\n",
            "2\n",
            "3\n",
            "4\n",
            "5\n"
          ]
        }
      ],
      "source": [
        "a={1,2,3,4,5,5,5,5,5}\n",
        "for x in a:\n",
        "    print(x)"
      ]
    },
    {
      "cell_type": "code",
      "execution_count": null,
      "id": "9fe29b71",
      "metadata": {
        "id": "9fe29b71",
        "outputId": "cd88b17a-cbbb-4c5e-addb-934e04505598"
      },
      "outputs": [
        {
          "name": "stdout",
          "output_type": "stream",
          "text": [
            "{1, 2, 3, 4, 5, 99}\n"
          ]
        }
      ],
      "source": [
        "a={1,2,3,4,5,5,5,5,5}\n",
        "a.add(99) ### used for addition of elements\n",
        "print(a)"
      ]
    },
    {
      "cell_type": "code",
      "execution_count": null,
      "id": "94640042",
      "metadata": {
        "id": "94640042",
        "outputId": "67eddac9-e899-44ac-aa4f-c287c6ed672a"
      },
      "outputs": [
        {
          "name": "stdout",
          "output_type": "stream",
          "text": [
            "{1, 2, 3, 4, 5, 'c', 'b', 'a', 'd', 'koushik'}\n"
          ]
        }
      ],
      "source": [
        "a={1,2,3,4,5,5,5,5,5}\n",
        "b={\"a\",\"b\",\"c\",\"d\"}\n",
        "c=[\"koushik\"]\n",
        "a.update(b)### update is used to join the lists\n",
        "a.update(c)\n",
        "print(a)"
      ]
    },
    {
      "cell_type": "code",
      "execution_count": null,
      "id": "e1a79445",
      "metadata": {
        "id": "e1a79445",
        "outputId": "702e9df0-7d92-4de6-9279-23c86b2c0dc8"
      },
      "outputs": [
        {
          "name": "stdout",
          "output_type": "stream",
          "text": [
            "1\n",
            "{2, 3, 4}\n",
            "set()\n"
          ]
        }
      ],
      "source": [
        "a={1,2,3,4,5,5,5,5,5}\n",
        "a.remove(5)### remove will raise error if its not present\n",
        "a.discard(8)### discard will not raise a error if its not present\n",
        "b=a.pop() ### this removes the element and that is stored in the b\n",
        "print(b)\n",
        "print(a)\n",
        "a.clear()### this clears the set\n",
        "print(a)\n",
        "del a### this deleted the set"
      ]
    },
    {
      "cell_type": "code",
      "execution_count": null,
      "id": "0576f51f",
      "metadata": {
        "id": "0576f51f",
        "outputId": "2fb8d8bf-34fe-46d0-8a4c-2cdea2af6acb"
      },
      "outputs": [
        {
          "name": "stdout",
          "output_type": "stream",
          "text": [
            "{1, 2, 3, 4, 5}\n",
            "{1, 2, 3, 4, 5}\n"
          ]
        }
      ],
      "source": [
        "a={1,2,3,4,5,5,5,5,5}\n",
        "b={\"a\",\"b\",\"c\",\"d\",1}\n",
        "a.union(b)### combines all the elements\n",
        "print(a)\n",
        "a.intersection(b) ### only shows the common element\n",
        "print(a)"
      ]
    },
    {
      "cell_type": "code",
      "execution_count": null,
      "id": "bed8dd58",
      "metadata": {
        "id": "bed8dd58",
        "outputId": "a9ddf722-b312-4f79-9b13-dce3daf49e77"
      },
      "outputs": [
        {
          "name": "stdout",
          "output_type": "stream",
          "text": [
            "{1, 2, 3, 4, 5}\n"
          ]
        }
      ],
      "source": [
        "a={1,2,3,4,5,5,5,5,5}\n",
        "b=a.copy()### this copys the elments of the set\n",
        "print(b)"
      ]
    },
    {
      "cell_type": "code",
      "execution_count": null,
      "id": "ac77f61d",
      "metadata": {
        "id": "ac77f61d",
        "outputId": "b482a295-f99f-4e7e-8384-a7337a5390e1"
      },
      "outputs": [
        {
          "name": "stdout",
          "output_type": "stream",
          "text": [
            "False\n",
            "False\n",
            "False\n"
          ]
        }
      ],
      "source": [
        "a={1,2,3,4,5,5,5,5,5}\n",
        "b={1,3,6,8}\n",
        "print(a.isdisjoint(b))\n",
        "print(b.issubset(a))\n",
        "print(a.issuperset(b))"
      ]
    },
    {
      "cell_type": "code",
      "execution_count": null,
      "id": "b0e3a8b0",
      "metadata": {
        "id": "b0e3a8b0",
        "outputId": "f2a5be46-b6eb-497b-8765-9e79394b0ed7"
      },
      "outputs": [
        {
          "name": "stdout",
          "output_type": "stream",
          "text": [
            "{33, 2, 3, 4, 5, 7, 9}\n"
          ]
        }
      ],
      "source": [
        "a={1,2,3,4,5,5,5,5,5}\n",
        "b={1,7,9,33}\n",
        "print(a.symmetric_difference(b))\n"
      ]
    },
    {
      "cell_type": "markdown",
      "id": "1ff668aa",
      "metadata": {
        "id": "1ff668aa"
      },
      "source": [
        "# DICTONARY"
      ]
    },
    {
      "cell_type": "code",
      "execution_count": null,
      "id": "30354af1",
      "metadata": {
        "id": "30354af1",
        "outputId": "5f9de63e-b507-4d05-c1ed-1ea920c57f69"
      },
      "outputs": [
        {
          "name": "stdout",
          "output_type": "stream",
          "text": [
            "{'name': 'koushik', 'age': 18, 'college': 'gitam'}\n"
          ]
        }
      ],
      "source": [
        "a={\n",
        "    \"name\":\"koushik\",  ### format for building the sets\n",
        "    \"age\":18,\n",
        "    \"college\":\"gitam\"\n",
        "}\n",
        "print(a)"
      ]
    },
    {
      "cell_type": "code",
      "execution_count": null,
      "id": "27b2ff7e",
      "metadata": {
        "id": "27b2ff7e",
        "outputId": "279e5877-4288-44b4-ace9-4863b0f4508f"
      },
      "outputs": [
        {
          "name": "stdout",
          "output_type": "stream",
          "text": [
            "koushik\n",
            "18\n",
            "3\n"
          ]
        }
      ],
      "source": [
        "a={\n",
        "    \"name\":\"koushik\",  ### format for building the dicitonary\n",
        "    \"age\":18,\n",
        "    \"college\":\"gitam\"\n",
        "}\n",
        "print(a[\"name\"])\n",
        "print(a[\"age\"])\n",
        "print(len(a))### shows the len of the dict\n",
        "print(type(a))"
      ]
    },
    {
      "cell_type": "code",
      "execution_count": null,
      "id": "0ce35042",
      "metadata": {
        "id": "0ce35042",
        "outputId": "c705caf1-0576-41b6-cdb4-42dd7b791bb1"
      },
      "outputs": [
        {
          "name": "stdout",
          "output_type": "stream",
          "text": [
            "koushik 18\n"
          ]
        }
      ],
      "source": [
        "a={\n",
        "    \"name\":\"koushik\", \n",
        "    \"age\":18,\n",
        "    \"college\":\"gitam\"\n",
        "}\n",
        "b=a[\"name\"]\n",
        "c=a.get(\"age\")\n",
        "print(b,c)"
      ]
    },
    {
      "cell_type": "code",
      "execution_count": null,
      "id": "0c5722e8",
      "metadata": {
        "id": "0c5722e8",
        "outputId": "c33260cd-5c9d-4e2f-ee18-32be65b2c8f6"
      },
      "outputs": [
        {
          "name": "stdout",
          "output_type": "stream",
          "text": [
            "dict_keys(['name', 'age', 'college'])\n"
          ]
        }
      ],
      "source": [
        "a={\n",
        "    \"name\":\"koushik\", \n",
        "    \"age\":18,\n",
        "    \"college\":\"gitam\"\n",
        "}\n",
        "print(a.keys())### this is the keys function used to displa all thge key words\n",
        "a[\"friend\"]=\" sike kiran\" ### this is a way of addition kes in dict\n",
        "print(a.)"
      ]
    },
    {
      "cell_type": "code",
      "execution_count": null,
      "id": "9a29f838",
      "metadata": {
        "id": "9a29f838",
        "outputId": "59ed6f77-59af-41cd-bf27-b2fa482083fa"
      },
      "outputs": [
        {
          "name": "stdout",
          "output_type": "stream",
          "text": [
            "dict_values(['koushik', 18, 'gitam'])\n",
            "dict_values(['koushik', 18, 'gitam', 'vskp']) dict_keys(['name', 'age', 'college', 'place'])\n"
          ]
        }
      ],
      "source": [
        "a={\n",
        "    \"name\":\"koushik\", \n",
        "    \"age\":18,\n",
        "    \"college\":\"gitam\"\n",
        "}\n",
        "print(a.values())\n",
        "a[\"place\"]=\"vskp\"\n",
        "print(a.values(),a.keys())"
      ]
    },
    {
      "cell_type": "code",
      "execution_count": null,
      "id": "ea9c164a",
      "metadata": {
        "id": "ea9c164a",
        "outputId": "c0f3b089-f28a-48ce-8862-32a5523903c1"
      },
      "outputs": [
        {
          "name": "stdout",
          "output_type": "stream",
          "text": [
            "dict_items([('name', 'koushik'), ('age', 18), ('college', 'gitam')])\n"
          ]
        }
      ],
      "source": [
        "a={\n",
        "    \"name\":\"koushik\", \n",
        "    \"age\":18,\n",
        "    \"college\":\"gitam\"\n",
        "}\n",
        "print(a.items())"
      ]
    },
    {
      "cell_type": "code",
      "execution_count": null,
      "id": "4004518f",
      "metadata": {
        "id": "4004518f",
        "outputId": "8d560e75-da23-4dd6-cb8d-0cdca193b09b"
      },
      "outputs": [
        {
          "name": "stdout",
          "output_type": "stream",
          "text": [
            "yes\n"
          ]
        }
      ],
      "source": [
        "a={\n",
        "    \"name\":\"koushik\", \n",
        "    \"age\":18,\n",
        "    \"college\":\"gitam\"\n",
        "}\n",
        "if \"age\" in a:\n",
        "    print(\"yes\")"
      ]
    },
    {
      "cell_type": "code",
      "execution_count": null,
      "id": "6eec6314",
      "metadata": {
        "id": "6eec6314",
        "outputId": "d30d05d5-7520-4689-8155-821cf0b55f50"
      },
      "outputs": [
        {
          "name": "stdout",
          "output_type": "stream",
          "text": [
            "{'name': 'koushik', 'age': 18, 'college': 'gitam', 'place': 'vskp'}\n",
            "{'name': 'koushik', 'age': 19, 'college': 'gitam', 'place': 'vskp'}\n"
          ]
        }
      ],
      "source": [
        "a={\n",
        "    \"name\":\"koushik\", \n",
        "    \"age\":18,\n",
        "    \"college\":\"gitam\"\n",
        "}\n",
        "a.update({\"place\":\"vskp\"}) ### it is used to update the list\n",
        "print(a)\n",
        "a.update({\"age\":19}) ### it is also used to update the list\n",
        "print(a)"
      ]
    },
    {
      "cell_type": "code",
      "execution_count": null,
      "id": "a9ae629b",
      "metadata": {
        "id": "a9ae629b",
        "outputId": "c10a9624-51e0-45cd-896d-f1cfa3bcf794"
      },
      "outputs": [
        {
          "name": "stdout",
          "output_type": "stream",
          "text": [
            "{'name': 'koushik', 'college': 'gitam'}\n"
          ]
        }
      ],
      "source": [
        "a={\n",
        "    \"name\":\"koushik\", \n",
        "    \"age\":18,\n",
        "    \"college\":\"gitam\"\n",
        "}\n",
        "a.pop(\"age\") ### this is used to remove the elements from the dict\n",
        "print(a)"
      ]
    },
    {
      "cell_type": "code",
      "execution_count": null,
      "id": "2d88ac6c",
      "metadata": {
        "id": "2d88ac6c",
        "outputId": "0ea73e3f-75e8-4153-c8ba-7cc7270a6f90"
      },
      "outputs": [
        {
          "name": "stdout",
          "output_type": "stream",
          "text": [
            "name\n",
            "age\n",
            "college\n"
          ]
        }
      ],
      "source": [
        "a={\n",
        "    \"name\":\"koushik\", \n",
        "    \"age\":18,\n",
        "    \"college\":\"gitam\"\n",
        "}\n",
        "for x in a:\n",
        "    print(x)"
      ]
    },
    {
      "cell_type": "code",
      "execution_count": null,
      "id": "a6ced0d0",
      "metadata": {
        "id": "a6ced0d0",
        "outputId": "6e045974-5ac1-4585-d610-3c8b11aa1991"
      },
      "outputs": [
        {
          "name": "stdout",
          "output_type": "stream",
          "text": [
            "{'name': 'koushik', 'age': 18, 'college': 'gitam', 'marks': '100'}\n"
          ]
        }
      ],
      "source": [
        "a={\n",
        "    \"name\":\"koushik\", \n",
        "    \"age\":18,\n",
        "    \"college\":\"gitam\"\n",
        "}\n",
        "a.update({\"marks\":\"100\"})\n",
        "print(a)"
      ]
    },
    {
      "cell_type": "code",
      "execution_count": null,
      "id": "99086451",
      "metadata": {
        "id": "99086451",
        "outputId": "80b1090c-08ce-46e4-debf-90204079aff8"
      },
      "outputs": [
        {
          "name": "stdout",
          "output_type": "stream",
          "text": [
            "dict_items([('name', 'koushik'), ('age', 18), ('college', 'gitam')])\n",
            "('name', 'koushik')\n",
            "('age', 18)\n",
            "('college', 'gitam')\n"
          ]
        }
      ],
      "source": [
        "a={\n",
        "    \"name\":\"koushik\", \n",
        "    \"age\":18,\n",
        "    \"college\":\"gitam\"\n",
        "}\n",
        "print(a.items())\n",
        "for x in a.items():\n",
        "    print(x)"
      ]
    },
    {
      "cell_type": "code",
      "execution_count": null,
      "id": "66e1d220",
      "metadata": {
        "id": "66e1d220",
        "outputId": "31a2ed35-14f5-4097-8125-2997ecc5def0"
      },
      "outputs": [
        {
          "name": "stdout",
          "output_type": "stream",
          "text": [
            "name koushik\n",
            "age 18\n",
            "college gitam\n"
          ]
        }
      ],
      "source": [
        "a={\n",
        "    \"name\":\"koushik\", \n",
        "    \"age\":18,\n",
        "    \"college\":\"gitam\"\n",
        "}\n",
        "for x,y in a.items():\n",
        "    print(x,y)"
      ]
    },
    {
      "cell_type": "code",
      "execution_count": null,
      "id": "e51a0008",
      "metadata": {
        "id": "e51a0008",
        "outputId": "a682ff4f-99e5-48ba-a651-216ea92e0e27"
      },
      "outputs": [
        {
          "name": "stdout",
          "output_type": "stream",
          "text": [
            "name\n",
            "age\n",
            "college\n"
          ]
        }
      ],
      "source": [
        "a={\n",
        "    \"name\":\"koushik\", \n",
        "    \"age\":18,\n",
        "    \"college\":\"gitam\"\n",
        "}\n",
        "for x in a.keys():\n",
        "    print(x)"
      ]
    },
    {
      "cell_type": "code",
      "execution_count": null,
      "id": "7e3332b4",
      "metadata": {
        "id": "7e3332b4",
        "outputId": "95f4ad05-9e79-43cd-b2f3-5fd4633d54ad"
      },
      "outputs": [
        {
          "name": "stdout",
          "output_type": "stream",
          "text": [
            "{'s1': {'name': 'koushik', 'age': '18', 'collge': 'gitam'}, 's2': {'name': 'ftghdgde', 'age': '18', 'collge': 'gitam'}, 's3': {'name': 'dffffff', 'age': '18', 'collge': 'gitam'}}\n"
          ]
        }
      ],
      "source": [
        "collge={\n",
        "    \"s1\":{\n",
        "        \"name\":\"koushik\",\n",
        "        \"age\":\"18\",\n",
        "        \"collge\":\"gitam\"\n",
        "    },\n",
        "    \"s2\":{\n",
        "         \"name\":\"ftghdgde\",\n",
        "        \"age\":\"18\",\n",
        "        \"collge\":\"gitam\"\n",
        "    },\n",
        "    \"s3\":{\n",
        "         \"name\":\"dffffff\",\n",
        "        \"age\":\"18\",\n",
        "        \"collge\":\"gitam\"\n",
        "    },\n",
        "    \n",
        "}\n",
        "print(collge)"
      ]
    },
    {
      "cell_type": "code",
      "execution_count": null,
      "id": "16e53334",
      "metadata": {
        "id": "16e53334",
        "outputId": "2a09f81a-ef03-468f-ce4d-47436ef5aa2f"
      },
      "outputs": [
        {
          "name": "stdout",
          "output_type": "stream",
          "text": [
            "{'s1': ({'name': 'koushik', 'age': '18', 'collge': 'gitam'},), 's2': ({'name': 'koushik', 'age': '18', 'collge': 'gitam'},), 's3': {'name': 'koushik', 'age': '18', 'collge': 'gitam'}}\n"
          ]
        }
      ],
      "source": [
        "s1={\n",
        "     \"name\":\"koushik\",\n",
        "        \"age\":\"18\",\n",
        "        \"collge\":\"gitam\"\n",
        "},\n",
        "s2={\n",
        "     \"name\":\"koushik\",\n",
        "        \"age\":\"18\",\n",
        "        \"collge\":\"gitam\"\n",
        "},\n",
        "s3={\n",
        "     \"name\":\"koushik\",\n",
        "        \"age\":\"18\",\n",
        "        \"collge\":\"gitam\"\n",
        "}\n",
        "college={\n",
        "    \"s1\":s1,\n",
        "    \"s2\":s2,\n",
        "    \"s3\":s3\n",
        "}\n",
        "print(college)"
      ]
    },
    {
      "cell_type": "code",
      "execution_count": null,
      "id": "ee6179bf",
      "metadata": {
        "id": "ee6179bf",
        "outputId": "d13b8219-45ce-4115-f00b-2c5d162b3497"
      },
      "outputs": [
        {
          "name": "stdout",
          "output_type": "stream",
          "text": [
            "{'name': 'koushik', 'age': 18, 'college': 'gitam'}\n"
          ]
        }
      ],
      "source": [
        "a={\n",
        "    \"name\":\"koushik\", \n",
        "    \"age\":18,\n",
        "    \"college\":\"gitam\"\n",
        "}\n",
        "b=a.copy()\n",
        "print(b)"
      ]
    },
    {
      "cell_type": "code",
      "execution_count": null,
      "id": "4e9437c9",
      "metadata": {
        "id": "4e9437c9",
        "outputId": "b175d0d7-5bba-4dc8-dfe3-0deadd6ddf5f"
      },
      "outputs": [
        {
          "name": "stdout",
          "output_type": "stream",
          "text": [
            "{'s1': {'name': 'koushik', 'age': '18', 'college': 'gitam'}, 's2': {'name': 'sgsdgsdfsf', 'age': '17', 'college': 'afsfsf'}}\n"
          ]
        }
      ],
      "source": [
        "college={\n",
        "    \"s1\":{\n",
        "        \"name\":\"koushik\",\n",
        "        \"age\":\"18\",\n",
        "\"college\":\"gitam\"    \n",
        "    },\n",
        "    \"s2\":{\n",
        "        \"name\":\"sgsdgsdfsf\",\n",
        "        \"age\":\"17\",\n",
        "        \"college\":\"afsfsf\"\n",
        "    }\n",
        "}\n",
        "print(college)"
      ]
    },
    {
      "cell_type": "markdown",
      "id": "6ee096a1",
      "metadata": {
        "id": "6ee096a1"
      },
      "source": [
        "# MODULE 2"
      ]
    },
    {
      "cell_type": "code",
      "execution_count": null,
      "id": "190130b9",
      "metadata": {
        "id": "190130b9"
      },
      "outputs": [],
      "source": [
        "a=[1,2,3,4,5,6]\n"
      ]
    },
    {
      "cell_type": "code",
      "execution_count": null,
      "id": "d3c64a57",
      "metadata": {
        "id": "d3c64a57",
        "outputId": "82536d76-ef14-470b-c960-ca62301ae78b"
      },
      "outputs": [
        {
          "name": "stdout",
          "output_type": "stream",
          "text": [
            "enter the command roll: roll\n",
            "4\n",
            "4\n",
            "6\n",
            "2\n",
            "6\n",
            "6\n"
          ]
        }
      ],
      "source": [
        "import random\n",
        "a=input(\"enter the command roll: \")\n",
        "if \"roll\"==a:\n",
        "    for x in range (6):\n",
        "        a=random.randint(1,6)\n",
        "        print(a)"
      ]
    },
    {
      "cell_type": "markdown",
      "id": "69dc1ab2",
      "metadata": {
        "id": "69dc1ab2"
      },
      "source": [
        "# FUNCTIONS"
      ]
    },
    {
      "cell_type": "code",
      "execution_count": null,
      "id": "0fb75574",
      "metadata": {
        "id": "0fb75574",
        "outputId": "8a75b6f5-6b01-4f4b-9aaa-edc9f2b6189d"
      },
      "outputs": [
        {
          "name": "stdout",
          "output_type": "stream",
          "text": [
            "koushik\n"
          ]
        }
      ],
      "source": [
        "def koushik():\n",
        "    print(\"koushik\")\n",
        "koushik()"
      ]
    },
    {
      "cell_type": "code",
      "execution_count": null,
      "id": "1728e7e4",
      "metadata": {
        "id": "1728e7e4",
        "outputId": "c2aa01b9-5cdc-41e1-8565-c3a6c248bdb4"
      },
      "outputs": [
        {
          "name": "stdout",
          "output_type": "stream",
          "text": [
            "koushik 8 36\n",
            "kiran 19 31\n"
          ]
        }
      ],
      "source": [
        "def name(name,age,roll):\n",
        "    print(name,age,roll)\n",
        "name(\"koushik\",8,36)\n",
        "name(\"kiran\",19,31)"
      ]
    },
    {
      "cell_type": "code",
      "execution_count": null,
      "id": "07e32560",
      "metadata": {
        "id": "07e32560",
        "outputId": "f27da478-15ae-4c17-8d75-0216cb0bd3a7"
      },
      "outputs": [
        {
          "name": "stdout",
          "output_type": "stream",
          "text": [
            "info of the students 19\n"
          ]
        }
      ],
      "source": [
        "def student(*info):\n",
        "    print(\"info of the students\",info[1])\n",
        "student(\"koushik\",19,4,2021) ### only strings are sccepted but not the strings\n"
      ]
    },
    {
      "cell_type": "code",
      "execution_count": null,
      "id": "cb3ee2a4",
      "metadata": {
        "id": "cb3ee2a4",
        "outputId": "187d89a1-eb43-44ce-ada6-2a83afeaebcb"
      },
      "outputs": [
        {
          "name": "stdout",
          "output_type": "stream",
          "text": [
            "2021\n"
          ]
        }
      ],
      "source": [
        "def student(name,age,year):\n",
        "    print(year)\n",
        "student(year=2021,name=\"koushik\",age=18)"
      ]
    },
    {
      "cell_type": "code",
      "execution_count": null,
      "id": "bfde68ed",
      "metadata": {
        "id": "bfde68ed",
        "outputId": "d0e9d9f0-3edb-42d9-c693-4cc928ce2287"
      },
      "outputs": [
        {
          "name": "stdout",
          "output_type": "stream",
          "text": [
            "student 18\n"
          ]
        }
      ],
      "source": [
        "def student(**info):\n",
        "    print(\"student\",info[\"age\"])\n",
        "student(name=\"koushik\",age=18,year=2021)"
      ]
    },
    {
      "cell_type": "code",
      "execution_count": null,
      "id": "3946dd50",
      "metadata": {
        "id": "3946dd50",
        "outputId": "20a070a4-780d-4c6b-c7db-9cca7164aa03"
      },
      "outputs": [
        {
          "ename": "SyntaxError",
          "evalue": "invalid syntax (Temp/ipykernel_2328/965067153.py, line 1)",
          "output_type": "error",
          "traceback": [
            "\u001b[1;36m  File \u001b[1;32m\"C:\\Users\\CSE22004\\AppData\\Local\\Temp/ipykernel_2328/965067153.py\"\u001b[1;36m, line \u001b[1;32m1\u001b[0m\n\u001b[1;33m    def student(**info ==\"enter data\"):\u001b[0m\n\u001b[1;37m                       ^\u001b[0m\n\u001b[1;31mSyntaxError\u001b[0m\u001b[1;31m:\u001b[0m invalid syntax\n"
          ]
        }
      ],
      "source": [
        "def student(**info ==\"enter data\"):\n",
        "    print(info[\"name\"],info[\"age\"])\n",
        "student(name=\"koushik\",age=18)\n",
        "student(name=\"kiran\",age=19)"
      ]
    },
    {
      "cell_type": "code",
      "execution_count": null,
      "id": "d754c8bd",
      "metadata": {
        "id": "d754c8bd",
        "outputId": "6d29ad6b-32bd-4d4e-eb1f-91f16e33d726"
      },
      "outputs": [
        {
          "name": "stdout",
          "output_type": "stream",
          "text": [
            "enter the name\n",
            "koushik\n",
            "kiran\n"
          ]
        }
      ],
      "source": [
        "def student(name=\"enter the name\"):\n",
        "      print(name)\n",
        "student()\n",
        "student(\"koushik\")\n",
        "student(\"kiran\")"
      ]
    },
    {
      "cell_type": "code",
      "execution_count": null,
      "id": "606fe024",
      "metadata": {
        "id": "606fe024",
        "outputId": "36c4f75a-1e6b-41fc-c0a0-890142ba9922"
      },
      "outputs": [
        {
          "name": "stdout",
          "output_type": "stream",
          "text": [
            "koushik\n",
            "kiran\n"
          ]
        }
      ],
      "source": [
        "def students(name):\n",
        "    for x in name:\n",
        "        print(x)\n",
        "names=[\"koushik\",\"kiran\"]\n",
        "students(names)"
      ]
    },
    {
      "cell_type": "code",
      "execution_count": null,
      "id": "ae43c785",
      "metadata": {
        "id": "ae43c785",
        "outputId": "f20b006d-cc4b-4c3e-a8b9-12b5cafca7a7"
      },
      "outputs": [
        {
          "name": "stdout",
          "output_type": "stream",
          "text": [
            "9\n",
            "11\n"
          ]
        }
      ],
      "source": [
        "def sum(a,b):\n",
        "   return a+b\n",
        "print(sum(3,6))\n",
        "print(sum(5,6))\n",
        "    "
      ]
    },
    {
      "cell_type": "code",
      "execution_count": null,
      "id": "6abd0a03",
      "metadata": {
        "id": "6abd0a03"
      },
      "outputs": [],
      "source": [
        "def number(n,r):\n",
        "    while i<=r\n",
        "        return (n-i*(n-(i+1))*(n-O())"
      ]
    },
    {
      "cell_type": "markdown",
      "id": "6712f541",
      "metadata": {
        "id": "6712f541"
      },
      "source": [
        "# module 2"
      ]
    },
    {
      "cell_type": "code",
      "execution_count": null,
      "id": "73cb4d85",
      "metadata": {
        "id": "73cb4d85",
        "outputId": "00db5790-136d-4238-bf38-151702ebbcd3"
      },
      "outputs": [
        {
          "name": "stdout",
          "output_type": "stream",
          "text": [
            "stting\n"
          ]
        }
      ],
      "source": [
        "a=\"string\"\n",
        "print(a.replace(\"r\",\"t\"))\n"
      ]
    },
    {
      "cell_type": "code",
      "execution_count": null,
      "id": "d7fb5730",
      "metadata": {
        "id": "d7fb5730",
        "outputId": "4627dccd-cfce-4802-aef4-c610ac5bd8ab"
      },
      "outputs": [
        {
          "name": "stdout",
          "output_type": "stream",
          "text": [
            "[5, 7]\n"
          ]
        }
      ],
      "source": [
        "a=[3,5,7,9]\n",
        "b=[2,3,8,9]\n",
        "c=[]\n",
        "for x in a:\n",
        "    if x not in b:\n",
        "        c.append(x)\n",
        "print(c)"
      ]
    },
    {
      "cell_type": "code",
      "execution_count": null,
      "id": "5dda2753",
      "metadata": {
        "id": "5dda2753",
        "outputId": "c5e16123-dcbc-4b0a-f3e0-6ae318170c5a"
      },
      "outputs": [
        {
          "name": "stdout",
          "output_type": "stream",
          "text": [
            "enter the number6\n",
            "{0: 0, 1: 1, 2: 4, 3: 9, 4: 16, 5: 25, 6: 36}\n"
          ]
        }
      ],
      "source": [
        "a=dict()\n",
        "b=int(input(\"enter the number\"))\n",
        "for x in range(b+1):\n",
        "    a[x]=x*x\n",
        "print(a)"
      ]
    },
    {
      "cell_type": "code",
      "execution_count": null,
      "id": "aa24101b",
      "metadata": {
        "id": "aa24101b",
        "outputId": "09bc218e-fcd1-45b4-b1f1-6b5adffca27d"
      },
      "outputs": [
        {
          "name": "stdout",
          "output_type": "stream",
          "text": [
            "{'name': 'koushik', 'age': 18}\n"
          ]
        }
      ],
      "source": [
        "a={\n",
        "    \"name\":\"koushik\",\n",
        "    \"age\":18,\n",
        "    \"year\":2021   \n",
        "}\n",
        "a.pop(\"year\")\n",
        "print(a)"
      ]
    },
    {
      "cell_type": "code",
      "execution_count": null,
      "id": "191fe5a0",
      "metadata": {
        "id": "191fe5a0",
        "outputId": "5172d80c-bf99-48b5-8856-fe55ec573651"
      },
      "outputs": [
        {
          "name": "stdout",
          "output_type": "stream",
          "text": [
            "3\n"
          ]
        }
      ],
      "source": [
        "a=\"I have to go to a doctor and get myself checked.\"\n",
        "print(a.count(\"to\"))"
      ]
    },
    {
      "cell_type": "code",
      "execution_count": null,
      "id": "d818bc08",
      "metadata": {
        "id": "d818bc08",
        "outputId": "405ee254-a9a0-4045-cb29-3810286cfe49"
      },
      "outputs": [
        {
          "name": "stdout",
          "output_type": "stream",
          "text": [
            "[(4,), (8, 6, 7), (1,), (3, 4, 6, 7)]\n"
          ]
        }
      ],
      "source": [
        "a= [(4, 5), (4,), (8, 6, 7), (1,), (3, 4, 6, 7)]\n",
        "b=[]\n",
        "k=2\n",
        "for x in a:\n",
        "    if len(x)==k:\n",
        "        a.remove(x)\n",
        "print(a)"
      ]
    },
    {
      "cell_type": "code",
      "execution_count": null,
      "id": "7663a194",
      "metadata": {
        "id": "7663a194",
        "outputId": "24b036af-2a39-4d0c-e9b6-01cf631a1940"
      },
      "outputs": [
        {
          "name": "stdout",
          "output_type": "stream",
          "text": [
            "the lower values 3\n",
            "higher values 2\n"
          ]
        }
      ],
      "source": [
        "def string(a):\n",
        "    u=0;l=0\n",
        "    for x in a :\n",
        "        if x.isupper():\n",
        "            u=u+1\n",
        "        else:\n",
        "            l=l+1\n",
        "    print(\"the lower values\",l)\n",
        "    print(\"higher values\",u)\n",
        "string(\"KiRan\")"
      ]
    },
    {
      "cell_type": "code",
      "execution_count": null,
      "id": "bd7cf35d",
      "metadata": {
        "id": "bd7cf35d",
        "outputId": "65b11ec5-b2e6-4756-a733-17bf309f95d2"
      },
      "outputs": [
        {
          "name": "stdout",
          "output_type": "stream",
          "text": [
            "enter the value of 10\n",
            "enter the value of r8\n",
            "45.0\n"
          ]
        }
      ],
      "source": [
        "def ncr(n,r):\n",
        "    return fact(n)/(fact(r)*fact(n-r))\n",
        "def fact(n):\n",
        "    fact=1\n",
        "    for i in range(1,n+1):\n",
        "        fact=fact*i\n",
        "    return fact\n",
        "a=int(input(\"enter the value of n \"))\n",
        "b=int(input(\"enter the value of r\"))\n",
        "print(ncr(a,b))"
      ]
    },
    {
      "cell_type": "code",
      "execution_count": null,
      "id": "1bbfe6f6",
      "metadata": {
        "id": "1bbfe6f6",
        "outputId": "a3075a3b-e1d7-429f-ea84-85fcdf14f70b"
      },
      "outputs": [
        {
          "name": "stdout",
          "output_type": "stream",
          "text": [
            "enter the first number5\n",
            "enter the second number2\n",
            "gcd of two numbers is  1\n"
          ]
        }
      ],
      "source": [
        "def gcd(a,b):\n",
        "    if b==0:\n",
        "        return a\n",
        "    else:\n",
        "        return gcd(b,a%b)\n",
        "a=int(input(\"enter the first number\"))\n",
        "b=int(input(\"enter the second number\"))\n",
        "GCD=gcd(a,b)\n",
        "print(\"gcd of two numbers is \",GCD)"
      ]
    },
    {
      "cell_type": "code",
      "execution_count": null,
      "id": "6a783361",
      "metadata": {
        "id": "6a783361",
        "outputId": "d1f4c376-aa68-4e67-f98f-1ed38ce5a69d"
      },
      "outputs": [
        {
          "name": "stdout",
          "output_type": "stream",
          "text": [
            "enter the number5\n",
            "enter second number2\n",
            "product of two numbers 10\n"
          ]
        }
      ],
      "source": [
        "def pro(a,b):\n",
        "    if a<b:\n",
        "        return pro(b,a)\n",
        "    elif b!=0:\n",
        "        return (a+pro(a,b-1))\n",
        "    else:\n",
        "        return 0\n",
        "a=int(input(\"enter the number\"))\n",
        "b=int(input(\"enter second number\"))\n",
        "print(\"product of two numbers\",pro(a,b))"
      ]
    },
    {
      "cell_type": "code",
      "execution_count": null,
      "id": "b798e92a",
      "metadata": {
        "id": "b798e92a",
        "outputId": "a8fd76f8-d6e3-4431-9496-6f812a79dc92"
      },
      "outputs": [
        {
          "name": "stdout",
          "output_type": "stream",
          "text": [
            "enter the number of terms10\n",
            "0\n",
            "1\n",
            "1\n",
            "2\n",
            "3\n",
            "5\n",
            "8\n",
            "13\n",
            "21\n",
            "34\n",
            "55\n"
          ]
        }
      ],
      "source": [
        "def fibo(n):\n",
        "    if n<=1:\n",
        "        return n\n",
        "    else:\n",
        "        return (fibo(n-1)+fibo(n-2))\n",
        "n=int(input(\"enter the number of terms\"))\n",
        "if n<=0:\n",
        "    print(\"enter the number with min values\")\n",
        "else:\n",
        "    for i in range(n+1):\n",
        "        print(fibo(i))"
      ]
    },
    {
      "cell_type": "code",
      "execution_count": null,
      "id": "395bd377",
      "metadata": {
        "id": "395bd377",
        "outputId": "271df801-fc29-4930-9587-971802170429"
      },
      "outputs": [
        {
          "name": "stdout",
          "output_type": "stream",
          "text": [
            "[(9, 81.0), (3, 9.0), (6, 36.0)]\n"
          ]
        }
      ],
      "source": [
        "import math\n",
        "a=[9,3,6]\n",
        "b=[]\n",
        "for x in a:\n",
        "    b.append((x,math.pow(x,2)))\n",
        "print(b)\n",
        "    "
      ]
    },
    {
      "cell_type": "code",
      "execution_count": null,
      "id": "c6e5ce38",
      "metadata": {
        "id": "c6e5ce38",
        "outputId": "a8ae45ef-3a2c-4256-a8a2-9ad5f070c35c"
      },
      "outputs": [
        {
          "name": "stdout",
          "output_type": "stream",
          "text": [
            "enter the number12\n",
            "enter the last number15\n",
            "12\n",
            "13\n",
            "14\n"
          ]
        }
      ],
      "source": [
        "a=int(input(\"enter the number\"))\n",
        "b=int(input(\"enter the last number\"))\n",
        "if a<b:\n",
        "    for x in range(a,b):\n",
        "         print(x)\n",
        "  \n"
      ]
    },
    {
      "cell_type": "code",
      "execution_count": null,
      "id": "16fc06e3",
      "metadata": {
        "id": "16fc06e3",
        "outputId": "1b927a43-b56c-4724-c5aa-18ce07d24e68"
      },
      "outputs": [
        {
          "name": "stdout",
          "output_type": "stream",
          "text": [
            "121123145\n"
          ]
        }
      ],
      "source": [
        "a=[121,123,145]\n",
        "b=\"\"\n",
        "for x in a:\n",
        "    b=b+str(x)\n",
        "print(b) ### static method"
      ]
    },
    {
      "cell_type": "markdown",
      "id": "e330b500",
      "metadata": {
        "id": "e330b500"
      },
      "source": [
        "# ASSIGNMENT"
      ]
    },
    {
      "cell_type": "code",
      "execution_count": null,
      "id": "3e25395a",
      "metadata": {
        "id": "3e25395a",
        "outputId": "3007020f-9339-40ee-fd90-5bb84aa28fef"
      },
      "outputs": [
        {
          "name": "stdout",
          "output_type": "stream",
          "text": [
            "8.0\n"
          ]
        }
      ],
      "source": [
        "import math\n",
        "n=2;p=3\n",
        "print(math.pow(2,3))"
      ]
    },
    {
      "cell_type": "code",
      "execution_count": null,
      "id": "5bd60c3a",
      "metadata": {
        "id": "5bd60c3a",
        "outputId": "b735fd10-c204-4772-ea7f-2f673d147a07"
      },
      "outputs": [
        {
          "name": "stdout",
          "output_type": "stream",
          "text": [
            "[(1, 2), (3, 4, 6, 723), (134, 234, 34)]\n"
          ]
        }
      ],
      "source": [
        "list=[(3,4,6,723),(1,2),(134,234,34)]\n",
        "list.sort()\n",
        "print(list)"
      ]
    },
    {
      "cell_type": "code",
      "execution_count": null,
      "id": "f3e3e753",
      "metadata": {
        "id": "f3e3e753",
        "outputId": "8a7d02ba-0e1e-493e-daf8-2b24a877370d"
      },
      "outputs": [
        {
          "name": "stdout",
          "output_type": "stream",
          "text": [
            "enter the number1\n",
            "enter the number10\n",
            "enter the number20\n",
            "1\n"
          ]
        }
      ],
      "source": [
        "a=int(input(\"enter the number\"))\n",
        "b=int(input(\"enter the number\"))\n",
        "c=int(input(\"enter the number\"))\n",
        "d=[a,b,c]\n",
        "k=d.copy()\n",
        "d.sort()\n",
        "e=d.copy()\n",
        "if k==e:\n",
        "    print(\"1\")\n",
        "else:\n",
        "    print(\"0\")"
      ]
    },
    {
      "cell_type": "code",
      "execution_count": null,
      "id": "a1949d30",
      "metadata": {
        "id": "a1949d30",
        "outputId": "b57edf9d-6632-4889-e86d-43cb4e0e7caf"
      },
      "outputs": [
        {
          "name": "stdout",
          "output_type": "stream",
          "text": [
            "enter the number123\n",
            "6\n"
          ]
        }
      ],
      "source": [
        "a=int(input(\"enter the number\"))\n",
        "fact=1\n",
        "while a>0:\n",
        "    i=a%10\n",
        "    fact=fact*i\n",
        "    a=a//10\n",
        "print(fact)"
      ]
    },
    {
      "cell_type": "code",
      "execution_count": null,
      "id": "b6e9de6e",
      "metadata": {
        "id": "b6e9de6e",
        "outputId": "1eb58a54-9308-4339-c4b4-5757cf062873"
      },
      "outputs": [
        {
          "name": "stdout",
          "output_type": "stream",
          "text": [
            "a\n",
            "b\n",
            "c\n",
            "e\n",
            "c\n",
            "b\n",
            "a\n",
            "number of digits which are in same sequence is: 7\n"
          ]
        }
      ],
      "source": [
        "s=\"abcdefcba\"\n",
        "n=len(s)\n",
        "i=0\n",
        "for x in range(len(s)):\n",
        "    if s[x]==s[n-1]:\n",
        "        print(s[x])\n",
        "        i=i+1\n",
        "    x=x+1\n",
        "    n=n-1\n",
        "print(\"number of digits which are in same sequence is:\",i)"
      ]
    },
    {
      "cell_type": "code",
      "execution_count": null,
      "id": "01608f53",
      "metadata": {
        "id": "01608f53",
        "outputId": "be6a0f94-0ed1-4f95-f587-6389c39b2242"
      },
      "outputs": [
        {
          "name": "stdout",
          "output_type": "stream",
          "text": [
            "5\n",
            "2\n",
            "2\n"
          ]
        }
      ],
      "source": [
        "a=int(input(\"\"))\n",
        "b=int(input(\"\"))\n",
        "gcd=1\n",
        "i=1\n",
        "while(i<=a and i<=b):\n",
        "    if(a%i==0 and b%i==0):\n",
        "        gcd=gcd+1\n",
        "    i=i+1\n",
        "print(gcd)"
      ]
    },
    {
      "cell_type": "code",
      "execution_count": null,
      "id": "e463727f",
      "metadata": {
        "id": "e463727f",
        "outputId": "b52ff7ad-b9b6-4620-a434-a14193263ee1"
      },
      "outputs": [
        {
          "name": "stdout",
          "output_type": "stream",
          "text": [
            "50\n",
            "45\n",
            "21\n",
            "78\n",
            "65\n"
          ]
        },
        {
          "ename": "TypeError",
          "evalue": "unsupported operand type(s) for //: 'str' and 'int'",
          "output_type": "error",
          "traceback": [
            "\u001b[1;31m---------------------------------------------------------------------------\u001b[0m",
            "\u001b[1;31mTypeError\u001b[0m                                 Traceback (most recent call last)",
            "\u001b[1;32m~\\AppData\\Local\\Temp/ipykernel_6732/1871326073.py\u001b[0m in \u001b[0;36m<module>\u001b[1;34m\u001b[0m\n\u001b[0;32m      5\u001b[0m \u001b[0me\u001b[0m\u001b[1;33m=\u001b[0m\u001b[0minput\u001b[0m\u001b[1;33m(\u001b[0m\u001b[1;34m\"\"\u001b[0m\u001b[1;33m)\u001b[0m\u001b[1;33m\u001b[0m\u001b[1;33m\u001b[0m\u001b[0m\n\u001b[0;32m      6\u001b[0m \u001b[0mtotal\u001b[0m\u001b[1;33m=\u001b[0m\u001b[0ma\u001b[0m\u001b[1;33m+\u001b[0m\u001b[0mb\u001b[0m\u001b[1;33m+\u001b[0m\u001b[0mc\u001b[0m\u001b[1;33m+\u001b[0m\u001b[0md\u001b[0m\u001b[1;33m+\u001b[0m\u001b[0me\u001b[0m\u001b[1;33m\u001b[0m\u001b[1;33m\u001b[0m\u001b[0m\n\u001b[1;32m----> 7\u001b[1;33m \u001b[0mavg\u001b[0m\u001b[1;33m=\u001b[0m\u001b[0mtotal\u001b[0m\u001b[1;33m//\u001b[0m\u001b[1;36m5\u001b[0m\u001b[1;33m\u001b[0m\u001b[1;33m\u001b[0m\u001b[0m\n\u001b[0m\u001b[0;32m      8\u001b[0m \u001b[1;32mif\u001b[0m \u001b[0mavg\u001b[0m\u001b[1;33m>=\u001b[0m\u001b[1;36m90\u001b[0m \u001b[1;32mand\u001b[0m \u001b[0mavg\u001b[0m\u001b[1;33m<=\u001b[0m\u001b[1;36m100\u001b[0m\u001b[1;33m:\u001b[0m\u001b[1;33m\u001b[0m\u001b[1;33m\u001b[0m\u001b[0m\n\u001b[0;32m      9\u001b[0m     \u001b[0mprint\u001b[0m\u001b[1;33m(\u001b[0m\u001b[1;34m\"O\"\u001b[0m\u001b[1;33m)\u001b[0m\u001b[1;33m\u001b[0m\u001b[1;33m\u001b[0m\u001b[0m\n",
            "\u001b[1;31mTypeError\u001b[0m: unsupported operand type(s) for //: 'str' and 'int'"
          ]
        }
      ],
      "source": [
        "a=input(\"\")\n",
        "b=input(\"\")\n",
        "c=input(\"\")\n",
        "d=input(\"\")\n",
        "e=input(\"\")\n",
        "total=a+b+c+d+e\n",
        "avg=total//5\n",
        "if avg>=90 and avg<=100:\n",
        "    print(\"O\")\n",
        "elif avg>=80 and avg<=89:\n",
        "    print(\"A+\")\n",
        "elif avg>=70 and avg<=79:\n",
        "    print(\"A \")\n",
        "elif avg>=60 and avg<=69:\n",
        "    print(\"B+\")\n",
        "elif avg>=40 and avg<=59:\n",
        "    print(\"C\")\n",
        "else:\n",
        "    print(\"F\")"
      ]
    },
    {
      "cell_type": "code",
      "execution_count": null,
      "id": "9e90ff50",
      "metadata": {
        "id": "9e90ff50",
        "outputId": "0834bb56-a955-41cd-ab17-c72126277be6"
      },
      "outputs": [
        {
          "name": "stdout",
          "output_type": "stream",
          "text": [
            "80\n",
            "90\n",
            "60\n",
            "100\n",
            "50\n",
            "A \n"
          ]
        }
      ],
      "source": [
        "a=int(input(\"\"))\n",
        "b=int(input(\"\"))\n",
        "c=int(input(\"\"))\n",
        "d=int(input(\"\"))\n",
        "e=int(input(\"\"))\n",
        "total=a+b+c+d+e\n",
        "avg=total//5\n",
        "if avg>=90 and avg<=100:\n",
        "    print(\"O\")\n",
        "elif avg>=80 and avg<=89:\n",
        "    print(\"A+\")\n",
        "elif avg>=70 and avg<=79:\n",
        "    print(\"A \")\n",
        "elif avg>=60 and avg<=69:\n",
        "    print(\"B+\")\n",
        "elif avg>=40 and avg<=59:\n",
        "    print(\"C\")\n",
        "else:\n",
        "    print(\"F\")"
      ]
    },
    {
      "cell_type": "markdown",
      "id": "f79494d7",
      "metadata": {
        "id": "f79494d7"
      },
      "source": [
        "# FILES"
      ]
    },
    {
      "cell_type": "code",
      "execution_count": null,
      "id": "8f236912",
      "metadata": {
        "id": "8f236912",
        "outputId": "4d49d501-ed65-4d83-d564-37f07f29c5ca"
      },
      "outputs": [
        {
          "name": "stdout",
          "output_type": "stream",
          "text": [
            "kiran\n"
          ]
        }
      ],
      "source": [
        "k=open(\"koushik\",\"w\")\n",
        "k.write(\"kiran\")\n",
        "k.close()\n",
        "k=open(\"koushik\",\"r\")\n",
        "print(k.read())"
      ]
    },
    {
      "cell_type": "code",
      "execution_count": null,
      "id": "47270dbc",
      "metadata": {
        "id": "47270dbc",
        "outputId": "f9fcb5e2-3cbb-405c-d95b-70b91b8f15e7"
      },
      "outputs": [
        {
          "name": "stdout",
          "output_type": "stream",
          "text": [
            "hi everyone this is koushik \n",
            "\n",
            " this is koushik\n"
          ]
        }
      ],
      "source": [
        "f=open(\"koushik.txt\",\"w\")\n",
        "f.write(\"hi everyone this is koushik \\n this is koushik\")\n",
        "f.close()\n",
        "f=open(\"koushik.txt\",\"r\")\n",
        "print(f.readline())\n",
        "print(f.readline()) \n",
        "f.close()"
      ]
    },
    {
      "cell_type": "code",
      "execution_count": null,
      "id": "86ccd710",
      "metadata": {
        "id": "86ccd710",
        "outputId": "be9ff06f-7653-4f10-8f67-61f32706ad7b"
      },
      "outputs": [
        {
          "name": "stdout",
          "output_type": "stream",
          "text": [
            "true\n"
          ]
        }
      ],
      "source": [
        "import os\n",
        "if os.path.exists(\"koushik.txt\"):\n",
        "    os.remove(\"koushik.txt\")\n",
        "else:\n",
        "    print(\"false\")\n"
      ]
    },
    {
      "cell_type": "code",
      "execution_count": null,
      "id": "248f6b2b",
      "metadata": {
        "id": "248f6b2b"
      },
      "outputs": [],
      "source": [
        "import os\n",
        "os.rmdir(\"C:\\\\Users\\CSE22004\\Documents\\Python Scripts\")\n"
      ]
    },
    {
      "cell_type": "code",
      "execution_count": null,
      "id": "0c6fc778",
      "metadata": {
        "id": "0c6fc778",
        "outputId": "847b706b-f6ff-4dd7-92ae-127fc9f4c33c"
      },
      "outputs": [
        {
          "ename": "FileNotFoundError",
          "evalue": "[Errno 2] No such file or directory: 'C:\\\\Users\\\\CSE22004\\\\Desktop\\\\96\\\\kiran'",
          "output_type": "error",
          "traceback": [
            "\u001b[1;31m---------------------------------------------------------------------------\u001b[0m",
            "\u001b[1;31mFileNotFoundError\u001b[0m                         Traceback (most recent call last)",
            "\u001b[1;32m~\\AppData\\Local\\Temp/ipykernel_9580/1969339660.py\u001b[0m in \u001b[0;36m<module>\u001b[1;34m\u001b[0m\n\u001b[1;32m----> 1\u001b[1;33m \u001b[0mf\u001b[0m\u001b[1;33m=\u001b[0m\u001b[0mopen\u001b[0m\u001b[1;33m(\u001b[0m\u001b[1;34m\"C:\\\\Users\\CSE22004\\Desktop\\96\\kiran\"\u001b[0m\u001b[1;33m)\u001b[0m\u001b[1;33m\u001b[0m\u001b[1;33m\u001b[0m\u001b[0m\n\u001b[0m\u001b[0;32m      2\u001b[0m \u001b[0mprint\u001b[0m\u001b[1;33m(\u001b[0m\u001b[0mf\u001b[0m\u001b[1;33m.\u001b[0m\u001b[0mread\u001b[0m\u001b[1;33m(\u001b[0m\u001b[1;33m)\u001b[0m\u001b[1;33m)\u001b[0m\u001b[1;33m\u001b[0m\u001b[1;33m\u001b[0m\u001b[0m\n",
            "\u001b[1;31mFileNotFoundError\u001b[0m: [Errno 2] No such file or directory: 'C:\\\\Users\\\\CSE22004\\\\Desktop\\\\96\\\\kiran'"
          ]
        }
      ],
      "source": [
        "f=open(\"C:\\\\Users\\CSE22004\\Desktop\\96\\kiran\")\n",
        "print(f.read())"
      ]
    },
    {
      "cell_type": "code",
      "execution_count": null,
      "id": "5d1dca4d",
      "metadata": {
        "id": "5d1dca4d",
        "outputId": "70d88b43-d06e-4a4d-e9c3-6e48c8e2340c"
      },
      "outputs": [
        {
          "name": "stdout",
          "output_type": "stream",
          "text": [
            "write hello\n"
          ]
        }
      ],
      "source": [
        "f=open(\"hello\",\"w\")\n",
        "f.write(\"write hello\")\n",
        "f.close()\n",
        "f=open(\"hello\",\"r\")\n",
        "print(f.read())"
      ]
    },
    {
      "cell_type": "code",
      "execution_count": null,
      "id": "5b3dfb32",
      "metadata": {
        "id": "5b3dfb32"
      },
      "outputs": [],
      "source": [
        "f=open(\"C:\\\\Users\\CSE22004\\Desktop\\hello.txt\",\"w\")\n",
        "f.write(\"it works\")\n",
        "f.close()"
      ]
    },
    {
      "cell_type": "code",
      "execution_count": null,
      "id": "2aede91b",
      "metadata": {
        "id": "2aede91b",
        "outputId": "c48e6d57-7de3-446f-a6a3-3656e95c5ca3"
      },
      "outputs": [
        {
          "name": "stdout",
          "output_type": "stream",
          "text": [
            "nope\n"
          ]
        }
      ],
      "source": [
        "import os\n",
        "if os.path.exists(\"C:\\\\Users\\CSE22004\\Desktop\\96\\kiran.txt\"):\n",
        "    os.remove(\"C:\\\\Users\\CSE22004\\Desktop\\96\\kiran.txt\")\n",
        "else:\n",
        "    print(\"nope\")"
      ]
    },
    {
      "cell_type": "code",
      "execution_count": null,
      "id": "84e094f5",
      "metadata": {
        "id": "84e094f5"
      },
      "outputs": [],
      "source": [
        "import os\n",
        "os.rmdir(\"C:\\\\Users\\CSE22004\\Desktop\\kiransike\")"
      ]
    },
    {
      "cell_type": "code",
      "execution_count": null,
      "id": "2d4d2bde",
      "metadata": {
        "id": "2d4d2bde",
        "outputId": "3be645eb-cd4c-42b8-e26f-244b611a78c5"
      },
      "outputs": [
        {
          "name": "stdout",
          "output_type": "stream",
          "text": [
            "fiuaghdfukiashdiua\n",
            "\n"
          ]
        }
      ],
      "source": [
        "f=open(\"C:\\\\Users\\CSE22004\\Desktop\\kiransike\\hello.txt\",\"r\")\n",
        "print(f.read())\n",
        "f.close()"
      ]
    },
    {
      "cell_type": "code",
      "execution_count": null,
      "id": "fdf1c126",
      "metadata": {
        "id": "fdf1c126"
      },
      "outputs": [],
      "source": [
        "import os\n",
        "if os.path.exists(\"C:\\\\Users\\CSE22004\\Desktop\\kiransike\\hello.txt\"):\n",
        "    os.remove(\"C:\\\\Users\\CSE22004\\Desktop\\kiransike\\hello.txt\")\n",
        "else:\n",
        "    print(\"nope\")\n",
        "os.rmdir(\"C:\\\\Users\\CSE22004\\Desktop\\kiransike\")"
      ]
    },
    {
      "cell_type": "markdown",
      "id": "b6ed999f",
      "metadata": {
        "id": "b6ed999f"
      },
      "source": [
        "# MODULE 3"
      ]
    },
    {
      "cell_type": "code",
      "execution_count": null,
      "id": "d233a7a3",
      "metadata": {
        "id": "d233a7a3",
        "outputId": "e9e60a8c-110b-495b-a455-5327f0ff4c88"
      },
      "outputs": [
        {
          "name": "stdout",
          "output_type": "stream",
          "text": [
            "this is koushik\n"
          ]
        }
      ],
      "source": [
        "#f=open(\"D:\\\\readfile.txt\",\"r\")\n",
        "#print(f.read())\n",
        "f=open(\"demo.txt\",\"w\")\n",
        "f.write(\"this is koushik\")\n",
        "f.close()\n",
        "f=open(\"demo.txt\",\"r\")\n",
        "print(f.read())\n"
      ]
    },
    {
      "cell_type": "code",
      "execution_count": null,
      "id": "835fe115",
      "metadata": {
        "id": "835fe115",
        "outputId": "06912c72-5603-4c69-958f-6a9a8fb93688"
      },
      "outputs": [
        {
          "name": "stdout",
          "output_type": "stream",
          "text": [
            "this is koushik\n"
          ]
        }
      ],
      "source": [
        "f=open(\"demo.txt\",\"w\")\n",
        "f.write(\"this is koushik\")\n",
        "f.close()\n",
        "f=open(\"demo.txt\",\"r\")\n",
        "print(f.readline())\n"
      ]
    },
    {
      "cell_type": "code",
      "execution_count": null,
      "id": "81361edb",
      "metadata": {
        "id": "81361edb",
        "outputId": "78c77941-cb85-4a18-f279-efba34e9abbb"
      },
      "outputs": [
        {
          "name": "stdout",
          "output_type": "stream",
          "text": [
            "this is koushik\n",
            "this is koushikthis is kiran\n"
          ]
        }
      ],
      "source": [
        "f=open(\"demo.txt\",\"w\")\n",
        "f.write(\"this is koushik\")\n",
        "f.close()\n",
        "f=open(\"demo.txt\",\"r\")\n",
        "print(f.readline())\n",
        "f.close()\n",
        "f=open(\"demo.txt\",\"a\") ###append \n",
        "f.write(\"this is kiran\")\n",
        "f.close()\n",
        "f=open(\"demo.txt\",\"r\")\n",
        "print(f.read())\n"
      ]
    },
    {
      "cell_type": "code",
      "execution_count": null,
      "id": "89078c8f",
      "metadata": {
        "id": "89078c8f",
        "outputId": "c7965585-1ef3-4833-c8f5-81542c57a635"
      },
      "outputs": [
        {
          "name": "stdout",
          "output_type": "stream",
          "text": [
            "['f', 'a', 'f', 'a', 'f', 'a', 'f', 'f', 'a', 'f', 'd']\n",
            " 0\n"
          ]
        }
      ],
      "source": [
        "f=open(\"hey.txt\",\"w\")\n",
        "f.write(\"f a f a f a f f a f d\")\n",
        "f.close()\n",
        "f=open(\"hey.txt\",\"r\")\n",
        "c=0\n",
        "z=\"\"\n",
        "print(f.read().split())\n",
        "\"\"`\"\"for x in f.read().split():\n",
        "    z=z+x\n",
        "    if \"f\"==x:\n",
        "        c=c+1\n",
        "print(z,c)"
      ]
    },
    {
      "cell_type": "code",
      "execution_count": null,
      "id": "c764b882",
      "metadata": {
        "id": "c764b882",
        "outputId": "af765005-e273-4d53-c91d-3e051cdc2626"
      },
      "outputs": [
        {
          "name": "stdout",
          "output_type": "stream",
          "text": [
            "koushik\n"
          ]
        }
      ],
      "source": [
        "f=open(\"kou.txt\",\"w\")\n",
        "f.write(\"koushik\")\n",
        "f.close()\n",
        "g=open(\"kou.txt\",\"r\")\n",
        "b=g.read()\n",
        "g.close()\n",
        "f=open(\"kiran.txt\",\"w\")\n",
        "f.write(b)\n",
        "f.close()\n",
        "f=open(\"kiran.txt\",\"r\")\n",
        "print(f.read())"
      ]
    },
    {
      "cell_type": "code",
      "execution_count": null,
      "id": "6feff695",
      "metadata": {
        "id": "6feff695",
        "outputId": "30aa9d4e-57b5-4c7b-d4f4-25d4cfebfa11"
      },
      "outputs": [
        {
          "name": "stdout",
          "output_type": "stream",
          "text": [
            "abc\n"
          ]
        }
      ],
      "source": [
        "x=[\"a\",\"b\",\"c\"]\n",
        "b=\"\"\n",
        "for x in x:\n",
        "     b=b+(x)\n",
        "print(b)\n",
        "        "
      ]
    },
    {
      "cell_type": "code",
      "execution_count": null,
      "id": "5d3107a7",
      "metadata": {
        "id": "5d3107a7",
        "outputId": "23be9b8b-cede-487e-f86f-321a4df24eed"
      },
      "outputs": [
        {
          "name": "stdout",
          "output_type": "stream",
          "text": [
            "['acb', 'cbd']\n"
          ]
        }
      ],
      "source": [
        "s=\"acb cbd\"\n",
        "a=s.split().copy()\n",
        "print(a)"
      ]
    },
    {
      "cell_type": "code",
      "execution_count": null,
      "id": "410742a5",
      "metadata": {
        "id": "410742a5"
      },
      "outputs": [],
      "source": [
        ""
      ]
    }
  ],
  "metadata": {
    "kernelspec": {
      "display_name": "Python 3 (ipykernel)",
      "language": "python",
      "name": "python3"
    },
    "language_info": {
      "codemirror_mode": {
        "name": "ipython",
        "version": 3
      },
      "file_extension": ".py",
      "mimetype": "text/x-python",
      "name": "python",
      "nbconvert_exporter": "python",
      "pygments_lexer": "ipython3",
      "version": "3.9.7"
    },
    "colab": {
      "name": "Untitled.ipynb",
      "provenance": [],
      "include_colab_link": true
    }
  },
  "nbformat": 4,
  "nbformat_minor": 5
}