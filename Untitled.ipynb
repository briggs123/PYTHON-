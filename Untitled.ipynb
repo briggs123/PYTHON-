{
  "cells": [
    {
      "cell_type": "markdown",
      "metadata": {
        "id": "view-in-github",
        "colab_type": "text"
      },
      "source": [
        "<a href=\"https://colab.research.google.com/github/briggs123/PYTHON-/blob/main/Untitled.ipynb\" target=\"_parent\"><img src=\"https://colab.research.google.com/assets/colab-badge.svg\" alt=\"Open In Colab\"/></a>"
      ]
    },
    {
      "cell_type": "markdown",
      "id": "d0dd3617",
      "metadata": {
        "id": "d0dd3617"
      },
      "source": [
        "### MODULE-1"
      ]
    },
    {
      "cell_type": "code",
      "execution_count": null,
      "id": "086b91b6",
      "metadata": {
        "id": "086b91b6",
        "outputId": "b3d765ef-5333-44c0-a3d2-27874e6b357d"
      },
      "outputs": [
        {
          "name": "stdout",
          "output_type": "stream",
          "text": [
            "enter the number6\n",
            "it is a palindrome\n"
          ]
        }
      ],
      "source": [
        "a=int(input(\"enter the number\"))\n",
        "rev=0\n",
        "temp=a\n",
        "while temp>0:\n",
        "  rem=temp%10\n",
        "  rev=(rev*10)+rem\n",
        "  temp=temp//10\n",
        "if a==rev:\n",
        "  print(\"it is a palindrome\")\n",
        "else:\n",
        "  print(\"not a palindrome\")"
      ]
    },
    {
      "cell_type": "code",
      "execution_count": null,
      "id": "f175e59a",
      "metadata": {
        "id": "f175e59a",
        "outputId": "fd03fd6d-b899-4bec-cb2c-73298b906bb3"
      },
      "outputs": [
        {
          "name": "stdout",
          "output_type": "stream",
          "text": [
            "enter the number6\n",
            "perfect number\n"
          ]
        }
      ],
      "source": [
        "a=int(input(\"enter the number\"))\n",
        "sum=0\n",
        "for i in range(1,a):\n",
        "  if a%i==0:\n",
        "     sum=sum+i\n",
        "if sum==a:\n",
        "  print(\"perfect number\")\n",
        "else:\n",
        "  print(\"not a perfect number\")"
      ]
    },
    {
      "cell_type": "code",
      "execution_count": null,
      "id": "4dcef258",
      "metadata": {
        "id": "4dcef258",
        "outputId": "16654c79-0d62-4a13-9cb8-6bf759d8efd5"
      },
      "outputs": [
        {
          "name": "stdout",
          "output_type": "stream",
          "text": [
            "-5\n",
            "-4\n",
            "16.0\n",
            "3.0\n",
            "1.0\n",
            "5.66\n",
            "-4\n"
          ]
        }
      ],
      "source": [
        "import math\n",
        "a=-4.56\n",
        "print(math.floor(a))\n",
        "print(math.ceil(a))\n",
        "print(math.pow(4,2))\n",
        "print(math.sqrt(9))\n",
        "print(math.fmod(10,3))\n",
        "print(math.fabs(-5.66))\n",
        "print(math.trunc(a))\n"
      ]
    },
    {
      "cell_type": "code",
      "execution_count": null,
      "id": "aa81b44d",
      "metadata": {
        "id": "aa81b44d",
        "outputId": "f4d3fab8-9f36-4966-deb6-84745c390ed8"
      },
      "outputs": [
        {
          "name": "stdout",
          "output_type": "stream",
          "text": [
            "enter principal amount5000\n",
            "enter rate of intrest18\n",
            "amount of years5\n",
            "1 year intrest si is 900.0\n",
            "1 year intrest ci is 5900.0\n",
            "2 year intrest si is 1800.0\n",
            "2 year intrest ci is 6961.999999999999\n",
            "3 year intrest si is 2700.0\n",
            "3 year intrest ci is 8215.16\n",
            "4 year intrest si is 3600.0\n",
            "4 year intrest ci is 9693.888799999997\n",
            "5 year intrest si is 4500.0\n",
            "5 year intrest ci is 11438.788783999998\n"
          ]
        }
      ],
      "source": [
        "import math\n",
        "p=int(input(\"enter principal amount\"))\n",
        "r=int(input(\"enter rate of intrest\"))\n",
        "t=int(input(\"amount of years\"))\n",
        "for i in range(1,t+1):\n",
        "    si=(p*i*r)/100\n",
        "    print(i,\"year intrest si is\",si)\n",
        "    ci=p*(math.pow(1+r/100,i))\n",
        "    print(i,\"year intrest ci is\",ci)"
      ]
    },
    {
      "cell_type": "markdown",
      "id": "34c059f3",
      "metadata": {
        "id": "34c059f3"
      },
      "source": [
        "# TUPLE"
      ]
    },
    {
      "cell_type": "code",
      "execution_count": null,
      "id": "7cc46092",
      "metadata": {
        "id": "7cc46092",
        "outputId": "3b87ad51-2897-462f-efb8-ba80464cf5ca"
      },
      "outputs": [
        {
          "name": "stdout",
          "output_type": "stream",
          "text": [
            "['test', 'kiran', 'hello', 'code']\n"
          ]
        }
      ],
      "source": [
        "a=(\"koushik\",\"hello\",\"kiran\")\n",
        "b=list(a)\n",
        "b.append(\"test\")\n",
        "b.insert(2,\"code\")\n",
        "b.remove(\"koushik\")\n",
        "b.sort(reverse=True)\n",
        "print(b)"
      ]
    },
    {
      "cell_type": "code",
      "execution_count": null,
      "id": "b9e8c0b2",
      "metadata": {
        "id": "b9e8c0b2",
        "outputId": "7f77f39b-ca3f-4bc5-c7d5-2ec482172851"
      },
      "outputs": [
        {
          "name": "stdout",
          "output_type": "stream",
          "text": [
            "('apple',)\n",
            "('apple', 'green')\n"
          ]
        }
      ],
      "source": [
        "a=(\"apple\",)### , is used to create a single tuple\n",
        "print(a)\n",
        "b=(\"green\",)\n",
        "c=a+b\n",
        "print(c)"
      ]
    },
    {
      "cell_type": "code",
      "execution_count": null,
      "id": "5b88c9c5",
      "metadata": {
        "id": "5b88c9c5",
        "outputId": "3d42103f-a3d4-41ca-c9a5-5b108e0dd046"
      },
      "outputs": [
        {
          "name": "stdout",
          "output_type": "stream",
          "text": [
            "apple mango papaya\n"
          ]
        }
      ],
      "source": [
        "a=(\"apple\",\"mango\",\"papaya\")\n",
        "(red,yellow,orange)=a\n",
        "print(red,yellow,orange)"
      ]
    },
    {
      "cell_type": "code",
      "execution_count": null,
      "id": "b21871c1",
      "metadata": {
        "id": "b21871c1",
        "outputId": "e7eead18-2c8b-4f21-c8f5-3f23371de992"
      },
      "outputs": [
        {
          "name": "stdout",
          "output_type": "stream",
          "text": [
            "apple ['mango', 'papaya', 'hello', 'hi'] he\n"
          ]
        }
      ],
      "source": [
        "a=(\"apple\",\"mango\",\"papaya\",\"hello\",\"hi\",\"he\")\n",
        "(red,*yellow,b)=a\n",
        "print(red,yellow,b)"
      ]
    },
    {
      "cell_type": "code",
      "execution_count": null,
      "id": "5988b3e6",
      "metadata": {
        "id": "5988b3e6",
        "outputId": "cd06d7aa-190e-41c1-a967-9c6aedb29d7c"
      },
      "outputs": [
        {
          "name": "stdout",
          "output_type": "stream",
          "text": [
            "apple\n",
            "mango\n",
            "papaya\n",
            "hello\n",
            "hi\n",
            "he\n"
          ]
        }
      ],
      "source": [
        "a=(\"apple\",\"mango\",\"papaya\",\"hello\",\"hi\",\"he\")\n",
        "for i in a:\n",
        "    print(i)"
      ]
    },
    {
      "cell_type": "code",
      "execution_count": null,
      "id": "1863c65f",
      "metadata": {
        "id": "1863c65f",
        "outputId": "90df074b-3335-43f4-c8cb-c09a6e7e7869"
      },
      "outputs": [
        {
          "name": "stdout",
          "output_type": "stream",
          "text": [
            "apple\n",
            "mango\n",
            "papaya\n",
            "hello\n",
            "hi\n",
            "he\n"
          ]
        }
      ],
      "source": [
        "a=(\"apple\",\"mango\",\"papaya\",\"hello\",\"hi\",\"he\")\n",
        "for x in range(len(a)):\n",
        "    print(a[x])"
      ]
    },
    {
      "cell_type": "code",
      "execution_count": null,
      "id": "778d3123",
      "metadata": {
        "id": "778d3123",
        "outputId": "846e8276-46c9-4465-f9f6-d801caac1466"
      },
      "outputs": [
        {
          "name": "stdout",
          "output_type": "stream",
          "text": [
            "yes\n"
          ]
        }
      ],
      "source": [
        "a=(\"apple\",\"mango\",\"papaya\",\"hello\",\"hi\",\"he\")\n",
        "if \"apple\" in a:\n",
        "    print(\"yes\")"
      ]
    },
    {
      "cell_type": "code",
      "execution_count": null,
      "id": "4108c77b",
      "metadata": {
        "id": "4108c77b",
        "outputId": "231af200-a1f0-45a3-da5c-94d9ee5817c5"
      },
      "outputs": [
        {
          "name": "stdout",
          "output_type": "stream",
          "text": [
            "('apple', 'mango', 'papaya', 'hello', 'hi', 'he', 'koushik', 'kiran')\n",
            "('koushik', 'kiran', 'koushik', 'kiran', 'koushik', 'kiran')\n"
          ]
        }
      ],
      "source": [
        "a=(\"apple\",\"mango\",\"papaya\",\"hello\",\"hi\",\"he\")\n",
        "b=(\"koushik\",\"kiran\")\n",
        "print(a+b)\n",
        "print(b*3)"
      ]
    },
    {
      "cell_type": "code",
      "execution_count": null,
      "id": "44bfc3d4",
      "metadata": {
        "id": "44bfc3d4",
        "outputId": "daa49aa7-dc52-4b40-882e-9e06ca8f375b"
      },
      "outputs": [
        {
          "name": "stdout",
          "output_type": "stream",
          "text": [
            "enter the number145\n",
            "145\n",
            "yes it is strong number\n"
          ]
        }
      ],
      "source": [
        "a=int(input(\"enter the number\"))\n",
        "sum=0\n",
        "temp=a\n",
        "while (temp>0):\n",
        "    fact=1\n",
        "    i=1\n",
        "    rem=temp%10\n",
        "    while i<=rem:\n",
        "        fact=fact*i\n",
        "        i=i+1\n",
        "    sum=sum+fact\n",
        "    temp=temp//10\n",
        "print(sum)\n",
        "if a==sum:\n",
        "    print(\"yes it is strong number\")\n",
        "else:\n",
        "    print(\"no\")"
      ]
    },
    {
      "cell_type": "code",
      "execution_count": null,
      "id": "d8d5b74a",
      "metadata": {
        "id": "d8d5b74a",
        "outputId": "1e63df55-126e-4f2e-dd9d-f372116d625b"
      },
      "outputs": [
        {
          "name": "stdout",
          "output_type": "stream",
          "text": [
            "enter the number5\n",
            "120\n"
          ]
        }
      ],
      "source": [
        "a=int(input(\"enter the number\"))\n",
        "fact=1\n",
        "for i in range(1,a+1):\n",
        "    fact=fact*i\n",
        "print(fact)\n",
        "    "
      ]
    },
    {
      "cell_type": "code",
      "execution_count": null,
      "id": "45436c9a",
      "metadata": {
        "id": "45436c9a",
        "outputId": "b1356e58-bc4f-4f60-f042-2aabfc27cbba"
      },
      "outputs": [
        {
          "name": "stdout",
          "output_type": "stream",
          "text": [
            " Please Enter any Number: 145\n",
            "\n",
            " Factorial of 5 = 120\n",
            "\n",
            " Factorial of 4 = 120\n",
            "\n",
            " Factorial of 1 = 120\n",
            " 145 is not\n"
          ]
        }
      ],
      "source": [
        "Number = int(input(\" Please Enter any Number: \"))\n",
        "Sum = 0\n",
        "Temp = Number\n",
        "Factorial = 1\n",
        "i = 1\n",
        "while(Temp > 0):\n",
        "    Reminder = Temp % 10\n",
        "    while(i <= Reminder):\n",
        "        Factorial = Factorial * i\n",
        "        i = i + 1\n",
        "\n",
        "    print(\"\\n Factorial of %d = %d\" %(Reminder, Factorial))\n",
        "    Sum = Sum + Factorial\n",
        "    Temp = Temp // 10\n",
        "if (Sum == Number):\n",
        "    print(\" %d is a Strong Number\" %Number)\n",
        "else:\n",
        "    print(\" %d is not\" %Number)\n"
      ]
    },
    {
      "cell_type": "markdown",
      "id": "ced9637e",
      "metadata": {
        "id": "ced9637e"
      },
      "source": [
        "# sets"
      ]
    },
    {
      "cell_type": "code",
      "execution_count": null,
      "id": "1962c438",
      "metadata": {
        "id": "1962c438",
        "outputId": "7ce24122-cd73-4806-eb83-771eb546c13d"
      },
      "outputs": [
        {
          "name": "stdout",
          "output_type": "stream",
          "text": [
            "{1, 2, 3, 4, 5}\n"
          ]
        }
      ],
      "source": [
        "a={1,2,3,4,5,5,5,5,5}## duplicates are not allowed in sets\n",
        "print(a)"
      ]
    },
    {
      "cell_type": "code",
      "execution_count": null,
      "id": "7a5a5098",
      "metadata": {
        "id": "7a5a5098",
        "outputId": "582e10b3-c40e-4ce4-c616-18297f9137d2"
      },
      "outputs": [
        {
          "name": "stdout",
          "output_type": "stream",
          "text": [
            "<class 'set'> 5\n"
          ]
        }
      ],
      "source": [
        "a={1,2,3,4,5,5,5,5,5}\n",
        "print(type(a),len(a))"
      ]
    },
    {
      "cell_type": "code",
      "execution_count": null,
      "id": "bd03ee27",
      "metadata": {
        "id": "bd03ee27",
        "outputId": "cfd2b97b-460d-43ed-bbb8-51dbfcec7d9c"
      },
      "outputs": [
        {
          "name": "stdout",
          "output_type": "stream",
          "text": [
            "1\n",
            "2\n",
            "3\n",
            "4\n",
            "5\n"
          ]
        }
      ],
      "source": [
        "a={1,2,3,4,5,5,5,5,5}\n",
        "for x in a:\n",
        "    print(x)"
      ]
    },
    {
      "cell_type": "code",
      "execution_count": null,
      "id": "9fe29b71",
      "metadata": {
        "id": "9fe29b71",
        "outputId": "63b53ded-78a6-4b16-9bb6-3aa20d75c880"
      },
      "outputs": [
        {
          "name": "stdout",
          "output_type": "stream",
          "text": [
            "{1, 2, 3, 4, 5, 99}\n"
          ]
        }
      ],
      "source": [
        "a={1,2,3,4,5,5,5,5,5}\n",
        "a.add(99) ### used for addition of elements\n",
        "print(a)"
      ]
    },
    {
      "cell_type": "code",
      "execution_count": null,
      "id": "94640042",
      "metadata": {
        "id": "94640042",
        "outputId": "197ebe38-37c6-4b95-c6c5-b0aa3f53f3de"
      },
      "outputs": [
        {
          "name": "stdout",
          "output_type": "stream",
          "text": [
            "{1, 2, 3, 4, 5, 'c', 'b', 'a', 'd', 'koushik'}\n"
          ]
        }
      ],
      "source": [
        "a={1,2,3,4,5,5,5,5,5}\n",
        "b={\"a\",\"b\",\"c\",\"d\"}\n",
        "c=[\"koushik\"]\n",
        "a.update(b)### update is used to join the lists\n",
        "a.update(c)\n",
        "print(a)"
      ]
    },
    {
      "cell_type": "code",
      "execution_count": null,
      "id": "e1a79445",
      "metadata": {
        "id": "e1a79445",
        "outputId": "d74eb0dc-356b-483e-8503-e6deef14efc7"
      },
      "outputs": [
        {
          "name": "stdout",
          "output_type": "stream",
          "text": [
            "1\n",
            "{2, 3, 4}\n",
            "set()\n"
          ]
        }
      ],
      "source": [
        "a={1,2,3,4,5,5,5,5,5}\n",
        "a.remove(5)### remove will raise error if its not present\n",
        "a.discard(8)### discard will not raise a error if its not present\n",
        "b=a.pop() ### this removes the element and that is stored in the b\n",
        "print(b)\n",
        "print(a)\n",
        "a.clear()### this clears the set\n",
        "print(a)\n",
        "del a### this deleted the set"
      ]
    },
    {
      "cell_type": "code",
      "execution_count": null,
      "id": "0576f51f",
      "metadata": {
        "id": "0576f51f",
        "outputId": "26ff51a0-e7a8-4c06-862e-59406a737074"
      },
      "outputs": [
        {
          "name": "stdout",
          "output_type": "stream",
          "text": [
            "{1, 2, 3, 4, 5}\n",
            "{1, 2, 3, 4, 5}\n"
          ]
        }
      ],
      "source": [
        "a={1,2,3,4,5,5,5,5,5}\n",
        "b={\"a\",\"b\",\"c\",\"d\",1}\n",
        "a.union(b)### combines all the elements\n",
        "print(a)\n",
        "a.intersection(b) ### only shows the common element\n",
        "print(a)"
      ]
    },
    {
      "cell_type": "code",
      "execution_count": null,
      "id": "bed8dd58",
      "metadata": {
        "id": "bed8dd58",
        "outputId": "7d14749c-d0c5-4ede-e4e4-8a5c2872acfe"
      },
      "outputs": [
        {
          "name": "stdout",
          "output_type": "stream",
          "text": [
            "{1, 2, 3, 4, 5}\n"
          ]
        }
      ],
      "source": [
        "a={1,2,3,4,5,5,5,5,5}\n",
        "b=a.copy()### this copys the elments of the set\n",
        "print(b)"
      ]
    },
    {
      "cell_type": "code",
      "execution_count": null,
      "id": "ac77f61d",
      "metadata": {
        "id": "ac77f61d",
        "outputId": "7a8787c3-d938-4f53-cab5-43914797da87"
      },
      "outputs": [
        {
          "name": "stdout",
          "output_type": "stream",
          "text": [
            "False\n",
            "False\n",
            "False\n"
          ]
        }
      ],
      "source": [
        "a={1,2,3,4,5,5,5,5,5}\n",
        "b={1,3,6,8}\n",
        "print(a.isdisjoint(b))\n",
        "print(b.issubset(a))\n",
        "print(a.issuperset(b))"
      ]
    },
    {
      "cell_type": "code",
      "execution_count": null,
      "id": "b0e3a8b0",
      "metadata": {
        "id": "b0e3a8b0",
        "outputId": "c47d8a73-2fb2-41f6-8f94-2fb86979fda2"
      },
      "outputs": [
        {
          "name": "stdout",
          "output_type": "stream",
          "text": [
            "{33, 2, 3, 4, 5, 7, 9}\n"
          ]
        }
      ],
      "source": [
        "a={1,2,3,4,5,5,5,5,5}\n",
        "b={1,7,9,33}\n",
        "print(a.symmetric_difference(b))\n"
      ]
    },
    {
      "cell_type": "markdown",
      "id": "1ff668aa",
      "metadata": {
        "id": "1ff668aa"
      },
      "source": [
        "# DICTONARY"
      ]
    },
    {
      "cell_type": "code",
      "execution_count": null,
      "id": "30354af1",
      "metadata": {
        "id": "30354af1",
        "outputId": "b8ea6441-34e7-47d7-a0eb-09b4f4401487"
      },
      "outputs": [
        {
          "name": "stdout",
          "output_type": "stream",
          "text": [
            "{'name': 'koushik', 'age': 18, 'college': 'gitam'}\n"
          ]
        }
      ],
      "source": [
        "a={\n",
        "    \"name\":\"koushik\",  ### format for building the sets\n",
        "    \"age\":18,\n",
        "    \"college\":\"gitam\"\n",
        "}\n",
        "print(a)"
      ]
    },
    {
      "cell_type": "code",
      "execution_count": null,
      "id": "27b2ff7e",
      "metadata": {
        "id": "27b2ff7e",
        "outputId": "324d3492-d5ac-480a-ff2c-02d4e5430491"
      },
      "outputs": [
        {
          "name": "stdout",
          "output_type": "stream",
          "text": [
            "koushik\n",
            "18\n",
            "3\n"
          ]
        }
      ],
      "source": [
        "a={\n",
        "    \"name\":\"koushik\",  ### format for building the dicitonary\n",
        "    \"age\":18,\n",
        "    \"college\":\"gitam\"\n",
        "}\n",
        "print(a[\"name\"])\n",
        "print(a[\"age\"])\n",
        "print(len(a))### shows the len of the dict\n",
        "print(type(a))"
      ]
    },
    {
      "cell_type": "code",
      "execution_count": null,
      "id": "0ce35042",
      "metadata": {
        "id": "0ce35042",
        "outputId": "939843df-4511-4b41-c531-242c9341c7ba"
      },
      "outputs": [
        {
          "name": "stdout",
          "output_type": "stream",
          "text": [
            "koushik 18\n"
          ]
        }
      ],
      "source": [
        "a={\n",
        "    \"name\":\"koushik\", \n",
        "    \"age\":18,\n",
        "    \"college\":\"gitam\"\n",
        "}\n",
        "b=a[\"name\"]\n",
        "c=a.get(\"age\")\n",
        "print(b,c)"
      ]
    },
    {
      "cell_type": "code",
      "execution_count": null,
      "id": "0c5722e8",
      "metadata": {
        "id": "0c5722e8",
        "outputId": "d3eb0007-bcff-4e44-cc7f-7b31689a58aa"
      },
      "outputs": [
        {
          "name": "stdout",
          "output_type": "stream",
          "text": [
            "dict_keys(['name', 'age', 'college'])\n"
          ]
        }
      ],
      "source": [
        "a={\n",
        "    \"name\":\"koushik\", \n",
        "    \"age\":18,\n",
        "    \"college\":\"gitam\"\n",
        "}\n",
        "print(a.keys())### this is the keys function used to displa all thge key words\n",
        "a[\"friend\"]=\" sike kiran\" ### this is a way of addition kes in dict\n",
        "print(a.)"
      ]
    },
    {
      "cell_type": "code",
      "execution_count": null,
      "id": "9a29f838",
      "metadata": {
        "id": "9a29f838",
        "outputId": "0b61881b-2079-458f-cee4-0a50443feed0"
      },
      "outputs": [
        {
          "name": "stdout",
          "output_type": "stream",
          "text": [
            "dict_values(['koushik', 18, 'gitam'])\n",
            "dict_values(['koushik', 18, 'gitam', 'vskp']) dict_keys(['name', 'age', 'college', 'place'])\n"
          ]
        }
      ],
      "source": [
        "a={\n",
        "    \"name\":\"koushik\", \n",
        "    \"age\":18,\n",
        "    \"college\":\"gitam\"\n",
        "}\n",
        "print(a.values())\n",
        "a[\"place\"]=\"vskp\"\n",
        "print(a.values(),a.keys())"
      ]
    },
    {
      "cell_type": "code",
      "execution_count": null,
      "id": "ea9c164a",
      "metadata": {
        "id": "ea9c164a",
        "outputId": "f2a2520a-d54e-46c4-a02f-2cc32cf9be04"
      },
      "outputs": [
        {
          "name": "stdout",
          "output_type": "stream",
          "text": [
            "dict_items([('name', 'koushik'), ('age', 18), ('college', 'gitam')])\n"
          ]
        }
      ],
      "source": [
        "a={\n",
        "    \"name\":\"koushik\", \n",
        "    \"age\":18,\n",
        "    \"college\":\"gitam\"\n",
        "}\n",
        "print(a.items())"
      ]
    },
    {
      "cell_type": "code",
      "execution_count": null,
      "id": "4004518f",
      "metadata": {
        "id": "4004518f",
        "outputId": "0632b618-d6ea-45d5-91f9-883e3964b2f1"
      },
      "outputs": [
        {
          "name": "stdout",
          "output_type": "stream",
          "text": [
            "yes\n"
          ]
        }
      ],
      "source": [
        "a={\n",
        "    \"name\":\"koushik\", \n",
        "    \"age\":18,\n",
        "    \"college\":\"gitam\"\n",
        "}\n",
        "if \"age\" in a:\n",
        "    print(\"yes\")"
      ]
    },
    {
      "cell_type": "code",
      "execution_count": null,
      "id": "6eec6314",
      "metadata": {
        "id": "6eec6314",
        "outputId": "d5f6986b-2d4d-455e-a5e5-55d96b3d3e3d"
      },
      "outputs": [
        {
          "name": "stdout",
          "output_type": "stream",
          "text": [
            "{'name': 'koushik', 'age': 18, 'college': 'gitam', 'place': 'vskp'}\n",
            "{'name': 'koushik', 'age': 19, 'college': 'gitam', 'place': 'vskp'}\n"
          ]
        }
      ],
      "source": [
        "a={\n",
        "    \"name\":\"koushik\", \n",
        "    \"age\":18,\n",
        "    \"college\":\"gitam\"\n",
        "}\n",
        "a.update({\"place\":\"vskp\"}) ### it is used to update the list\n",
        "print(a)\n",
        "a.update({\"age\":19}) ### it is also used to update the list\n",
        "print(a)"
      ]
    },
    {
      "cell_type": "code",
      "execution_count": null,
      "id": "a9ae629b",
      "metadata": {
        "id": "a9ae629b",
        "outputId": "fafd36c3-f963-4bea-8cc1-20cbf48b378a"
      },
      "outputs": [
        {
          "name": "stdout",
          "output_type": "stream",
          "text": [
            "{'name': 'koushik', 'college': 'gitam'}\n"
          ]
        }
      ],
      "source": [
        "a={\n",
        "    \"name\":\"koushik\", \n",
        "    \"age\":18,\n",
        "    \"college\":\"gitam\"\n",
        "}\n",
        "a.pop(\"age\") ### this is used to remove the elements from the dict\n",
        "print(a)"
      ]
    },
    {
      "cell_type": "code",
      "execution_count": null,
      "id": "2d88ac6c",
      "metadata": {
        "id": "2d88ac6c",
        "outputId": "2bf95b04-6080-413c-cbf7-36494b07447e"
      },
      "outputs": [
        {
          "name": "stdout",
          "output_type": "stream",
          "text": [
            "name\n",
            "age\n",
            "college\n"
          ]
        }
      ],
      "source": [
        "a={\n",
        "    \"name\":\"koushik\", \n",
        "    \"age\":18,\n",
        "    \"college\":\"gitam\"\n",
        "}\n",
        "for x in a:\n",
        "    print(x)"
      ]
    },
    {
      "cell_type": "code",
      "execution_count": null,
      "id": "a6ced0d0",
      "metadata": {
        "id": "a6ced0d0",
        "outputId": "7a96976c-6d72-423c-a638-c7776125321a"
      },
      "outputs": [
        {
          "name": "stdout",
          "output_type": "stream",
          "text": [
            "{'name': 'koushik', 'age': 18, 'college': 'gitam', 'marks': '100'}\n"
          ]
        }
      ],
      "source": [
        "a={\n",
        "    \"name\":\"koushik\", \n",
        "    \"age\":18,\n",
        "    \"college\":\"gitam\"\n",
        "}\n",
        "a.update({\"marks\":\"100\"})\n",
        "print(a)"
      ]
    },
    {
      "cell_type": "code",
      "execution_count": null,
      "id": "99086451",
      "metadata": {
        "id": "99086451",
        "outputId": "adbe8343-35d9-4ae7-b0cc-a0486934f2ad"
      },
      "outputs": [
        {
          "name": "stdout",
          "output_type": "stream",
          "text": [
            "dict_items([('name', 'koushik'), ('age', 18), ('college', 'gitam')])\n",
            "('name', 'koushik')\n",
            "('age', 18)\n",
            "('college', 'gitam')\n"
          ]
        }
      ],
      "source": [
        "a={\n",
        "    \"name\":\"koushik\", \n",
        "    \"age\":18,\n",
        "    \"college\":\"gitam\"\n",
        "}\n",
        "print(a.items())\n",
        "for x in a.items():\n",
        "    print(x)"
      ]
    },
    {
      "cell_type": "code",
      "execution_count": null,
      "id": "66e1d220",
      "metadata": {
        "id": "66e1d220",
        "outputId": "9187a706-b043-4b11-db5b-adc9e43191b3"
      },
      "outputs": [
        {
          "name": "stdout",
          "output_type": "stream",
          "text": [
            "name koushik\n",
            "age 18\n",
            "college gitam\n"
          ]
        }
      ],
      "source": [
        "a={\n",
        "    \"name\":\"koushik\", \n",
        "    \"age\":18,\n",
        "    \"college\":\"gitam\"\n",
        "}\n",
        "for x,y in a.items():\n",
        "    print(x,y)"
      ]
    },
    {
      "cell_type": "code",
      "execution_count": null,
      "id": "e51a0008",
      "metadata": {
        "id": "e51a0008",
        "outputId": "20b9237e-5c3a-4b7b-a7ee-95955116a113"
      },
      "outputs": [
        {
          "name": "stdout",
          "output_type": "stream",
          "text": [
            "name\n",
            "age\n",
            "college\n"
          ]
        }
      ],
      "source": [
        "a={\n",
        "    \"name\":\"koushik\", \n",
        "    \"age\":18,\n",
        "    \"college\":\"gitam\"\n",
        "}\n",
        "for x in a.keys():\n",
        "    print(x)"
      ]
    },
    {
      "cell_type": "code",
      "execution_count": null,
      "id": "7e3332b4",
      "metadata": {
        "id": "7e3332b4",
        "outputId": "3a0612ca-fcdc-4b06-a63f-d3d6c77bca35"
      },
      "outputs": [
        {
          "name": "stdout",
          "output_type": "stream",
          "text": [
            "{'s1': {'name': 'koushik', 'age': '18', 'collge': 'gitam'}, 's2': {'name': 'ftghdgde', 'age': '18', 'collge': 'gitam'}, 's3': {'name': 'dffffff', 'age': '18', 'collge': 'gitam'}}\n"
          ]
        }
      ],
      "source": [
        "collge={\n",
        "    \"s1\":{\n",
        "        \"name\":\"koushik\",\n",
        "        \"age\":\"18\",\n",
        "        \"collge\":\"gitam\"\n",
        "    },\n",
        "    \"s2\":{\n",
        "         \"name\":\"ftghdgde\",\n",
        "        \"age\":\"18\",\n",
        "        \"collge\":\"gitam\"\n",
        "    },\n",
        "    \"s3\":{\n",
        "         \"name\":\"dffffff\",\n",
        "        \"age\":\"18\",\n",
        "        \"collge\":\"gitam\"\n",
        "    },\n",
        "    \n",
        "}\n",
        "print(collge)"
      ]
    },
    {
      "cell_type": "code",
      "execution_count": null,
      "id": "16e53334",
      "metadata": {
        "id": "16e53334",
        "outputId": "0a47b1e6-650e-4cbe-a90a-0ba20242d858"
      },
      "outputs": [
        {
          "name": "stdout",
          "output_type": "stream",
          "text": [
            "{'s1': ({'name': 'koushik', 'age': '18', 'collge': 'gitam'},), 's2': ({'name': 'koushik', 'age': '18', 'collge': 'gitam'},), 's3': {'name': 'koushik', 'age': '18', 'collge': 'gitam'}}\n"
          ]
        }
      ],
      "source": [
        "s1={\n",
        "     \"name\":\"koushik\",\n",
        "        \"age\":\"18\",\n",
        "        \"collge\":\"gitam\"\n",
        "},\n",
        "s2={\n",
        "     \"name\":\"koushik\",\n",
        "        \"age\":\"18\",\n",
        "        \"collge\":\"gitam\"\n",
        "},\n",
        "s3={\n",
        "     \"name\":\"koushik\",\n",
        "        \"age\":\"18\",\n",
        "        \"collge\":\"gitam\"\n",
        "}\n",
        "college={\n",
        "    \"s1\":s1,\n",
        "    \"s2\":s2,\n",
        "    \"s3\":s3\n",
        "}\n",
        "print(college)"
      ]
    },
    {
      "cell_type": "code",
      "execution_count": null,
      "id": "ee6179bf",
      "metadata": {
        "id": "ee6179bf",
        "outputId": "e2610e6f-f115-4101-f378-4e5b378cb495"
      },
      "outputs": [
        {
          "name": "stdout",
          "output_type": "stream",
          "text": [
            "{'name': 'koushik', 'age': 18, 'college': 'gitam'}\n"
          ]
        }
      ],
      "source": [
        "a={\n",
        "    \"name\":\"koushik\", \n",
        "    \"age\":18,\n",
        "    \"college\":\"gitam\"\n",
        "}\n",
        "b=a.copy()\n",
        "print(b)"
      ]
    },
    {
      "cell_type": "code",
      "execution_count": null,
      "id": "4e9437c9",
      "metadata": {
        "id": "4e9437c9",
        "outputId": "514c90b5-a8d8-408d-a4d6-051db1e03798"
      },
      "outputs": [
        {
          "name": "stdout",
          "output_type": "stream",
          "text": [
            "{'s1': {'name': 'koushik', 'age': '18', 'college': 'gitam'}, 's2': {'name': 'sgsdgsdfsf', 'age': '17', 'college': 'afsfsf'}}\n"
          ]
        }
      ],
      "source": [
        "college={\n",
        "    \"s1\":{\n",
        "        \"name\":\"koushik\",\n",
        "        \"age\":\"18\",\n",
        "\"college\":\"gitam\"    \n",
        "    },\n",
        "    \"s2\":{\n",
        "        \"name\":\"sgsdgsdfsf\",\n",
        "        \"age\":\"17\",\n",
        "        \"college\":\"afsfsf\"\n",
        "    }\n",
        "}\n",
        "print(college)"
      ]
    },
    {
      "cell_type": "markdown",
      "id": "6ee096a1",
      "metadata": {
        "id": "6ee096a1"
      },
      "source": [
        "# MODULE 2"
      ]
    },
    {
      "cell_type": "code",
      "execution_count": null,
      "id": "190130b9",
      "metadata": {
        "id": "190130b9"
      },
      "outputs": [],
      "source": [
        "a=[1,2,3,4,5,6]\n"
      ]
    },
    {
      "cell_type": "code",
      "execution_count": null,
      "id": "d3c64a57",
      "metadata": {
        "id": "d3c64a57",
        "outputId": "b407865a-daed-4e89-d433-b990dfd8e08b"
      },
      "outputs": [
        {
          "name": "stdout",
          "output_type": "stream",
          "text": [
            "enter the command roll: roll\n",
            "4\n",
            "4\n",
            "6\n",
            "2\n",
            "6\n",
            "6\n"
          ]
        }
      ],
      "source": [
        "import random\n",
        "a=input(\"enter the command roll: \")\n",
        "if \"roll\"==a:\n",
        "    for x in range (6):\n",
        "        a=random.randint(1,6)\n",
        "        print(a)"
      ]
    },
    {
      "cell_type": "markdown",
      "id": "69dc1ab2",
      "metadata": {
        "id": "69dc1ab2"
      },
      "source": [
        "# FUNCTIONS"
      ]
    },
    {
      "cell_type": "code",
      "execution_count": null,
      "id": "0fb75574",
      "metadata": {
        "id": "0fb75574",
        "outputId": "9755532f-9cb9-44de-bc83-15316019b6c7"
      },
      "outputs": [
        {
          "name": "stdout",
          "output_type": "stream",
          "text": [
            "koushik\n"
          ]
        }
      ],
      "source": [
        "def koushik():\n",
        "    print(\"koushik\")\n",
        "koushik()"
      ]
    },
    {
      "cell_type": "code",
      "execution_count": null,
      "id": "1728e7e4",
      "metadata": {
        "id": "1728e7e4",
        "outputId": "c75e6e34-4af0-4f0b-e515-fe91c7294269"
      },
      "outputs": [
        {
          "name": "stdout",
          "output_type": "stream",
          "text": [
            "koushik 8 36\n",
            "kiran 19 31\n"
          ]
        }
      ],
      "source": [
        "def name(name,age,roll):\n",
        "    print(name,age,roll)\n",
        "name(\"koushik\",8,36)\n",
        "name(\"kiran\",19,31)"
      ]
    },
    {
      "cell_type": "code",
      "execution_count": null,
      "id": "07e32560",
      "metadata": {
        "id": "07e32560",
        "outputId": "1b3095f7-87bc-4016-9d81-d767274b6441"
      },
      "outputs": [
        {
          "name": "stdout",
          "output_type": "stream",
          "text": [
            "info of the students 19\n"
          ]
        }
      ],
      "source": [
        "def student(*info):\n",
        "    print(\"info of the students\",info[1])\n",
        "student(\"koushik\",19,4,2021) ### only strings are sccepted but not the strings\n"
      ]
    },
    {
      "cell_type": "code",
      "execution_count": null,
      "id": "cb3ee2a4",
      "metadata": {
        "id": "cb3ee2a4",
        "outputId": "5f0c7685-c5d2-48ca-b2c4-a86f49743480"
      },
      "outputs": [
        {
          "name": "stdout",
          "output_type": "stream",
          "text": [
            "2021\n"
          ]
        }
      ],
      "source": [
        "def student(name,age,year):\n",
        "    print(year)\n",
        "student(year=2021,name=\"koushik\",age=18)"
      ]
    },
    {
      "cell_type": "code",
      "execution_count": null,
      "id": "bfde68ed",
      "metadata": {
        "id": "bfde68ed",
        "outputId": "d88c2962-90d5-4bba-e5eb-6432e57470a8"
      },
      "outputs": [
        {
          "name": "stdout",
          "output_type": "stream",
          "text": [
            "student 18\n"
          ]
        }
      ],
      "source": [
        "def student(**info):\n",
        "    print(\"student\",info[\"age\"])\n",
        "student(name=\"koushik\",age=18,year=2021)"
      ]
    },
    {
      "cell_type": "code",
      "execution_count": null,
      "id": "3946dd50",
      "metadata": {
        "id": "3946dd50",
        "outputId": "93ff6647-cd2c-4b13-bab2-418ee23d4a50"
      },
      "outputs": [
        {
          "ename": "SyntaxError",
          "evalue": "invalid syntax (Temp/ipykernel_2328/965067153.py, line 1)",
          "output_type": "error",
          "traceback": [
            "\u001b[1;36m  File \u001b[1;32m\"C:\\Users\\CSE22004\\AppData\\Local\\Temp/ipykernel_2328/965067153.py\"\u001b[1;36m, line \u001b[1;32m1\u001b[0m\n\u001b[1;33m    def student(**info ==\"enter data\"):\u001b[0m\n\u001b[1;37m                       ^\u001b[0m\n\u001b[1;31mSyntaxError\u001b[0m\u001b[1;31m:\u001b[0m invalid syntax\n"
          ]
        }
      ],
      "source": [
        "def student(**info ==\"enter data\"):\n",
        "    print(info[\"name\"],info[\"age\"])\n",
        "student(name=\"koushik\",age=18)\n",
        "student(name=\"kiran\",age=19)"
      ]
    },
    {
      "cell_type": "code",
      "execution_count": null,
      "id": "d754c8bd",
      "metadata": {
        "id": "d754c8bd",
        "outputId": "b45b4293-92ae-4fc0-ed3f-363c3fc5dfb9"
      },
      "outputs": [
        {
          "name": "stdout",
          "output_type": "stream",
          "text": [
            "enter the name\n",
            "koushik\n",
            "kiran\n"
          ]
        }
      ],
      "source": [
        "def student(name=\"enter the name\"):\n",
        "      print(name)\n",
        "student()\n",
        "student(\"koushik\")\n",
        "student(\"kiran\")"
      ]
    },
    {
      "cell_type": "code",
      "execution_count": null,
      "id": "606fe024",
      "metadata": {
        "id": "606fe024",
        "outputId": "2038c880-6d0f-4498-edd7-0bf2ae96511d"
      },
      "outputs": [
        {
          "name": "stdout",
          "output_type": "stream",
          "text": [
            "koushik\n",
            "kiran\n"
          ]
        }
      ],
      "source": [
        "def students(name):\n",
        "    for x in name:\n",
        "        print(x)\n",
        "names=[\"koushik\",\"kiran\"]\n",
        "students(names)"
      ]
    },
    {
      "cell_type": "code",
      "execution_count": null,
      "id": "ae43c785",
      "metadata": {
        "id": "ae43c785",
        "outputId": "ba8cbdf7-3884-4099-a0fc-8134497f0cea"
      },
      "outputs": [
        {
          "name": "stdout",
          "output_type": "stream",
          "text": [
            "9\n",
            "11\n"
          ]
        }
      ],
      "source": [
        "def sum(a,b):\n",
        "   return a+b\n",
        "print(sum(3,6))\n",
        "print(sum(5,6))\n",
        "    "
      ]
    },
    {
      "cell_type": "code",
      "execution_count": null,
      "id": "6abd0a03",
      "metadata": {
        "id": "6abd0a03"
      },
      "outputs": [],
      "source": [
        "def number(n,r):\n",
        "    while i<=r\n",
        "        return (n-i*(n-(i+1))*(n-O())"
      ]
    },
    {
      "cell_type": "markdown",
      "id": "6712f541",
      "metadata": {
        "id": "6712f541"
      },
      "source": [
        "# module 2"
      ]
    },
    {
      "cell_type": "code",
      "execution_count": null,
      "id": "73cb4d85",
      "metadata": {
        "id": "73cb4d85",
        "outputId": "c454655e-03ad-4698-b743-2403ee828762"
      },
      "outputs": [
        {
          "name": "stdout",
          "output_type": "stream",
          "text": [
            "stting\n"
          ]
        }
      ],
      "source": [
        "a=\"string\"\n",
        "print(a.replace(\"r\",\"t\"))\n"
      ]
    },
    {
      "cell_type": "code",
      "execution_count": null,
      "id": "d7fb5730",
      "metadata": {
        "id": "d7fb5730",
        "outputId": "855d685c-d3f6-4c88-fd47-27693b927ac9"
      },
      "outputs": [
        {
          "name": "stdout",
          "output_type": "stream",
          "text": [
            "[5, 7]\n"
          ]
        }
      ],
      "source": [
        "a=[3,5,7,9]\n",
        "b=[2,3,8,9]\n",
        "c=[]\n",
        "for x in a:\n",
        "    if x not in b:\n",
        "        c.append(x)\n",
        "print(c)"
      ]
    },
    {
      "cell_type": "code",
      "execution_count": null,
      "id": "5dda2753",
      "metadata": {
        "id": "5dda2753",
        "outputId": "d1a6dff7-8597-4181-b88e-a9161bbdf803"
      },
      "outputs": [
        {
          "name": "stdout",
          "output_type": "stream",
          "text": [
            "enter the number6\n",
            "{0: 0, 1: 1, 2: 4, 3: 9, 4: 16, 5: 25, 6: 36}\n"
          ]
        }
      ],
      "source": [
        "a=dict()\n",
        "b=int(input(\"enter the number\"))\n",
        "for x in range(b+1):\n",
        "    a[x]=x*x\n",
        "print(a)"
      ]
    },
    {
      "cell_type": "code",
      "execution_count": null,
      "id": "aa24101b",
      "metadata": {
        "id": "aa24101b",
        "outputId": "b7822b92-7ff8-4863-a90b-af24469f0a03"
      },
      "outputs": [
        {
          "name": "stdout",
          "output_type": "stream",
          "text": [
            "{'name': 'koushik', 'age': 18}\n"
          ]
        }
      ],
      "source": [
        "a={\n",
        "    \"name\":\"koushik\",\n",
        "    \"age\":18,\n",
        "    \"year\":2021   \n",
        "}\n",
        "a.pop(\"year\")\n",
        "print(a)"
      ]
    },
    {
      "cell_type": "code",
      "execution_count": null,
      "id": "191fe5a0",
      "metadata": {
        "id": "191fe5a0",
        "outputId": "748162d0-7882-41e5-89cf-00b202fe7c0f"
      },
      "outputs": [
        {
          "name": "stdout",
          "output_type": "stream",
          "text": [
            "3\n"
          ]
        }
      ],
      "source": [
        "a=\"I have to go to a doctor and get myself checked.\"\n",
        "print(a.count(\"to\"))"
      ]
    },
    {
      "cell_type": "code",
      "execution_count": null,
      "id": "d818bc08",
      "metadata": {
        "id": "d818bc08",
        "outputId": "24505b17-dee9-4990-c47a-f8792d4c134d"
      },
      "outputs": [
        {
          "name": "stdout",
          "output_type": "stream",
          "text": [
            "[(4,), (8, 6, 7), (1,), (3, 4, 6, 7)]\n"
          ]
        }
      ],
      "source": [
        "a= [(4, 5), (4,), (8, 6, 7), (1,), (3, 4, 6, 7)]\n",
        "b=[]\n",
        "k=2\n",
        "for x in a:\n",
        "    if len(x)==k:\n",
        "        a.remove(x)\n",
        "print(a)"
      ]
    },
    {
      "cell_type": "code",
      "execution_count": null,
      "id": "7663a194",
      "metadata": {
        "id": "7663a194",
        "outputId": "cbfde7e7-3cf9-46f4-9023-be85248a2562"
      },
      "outputs": [
        {
          "name": "stdout",
          "output_type": "stream",
          "text": [
            "the lower values 3\n",
            "higher values 2\n"
          ]
        }
      ],
      "source": [
        "def string(a):\n",
        "    u=0;l=0\n",
        "    for x in a :\n",
        "        if x.isupper():\n",
        "            u=u+1\n",
        "        else:\n",
        "            l=l+1\n",
        "    print(\"the lower values\",l)\n",
        "    print(\"higher values\",u)\n",
        "string(\"KiRan\")"
      ]
    },
    {
      "cell_type": "code",
      "execution_count": null,
      "id": "bd7cf35d",
      "metadata": {
        "id": "bd7cf35d",
        "outputId": "0db4e00e-c46e-4b11-a962-b8eb6f738fa9"
      },
      "outputs": [
        {
          "name": "stdout",
          "output_type": "stream",
          "text": [
            "enter the value of 10\n",
            "enter the value of r8\n",
            "45.0\n"
          ]
        }
      ],
      "source": [
        "def ncr(n,r):\n",
        "    return fact(n)/(fact(r)*fact(n-r))\n",
        "def fact(n):\n",
        "    fact=1\n",
        "    for i in range(1,n+1):\n",
        "        fact=fact*i\n",
        "    return fact\n",
        "a=int(input(\"enter the value of n \"))\n",
        "b=int(input(\"enter the value of r\"))\n",
        "print(ncr(a,b))"
      ]
    },
    {
      "cell_type": "code",
      "execution_count": null,
      "id": "1bbfe6f6",
      "metadata": {
        "id": "1bbfe6f6",
        "outputId": "3f92acd5-922c-4296-e670-a2060d1b8e28"
      },
      "outputs": [
        {
          "name": "stdout",
          "output_type": "stream",
          "text": [
            "enter the first number5\n",
            "enter the second number2\n",
            "gcd of two numbers is  1\n"
          ]
        }
      ],
      "source": [
        "def gcd(a,b):\n",
        "    if b==0:\n",
        "        return a\n",
        "    else:\n",
        "        return gcd(b,a%b)\n",
        "a=int(input(\"enter the first number\"))\n",
        "b=int(input(\"enter the second number\"))\n",
        "GCD=gcd(a,b)\n",
        "print(\"gcd of two numbers is \",GCD)"
      ]
    },
    {
      "cell_type": "code",
      "execution_count": null,
      "id": "6a783361",
      "metadata": {
        "id": "6a783361",
        "outputId": "c639fe1e-b0d6-494c-ea61-df7d5b674c81"
      },
      "outputs": [
        {
          "name": "stdout",
          "output_type": "stream",
          "text": [
            "enter the number5\n",
            "enter second number2\n",
            "product of two numbers 10\n"
          ]
        }
      ],
      "source": [
        "def pro(a,b):\n",
        "    if a<b:\n",
        "        return pro(b,a)\n",
        "    elif b!=0:\n",
        "        return (a+pro(a,b-1))\n",
        "    else:\n",
        "        return 0\n",
        "a=int(input(\"enter the number\"))\n",
        "b=int(input(\"enter second number\"))\n",
        "print(\"product of two numbers\",pro(a,b))"
      ]
    },
    {
      "cell_type": "code",
      "execution_count": null,
      "id": "b798e92a",
      "metadata": {
        "id": "b798e92a",
        "outputId": "bad3f5d1-113d-4ecf-d7d0-02dc2960610d"
      },
      "outputs": [
        {
          "name": "stdout",
          "output_type": "stream",
          "text": [
            "enter the number of terms10\n",
            "0\n",
            "1\n",
            "1\n",
            "2\n",
            "3\n",
            "5\n",
            "8\n",
            "13\n",
            "21\n",
            "34\n",
            "55\n"
          ]
        }
      ],
      "source": [
        "def fibo(n):\n",
        "    if n<=1:\n",
        "        return n\n",
        "    else:\n",
        "        return (fibo(n-1)+fibo(n-2))\n",
        "n=int(input(\"enter the number of terms\"))\n",
        "if n<=0:\n",
        "    print(\"enter the number with min values\")\n",
        "else:\n",
        "    for i in range(n+1):\n",
        "        print(fibo(i))"
      ]
    },
    {
      "cell_type": "code",
      "execution_count": null,
      "id": "395bd377",
      "metadata": {
        "id": "395bd377",
        "outputId": "b5290a23-1686-410e-a8c1-5195370188ef"
      },
      "outputs": [
        {
          "name": "stdout",
          "output_type": "stream",
          "text": [
            "[(9, 81.0), (3, 9.0), (6, 36.0)]\n"
          ]
        }
      ],
      "source": [
        "import math\n",
        "a=[9,3,6]\n",
        "b=[]\n",
        "for x in a:\n",
        "    b.append((x,math.pow(x,2)))\n",
        "print(b)\n",
        "    "
      ]
    },
    {
      "cell_type": "code",
      "execution_count": null,
      "id": "c6e5ce38",
      "metadata": {
        "id": "c6e5ce38",
        "outputId": "7e883600-7a63-4782-d59b-2a31173e2030"
      },
      "outputs": [
        {
          "name": "stdout",
          "output_type": "stream",
          "text": [
            "enter the number12\n",
            "enter the last number15\n",
            "12\n",
            "13\n",
            "14\n"
          ]
        }
      ],
      "source": [
        "a=int(input(\"enter the number\"))\n",
        "b=int(input(\"enter the last number\"))\n",
        "if a<b:\n",
        "    for x in range(a,b):\n",
        "         print(x)\n",
        "  \n"
      ]
    },
    {
      "cell_type": "code",
      "execution_count": null,
      "id": "16fc06e3",
      "metadata": {
        "id": "16fc06e3",
        "outputId": "e0016946-b0b6-454e-dbda-11018337a981"
      },
      "outputs": [
        {
          "name": "stdout",
          "output_type": "stream",
          "text": [
            "121123145\n"
          ]
        }
      ],
      "source": [
        "a=[121,123,145]\n",
        "b=\"\"\n",
        "for x in a:\n",
        "    b=b+str(x)\n",
        "print(b) ### static method"
      ]
    },
    {
      "cell_type": "markdown",
      "id": "e330b500",
      "metadata": {
        "id": "e330b500"
      },
      "source": [
        "# ASSIGNMENT"
      ]
    },
    {
      "cell_type": "code",
      "execution_count": null,
      "id": "3e25395a",
      "metadata": {
        "id": "3e25395a",
        "outputId": "b94df863-54f0-47fe-a890-a7032849cc9b"
      },
      "outputs": [
        {
          "name": "stdout",
          "output_type": "stream",
          "text": [
            "8.0\n"
          ]
        }
      ],
      "source": [
        "import math\n",
        "n=2;p=3\n",
        "print(math.pow(2,3))"
      ]
    },
    {
      "cell_type": "code",
      "execution_count": null,
      "id": "5bd60c3a",
      "metadata": {
        "id": "5bd60c3a",
        "outputId": "3a1c7d3d-0373-4227-ba5b-760da6d1b72f"
      },
      "outputs": [
        {
          "name": "stdout",
          "output_type": "stream",
          "text": [
            "[(1, 2), (3, 4, 6, 723), (134, 234, 34)]\n"
          ]
        }
      ],
      "source": [
        "list=[(3,4,6,723),(1,2),(134,234,34)]\n",
        "list.sort()\n",
        "print(list)"
      ]
    },
    {
      "cell_type": "code",
      "execution_count": null,
      "id": "f3e3e753",
      "metadata": {
        "id": "f3e3e753",
        "outputId": "ace10d43-c5ed-43ba-eeb5-f924d2693b91"
      },
      "outputs": [
        {
          "name": "stdout",
          "output_type": "stream",
          "text": [
            "enter the number1\n",
            "enter the number10\n",
            "enter the number20\n",
            "1\n"
          ]
        }
      ],
      "source": [
        "a=int(input(\"enter the number\"))\n",
        "b=int(input(\"enter the number\"))\n",
        "c=int(input(\"enter the number\"))\n",
        "d=[a,b,c]\n",
        "k=d.copy()\n",
        "d.sort()\n",
        "e=d.copy()\n",
        "if k==e:\n",
        "    print(\"1\")\n",
        "else:\n",
        "    print(\"0\")"
      ]
    },
    {
      "cell_type": "code",
      "execution_count": null,
      "id": "a1949d30",
      "metadata": {
        "id": "a1949d30",
        "outputId": "c287e8ab-d8b8-4ce1-ebba-f5d850b4384d"
      },
      "outputs": [
        {
          "name": "stdout",
          "output_type": "stream",
          "text": [
            "enter the number123\n",
            "6\n"
          ]
        }
      ],
      "source": [
        "a=int(input(\"enter the number\"))\n",
        "fact=1\n",
        "while a>0:\n",
        "    i=a%10\n",
        "    fact=fact*i\n",
        "    a=a//10\n",
        "print(fact)"
      ]
    },
    {
      "cell_type": "code",
      "execution_count": null,
      "id": "b6e9de6e",
      "metadata": {
        "id": "b6e9de6e",
        "outputId": "ac2088cd-be0c-481e-91fd-33ebc49b17e5"
      },
      "outputs": [
        {
          "name": "stdout",
          "output_type": "stream",
          "text": [
            "a\n",
            "b\n",
            "c\n",
            "e\n",
            "c\n",
            "b\n",
            "a\n",
            "number of digits which are in same sequence is: 7\n"
          ]
        }
      ],
      "source": [
        "s=\"abcdefcba\"\n",
        "n=len(s)\n",
        "i=0\n",
        "for x in range(len(s)):\n",
        "    if s[x]==s[n-1]:\n",
        "        print(s[x])\n",
        "        i=i+1\n",
        "    x=x+1\n",
        "    n=n-1\n",
        "print(\"number of digits which are in same sequence is:\",i)"
      ]
    },
    {
      "cell_type": "code",
      "execution_count": null,
      "id": "01608f53",
      "metadata": {
        "id": "01608f53",
        "outputId": "458c971e-e307-469d-c5ab-fe42ce3cf090"
      },
      "outputs": [
        {
          "name": "stdout",
          "output_type": "stream",
          "text": [
            "5\n",
            "2\n",
            "2\n"
          ]
        }
      ],
      "source": [
        "a=int(input(\"\"))\n",
        "b=int(input(\"\"))\n",
        "gcd=1\n",
        "i=1\n",
        "while(i<=a and i<=b):\n",
        "    if(a%i==0 and b%i==0):\n",
        "        gcd=gcd+1\n",
        "    i=i+1\n",
        "print(gcd)"
      ]
    },
    {
      "cell_type": "code",
      "execution_count": null,
      "id": "e463727f",
      "metadata": {
        "id": "e463727f",
        "outputId": "91605f2c-9556-4c55-f699-853830d00999"
      },
      "outputs": [
        {
          "name": "stdout",
          "output_type": "stream",
          "text": [
            "50\n",
            "45\n",
            "21\n",
            "78\n",
            "65\n"
          ]
        },
        {
          "ename": "TypeError",
          "evalue": "unsupported operand type(s) for //: 'str' and 'int'",
          "output_type": "error",
          "traceback": [
            "\u001b[1;31m---------------------------------------------------------------------------\u001b[0m",
            "\u001b[1;31mTypeError\u001b[0m                                 Traceback (most recent call last)",
            "\u001b[1;32m~\\AppData\\Local\\Temp/ipykernel_6732/1871326073.py\u001b[0m in \u001b[0;36m<module>\u001b[1;34m\u001b[0m\n\u001b[0;32m      5\u001b[0m \u001b[0me\u001b[0m\u001b[1;33m=\u001b[0m\u001b[0minput\u001b[0m\u001b[1;33m(\u001b[0m\u001b[1;34m\"\"\u001b[0m\u001b[1;33m)\u001b[0m\u001b[1;33m\u001b[0m\u001b[1;33m\u001b[0m\u001b[0m\n\u001b[0;32m      6\u001b[0m \u001b[0mtotal\u001b[0m\u001b[1;33m=\u001b[0m\u001b[0ma\u001b[0m\u001b[1;33m+\u001b[0m\u001b[0mb\u001b[0m\u001b[1;33m+\u001b[0m\u001b[0mc\u001b[0m\u001b[1;33m+\u001b[0m\u001b[0md\u001b[0m\u001b[1;33m+\u001b[0m\u001b[0me\u001b[0m\u001b[1;33m\u001b[0m\u001b[1;33m\u001b[0m\u001b[0m\n\u001b[1;32m----> 7\u001b[1;33m \u001b[0mavg\u001b[0m\u001b[1;33m=\u001b[0m\u001b[0mtotal\u001b[0m\u001b[1;33m//\u001b[0m\u001b[1;36m5\u001b[0m\u001b[1;33m\u001b[0m\u001b[1;33m\u001b[0m\u001b[0m\n\u001b[0m\u001b[0;32m      8\u001b[0m \u001b[1;32mif\u001b[0m \u001b[0mavg\u001b[0m\u001b[1;33m>=\u001b[0m\u001b[1;36m90\u001b[0m \u001b[1;32mand\u001b[0m \u001b[0mavg\u001b[0m\u001b[1;33m<=\u001b[0m\u001b[1;36m100\u001b[0m\u001b[1;33m:\u001b[0m\u001b[1;33m\u001b[0m\u001b[1;33m\u001b[0m\u001b[0m\n\u001b[0;32m      9\u001b[0m     \u001b[0mprint\u001b[0m\u001b[1;33m(\u001b[0m\u001b[1;34m\"O\"\u001b[0m\u001b[1;33m)\u001b[0m\u001b[1;33m\u001b[0m\u001b[1;33m\u001b[0m\u001b[0m\n",
            "\u001b[1;31mTypeError\u001b[0m: unsupported operand type(s) for //: 'str' and 'int'"
          ]
        }
      ],
      "source": [
        "a=input(\"\")\n",
        "b=input(\"\")\n",
        "c=input(\"\")\n",
        "d=input(\"\")\n",
        "e=input(\"\")\n",
        "total=a+b+c+d+e\n",
        "avg=total//5\n",
        "if avg>=90 and avg<=100:\n",
        "    print(\"O\")\n",
        "elif avg>=80 and avg<=89:\n",
        "    print(\"A+\")\n",
        "elif avg>=70 and avg<=79:\n",
        "    print(\"A \")\n",
        "elif avg>=60 and avg<=69:\n",
        "    print(\"B+\")\n",
        "elif avg>=40 and avg<=59:\n",
        "    print(\"C\")\n",
        "else:\n",
        "    print(\"F\")"
      ]
    },
    {
      "cell_type": "code",
      "execution_count": null,
      "id": "9e90ff50",
      "metadata": {
        "id": "9e90ff50",
        "outputId": "5ed8f0ce-ffa7-4a8d-82e6-a6aa41add25e"
      },
      "outputs": [
        {
          "name": "stdout",
          "output_type": "stream",
          "text": [
            "80\n",
            "90\n",
            "60\n",
            "100\n",
            "50\n",
            "A \n"
          ]
        }
      ],
      "source": [
        "a=int(input(\"\"))\n",
        "b=int(input(\"\"))\n",
        "c=int(input(\"\"))\n",
        "d=int(input(\"\"))\n",
        "e=int(input(\"\"))\n",
        "total=a+b+c+d+e\n",
        "avg=total//5\n",
        "if avg>=90 and avg<=100:\n",
        "    print(\"O\")\n",
        "elif avg>=80 and avg<=89:\n",
        "    print(\"A+\")\n",
        "elif avg>=70 and avg<=79:\n",
        "    print(\"A \")\n",
        "elif avg>=60 and avg<=69:\n",
        "    print(\"B+\")\n",
        "elif avg>=40 and avg<=59:\n",
        "    print(\"C\")\n",
        "else:\n",
        "    print(\"F\")"
      ]
    },
    {
      "cell_type": "markdown",
      "id": "f79494d7",
      "metadata": {
        "id": "f79494d7"
      },
      "source": [
        "# FILES"
      ]
    },
    {
      "cell_type": "code",
      "execution_count": null,
      "id": "8f236912",
      "metadata": {
        "id": "8f236912",
        "outputId": "f5440141-c74b-488f-effd-78b58513b002"
      },
      "outputs": [
        {
          "name": "stdout",
          "output_type": "stream",
          "text": [
            "kiran\n"
          ]
        }
      ],
      "source": [
        "k=open(\"koushik\",\"w\")\n",
        "k.write(\"kiran\")\n",
        "k.close()\n",
        "k=open(\"koushik\",\"r\")\n",
        "print(k.read())"
      ]
    },
    {
      "cell_type": "code",
      "execution_count": null,
      "id": "47270dbc",
      "metadata": {
        "id": "47270dbc",
        "outputId": "236f9f25-697a-4f2b-f549-5efd453d57ac"
      },
      "outputs": [
        {
          "name": "stdout",
          "output_type": "stream",
          "text": [
            "hi everyone this is koushik \n",
            "\n",
            " this is koushik\n"
          ]
        }
      ],
      "source": [
        "f=open(\"koushik.txt\",\"w\")\n",
        "f.write(\"hi everyone this is koushik \\n this is koushik\")\n",
        "f.close()\n",
        "f=open(\"koushik.txt\",\"r\")\n",
        "print(f.readline())\n",
        "print(f.readline()) \n",
        "f.close()"
      ]
    },
    {
      "cell_type": "code",
      "execution_count": null,
      "id": "86ccd710",
      "metadata": {
        "id": "86ccd710",
        "outputId": "15302ae5-bc8e-40d2-a64f-6a4bb0638b43"
      },
      "outputs": [
        {
          "name": "stdout",
          "output_type": "stream",
          "text": [
            "true\n"
          ]
        }
      ],
      "source": [
        "import os\n",
        "if os.path.exists(\"koushik.txt\"):\n",
        "    print(\"true\")\n",
        "else:\n",
        "    print(\"false\")\n"
      ]
    },
    {
      "cell_type": "code",
      "execution_count": null,
      "id": "248f6b2b",
      "metadata": {
        "id": "248f6b2b"
      },
      "outputs": [],
      "source": [
        "import os\n",
        "os.rmdir(\"C:\\\\Users\\CSE22004\\Documents\\Python Scripts\")\n"
      ]
    },
    {
      "cell_type": "code",
      "execution_count": null,
      "id": "0c6fc778",
      "metadata": {
        "id": "0c6fc778",
        "outputId": "371f946d-6897-4f41-9d29-2bb7ed686eba"
      },
      "outputs": [
        {
          "ename": "FileNotFoundError",
          "evalue": "[Errno 2] No such file or directory: 'C:\\\\Users\\\\CSE22004\\\\Desktop\\\\96\\\\kiran'",
          "output_type": "error",
          "traceback": [
            "\u001b[1;31m---------------------------------------------------------------------------\u001b[0m",
            "\u001b[1;31mFileNotFoundError\u001b[0m                         Traceback (most recent call last)",
            "\u001b[1;32m~\\AppData\\Local\\Temp/ipykernel_9580/1969339660.py\u001b[0m in \u001b[0;36m<module>\u001b[1;34m\u001b[0m\n\u001b[1;32m----> 1\u001b[1;33m \u001b[0mf\u001b[0m\u001b[1;33m=\u001b[0m\u001b[0mopen\u001b[0m\u001b[1;33m(\u001b[0m\u001b[1;34m\"C:\\\\Users\\CSE22004\\Desktop\\96\\kiran\"\u001b[0m\u001b[1;33m)\u001b[0m\u001b[1;33m\u001b[0m\u001b[1;33m\u001b[0m\u001b[0m\n\u001b[0m\u001b[0;32m      2\u001b[0m \u001b[0mprint\u001b[0m\u001b[1;33m(\u001b[0m\u001b[0mf\u001b[0m\u001b[1;33m.\u001b[0m\u001b[0mread\u001b[0m\u001b[1;33m(\u001b[0m\u001b[1;33m)\u001b[0m\u001b[1;33m)\u001b[0m\u001b[1;33m\u001b[0m\u001b[1;33m\u001b[0m\u001b[0m\n",
            "\u001b[1;31mFileNotFoundError\u001b[0m: [Errno 2] No such file or directory: 'C:\\\\Users\\\\CSE22004\\\\Desktop\\\\96\\\\kiran'"
          ]
        }
      ],
      "source": [
        "f=open(\"C:\\\\Users\\CSE22004\\Desktop\\96\\kiran\")\n",
        "print(f.read())"
      ]
    },
    {
      "cell_type": "code",
      "execution_count": null,
      "id": "5d1dca4d",
      "metadata": {
        "id": "5d1dca4d",
        "outputId": "d1979439-b069-4d83-fdc6-9f443da30184"
      },
      "outputs": [
        {
          "name": "stdout",
          "output_type": "stream",
          "text": [
            "write hello\n"
          ]
        }
      ],
      "source": [
        "f=open(\"hello\",\"w\")\n",
        "f.write(\"write hello\")\n",
        "f.close()\n",
        "f=open(\"hello\",\"r\")\n",
        "print(f.read())"
      ]
    },
    {
      "cell_type": "code",
      "execution_count": null,
      "id": "5b3dfb32",
      "metadata": {
        "id": "5b3dfb32"
      },
      "outputs": [],
      "source": [
        "f=open(\"C:\\\\Users\\CSE22004\\Desktop\\hello.txt\",\"w\")\n",
        "f.write(\"it works\")\n",
        "f.close()"
      ]
    },
    {
      "cell_type": "code",
      "execution_count": null,
      "id": "2aede91b",
      "metadata": {
        "id": "2aede91b",
        "outputId": "21a6e701-5258-4b22-def6-ffc5c9aef9d0"
      },
      "outputs": [
        {
          "name": "stdout",
          "output_type": "stream",
          "text": [
            "nope\n"
          ]
        }
      ],
      "source": [
        "import os\n",
        "if os.path.exists(\"C:\\\\Users\\CSE22004\\Desktop\\96\\kiran.txt\"):\n",
        "    os.remove(\"C:\\\\Users\\CSE22004\\Desktop\\96\\kiran.txt\")\n",
        "else:\n",
        "    print(\"nope\")"
      ]
    },
    {
      "cell_type": "code",
      "execution_count": null,
      "id": "84e094f5",
      "metadata": {
        "id": "84e094f5"
      },
      "outputs": [],
      "source": [
        "import os\n",
        "os.rmdir(\"C:\\\\Users\\CSE22004\\Desktop\\kiransike\")"
      ]
    },
    {
      "cell_type": "code",
      "execution_count": null,
      "id": "2d4d2bde",
      "metadata": {
        "id": "2d4d2bde",
        "outputId": "9d55514b-5631-40df-c0a3-c244da0ffb7c"
      },
      "outputs": [
        {
          "name": "stdout",
          "output_type": "stream",
          "text": [
            "fiuaghdfukiashdiua\n",
            "\n"
          ]
        }
      ],
      "source": [
        "f=open(\"C:\\\\Users\\CSE22004\\Desktop\\kiransike\\hello.txt\",\"r\")\n",
        "print(f.read())\n",
        "f.close()"
      ]
    },
    {
      "cell_type": "code",
      "execution_count": null,
      "id": "fdf1c126",
      "metadata": {
        "id": "fdf1c126"
      },
      "outputs": [],
      "source": [
        "import os\n",
        "if os.path.exists(\"C:\\\\Users\\CSE22004\\Desktop\\kiransike\\hello.txt\"):\n",
        "    os.remove(\"C:\\\\Users\\CSE22004\\Desktop\\kiransike\\hello.txt\")\n",
        "else:\n",
        "    print(\"nope\")\n",
        "os.rmdir(\"C:\\\\Users\\CSE22004\\Desktop\\kiransike\")"
      ]
    },
    {
      "cell_type": "code",
      "execution_count": null,
      "id": "d8c0c233",
      "metadata": {
        "id": "d8c0c233"
      },
      "outputs": [],
      "source": [
        ""
      ]
    }
  ],
  "metadata": {
    "kernelspec": {
      "display_name": "Python 3 (ipykernel)",
      "language": "python",
      "name": "python3"
    },
    "language_info": {
      "codemirror_mode": {
        "name": "ipython",
        "version": 3
      },
      "file_extension": ".py",
      "mimetype": "text/x-python",
      "name": "python",
      "nbconvert_exporter": "python",
      "pygments_lexer": "ipython3",
      "version": "3.9.7"
    },
    "colab": {
      "name": "Untitled.ipynb",
      "provenance": [],
      "include_colab_link": true
    }
  },
  "nbformat": 4,
  "nbformat_minor": 5
}