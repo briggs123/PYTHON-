{
  "nbformat": 4,
  "nbformat_minor": 0,
  "metadata": {
    "colab": {
      "name": "VU21CSEN0101199",
      "provenance": [],
      "collapsed_sections": [],
      "authorship_tag": "ABX9TyPKCOxwOzr3GFlVx7hfbjsu",
      "include_colab_link": true
    },
    "kernelspec": {
      "name": "python3",
      "display_name": "Python 3"
    },
    "language_info": {
      "name": "python"
    }
  },
  "cells": [
    {
      "cell_type": "markdown",
      "metadata": {
        "id": "view-in-github",
        "colab_type": "text"
      },
      "source": [
        "<a href=\"https://colab.research.google.com/github/briggs123/PYTHON-/blob/module-2/VU21CSEN0101199.ipynb\" target=\"_parent\"><img src=\"https://colab.research.google.com/assets/colab-badge.svg\" alt=\"Open In Colab\"/></a>"
      ]
    },
    {
      "cell_type": "code",
      "execution_count": 3,
      "metadata": {
        "colab": {
          "base_uri": "https://localhost:8080/",
          "height": 0
        },
        "id": "PKAk2UQmh3se",
        "outputId": "123ed3cc-594c-41c9-8c33-77c574270f27"
      },
      "outputs": [
        {
          "output_type": "stream",
          "name": "stdout",
          "text": [
            "20\n",
            "20\n",
            "20\n",
            "20\n",
            "20\n",
            "f grade\n"
          ]
        }
      ],
      "source": [
        "20s1=int(input())\n",
        "s2=int(input())\n",
        "s3=int(input())\n",
        "s4=int(input())\n",
        "s5=int(input())\n",
        "avg=(s1+s2+s3+s4+s5)/5\n",
        "if avg>=90 and avg<=100:\n",
        "  print(\"A grade\")\n",
        "elif  avg>=80 and avg<=89:\n",
        "  print(\"B grade\")\n",
        "elif  avg>=70 and avg<=79:\n",
        "  print(\"C grade\")\n",
        "elif avg>=60 and avg<=69:\n",
        "  print(\"d grade\")\n",
        "elif avg>=50 and avg<=59:\n",
        "  print(\"e grade\")\n",
        "else:\n",
        "  print(\"f grade\")"
      ]
    },
    {
      "cell_type": "code",
      "source": [
        "a=int(input())\n",
        "temp=a \n",
        "rev=0\n",
        "while(temp!=0):\n",
        "  rem=temp%10\n",
        "  rev=(rev*10)+rem\n",
        "  temp=temp//10\n",
        "if a==rev:\n",
        "  print(\"palindrome\")\n",
        "else:\n",
        "  print(\"not a palindrome\")\n"
      ],
      "metadata": {
        "colab": {
          "base_uri": "https://localhost:8080/",
          "height": 0
        },
        "id": "CPc3uGsNiptk",
        "outputId": "b595eaf5-3802-4d91-d8a7-94e24d859e48"
      },
      "execution_count": 7,
      "outputs": [
        {
          "output_type": "stream",
          "name": "stdout",
          "text": [
            "1221\n",
            "palindrome\n"
          ]
        }
      ]
    },
    {
      "cell_type": "code",
      "source": [
        "a=[\"red\",\"green\",\"white\",\"blue\",\"pink\"]\n",
        "b=[\"green\",\"blue\",\"pink\"]\n",
        "c=[]\n",
        "for i in a:\n",
        "  if i in b:\n",
        "    c.append(i)\n",
        "print(c)\n"
      ],
      "metadata": {
        "colab": {
          "base_uri": "https://localhost:8080/",
          "height": 0
        },
        "id": "5RuNA3XdkAgE",
        "outputId": "86064d27-7b00-4ec6-b33c-8465799ed24e"
      },
      "execution_count": 8,
      "outputs": [
        {
          "output_type": "stream",
          "name": "stdout",
          "text": [
            "['green', 'blue', 'pink']\n"
          ]
        }
      ]
    },
    {
      "cell_type": "code",
      "source": [
        "def fib(n):\n",
        "  if n==0:\n",
        "    return 0\n",
        "  elif n==1:\n",
        "    return 1\n",
        "  else:\n",
        "    return (fib(n-1)+fib(n-2))\n",
        "a=int(input(\"no of terms\"))\n",
        "for i in range(a):\n",
        "  print(fib(i))"
      ],
      "metadata": {
        "colab": {
          "base_uri": "https://localhost:8080/",
          "height": 0
        },
        "id": "VtjwKfupkmy0",
        "outputId": "e085db94-8ad6-49d3-8436-7c1d24d2c2bd"
      },
      "execution_count": 10,
      "outputs": [
        {
          "output_type": "stream",
          "name": "stdout",
          "text": [
            "no of terms10\n",
            "0\n",
            "1\n",
            "1\n",
            "2\n",
            "3\n",
            "5\n",
            "8\n",
            "13\n",
            "21\n",
            "34\n"
          ]
        }
      ]
    },
    {
      "cell_type": "code",
      "source": [
        "f=open(\"number.txt\",\"w\")\n",
        "f.write(\"1234567\")\n",
        "f.close()\n",
        "f=open(\"number.txt\",\"r\")\n",
        "q=open(\"even.txt\",\"w\")\n",
        "r=open(\"odd.txt\",\"w\")\n",
        "b=[]\n",
        "for i in f.read():\n",
        "  b.append(int(i))\n",
        "for i in b:\n",
        "  if i%2==0:\n",
        "    q.write(str(i))\n",
        "  else:\n",
        "    r.write(str(i))\n",
        "f.close()\n",
        "r.close()\n",
        "q.close()\n",
        "f=open(\"even.txt\",\"r\")\n",
        "print(f.read())\n",
        "f.close()\n",
        "f=open(\"odd.txt\",\"r\")\n",
        "print(f.read())\n",
        "f.close()"
      ],
      "metadata": {
        "colab": {
          "base_uri": "https://localhost:8080/",
          "height": 0
        },
        "id": "r1w3vLwElCYT",
        "outputId": "5a211528-85c6-4da0-d967-b6a837f98bc4"
      },
      "execution_count": 14,
      "outputs": [
        {
          "output_type": "stream",
          "name": "stdout",
          "text": [
            "246\n",
            "1357\n"
          ]
        }
      ]
    },
    {
      "cell_type": "code",
      "source": [
        "import matplotlib.pyplot as mp \n",
        "import numpy as np \n",
        "x=np.array([\"maths\",\"phy\",\"che\",\"eng\",\"evpr\",\"cse\"])\n",
        "y=np.array([28,30,29,28,25,39])\n",
        "mp.pie(y,labels=x,startangle=90)\n",
        "mp.legend(title=\"subject marks\")\n",
        "mp.show()"
      ],
      "metadata": {
        "colab": {
          "base_uri": "https://localhost:8080/",
          "height": 248
        },
        "id": "UBcdEva6mFV1",
        "outputId": "cec91874-d135-4fcb-8036-2cad8a32289c"
      },
      "execution_count": 11,
      "outputs": [
        {
          "output_type": "display_data",
          "data": {
            "text/plain": [
              "<Figure size 432x288 with 1 Axes>"
            ],
            "image/png": "[encoded data removed]"
          },
          "metadata": {}
        }
      ]
    }
  ]
}